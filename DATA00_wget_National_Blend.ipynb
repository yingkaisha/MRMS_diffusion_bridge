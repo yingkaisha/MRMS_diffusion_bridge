{
 "cells": [
  {
   "cell_type": "markdown",
   "id": "a0d95b56-6124-4f90-8183-c17f90af1aa1",
   "metadata": {},
   "source": [
    "# MRMS wget cmd generator"
   ]
  },
  {
   "cell_type": "code",
   "execution_count": 1,
   "id": "e4e88911-1838-477d-934a-391f92d0d53f",
   "metadata": {},
   "outputs": [],
   "source": [
    "import os\n",
    "import numpy as np\n",
    "from datetime import datetime, timedelta"
   ]
  },
  {
   "cell_type": "code",
   "execution_count": 2,
   "id": "d9025fef-ea77-4098-b3e1-c59246ee7d0f",
   "metadata": {},
   "outputs": [],
   "source": [
    "base = datetime(2023, 1, 1)\n",
    "date_list = [base + timedelta(days=day) for day in range(304)]"
   ]
  },
  {
   "cell_type": "markdown",
   "id": "64025dab-5d2f-477e-ad2e-63221f6841f4",
   "metadata": {},
   "source": [
    "## Fill-in-the-gap version"
   ]
  },
  {
   "cell_type": "code",
   "execution_count": 3,
   "id": "14921191-abd5-4e15-ae37-ea6780b4db41",
   "metadata": {},
   "outputs": [],
   "source": [
    "# check if files exist\n",
    "date_list_fill = []\n",
    "\n",
    "for dt in date_list:\n",
    "    dt_str = datetime.strftime(dt, '%Y%m%d')\n",
    "    filename = '/glade/campaign/cisl/aiml/ksha/NBlend_2023/{}_done.txt'.format(dt_str)\n",
    "    \n",
    "    if os.path.isfile(filename):\n",
    "        #print('{} Exists'.format(save_name))\n",
    "        #print(filename)\n",
    "        continue;\n",
    "    else:\n",
    "        date_list_fill.append(dt)\n",
    "    "
   ]
  },
  {
   "cell_type": "code",
   "execution_count": 4,
   "id": "ca3c5879-bfe7-4a8b-b25a-a313f8075231",
   "metadata": {},
   "outputs": [
    {
     "name": "stdout",
     "output_type": "stream",
     "text": [
      "need to download files for 0 days\n"
     ]
    }
   ],
   "source": [
    "L_fill = len(date_list_fill)\n",
    "print('need to download files for {} days'.format(L_fill))\n",
    "#date_list_fill = date_list_fill[::-1]"
   ]
  },
  {
   "cell_type": "code",
   "execution_count": 8,
   "id": "2146c7b7-fa47-487e-8ff2-206ea4fb25d9",
   "metadata": {},
   "outputs": [
    {
     "name": "stdout",
     "output_type": "stream",
     "text": [
      "wget -L -O blend_20230201_t00z.qmd.f006.co.grib2 https://noaa-nbm-grib2-pds.s3.amazonaws.com/blend.20230201/00/qmd/blend.t00z.qmd.f006.co.grib2\n",
      "wget -L -O blend_20230201_t00z.qmd.f012.co.grib2 https://noaa-nbm-grib2-pds.s3.amazonaws.com/blend.20230201/00/qmd/blend.t00z.qmd.f012.co.grib2\n",
      "wget -L -O blend_20230201_t00z.qmd.f018.co.grib2 https://noaa-nbm-grib2-pds.s3.amazonaws.com/blend.20230201/00/qmd/blend.t00z.qmd.f018.co.grib2\n",
      "wget -L -O blend_20230201_t00z.qmd.f024.co.grib2 https://noaa-nbm-grib2-pds.s3.amazonaws.com/blend.20230201/00/qmd/blend.t00z.qmd.f024.co.grib2\n",
      "wget -L -O blend_20230201_t00z.qmd.f030.co.grib2 https://noaa-nbm-grib2-pds.s3.amazonaws.com/blend.20230201/00/qmd/blend.t00z.qmd.f030.co.grib2\n",
      "wget -L -O blend_20230201_t00z.qmd.f036.co.grib2 https://noaa-nbm-grib2-pds.s3.amazonaws.com/blend.20230201/00/qmd/blend.t00z.qmd.f036.co.grib2\n",
      "wget -L -O blend_20230201_t00z.qmd.f042.co.grib2 https://noaa-nbm-grib2-pds.s3.amazonaws.com/blend.20230201/00/qmd/blend.t00z.qmd.f042.co.grib2\n",
      "wget -L -O blend_20230201_t00z.qmd.f048.co.grib2 https://noaa-nbm-grib2-pds.s3.amazonaws.com/blend.20230201/00/qmd/blend.t00z.qmd.f048.co.grib2\n",
      "wget -L -O blend_20230201_t00z.qmd.f054.co.grib2 https://noaa-nbm-grib2-pds.s3.amazonaws.com/blend.20230201/00/qmd/blend.t00z.qmd.f054.co.grib2\n",
      "wget -L -O blend_20230201_t00z.qmd.f060.co.grib2 https://noaa-nbm-grib2-pds.s3.amazonaws.com/blend.20230201/00/qmd/blend.t00z.qmd.f060.co.grib2\n",
      "wget -L -O blend_20230201_t00z.qmd.f066.co.grib2 https://noaa-nbm-grib2-pds.s3.amazonaws.com/blend.20230201/00/qmd/blend.t00z.qmd.f066.co.grib2\n",
      "wget -L -O blend_20230201_t00z.qmd.f072.co.grib2 https://noaa-nbm-grib2-pds.s3.amazonaws.com/blend.20230201/00/qmd/blend.t00z.qmd.f072.co.grib2\n",
      "wget -L -O blend_20230201_t00z.qmd.f078.co.grib2 https://noaa-nbm-grib2-pds.s3.amazonaws.com/blend.20230201/00/qmd/blend.t00z.qmd.f078.co.grib2\n",
      "wget -L -O blend_20230201_t00z.qmd.f084.co.grib2 https://noaa-nbm-grib2-pds.s3.amazonaws.com/blend.20230201/00/qmd/blend.t00z.qmd.f084.co.grib2\n",
      "wget -L -O blend_20230201_t00z.qmd.f090.co.grib2 https://noaa-nbm-grib2-pds.s3.amazonaws.com/blend.20230201/00/qmd/blend.t00z.qmd.f090.co.grib2\n",
      "wget -L -O blend_20230201_t00z.qmd.f096.co.grib2 https://noaa-nbm-grib2-pds.s3.amazonaws.com/blend.20230201/00/qmd/blend.t00z.qmd.f096.co.grib2\n",
      "wget -L -O blend_20230201_t00z.qmd.f102.co.grib2 https://noaa-nbm-grib2-pds.s3.amazonaws.com/blend.20230201/00/qmd/blend.t00z.qmd.f102.co.grib2\n",
      "wget -L -O blend_20230201_t00z.qmd.f108.co.grib2 https://noaa-nbm-grib2-pds.s3.amazonaws.com/blend.20230201/00/qmd/blend.t00z.qmd.f108.co.grib2\n",
      "wget -L -O blend_20230201_t00z.qmd.f114.co.grib2 https://noaa-nbm-grib2-pds.s3.amazonaws.com/blend.20230201/00/qmd/blend.t00z.qmd.f114.co.grib2\n",
      "wget -L -O blend_20230201_t00z.qmd.f120.co.grib2 https://noaa-nbm-grib2-pds.s3.amazonaws.com/blend.20230201/00/qmd/blend.t00z.qmd.f120.co.grib2\n",
      "wget -L -O blend_20230201_t00z.qmd.f126.co.grib2 https://noaa-nbm-grib2-pds.s3.amazonaws.com/blend.20230201/00/qmd/blend.t00z.qmd.f126.co.grib2\n",
      "wget -L -O blend_20230201_t00z.qmd.f132.co.grib2 https://noaa-nbm-grib2-pds.s3.amazonaws.com/blend.20230201/00/qmd/blend.t00z.qmd.f132.co.grib2\n",
      "wget -L -O blend_20230201_t00z.qmd.f138.co.grib2 https://noaa-nbm-grib2-pds.s3.amazonaws.com/blend.20230201/00/qmd/blend.t00z.qmd.f138.co.grib2\n",
      "wget -L -O blend_20230201_t00z.qmd.f144.co.grib2 https://noaa-nbm-grib2-pds.s3.amazonaws.com/blend.20230201/00/qmd/blend.t00z.qmd.f144.co.grib2\n",
      "wget -L -O blend_20230201_t00z.qmd.f150.co.grib2 https://noaa-nbm-grib2-pds.s3.amazonaws.com/blend.20230201/00/qmd/blend.t00z.qmd.f150.co.grib2\n",
      "wget -L -O blend_20230201_t00z.qmd.f156.co.grib2 https://noaa-nbm-grib2-pds.s3.amazonaws.com/blend.20230201/00/qmd/blend.t00z.qmd.f156.co.grib2\n",
      "wget -L -O blend_20230201_t00z.qmd.f162.co.grib2 https://noaa-nbm-grib2-pds.s3.amazonaws.com/blend.20230201/00/qmd/blend.t00z.qmd.f162.co.grib2\n",
      "wget -L -O blend_20230201_t00z.qmd.f168.co.grib2 https://noaa-nbm-grib2-pds.s3.amazonaws.com/blend.20230201/00/qmd/blend.t00z.qmd.f168.co.grib2\n",
      "touch 20230201_done.txt\n"
     ]
    }
   ],
   "source": [
    "LEADs = np.arange(6, 168+6, 6)\n",
    "\n",
    "L = int(L_fill/10)+1\n",
    "\n",
    "N = 0\n",
    "for i in range(N*L, (N+1)*L, 1):\n",
    "    dt = date_list_fill[i]\n",
    "    dt_str = datetime.strftime(dt, '%Y%m%d')\n",
    "    \n",
    "    for lead in LEADs:\n",
    "        save_name = 'blend_{}_t00z.qmd.f{:03d}.co.grib2'.format(dt_str, lead)\n",
    "        print('wget -L -O {} https://noaa-nbm-grib2-pds.s3.amazonaws.com/blend.{}/00/qmd/blend.t00z.qmd.f{:03d}.co.grib2'.format(save_name, dt_str, lead))\n",
    "    print('touch {}_done.txt'.format(dt_str))"
   ]
  },
  {
   "cell_type": "code",
   "execution_count": null,
   "id": "31cd360c-d7bb-4ecf-afd8-1d06178e4604",
   "metadata": {},
   "outputs": [],
   "source": []
  },
  {
   "cell_type": "code",
   "execution_count": null,
   "id": "0200e50c-2c82-4171-838a-61299a928069",
   "metadata": {},
   "outputs": [],
   "source": []
  }
 ],
 "metadata": {
  "kernelspec": {
   "display_name": "Python 3 (ipykernel)",
   "language": "python",
   "name": "python3"
  },
  "language_info": {
   "codemirror_mode": {
    "name": "ipython",
    "version": 3
   },
   "file_extension": ".py",
   "mimetype": "text/x-python",
   "name": "python",
   "nbconvert_exporter": "python",
   "pygments_lexer": "ipython3",
   "version": "3.11.6"
  }
 },
 "nbformat": 4,
 "nbformat_minor": 5
}
