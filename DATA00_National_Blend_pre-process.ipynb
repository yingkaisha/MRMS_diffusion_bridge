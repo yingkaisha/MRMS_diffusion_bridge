{
 "cells": [
  {
   "cell_type": "code",
   "execution_count": 1,
   "id": "8ebf9add-822b-4aed-99cd-e0532d76a699",
   "metadata": {},
   "outputs": [],
   "source": [
    "import sys\n",
    "import time\n",
    "import h5py\n",
    "import pygrib\n",
    "import numpy as np\n",
    "from datetime import datetime, timedelta"
   ]
  },
  {
   "cell_type": "code",
   "execution_count": 72,
   "id": "17f134b2-cad9-4a2e-a08d-9a6bb8f0e65e",
   "metadata": {},
   "outputs": [],
   "source": [
    "import scipy.interpolate as spint\n",
    "from scipy.spatial import Delaunay\n",
    "import itertools"
   ]
  },
  {
   "cell_type": "code",
   "execution_count": 63,
   "id": "65cac16e-9c5b-4064-af70-93fe29c2516f",
   "metadata": {},
   "outputs": [],
   "source": [
    "sys.path.insert(0, '/glade/u/home/ksha/GAN_proj/')\n",
    "sys.path.insert(0, '/glade/u/home/ksha/GAN_proj/libs/')\n",
    "\n",
    "from namelist import *\n",
    "import data_utils as du"
   ]
  },
  {
   "cell_type": "code",
   "execution_count": 11,
   "id": "f992e0b1-361f-4581-9af8-a703417b347c",
   "metadata": {},
   "outputs": [],
   "source": [
    "import matplotlib.pyplot as plt\n",
    "%matplotlib inline"
   ]
  },
  {
   "cell_type": "markdown",
   "id": "35b5a8b4-8e0d-4e35-b8d2-825ff3f0ed08",
   "metadata": {},
   "source": [
    "grib name example\n",
    "\n",
    "*  25:Total Precipitation:kg m**-2 (accum):polar_stereographic:surface:level 0:fcst time 0-6 hrs (accum):from 202301010000:Probability of event above upper limit (> 0.254)\n",
    "* 38:Total Precipitation:kg m**-2 (accum):polar_stereographic:surface:level 0:fcst time 0-6 hrs (accum):from 202301010000"
   ]
  },
  {
   "cell_type": "code",
   "execution_count": 64,
   "id": "486d4c31-4998-464f-ada1-2d292d8e5195",
   "metadata": {},
   "outputs": [],
   "source": [
    "# MRMS lat/lon\n",
    "with h5py.File(save_dir+'CNN_domain.hdf', 'r') as h5io:\n",
    "    lon_01 = h5io['lon_01'][...]\n",
    "    lat_01 = h5io['lat_01'][...]"
   ]
  },
  {
   "cell_type": "markdown",
   "id": "8c60708e-8d50-42e9-a4f2-10890802e161",
   "metadata": {},
   "source": [
    "**National blend has irragular grids**"
   ]
  },
  {
   "cell_type": "code",
   "execution_count": 69,
   "id": "ac64c270-9a89-47e5-9514-9699d72cb4a9",
   "metadata": {},
   "outputs": [],
   "source": [
    "filename = '/glade/campaign/cisl/aiml/ksha/NBlend_2023/blend.t00z.qmd.f024.co.grib2'\n",
    "with pygrib.open(filename) as grbio:\n",
    "    lat_blend, lon_blend = apcp_temp = grbio[2].latlons()"
   ]
  },
  {
   "cell_type": "code",
   "execution_count": null,
   "id": "e93ab89b-fb45-4b14-91ba-bec97c88297d",
   "metadata": {},
   "outputs": [],
   "source": []
  },
  {
   "cell_type": "code",
   "execution_count": 74,
   "id": "71cd48a0-80a6-4353-a95d-0faf7475020d",
   "metadata": {},
   "outputs": [],
   "source": [
    "def interp_weights(xy, uv, d=2):\n",
    "    tri = Delaunay(xy)\n",
    "    simplex = tri.find_simplex(uv)\n",
    "    vertices = np.take(tri.simplices, simplex, axis=0)\n",
    "    temp = np.take(tri.transform, simplex, axis=0)\n",
    "    delta = uv - temp[:, d]\n",
    "    bary = np.einsum('njk,nk->nj', temp[:, :d, :], delta)\n",
    "    return vertices, np.hstack((bary, 1 - bary.sum(axis=1, keepdims=True)))\n",
    "\n",
    "def interpolate(values, vtx, wts):\n",
    "    return np.einsum('nj,nj->n', np.take(values, vtx), wts)"
   ]
  },
  {
   "cell_type": "code",
   "execution_count": 75,
   "id": "a12ac64e-f632-4850-9ffb-27b5a9b5d204",
   "metadata": {},
   "outputs": [],
   "source": [
    "# compute interpolation weights from National blend grids to 0.1 deg grids\n",
    "vtx, wts = interp_weights(np.vstack([lon_blend.ravel(), lat_blend.ravel()]).T, \n",
    "                          np.vstack([lon_01.ravel(), lat_01.ravel()]).T)"
   ]
  },
  {
   "cell_type": "code",
   "execution_count": 56,
   "id": "57b72f10-7622-45ef-913f-4abcfca1f4bf",
   "metadata": {},
   "outputs": [],
   "source": [
    "q_bins_blend = np.arange(0.01, 1, 0.01)\n",
    "grid_shape = lat_01.shape\n",
    "N_bins = len(q_bins_blend)"
   ]
  },
  {
   "cell_type": "code",
   "execution_count": 76,
   "id": "7818976d-ec00-4a3e-a744-425cfab02edd",
   "metadata": {},
   "outputs": [
    {
     "name": "stdout",
     "output_type": "stream",
     "text": [
      "--- 26.225807428359985 seconds ---\n"
     ]
    }
   ],
   "source": [
    "APCP_q = np.empty((N_bins,)+grid_shape)\n",
    "APCP_q[...] = np.nan\n",
    "\n",
    "# append all available grbio info until indices run out-of-bound\n",
    "filename = '/glade/campaign/cisl/aiml/ksha/NBlend_2023/blend.t00z.qmd.f024.co.grib2'\n",
    "\n",
    "start_time = time.time()\n",
    "\n",
    "with pygrib.open(filename) as grbio:\n",
    "    for i, ind in enumerate(range(2, 101, 1)):\n",
    "        apcp_temp = grbio[ind].values\n",
    "        \n",
    "        apcp_interp = interpolate(apcp_temp.ravel(), vtx, wts)\n",
    "        apcp_interp[apcp_interp<0] = 0\n",
    "        \n",
    "        APCP_q[i, ...] = apcp_interp.reshape(grid_shape)\n",
    "        \n",
    "print(\"--- %s seconds ---\" % (time.time() - start_time))"
   ]
  },
  {
   "cell_type": "code",
   "execution_count": 83,
   "id": "9460624f-ca29-45a2-a3d9-6ce790561cea",
   "metadata": {},
   "outputs": [
    {
     "data": {
      "text/plain": [
       "[<matplotlib.lines.Line2D at 0x15437ebbbd10>]"
      ]
     },
     "execution_count": 83,
     "metadata": {},
     "output_type": "execute_result"
    },
    {
     "data": {
      "image/png": "[encoded data removed]",
      "text/plain": [
       "<Figure size 640x480 with 1 Axes>"
      ]
     },
     "metadata": {},
     "output_type": "display_data"
    }
   ],
   "source": [
    "plt.plot(APCP_q[:, 150, 150])"
   ]
  },
  {
   "cell_type": "code",
   "execution_count": null,
   "id": "692f11ca-f9a5-494a-a591-b34a2868d283",
   "metadata": {},
   "outputs": [],
   "source": []
  },
  {
   "cell_type": "code",
   "execution_count": null,
   "id": "e6ae4c90-6cc7-45ed-a02f-b37719fc62d9",
   "metadata": {},
   "outputs": [],
   "source": []
  },
  {
   "cell_type": "code",
   "execution_count": null,
   "id": "46d56d69-2af1-4c20-ab92-921e6df5f0f2",
   "metadata": {},
   "outputs": [],
   "source": []
  },
  {
   "cell_type": "code",
   "execution_count": null,
   "id": "b630f705-1077-451c-a7f2-f42dbb9a9aa4",
   "metadata": {},
   "outputs": [],
   "source": []
  }
 ],
 "metadata": {
  "kernelspec": {
   "display_name": "Python 3 (ipykernel)",
   "language": "python",
   "name": "python3"
  },
  "language_info": {
   "codemirror_mode": {
    "name": "ipython",
    "version": 3
   },
   "file_extension": ".py",
   "mimetype": "text/x-python",
   "name": "python",
   "nbconvert_exporter": "python",
   "pygments_lexer": "ipython3",
   "version": "3.11.6"
  }
 },
 "nbformat": 4,
 "nbformat_minor": 5
}
