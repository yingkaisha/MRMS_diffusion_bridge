{
 "cells": [
  {
   "cell_type": "markdown",
   "id": "7184eacc-7e1f-4419-b3c2-028a9009eff5",
   "metadata": {},
   "source": [
    "# Unet baseline with MC dropout"
   ]
  },
  {
   "cell_type": "code",
   "execution_count": 1,
   "id": "b7a96452-c069-44e7-b60b-5df4228af9bf",
   "metadata": {},
   "outputs": [],
   "source": [
    "import os\n",
    "import sys\n",
    "import time\n",
    "import math\n",
    "import logging\n",
    "import warnings\n",
    "import numpy as np\n",
    "from glob import glob\n",
    "\n",
    "# supress regular warnings\n",
    "warnings.filterwarnings(\"ignore\")\n",
    "os.environ['TF_CPP_MIN_LOG_LEVEL'] = '3' \n",
    "logging.getLogger(\"tensorflow\").setLevel(logging.ERROR) \n",
    "\n",
    "import tensorflow as tf\n",
    "from tensorflow import keras\n",
    "from tensorflow.keras import layers\n",
    "\n",
    "# supress tensorflow warnings\n",
    "tf.autograph.set_verbosity(0)\n",
    "tf.get_logger().setLevel('ERROR')\n",
    "\n",
    "# adjust for time step embedding layer\n",
    "tf.config.run_functions_eagerly(True)"
   ]
  },
  {
   "cell_type": "code",
   "execution_count": 2,
   "id": "4dccf289-82cc-4ba1-9067-5db5bd2920c8",
   "metadata": {},
   "outputs": [],
   "source": [
    "sys.path.insert(0, '/glade/u/home/ksha/GAN_proj/')\n",
    "sys.path.insert(0, '/glade/u/home/ksha/GAN_proj/libs/')\n",
    "\n",
    "from namelist import *\n",
    "import data_utils as du\n",
    "import model_utils as mu"
   ]
  },
  {
   "cell_type": "markdown",
   "id": "a08a1024-2a8f-4a29-b102-18f0ccbd9c4e",
   "metadata": {},
   "source": [
    "## Hyperparameters"
   ]
  },
  {
   "cell_type": "code",
   "execution_count": 3,
   "id": "fdb55f36-d87a-4ffd-b7a7-0e447de69957",
   "metadata": {},
   "outputs": [],
   "source": [
    "norm_groups = 8 # number of attention heads, number of layer normalization groups \n",
    "\n",
    "# min-max values of the diffusion target (learning target) \n",
    "clip_min = -1.0\n",
    "clip_max = 1.0\n",
    "\n",
    "widths = [64, 96, 128, 256] # number of convolution kernels per up-/downsampling level\n",
    "feature_sizes = [32, 16, 8, 4]\n",
    "\n",
    "left_attention = [False, True, True, True] # True: use multi-head attnetion on each up-/downsampling level\n",
    "right_attention = [False, True, True, True]\n",
    "num_res_blocks = 2  # Number of residual blocks\n",
    "\n",
    "input_shape = (32, 32, 8) # the tensor shape of reverse diffusion input\n",
    "gfs_shape = (128, 128, 8) # the tensor shape of GFS embeddings\n",
    "\n",
    "F_y = 1/6.3 # the scale of VQ-VAE codes\n",
    "\n",
    "N_atten1 = np.sum(left_attention)\n",
    "N_atten2 = np.sum(right_attention)\n",
    "\n",
    "load_weights = True\n",
    "\n",
    "# location of the previous weights\n",
    "model_name = '/glade/work/ksha/GAN/models/Baseline_atten{}-{}_res{}_tune2/'.format(\n",
    "    N_atten1, N_atten2, num_res_blocks)\n",
    "\n",
    "# location for saving new weights\n",
    "model_name_save = '/glade/work/ksha/GAN/models/Baseline_atten{}-{}_res{}_tune3/'.format(\n",
    "    N_atten1, N_atten2, num_res_blocks)\n",
    "\n",
    "lr = 1e-5 # learning rate\n",
    "\n",
    "# samples per epoch = N_batch * batch_size\n",
    "epochs = 99999\n",
    "N_batch = 128\n",
    "batch_size = 32"
   ]
  },
  {
   "cell_type": "markdown",
   "id": "117e5f1c-85e9-41b5-b868-519e18b36da3",
   "metadata": {},
   "source": [
    "## Model design"
   ]
  },
  {
   "cell_type": "code",
   "execution_count": 4,
   "id": "e3d57ca9-78f0-4eab-a106-83a4a7773565",
   "metadata": {},
   "outputs": [],
   "source": [
    "def build_model(input_shape, gfs_shape, widths, feature_sizes, left_attention, right_attention, num_res_blocks=2, norm_groups=8,\n",
    "                interpolation='bilinear', activation_fn=keras.activations.relu,):\n",
    "\n",
    "    first_conv_channels = widths[0]\n",
    "    \n",
    "    image_input = layers.Input(shape=input_shape, name=\"image_input\")\n",
    "    time_input = keras.Input(shape=(), dtype=tf.int64, name=\"time_input\")\n",
    "    gfs_input = layers.Input(shape=gfs_shape, name=\"gfs_input\")\n",
    "    \n",
    "    x = layers.Conv2D(first_conv_channels, kernel_size=(3, 3), padding=\"same\",\n",
    "                      kernel_initializer=mu.kernel_init(1.0),)(image_input)\n",
    "\n",
    "    temb = mu.TimeEmbedding(dim=first_conv_channels * 4)(time_input)\n",
    "    temb = mu.TimeMLP(units=first_conv_channels * 4, activation_fn=activation_fn)(temb)\n",
    "\n",
    "    skips = [x]\n",
    "\n",
    "    # DownBlock\n",
    "    has_attention = left_attention\n",
    "    for i in range(len(widths)):\n",
    "        for _ in range(num_res_blocks):\n",
    "            x = mu.ResidualBlock(widths[i], groups=norm_groups, activation_fn=activation_fn)([x, temb])\n",
    "            x = layers.Dropout(0.2)(x, training=True)\n",
    "            \n",
    "            if has_attention[i]:\n",
    "                # GFS cross-attention inputs\n",
    "                size_ = feature_sizes[i]\n",
    "                x_gfs = gfs_input\n",
    "                x_gfs = layers.Resizing(size_, size_, interpolation='bilinear')(x_gfs)\n",
    "\n",
    "                x_gfs = layers.Conv2D(int(0.5*widths[i]), kernel_size=(3, 3), padding=\"same\",)(x_gfs)\n",
    "                x_gfs = layers.GroupNormalization(groups=norm_groups)(x_gfs)\n",
    "                x_gfs = activation_fn(x_gfs)\n",
    "\n",
    "                x_gfs = layers.Conv2D(widths[i], kernel_size=(3, 3), padding=\"same\",)(x_gfs)\n",
    "                x_gfs = layers.GroupNormalization(groups=norm_groups)(x_gfs)\n",
    "                x_gfs = activation_fn(x_gfs)\n",
    "                \n",
    "                x = layers.MultiHeadAttention(num_heads=norm_groups, key_dim=widths[i])(x, x_gfs)\n",
    "                \n",
    "            skips.append(x)\n",
    "\n",
    "        if widths[i] != widths[-1]:\n",
    "            x = mu.DownSample(widths[i])(x)\n",
    "            skips.append(x)\n",
    "\n",
    "    # MiddleBlock\n",
    "    x = mu.ResidualBlock(widths[-1], groups=norm_groups, activation_fn=activation_fn)([x, temb])\n",
    "    x = layers.Dropout(0.2)(x, training=True)\n",
    "    \n",
    "    size_ = feature_sizes[-1]\n",
    "    x_gfs = gfs_input\n",
    "    x_gfs = layers.Resizing(size_, size_, interpolation='bilinear')(x_gfs)\n",
    "    \n",
    "    x_gfs = layers.Conv2D(int(0.5*widths[-1]), kernel_size=(3, 3), padding=\"same\",)(x_gfs)\n",
    "    x_gfs = layers.GroupNormalization(groups=norm_groups)(x_gfs)\n",
    "    x_gfs = activation_fn(x_gfs)\n",
    "\n",
    "    x_gfs = layers.Conv2D(widths[-1], kernel_size=(3, 3), padding=\"same\",)(x_gfs)\n",
    "    x_gfs = layers.GroupNormalization(groups=norm_groups)(x_gfs)\n",
    "    x_gfs = activation_fn(x_gfs)\n",
    "    \n",
    "    x = layers.MultiHeadAttention(num_heads=norm_groups, key_dim=widths[-1])(x, x_gfs)\n",
    "    \n",
    "    x = mu.ResidualBlock(widths[-1], groups=norm_groups, activation_fn=activation_fn)([x, temb])\n",
    "    x = layers.Dropout(0.2)(x, training=True)\n",
    "    \n",
    "    # UpBlock\n",
    "    has_attention = right_attention\n",
    "    for i in reversed(range(len(widths))):\n",
    "        for _ in range(num_res_blocks + 1):\n",
    "            x = layers.Concatenate(axis=-1)([x, skips.pop()])\n",
    "            x = mu.ResidualBlock(widths[i], groups=norm_groups, activation_fn=activation_fn)([x, temb])\n",
    "            x = layers.Dropout(0.2)(x, training=True)\n",
    "            \n",
    "            if has_attention[i]:\n",
    "                \n",
    "                # GFS cross-attention inputs\n",
    "                size_ = feature_sizes[i]\n",
    "                x_gfs = gfs_input\n",
    "                x_gfs = layers.Resizing(size_, size_, interpolation='bilinear')(x_gfs)\n",
    "\n",
    "                x_gfs = layers.Conv2D(int(0.5*widths[i]), kernel_size=(3, 3), padding=\"same\",)(x_gfs)\n",
    "                x_gfs = layers.GroupNormalization(groups=norm_groups)(x_gfs)\n",
    "                x_gfs = activation_fn(x_gfs)\n",
    "\n",
    "                x_gfs = layers.Conv2D(widths[i], kernel_size=(3, 3), padding=\"same\",)(x_gfs)\n",
    "                x_gfs = layers.GroupNormalization(groups=norm_groups)(x_gfs)\n",
    "                x_gfs = activation_fn(x_gfs)\n",
    "                \n",
    "                x = layers.MultiHeadAttention(num_heads=norm_groups, key_dim=widths[i])(x, x_gfs)\n",
    "                \n",
    "        if i != 0:\n",
    "            x = mu.UpSample(widths[i], interpolation=interpolation)(x)\n",
    "\n",
    "    # End block\n",
    "    x = layers.GroupNormalization(groups=norm_groups)(x)\n",
    "    x = activation_fn(x)\n",
    "    x = layers.Conv2D(input_shape[-1], (3, 3), padding=\"same\", kernel_initializer=mu.kernel_init(0.0))(x)\n",
    "    return keras.Model([image_input, time_input, gfs_input], x, name=\"unet\")\n"
   ]
  },
  {
   "cell_type": "code",
   "execution_count": 5,
   "id": "0c92957e-dd73-45bb-8fe2-8e03d40691ae",
   "metadata": {},
   "outputs": [],
   "source": [
    "# Reverse diffusino model\n",
    "model = build_model(input_shape=input_shape, gfs_shape=gfs_shape, widths=widths,\n",
    "                    feature_sizes=feature_sizes, left_attention=left_attention, right_attention=right_attention, \n",
    "                    num_res_blocks=num_res_blocks, norm_groups=norm_groups, activation_fn=keras.activations.relu)\n",
    "\n",
    "# Compile the mdoel\n",
    "model.compile(loss=keras.losses.MeanAbsoluteError(), optimizer=keras.optimizers.Adam(learning_rate=lr),)\n",
    "\n",
    "# load previous weights\n",
    "if load_weights:\n",
    "    W_old = mu.dummy_loader(model_name)\n",
    "    model.set_weights(W_old)"
   ]
  },
  {
   "cell_type": "markdown",
   "id": "dad250c4-f0c7-433b-b2e0-b66172ce092e",
   "metadata": {},
   "source": [
    "## Validation set preparation"
   ]
  },
  {
   "cell_type": "code",
   "execution_count": 6,
   "id": "8ab3d4c6-80c1-42df-a6aa-eed53a1d0954",
   "metadata": {},
   "outputs": [],
   "source": [
    "L_valid = 270 # number of validation samples\n",
    "\n",
    "# locations of training data\n",
    "BATCH_dir = '/glade/campaign/cisl/aiml/ksha/BATCH_Baseline/'\n",
    "\n",
    "# preparing training batches\n",
    "filenames = np.array(sorted(glob(BATCH_dir+'*2023*.npy')))\n",
    "\n",
    "L = len(filenames)\n",
    "filename_valid = filenames[::1000][:L_valid]\n",
    "\n",
    "I_valid = np.empty((L_valid,)+input_shape)\n",
    "Y_valid = np.empty((L_valid,)+input_shape)\n",
    "X_valid = np.empty((L_valid,)+gfs_shape)\n",
    "t_valid = np.empty((L_valid,))\n",
    "\n",
    "for i, name in enumerate(filename_valid):\n",
    "    temp_data = np.load(name, allow_pickle=True)[()]\n",
    "    X_valid[i, ...] = temp_data['data']\n",
    "    Y_valid[i, ...] = F_y*temp_data['Y_latent']\n",
    "    I_valid[i, ...] = F_y*temp_data['Y_latent_gfs']\n",
    "    t_valid[i] = int(name[-25:-23])\n"
   ]
  },
  {
   "cell_type": "code",
   "execution_count": 7,
   "id": "59651d89-42c7-49eb-90fe-4000116426f1",
   "metadata": {},
   "outputs": [
    {
     "name": "stdout",
     "output_type": "stream",
     "text": [
      "9/9 [==============================] - 10s 466ms/step\n"
     ]
    }
   ],
   "source": [
    "pred_ = model.predict([I_valid, t_valid, X_valid])"
   ]
  },
  {
   "cell_type": "markdown",
   "id": "0d8d6a1a-9388-4084-aaee-060533487a88",
   "metadata": {},
   "source": [
    "## Training loop"
   ]
  },
  {
   "cell_type": "code",
   "execution_count": 8,
   "id": "846f9bee-cfc3-4bb7-aa62-eec768011c65",
   "metadata": {},
   "outputs": [],
   "source": [
    "# collect all training batches\n",
    "filenames = np.array(sorted(glob(BATCH_dir+'*.npy')))\n",
    "filename_valid = np.array(sorted(glob(BATCH_dir+'*2023*.npy')))\n",
    "filename_train = list(set(filenames) - set(filename_valid))\n",
    "L_train = len(filename_train)"
   ]
  },
  {
   "cell_type": "code",
   "execution_count": 9,
   "id": "d3467270-52e5-4df4-a4a9-b5cf7f394469",
   "metadata": {},
   "outputs": [
    {
     "data": {
      "text/plain": [
       "217.425048828125"
      ]
     },
     "execution_count": 9,
     "metadata": {},
     "output_type": "execute_result"
    }
   ],
   "source": [
    "L_train/128/32"
   ]
  },
  {
   "cell_type": "code",
   "execution_count": 10,
   "id": "672fdabe-ff5a-4988-a02b-d82392615474",
   "metadata": {},
   "outputs": [
    {
     "name": "stdout",
     "output_type": "stream",
     "text": [
      "epoch = 0\n",
      "9/9 [==============================] - 3s 372ms/step\n",
      "Initial validation loss: 0.06481643168363588\n",
      "9/9 [==============================] - 3s 365ms/step\n",
      "Validation loss improved from 0.06481643168363588 to 0.05820754179785004\n",
      "Save to /glade/work/ksha/GAN/models/Baseline_atten3-3_res2_tune3/\n"
     ]
    },
    {
     "name": "stderr",
     "output_type": "stream",
     "text": [
      "WARNING:absl:Found untraced functions such as _jit_compiled_convolution_op, _jit_compiled_convolution_op, _jit_compiled_convolution_op, _jit_compiled_convolution_op, _jit_compiled_convolution_op while saving (showing 5 of 292). These functions will not be directly callable after loading.\n"
     ]
    },
    {
     "name": "stdout",
     "output_type": "stream",
     "text": [
      "--- 447.2643220424652 seconds ---\n",
      "epoch = 1\n",
      "9/9 [==============================] - 3s 379ms/step\n",
      "Validation loss 0.05824503759432217 NOT improved\n",
      "--- 368.26188373565674 seconds ---\n",
      "epoch = 2\n",
      "9/9 [==============================] - 3s 366ms/step\n",
      "Validation loss 0.05830622658105323 NOT improved\n",
      "--- 362.2196638584137 seconds ---\n",
      "epoch = 3\n",
      "9/9 [==============================] - 3s 372ms/step\n",
      "Validation loss 0.058207839006611854 NOT improved\n",
      "--- 360.7482032775879 seconds ---\n",
      "epoch = 4\n",
      "9/9 [==============================] - 3s 369ms/step\n",
      "Validation loss 0.05838554311209623 NOT improved\n",
      "--- 359.73770093917847 seconds ---\n",
      "epoch = 5\n",
      "9/9 [==============================] - 3s 373ms/step\n",
      "Validation loss improved from 0.05820754179785004 to 0.0581856341309092\n",
      "Save to /glade/work/ksha/GAN/models/Baseline_atten3-3_res2_tune3/\n"
     ]
    },
    {
     "name": "stderr",
     "output_type": "stream",
     "text": [
      "WARNING:absl:Found untraced functions such as _jit_compiled_convolution_op, _jit_compiled_convolution_op, _jit_compiled_convolution_op, _jit_compiled_convolution_op, _jit_compiled_convolution_op while saving (showing 5 of 292). These functions will not be directly callable after loading.\n"
     ]
    },
    {
     "name": "stdout",
     "output_type": "stream",
     "text": [
      "--- 439.4476397037506 seconds ---\n",
      "epoch = 6\n",
      "9/9 [==============================] - 3s 365ms/step\n",
      "Validation loss 0.05834727896450418 NOT improved\n",
      "--- 362.5916473865509 seconds ---\n",
      "epoch = 7\n",
      "9/9 [==============================] - 3s 370ms/step\n",
      "Validation loss 0.05821689859543938 NOT improved\n",
      "--- 359.80690741539 seconds ---\n",
      "epoch = 8\n",
      "9/9 [==============================] - 3s 370ms/step\n",
      "Validation loss 0.05829612571630715 NOT improved\n",
      "--- 364.0727994441986 seconds ---\n",
      "epoch = 9\n",
      "9/9 [==============================] - 3s 367ms/step\n",
      "Validation loss 0.0582708048651177 NOT improved\n",
      "--- 358.44259691238403 seconds ---\n",
      "epoch = 10\n",
      "9/9 [==============================] - 3s 366ms/step\n",
      "Validation loss 0.05823973847015234 NOT improved\n",
      "--- 355.7847743034363 seconds ---\n",
      "epoch = 11\n",
      "9/9 [==============================] - 3s 362ms/step\n",
      "Validation loss 0.05834191561579422 NOT improved\n",
      "--- 360.9100911617279 seconds ---\n",
      "epoch = 12\n",
      "9/9 [==============================] - 3s 368ms/step\n",
      "Validation loss 0.05827847754740905 NOT improved\n",
      "--- 365.31767559051514 seconds ---\n",
      "epoch = 13\n",
      "9/9 [==============================] - 3s 366ms/step\n",
      "Validation loss 0.058297628680611564 NOT improved\n",
      "--- 365.069118976593 seconds ---\n",
      "epoch = 14\n",
      "9/9 [==============================] - 3s 370ms/step\n",
      "Validation loss 0.05827907483487574 NOT improved\n",
      "--- 364.6291892528534 seconds ---\n",
      "epoch = 15\n",
      "9/9 [==============================] - 3s 371ms/step\n",
      "Validation loss 0.05826879615452144 NOT improved\n",
      "--- 361.6527009010315 seconds ---\n",
      "epoch = 16\n",
      "9/9 [==============================] - 3s 364ms/step\n",
      "Validation loss 0.05832397751908143 NOT improved\n",
      "--- 356.61277651786804 seconds ---\n",
      "epoch = 17\n",
      "9/9 [==============================] - 3s 370ms/step\n",
      "Validation loss 0.05835408090819902 NOT improved\n",
      "--- 362.5126802921295 seconds ---\n",
      "epoch = 18\n",
      "9/9 [==============================] - 3s 364ms/step\n",
      "Validation loss 0.05834744377028023 NOT improved\n",
      "--- 357.5040810108185 seconds ---\n",
      "epoch = 19\n",
      "9/9 [==============================] - 3s 373ms/step\n",
      "Validation loss 0.05828205082662792 NOT improved\n",
      "--- 358.5310218334198 seconds ---\n",
      "epoch = 20\n",
      "9/9 [==============================] - 3s 362ms/step\n",
      "Validation loss 0.05831201669362724 NOT improved\n",
      "--- 359.0830156803131 seconds ---\n",
      "epoch = 21\n",
      "9/9 [==============================] - 3s 370ms/step\n",
      "Validation loss 0.05835219940174184 NOT improved\n",
      "--- 360.2871460914612 seconds ---\n",
      "epoch = 22\n",
      "9/9 [==============================] - 3s 363ms/step\n",
      "Validation loss 0.058257657579771215 NOT improved\n",
      "--- 364.1351203918457 seconds ---\n",
      "epoch = 23\n"
     ]
    },
    {
     "name": "stderr",
     "output_type": "stream",
     "text": [
      "\n",
      "KeyboardInterrupt\n",
      "\n"
     ]
    }
   ],
   "source": [
    "min_del = 0.0\n",
    "max_tol = 3 # early stopping with 2-epoch patience\n",
    "tol = 0\n",
    "\n",
    "Y_batch = np.empty((batch_size,)+input_shape)\n",
    "I_batch = np.empty((batch_size,)+input_shape)\n",
    "X_batch = np.empty((batch_size,)+gfs_shape)\n",
    "t_batch = np.empty((batch_size,))\n",
    "\n",
    "# locations of training data\n",
    "BATCH_dir = '/glade/campaign/cisl/aiml/ksha/BATCH_Baseline/'\n",
    "\n",
    "for i in range(epochs):\n",
    "    print('epoch = {}'.format(i))\n",
    "    if i == 0:\n",
    "        pred_ = model.predict([I_valid, t_valid, X_valid])\n",
    "        record = np.mean(np.abs(Y_valid - pred_))\n",
    "        print('Initial validation loss: {}'.format(record))\n",
    "        \n",
    "    start_time = time.time()\n",
    "    # loop over batches\n",
    "    for j in range(N_batch):\n",
    "        \n",
    "        inds_rnd = du.shuffle_ind(L_train) # shuffle training files\n",
    "        inds_ = inds_rnd[:batch_size] # select training files\n",
    "        \n",
    "        # collect training batches\n",
    "        for k, ind in enumerate(inds_):\n",
    "            # import batch data\n",
    "            temp_name = filename_train[ind]\n",
    "            temp_data = np.load(temp_name, allow_pickle=True)[()]\n",
    "            X_batch[k, ...] = temp_data['data']\n",
    "            Y_batch[k, ...] = F_y*temp_data['Y_latent']\n",
    "            I_batch[k, ...] = F_y*temp_data['Y_latent_gfs']\n",
    "            t_batch[k] = int(name[-25:-23])\n",
    "            \n",
    "        # train on batch\n",
    "        model.train_on_batch([I_batch, t_batch, X_batch], Y_batch)\n",
    "        \n",
    "    # on epoch-end\n",
    "    pred_ = model.predict([I_valid, t_valid, X_valid])\n",
    "    record_temp = np.mean(np.abs(Y_valid - pred_))\n",
    "    \n",
    "    # print out valid loss change\n",
    "    if record - record_temp > min_del:\n",
    "        print('Validation loss improved from {} to {}'.format(record, record_temp))\n",
    "        record = record_temp\n",
    "        print(\"Save to {}\".format(model_name_save))\n",
    "        model.save(model_name_save)\n",
    "        \n",
    "    else:\n",
    "        print('Validation loss {} NOT improved'.format(record_temp))\n",
    "\n",
    "    print(\"--- %s seconds ---\" % (time.time() - start_time))\n",
    "    # mannual callbacks\n"
   ]
  },
  {
   "cell_type": "markdown",
   "id": "d58b8380-33dc-4ee8-8e37-633a59ca93bc",
   "metadata": {},
   "source": [
    "## Plot examples"
   ]
  },
  {
   "cell_type": "code",
   "execution_count": 11,
   "id": "02dbd6b2-7df8-4ce1-b026-a199214d499f",
   "metadata": {},
   "outputs": [],
   "source": [
    "import matplotlib.pyplot as plt\n",
    "%matplotlib inline"
   ]
  },
  {
   "cell_type": "code",
   "execution_count": 12,
   "id": "8079dbea-f1ee-4e8f-b261-5d0170544e5a",
   "metadata": {},
   "outputs": [
    {
     "name": "stdout",
     "output_type": "stream",
     "text": [
      "9/9 [==============================] - 3s 328ms/step\n"
     ]
    }
   ],
   "source": [
    "pred_ = model.predict([I_valid, t_valid, X_valid])"
   ]
  },
  {
   "cell_type": "code",
   "execution_count": 27,
   "id": "cafec8b0-b19a-478c-b77b-c66e5efdee4c",
   "metadata": {},
   "outputs": [
    {
     "data": {
      "text/plain": [
       "array([[0.02469258, 0.04879013, 0.06062462, ..., 0.        , 0.        ,\n",
       "        0.        ],\n",
       "       [0.01488859, 0.02955878, 0.04162166, ..., 0.        , 0.        ,\n",
       "        0.        ],\n",
       "       [0.00498753, 0.00995032, 0.02225058, ..., 0.        , 0.        ,\n",
       "        0.        ],\n",
       "       ...,\n",
       "       [0.20294088, 0.18232159, 0.18232152, ..., 0.53795533, 0.30932256,\n",
       "        0.13976228],\n",
       "       [0.16551443, 0.16974277, 0.1906203 , ..., 0.65881564, 0.40713186,\n",
       "        0.21107141],\n",
       "       [0.1266326 , 0.1570037 , 0.19885077, ..., 0.76663117, 0.49622106,\n",
       "        0.27763226]])"
      ]
     },
     "execution_count": 27,
     "metadata": {},
     "output_type": "execute_result"
    }
   ],
   "source": [
    "X_valid[0, ..., 0]"
   ]
  },
  {
   "cell_type": "code",
   "execution_count": 29,
   "id": "6f48ce96-973c-4337-a2f3-c19d50ca5c65",
   "metadata": {},
   "outputs": [
    {
     "data": {
      "text/plain": [
       "array([[-0.20433612, -0.20433612, -0.20433612, ..., -0.20433612,\n",
       "        -0.20433612, -0.20433612],\n",
       "       [-0.20433612, -0.20433612, -0.20433612, ..., -0.20433612,\n",
       "        -0.20433612, -0.20433612],\n",
       "       [-0.20433612, -0.20433612, -0.20433612, ..., -0.20433612,\n",
       "        -0.20433612, -0.20433612],\n",
       "       ...,\n",
       "       [-0.20433612, -0.20433612,  0.10544042, ..., -0.20433612,\n",
       "        -0.20433612, -0.20433612],\n",
       "       [-0.20433612, -0.20433612,  0.18041433, ..., -0.04690287,\n",
       "         0.00214883, -0.20433612],\n",
       "       [-0.20433612,  0.00085775,  0.16279718, ...,  0.17409472,\n",
       "         0.17409472,  0.09401513]])"
      ]
     },
     "execution_count": 29,
     "metadata": {},
     "output_type": "execute_result"
    }
   ],
   "source": [
    "Y_valid[0, ..., 0]"
   ]
  },
  {
   "cell_type": "code",
   "execution_count": null,
   "id": "e4b60204-706e-4f0f-9a70-16112e767b89",
   "metadata": {},
   "outputs": [],
   "source": []
  },
  {
   "cell_type": "code",
   "execution_count": 32,
   "id": "46b35c43-ba86-46e1-83b3-72441e3c919d",
   "metadata": {},
   "outputs": [
    {
     "data": {
      "text/plain": [
       "<matplotlib.collections.QuadMesh at 0x15532e81b460>"
      ]
     },
     "execution_count": 32,
     "metadata": {},
     "output_type": "execute_result"
    },
    {
     "data": {
      "image/png": "[encoded data removed]",
      "text/plain": [
       "<Figure size 640x480 with 1 Axes>"
      ]
     },
     "metadata": {},
     "output_type": "display_data"
    }
   ],
   "source": [
    "plt.pcolormesh(I_valid[0, ..., 0], vmin=-0.5, vmax=0.5, cmap=plt.cm.nipy_spectral_r)"
   ]
  },
  {
   "cell_type": "code",
   "execution_count": 30,
   "id": "7ce1592c-8cce-4f93-90db-ed28555065f8",
   "metadata": {},
   "outputs": [
    {
     "data": {
      "text/plain": [
       "<matplotlib.collections.QuadMesh at 0x15532efc3fd0>"
      ]
     },
     "execution_count": 30,
     "metadata": {},
     "output_type": "execute_result"
    },
    {
     "data": {
      "image/png": "[encoded data removed]",
      "text/plain": [
       "<Figure size 640x480 with 1 Axes>"
      ]
     },
     "metadata": {},
     "output_type": "display_data"
    }
   ],
   "source": [
    "plt.pcolormesh(pred_[0, ..., 0], vmin=-0.5, vmax=0.5, cmap=plt.cm.nipy_spectral_r)"
   ]
  },
  {
   "cell_type": "code",
   "execution_count": 28,
   "id": "5a6df0a7-bd0d-428c-89c4-708896cd83ed",
   "metadata": {},
   "outputs": [
    {
     "data": {
      "text/plain": [
       "<matplotlib.collections.QuadMesh at 0x1553f1b08730>"
      ]
     },
     "execution_count": 28,
     "metadata": {},
     "output_type": "execute_result"
    },
    {
     "data": {
      "image/png": "[encoded data removed]",
      "text/plain": [
       "<Figure size 640x480 with 1 Axes>"
      ]
     },
     "metadata": {},
     "output_type": "display_data"
    }
   ],
   "source": [
    "plt.pcolormesh(Y_valid[0, ..., 0], vmin=-0.5, vmax=0.5, cmap=plt.cm.nipy_spectral_r)"
   ]
  },
  {
   "cell_type": "markdown",
   "id": "a73dd666-069d-4c45-865b-dd6078218ce5",
   "metadata": {},
   "source": [
    "**out-of-box reverse diffusion tests**"
   ]
  },
  {
   "cell_type": "code",
   "execution_count": null,
   "id": "103eb489-8a3c-431c-bca9-2dc2f6ba585c",
   "metadata": {},
   "outputs": [],
   "source": [
    "# x_in1 = images_valid\n",
    "# x_in2 = X_valid\n",
    "\n",
    "# x1 = x_in1[i, ...][None, ...]\n",
    "# x2 = x_in2[i, ...][None, ...]\n",
    "        \n",
    "# for t in reversed(range(0, total_timesteps)):\n",
    "#     tt = tf.cast(tf.fill(1, t), dtype=tf.int64)\n",
    "#     pred_noise = model.predict([x1, tt, x2], verbose=0)\n",
    "#     model_mean, _, model_log_variance =  gdf_util.p_mean_variance(pred_noise, x=x1, t=tt, clip_denoised=True)\n",
    "#     nonzero_mask = (1 - (np.array(tt)==0)).reshape((1, 1, 1, 1))\n",
    "#     x1 = np.array(model_mean) + nonzero_mask * np.exp(0.5 * np.array(model_log_variance)) * np.random.normal(size=x1.shape)"
   ]
  },
  {
   "cell_type": "code",
   "execution_count": null,
   "id": "784a2f2f-521a-4c16-9dbb-01cf795c9dac",
   "metadata": {},
   "outputs": [],
   "source": []
  }
 ],
 "metadata": {
  "kernelspec": {
   "display_name": "Python 3 (ipykernel)",
   "language": "python",
   "name": "python3"
  },
  "language_info": {
   "codemirror_mode": {
    "name": "ipython",
    "version": 3
   },
   "file_extension": ".py",
   "mimetype": "text/x-python",
   "name": "python",
   "nbconvert_exporter": "python",
   "pygments_lexer": "ipython3",
   "version": "3.10.13"
  }
 },
 "nbformat": 4,
 "nbformat_minor": 5
}
