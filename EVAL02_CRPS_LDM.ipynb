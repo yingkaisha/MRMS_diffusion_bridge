{
 "cells": [
  {
   "cell_type": "markdown",
   "id": "f3b3123e-8870-4f67-9e9a-d5bcdcd63ca7",
   "metadata": {},
   "source": [
    "# Verification: CRPSS "
   ]
  },
  {
   "cell_type": "code",
   "execution_count": 1,
   "id": "3d85c7d9-f3be-4c87-90ce-1eefd0798ac5",
   "metadata": {},
   "outputs": [],
   "source": [
    "import os\n",
    "import sys\n",
    "import time\n",
    "import numpy as np\n",
    "from glob import glob\n",
    "from datetime import datetime, timedelta\n",
    "from scipy.interpolate import RegularGridInterpolator\n",
    "\n",
    "import h5py"
   ]
  },
  {
   "cell_type": "code",
   "execution_count": 50,
   "id": "2f7a4243-2b13-4aef-910b-1c62f1040396",
   "metadata": {},
   "outputs": [],
   "source": [
    "import numba as nb"
   ]
  },
  {
   "cell_type": "code",
   "execution_count": 77,
   "id": "136728b7-29db-4c09-a401-18bcda1b957e",
   "metadata": {},
   "outputs": [],
   "source": [
    "sys.path.insert(0, '/glade/u/home/ksha/GAN_proj/')\n",
    "sys.path.insert(0, '/glade/u/home/ksha/GAN_proj/libs/')\n",
    "\n",
    "from namelist import *\n",
    "import data_utils as du\n",
    "import verif_utils as vu"
   ]
  },
  {
   "cell_type": "code",
   "execution_count": 3,
   "id": "3ca88df0-fb27-44c4-a1b9-5f4203070394",
   "metadata": {},
   "outputs": [],
   "source": [
    "import matplotlib.pyplot as plt\n",
    "%matplotlib inline"
   ]
  },
  {
   "cell_type": "code",
   "execution_count": 4,
   "id": "cb575992-a7f9-47eb-8477-354e75ff6cc2",
   "metadata": {},
   "outputs": [],
   "source": [
    "with h5py.File(save_dir+'CNN_domain.hdf', 'r') as h5io:\n",
    "    lon_01 = h5io['lon_01'][...]\n",
    "    lat_01 = h5io['lat_01'][...]\n",
    "    lon_GFS = h5io['lon_GFS'][...]\n",
    "    lat_GFS = h5io['lat_GFS'][...]"
   ]
  },
  {
   "cell_type": "code",
   "execution_count": 83,
   "id": "bafbb42c-a3ef-43fb-808b-cb9fa2eecbe4",
   "metadata": {},
   "outputs": [],
   "source": [
    "name_output = '/glade/campaign/cisl/aiml/ksha/LDM_results/LDM_2023_ini00_lead{:02d}.hdf'"
   ]
  },
  {
   "cell_type": "markdown",
   "id": "f79e6a5f-2998-4b38-9809-25b67750d116",
   "metadata": {},
   "source": [
    "**CRPS climatology reference**"
   ]
  },
  {
   "cell_type": "code",
   "execution_count": null,
   "id": "0dc4d528-21c7-4839-92e4-7a775f757c86",
   "metadata": {},
   "outputs": [],
   "source": [
    "with h5py.File(save_dir+'ERA5_CDFs.hdf', 'r') as h5io:\n",
    "    ERA5_CDFs = h5io['ERA5_CDFs'][...]\n",
    "    indx_in_GFS = h5io['indx_in_GFS'][...]\n",
    "    indy_in_GFS = h5io['indy_in_GFS'][...]\n",
    "    \n",
    "ERA5_CDFs = 3*ERA5_CDFs # mm/hour to mm/3-hour"
   ]
  },
  {
   "cell_type": "markdown",
   "id": "1ed7d956-8a2f-4be1-b844-4b89efdf2089",
   "metadata": {},
   "source": [
    "**CRPS from LDF outputs**"
   ]
  },
  {
   "cell_type": "code",
   "execution_count": null,
   "id": "824e40c5-14c0-43b6-915a-f2994c899fc2",
   "metadata": {},
   "outputs": [],
   "source": [
    "N_time = 300\n",
    "grid_shape = lon_01.shape # MRMS grid shape\n",
    "LEADs = [3, 6, 9, 12, 15, 18, 21, 24, 27, 30, 33, 36]\n",
    "CRPS_PRED = np.empty((N_time, len(LEADs))+grid_shape); CRPS_PRED[...] = np.nan\n",
    "\n",
    "for l, lead in enumerate(LEADs):\n",
    "\n",
    "    with h5py.File(name_output.format(lead)) as h5io:\n",
    "        MRMS_TRUE = h5io['MRMS_TRUE'][...]\n",
    "        MRMS_PRED = h5io['MRMS_PRED'][...]\n",
    "\n",
    "    MRMS_TRUE_flat = MRMS_TRUE.reshape(300, 256*576)\n",
    "    MRMS_PRED_flat = MRMS_PRED.reshape(300, 10, 256*576)\n",
    "\n",
    "    # handle NaNs\n",
    "    for i in range(300):\n",
    "        for k in range(256*576):\n",
    "            if (np.sum(np.isnan(MRMS_PRED_flat[i, :, k])) > 0) and (np.isnan(MRMS_TRUE_flat[i, k]) is False):\n",
    "                MRMS_PRED_flat[i, :, k] = 0\n",
    "\n",
    "    CRPS_pred, _, _ = vu.CRPS_1d_nan(MRMS_TRUE_flat, MRMS_PRED_flat)\n",
    "    CRPS_PRED[:, l, ...] = CRPS_pred.reshape((300, 256, 576))\n",
    "    \n",
    "    # backup every lead time  \n",
    "    tuple_save = (CRPS_PRED,)\n",
    "    label_save = ['CRPS_PRED',]\n",
    "    du.save_hdf5(tuple_save, label_save, result_dir, 'CRPS_MRMS_LDM_2023.hdf')"
   ]
  },
  {
   "cell_type": "code",
   "execution_count": null,
   "id": "2a942bc2-a29a-4a31-be68-11bcb3694530",
   "metadata": {},
   "outputs": [],
   "source": []
  }
 ],
 "metadata": {
  "kernelspec": {
   "display_name": "Python 3 (ipykernel)",
   "language": "python",
   "name": "python3"
  },
  "language_info": {
   "codemirror_mode": {
    "name": "ipython",
    "version": 3
   },
   "file_extension": ".py",
   "mimetype": "text/x-python",
   "name": "python",
   "nbconvert_exporter": "python",
   "pygments_lexer": "ipython3",
   "version": "3.11.6"
  }
 },
 "nbformat": 4,
 "nbformat_minor": 5
}
