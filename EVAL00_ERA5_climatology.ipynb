{
 "cells": [
  {
   "cell_type": "markdown",
   "id": "f3b3123e-8870-4f67-9e9a-d5bcdcd63ca7",
   "metadata": {},
   "source": [
    "# ERA5 precipitation climatology\n",
    "\n",
    "* Produce the PDFs of ERA5 hourly precipitation on CONUS grid cells"
   ]
  },
  {
   "cell_type": "code",
   "execution_count": 1,
   "id": "3d85c7d9-f3be-4c87-90ce-1eefd0798ac5",
   "metadata": {},
   "outputs": [],
   "source": [
    "import os\n",
    "import sys\n",
    "import time\n",
    "import numpy as np\n",
    "from glob import glob\n",
    "from datetime import datetime, timedelta\n",
    "from scipy.interpolate import RegularGridInterpolator\n",
    "\n",
    "import h5py\n",
    "import netCDF4 as nc"
   ]
  },
  {
   "cell_type": "code",
   "execution_count": 2,
   "id": "136728b7-29db-4c09-a401-18bcda1b957e",
   "metadata": {},
   "outputs": [],
   "source": [
    "sys.path.insert(0, '/glade/u/home/ksha/GAN_proj/')\n",
    "sys.path.insert(0, '/glade/u/home/ksha/GAN_proj/libs/')\n",
    "\n",
    "from namelist import *\n",
    "import data_utils as du"
   ]
  },
  {
   "cell_type": "code",
   "execution_count": 3,
   "id": "3ca88df0-fb27-44c4-a1b9-5f4203070394",
   "metadata": {},
   "outputs": [],
   "source": [
    "import matplotlib.pyplot as plt\n",
    "%matplotlib inline"
   ]
  },
  {
   "cell_type": "code",
   "execution_count": 4,
   "id": "cb575992-a7f9-47eb-8477-354e75ff6cc2",
   "metadata": {},
   "outputs": [],
   "source": [
    "with h5py.File(save_dir+'CNN_domain.hdf', 'r') as h5io:\n",
    "    lon_01 = h5io['lon_01'][...]\n",
    "    lat_01 = h5io['lat_01'][...]\n",
    "    lon_GFS = h5io['lon_GFS'][...]\n",
    "    lat_GFS = h5io['lat_GFS'][...]"
   ]
  },
  {
   "cell_type": "code",
   "execution_count": 5,
   "id": "244c5593-3419-4e0b-b754-8829abc28260",
   "metadata": {},
   "outputs": [],
   "source": [
    "ERA5_dir = '/glade/campaign/cisl/aiml/ksha/ERA5/ERA5_APCP_2018_2023.nc'"
   ]
  },
  {
   "cell_type": "code",
   "execution_count": 6,
   "id": "c901c2c7-973b-41ac-9934-b4e7f42f5350",
   "metadata": {},
   "outputs": [],
   "source": [
    "lat_lim = [158, 262]\n",
    "lon_lim = [218, 459]\n",
    "grid_shape = lon_GFS.shape"
   ]
  },
  {
   "cell_type": "code",
   "execution_count": 7,
   "id": "cb08011c-59f1-4dcf-bf08-f20b1056e6e0",
   "metadata": {},
   "outputs": [],
   "source": [
    "with nc.Dataset(ERA5_dir, 'r') as ncio:\n",
    "    ERA5_x = ncio['longitude'][...]\n",
    "    ERA5_y = ncio['latitude'][...]\n",
    "\n",
    "ERA5_lon, ERA5_lat = np.meshgrid(ERA5_x, ERA5_y)"
   ]
  },
  {
   "cell_type": "code",
   "execution_count": 10,
   "id": "6c99ee41-02ae-4b91-8428-2029fb2939f1",
   "metadata": {},
   "outputs": [],
   "source": [
    "q_bins = np.arange(0, 1, 0.01)\n",
    "N_bins = len(q_bins)\n",
    "# q_ERA5 = np.load('/glade/campaign/cisl/aiml/ksha/ERA5/ERA5_APCP_quantile.npy')\n",
    "N_hour = 24*(365+365+366+365+365)"
   ]
  },
  {
   "cell_type": "markdown",
   "id": "00a58f95-5810-4d2b-b819-7f2726fe0cd2",
   "metadata": {},
   "source": [
    "## Compute quantile by per grid cells"
   ]
  },
  {
   "cell_type": "code",
   "execution_count": 11,
   "id": "058281b3-4fbd-4d00-bba1-a0752c1b4184",
   "metadata": {},
   "outputs": [],
   "source": [
    "# name_save = '/glade/campaign/cisl/aiml/ksha/ERA5/ERA5_APCP_quantile_i{}_j{}.npy'\n",
    "# for i, ix in enumerate(range(lat_lim[0], lat_lim[1]+1, 1)):\n",
    "#     for j, iy in enumerate(range(lon_lim[0], lon_lim[1]+1, 1)):\n",
    "#         q_ERA5_ = q_ERA5[:, i, j]\n",
    "#         if np.sum(np.isnan(q_ERA5_)) == 0:\n",
    "#             print(name_save.format(i, j))\n",
    "#             np.save(name_save.format(i, j), q_ERA5_)"
   ]
  },
  {
   "cell_type": "code",
   "execution_count": 12,
   "id": "70f76031-d669-4e1e-9f83-6286b3df8055",
   "metadata": {},
   "outputs": [],
   "source": [
    "i_start = 0\n",
    "i_end = 105"
   ]
  },
  {
   "cell_type": "code",
   "execution_count": 13,
   "id": "91e2618a-8604-48af-ba32-0230eb2ee59c",
   "metadata": {},
   "outputs": [],
   "source": [
    "name_save = '/glade/campaign/cisl/aiml/ksha/ERA5/ERA5_APCP_quantile_i{}_j{}.npy'\n",
    "with nc.Dataset(ERA5_dir, 'r') as ncio:\n",
    "    for i, ix in enumerate(range(lat_lim[0], lat_lim[1]+1, 1)):\n",
    "        for j, iy in enumerate(range(lon_lim[0], lon_lim[1]+1, 1)):\n",
    "            name_ = name_save.format(i, j)\n",
    "            if os.path.isfile(name_) is False:\n",
    "                if i >= i_start and i < i_end:\n",
    "                    # compute quantiles\n",
    "                    ERA5_APCP = ncio['tp'][:, 0, ix, iy]\n",
    "                    ERA5_APCP = np.array(ERA5_APCP)[:N_hour]*1000\n",
    "                    ERA5_APCP[ERA5_APCP<1e-7] = 0.0 # ERA5 zero = 6.93889390e-15\n",
    "                    q_ERA5 = np.quantile(ERA5_APCP, q_bins)\n",
    "                    # save\n",
    "                    print(name_)\n",
    "                    np.save(name_, q_ERA5)"
   ]
  },
  {
   "cell_type": "markdown",
   "id": "a3853807-a88f-4822-a5c2-10abf6e472dc",
   "metadata": {},
   "source": [
    "## Match ERA5 quantiles with MRMS"
   ]
  },
  {
   "cell_type": "code",
   "execution_count": 34,
   "id": "6ac33b9c-9e91-4f92-a2b4-55e04e995cbe",
   "metadata": {},
   "outputs": [],
   "source": [
    "from scipy.spatial import cKDTree"
   ]
  },
  {
   "cell_type": "code",
   "execution_count": 29,
   "id": "b2f232b3-7776-45bc-8d28-d9daf93abcc7",
   "metadata": {},
   "outputs": [],
   "source": [
    "q_bins = np.arange(0, 1, 0.01)\n",
    "N_bins = len(q_bins)\n",
    "\n",
    "grid_shape = ERA5_lat[lat_lim[0]:(lat_lim[1]+1), lon_lim[0]:(lon_lim[1]+1)].shape\n",
    "ERA5_CDFs_ = np.empty((N_bins,)+grid_shape); ERA5_CDFs_[...] = np.nan\n",
    "\n",
    "for i, ix in enumerate(range(lat_lim[0], lat_lim[1]+1, 1)):\n",
    "    for j, iy in enumerate(range(lon_lim[0], lon_lim[1]+1, 1)):\n",
    "        name_ = name_save.format(i, j)\n",
    "        ERA5_q_ = np.load(name_)\n",
    "        if ERA5_q_.shape == (N_bins,):\n",
    "            ERA5_CDFs_[:, i, j] = np.cumsum(ERA5_q_)\n",
    "        else:\n",
    "            print('Missing: {}'.format(name_))"
   ]
  },
  {
   "cell_type": "markdown",
   "id": "b2a83f47-ff9e-4dbc-9dea-e3cb8efd21e4",
   "metadata": {},
   "source": [
    "**Flip ERA5 lat dimension**"
   ]
  },
  {
   "cell_type": "code",
   "execution_count": 30,
   "id": "ce264772-4e01-423d-84e2-4ea589cb3ea2",
   "metadata": {},
   "outputs": [],
   "source": [
    "ERA5_CDFs = np.empty((N_bins,)+grid_shape); ERA5_CDFs[...] = np.nan\n",
    "\n",
    "for i in range(N_bins):\n",
    "    ERA5_CDFs[i, ...] = np.flipud(ERA5_CDFs_[i, ...])"
   ]
  },
  {
   "cell_type": "code",
   "execution_count": 33,
   "id": "17487027-ea7e-4d9b-b51c-e2233cc85d56",
   "metadata": {},
   "outputs": [],
   "source": [
    "# plt.plot(ERA5_CDFs_[:, -1, 0], q_bins)\n",
    "# plt.plot(ERA5_CDFs[:, 0, 0], q_bins)"
   ]
  },
  {
   "cell_type": "markdown",
   "id": "36f7cc6a-e41f-4ed7-90f8-d4c667eae584",
   "metadata": {},
   "source": [
    "**Match 0.1 deg MRMS grids with 0.25 deg ERA5 grids**"
   ]
  },
  {
   "cell_type": "code",
   "execution_count": 35,
   "id": "e6adadf8-bc0a-4a97-9d1b-3da9fbc4a023",
   "metadata": {},
   "outputs": [],
   "source": [
    "shape_MRMS = lon_01.shape\n",
    "shape_ERA5 = lon_GFS.shape\n",
    "\n",
    "indx_array = np.empty(shape_MRMS)\n",
    "indy_array = np.empty(shape_MRMS)\n",
    "\n",
    "gridTree = cKDTree(list(zip(lon_GFS.ravel(), lat_GFS.ravel())))\n",
    "\n",
    "for xi in range(shape_MRMS[0]):\n",
    "    for yi in range(shape_MRMS[1]):\n",
    "        \n",
    "        temp_lon = lon_01[xi, yi]\n",
    "        temp_lat = lat_01[xi, yi]\n",
    "        \n",
    "        _, indexes = gridTree.query(list(zip(np.array(temp_lon)[None], np.array(temp_lat)[None])))\n",
    "        indx_in_ERA5, indy_in_ERA5 = np.unravel_index(indexes, shape_ERA5)\n",
    "        \n",
    "        indx_array[xi, yi] = indx_in_ERA5[0]\n",
    "        indy_array[xi, yi] = indy_in_ERA5[0]"
   ]
  },
  {
   "cell_type": "code",
   "execution_count": 43,
   "id": "80c17238-95be-424a-b852-83e5258b64a7",
   "metadata": {},
   "outputs": [],
   "source": [
    "indx_array = indx_array.astype(int)\n",
    "indy_array = indy_array.astype(int)"
   ]
  },
  {
   "cell_type": "code",
   "execution_count": 40,
   "id": "6034536f-d820-45fa-ad7b-9eef9ebc5dfd",
   "metadata": {},
   "outputs": [
    {
     "data": {
      "text/plain": [
       "-117.15000036705996"
      ]
     },
     "execution_count": 40,
     "metadata": {},
     "output_type": "execute_result"
    }
   ],
   "source": [
    "xi = 50\n",
    "yi = 75\n",
    "lon_01[xi, yi]"
   ]
  },
  {
   "cell_type": "code",
   "execution_count": 44,
   "id": "1d448898-5674-4e0a-88e8-1b892502675a",
   "metadata": {},
   "outputs": [
    {
     "data": {
      "text/plain": [
       "-117.25"
      ]
     },
     "execution_count": 44,
     "metadata": {},
     "output_type": "execute_result"
    }
   ],
   "source": [
    "lon_GFS[indx_array[xi, yi], indy_array[xi, yi]]"
   ]
  },
  {
   "cell_type": "code",
   "execution_count": 45,
   "id": "7e114843-f1ba-4a67-a9ae-a0c84409470e",
   "metadata": {},
   "outputs": [
    {
     "name": "stdout",
     "output_type": "stream",
     "text": [
      "Save to /glade/work/ksha/GAN/ERA5_CDFs.hdf\n"
     ]
    }
   ],
   "source": [
    "# tuple_save = (lon_GFS, lat_GFS, ERA5_CDFs, indx_array, indy_array)\n",
    "# label_save = ['lon_GFS', 'lat_GFS', 'ERA5_CDFs', 'indx_in_GFS', 'indy_in_GFS']\n",
    "# du.save_hdf5(tuple_save, label_save, save_dir, 'ERA5_CDFs.hdf')"
   ]
  },
  {
   "cell_type": "code",
   "execution_count": null,
   "id": "458f3c3b-879b-4d0c-8c75-1752b0abfcb6",
   "metadata": {},
   "outputs": [],
   "source": []
  }
 ],
 "metadata": {
  "kernelspec": {
   "display_name": "Python 3 (ipykernel)",
   "language": "python",
   "name": "python3"
  },
  "language_info": {
   "codemirror_mode": {
    "name": "ipython",
    "version": 3
   },
   "file_extension": ".py",
   "mimetype": "text/x-python",
   "name": "python",
   "nbconvert_exporter": "python",
   "pygments_lexer": "ipython3",
   "version": "3.11.6"
  }
 },
 "nbformat": 4,
 "nbformat_minor": 5
}
