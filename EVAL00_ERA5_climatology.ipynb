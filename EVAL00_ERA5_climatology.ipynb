{
 "cells": [
  {
   "cell_type": "markdown",
   "id": "f3b3123e-8870-4f67-9e9a-d5bcdcd63ca7",
   "metadata": {},
   "source": [
    "# ERA5 precipitation climatology\n",
    "\n",
    "* Produce the PDFs of ERA5 hourly precipitation on CONUS grid cells"
   ]
  },
  {
   "cell_type": "code",
   "execution_count": 3,
   "id": "3d85c7d9-f3be-4c87-90ce-1eefd0798ac5",
   "metadata": {},
   "outputs": [],
   "source": [
    "import os\n",
    "import sys\n",
    "import time\n",
    "import numpy as np\n",
    "from glob import glob\n",
    "from datetime import datetime, timedelta\n",
    "from scipy.interpolate import RegularGridInterpolator\n",
    "\n",
    "import h5py\n",
    "import netCDF4 as nc"
   ]
  },
  {
   "cell_type": "code",
   "execution_count": 4,
   "id": "136728b7-29db-4c09-a401-18bcda1b957e",
   "metadata": {},
   "outputs": [],
   "source": [
    "sys.path.insert(0, '/glade/u/home/ksha/GAN_proj/')\n",
    "sys.path.insert(0, '/glade/u/home/ksha/GAN_proj/libs/')\n",
    "\n",
    "from namelist import *\n",
    "import data_utils as du"
   ]
  },
  {
   "cell_type": "code",
   "execution_count": 5,
   "id": "3ca88df0-fb27-44c4-a1b9-5f4203070394",
   "metadata": {},
   "outputs": [],
   "source": [
    "import matplotlib.pyplot as plt\n",
    "%matplotlib inline"
   ]
  },
  {
   "cell_type": "code",
   "execution_count": 6,
   "id": "cb575992-a7f9-47eb-8477-354e75ff6cc2",
   "metadata": {},
   "outputs": [],
   "source": [
    "with h5py.File(save_dir+'CNN_domain.hdf', 'r') as h5io:\n",
    "    lon_01 = h5io['lon_01'][...]\n",
    "    lat_01 = h5io['lat_01'][...]\n",
    "    lon_GFS = h5io['lon_GFS'][...]\n",
    "    lat_GFS = h5io['lat_GFS'][...]"
   ]
  },
  {
   "cell_type": "code",
   "execution_count": 7,
   "id": "244c5593-3419-4e0b-b754-8829abc28260",
   "metadata": {},
   "outputs": [],
   "source": [
    "ERA5_dir = '/glade/campaign/cisl/aiml/ksha/ERA5/ERA5_APCP_2018_2023.nc'"
   ]
  },
  {
   "cell_type": "code",
   "execution_count": 8,
   "id": "c901c2c7-973b-41ac-9934-b4e7f42f5350",
   "metadata": {},
   "outputs": [],
   "source": [
    "lat_lim = [158, 262]\n",
    "lon_lim = [218, 459]\n",
    "grid_shape = lon_GFS.shape"
   ]
  },
  {
   "cell_type": "code",
   "execution_count": 9,
   "id": "cb08011c-59f1-4dcf-bf08-f20b1056e6e0",
   "metadata": {},
   "outputs": [],
   "source": [
    "with nc.Dataset(ERA5_dir, 'r') as ncio:\n",
    "    ERA5_x = ncio['longitude'][...]\n",
    "    ERA5_y = ncio['latitude'][...]\n",
    "\n",
    "ERA5_lon, ERA5_lat = np.meshgrid(ERA5_x, ERA5_y)"
   ]
  },
  {
   "cell_type": "code",
   "execution_count": 10,
   "id": "2e16baea-018f-4951-a24e-7d1cad80647d",
   "metadata": {},
   "outputs": [
    {
     "data": {
      "text/plain": [
       "0.0"
      ]
     },
     "execution_count": 10,
     "metadata": {},
     "output_type": "execute_result"
    }
   ],
   "source": [
    "np.sum(ERA5_lat[lat_lim[0]:(lat_lim[1]+1), lon_lim[0]:(lon_lim[1]+1)] - lat_GFS)"
   ]
  },
  {
   "cell_type": "code",
   "execution_count": 11,
   "id": "c48e4612-6b7e-4b8d-8d8e-0c790945c308",
   "metadata": {},
   "outputs": [
    {
     "data": {
      "text/plain": [
       "(105, 242)"
      ]
     },
     "execution_count": 11,
     "metadata": {},
     "output_type": "execute_result"
    }
   ],
   "source": [
    "ERA5_lat[lat_lim[0]:(lat_lim[1]+1), lon_lim[0]:(lon_lim[1]+1)].shape"
   ]
  },
  {
   "cell_type": "code",
   "execution_count": 12,
   "id": "6c99ee41-02ae-4b91-8428-2029fb2939f1",
   "metadata": {},
   "outputs": [],
   "source": [
    "q_bins = np.arange(0, 1, 0.01)\n",
    "N_bins = len(q_bins)\n",
    "# q_ERA5 = np.load('/glade/campaign/cisl/aiml/ksha/ERA5/ERA5_APCP_quantile.npy')\n",
    "N_hour = 24*(365+365+366+365+365)"
   ]
  },
  {
   "cell_type": "markdown",
   "id": "00a58f95-5810-4d2b-b819-7f2726fe0cd2",
   "metadata": {},
   "source": [
    "**compute quantile by per grid cells**"
   ]
  },
  {
   "cell_type": "code",
   "execution_count": 12,
   "id": "058281b3-4fbd-4d00-bba1-a0752c1b4184",
   "metadata": {},
   "outputs": [],
   "source": [
    "# name_save = '/glade/campaign/cisl/aiml/ksha/ERA5/ERA5_APCP_quantile_i{}_j{}.npy'\n",
    "# for i, ix in enumerate(range(lat_lim[0], lat_lim[1]+1, 1)):\n",
    "#     for j, iy in enumerate(range(lon_lim[0], lon_lim[1]+1, 1)):\n",
    "#         q_ERA5_ = q_ERA5[:, i, j]\n",
    "#         if np.sum(np.isnan(q_ERA5_)) == 0:\n",
    "#             print(name_save.format(i, j))\n",
    "#             np.save(name_save.format(i, j), q_ERA5_)"
   ]
  },
  {
   "cell_type": "code",
   "execution_count": 13,
   "id": "70f76031-d669-4e1e-9f83-6286b3df8055",
   "metadata": {},
   "outputs": [],
   "source": [
    "i_start = 41\n",
    "i_end = 42"
   ]
  },
  {
   "cell_type": "code",
   "execution_count": 15,
   "id": "91e2618a-8604-48af-ba32-0230eb2ee59c",
   "metadata": {},
   "outputs": [
    {
     "name": "stdout",
     "output_type": "stream",
     "text": [
      "/glade/campaign/cisl/aiml/ksha/ERA5/ERA5_APCP_quantile_i42_j1.npy\n",
      "/glade/campaign/cisl/aiml/ksha/ERA5/ERA5_APCP_quantile_i42_j2.npy\n"
     ]
    },
    {
     "name": "stderr",
     "output_type": "stream",
     "text": [
      "\n",
      "KeyboardInterrupt\n",
      "\n"
     ]
    }
   ],
   "source": [
    "name_save = '/glade/campaign/cisl/aiml/ksha/ERA5/ERA5_APCP_quantile_i{}_j{}.npy'\n",
    "with nc.Dataset(ERA5_dir, 'r') as ncio:\n",
    "    for i, ix in enumerate(range(lat_lim[0], lat_lim[1]+1, 1)):\n",
    "        for j, iy in enumerate(range(lon_lim[0], lon_lim[1]+1, 1)):\n",
    "            name_ = name_save.format(i, j)\n",
    "            if os.path.isfile(name_) is False:\n",
    "                if i >= i_start and i < i_end:\n",
    "                    # compute quantiles\n",
    "                    ERA5_APCP = ncio['tp'][:, 0, ix, iy]\n",
    "                    ERA5_APCP = np.array(ERA5_APCP)[:N_hour]*1000\n",
    "                    ERA5_APCP[ERA5_APCP<1e-7] = 0.0 # ERA5 zero = 6.93889390e-15\n",
    "                    q_ERA5 = np.quantile(ERA5_APCP, q_bins)\n",
    "                    # save\n",
    "                    print(name_)\n",
    "                    np.save(name_, q_ERA5)"
   ]
  },
  {
   "cell_type": "code",
   "execution_count": 14,
   "id": "18fd970e-e657-4faa-ae22-ae25ca2bf48a",
   "metadata": {},
   "outputs": [],
   "source": [
    "temp_data = np.load('/glade/campaign/cisl/aiml/ksha/ERA5/ERA5_APCP_quantile_i41_j157.npy')"
   ]
  },
  {
   "cell_type": "code",
   "execution_count": 16,
   "id": "57cd1b29-87c1-494d-aaba-9c05f6a8a66d",
   "metadata": {},
   "outputs": [
    {
     "data": {
      "text/plain": [
       "[<matplotlib.lines.Line2D at 0x153e26881210>]"
      ]
     },
     "execution_count": 16,
     "metadata": {},
     "output_type": "execute_result"
    },
    {
     "data": {
      "image/png": "[encoded data removed]",
      "text/plain": [
       "<Figure size 640x480 with 1 Axes>"
      ]
     },
     "metadata": {},
     "output_type": "display_data"
    }
   ],
   "source": [
    "plt.plot(q_bins, temp_data)"
   ]
  },
  {
   "cell_type": "code",
   "execution_count": 18,
   "id": "d24030e2-ec05-48ed-8152-a28d4be7f2c3",
   "metadata": {},
   "outputs": [
    {
     "data": {
      "text/plain": [
       "[<matplotlib.lines.Line2D at 0x153e1e74bad0>]"
      ]
     },
     "execution_count": 18,
     "metadata": {},
     "output_type": "execute_result"
    },
    {
     "data": {
      "image/png": "[encoded data removed]",
      "text/plain": [
       "<Figure size 640x480 with 1 Axes>"
      ]
     },
     "metadata": {},
     "output_type": "display_data"
    }
   ],
   "source": [
    "plt.plot(np.cumsum(temp_data), q_bins)"
   ]
  },
  {
   "cell_type": "code",
   "execution_count": 15,
   "id": "1c4b649c-40d6-4aba-aa13-084e05a7e098",
   "metadata": {},
   "outputs": [],
   "source": [
    "# plt.plot(q_ERA5[:, 30, -1])"
   ]
  },
  {
   "cell_type": "code",
   "execution_count": 1,
   "id": "772fce1f-6c55-49fb-89c6-a85bb23ab84d",
   "metadata": {},
   "outputs": [],
   "source": [
    "# with nc.Dataset(ERA5_dir, 'r') as ncio:\n",
    "#     for i, ix in enumerate(range(lat_lim[0], lat_lim[1]+1, 1)):\n",
    "#         for j, iy in enumerate(range(lon_lim[0], lon_lim[1]+1, 1)):\n",
    "#             if np.isnan(q_ERA5[-1, i, j]):\n",
    "#                 ERA5_APCP = ncio['tp'][:, 0, ix, iy]\n",
    "#                 ERA5_APCP = np.array(ERA5_APCP)[:N_hour]*1000\n",
    "#                 ERA5_APCP[ERA5_APCP<1e-7] = 0.0 # ERA5 zero = 6.93889390e-15\n",
    "#                 q_ERA5[:, i, j] = np.quantile(ERA5_APCP, q_bins)\n",
    "#                 print('/glade/campaign/cisl/aiml/ksha/ERA5/ERA5_APCP_quantile.npy')\n",
    "#                 np.save('/glade/campaign/cisl/aiml/ksha/ERA5/ERA5_APCP_quantile.npy', q_ERA5)\n",
    "#             else:\n",
    "#                 continue;"
   ]
  },
  {
   "cell_type": "code",
   "execution_count": null,
   "id": "458f3c3b-879b-4d0c-8c75-1752b0abfcb6",
   "metadata": {},
   "outputs": [],
   "source": []
  }
 ],
 "metadata": {
  "kernelspec": {
   "display_name": "Python 3 (ipykernel)",
   "language": "python",
   "name": "python3"
  },
  "language_info": {
   "codemirror_mode": {
    "name": "ipython",
    "version": 3
   },
   "file_extension": ".py",
   "mimetype": "text/x-python",
   "name": "python",
   "nbconvert_exporter": "python",
   "pygments_lexer": "ipython3",
   "version": "3.11.6"
  }
 },
 "nbformat": 4,
 "nbformat_minor": 5
}
