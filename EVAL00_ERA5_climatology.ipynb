{
 "cells": [
  {
   "cell_type": "code",
   "execution_count": 2,
   "id": "f1151565-1637-424b-9f73-ad81f5c680fe",
   "metadata": {},
   "outputs": [],
   "source": [
    "import os\n",
    "import sys\n",
    "import time\n",
    "import numpy as np\n",
    "import numba as nb\n",
    "from glob import glob\n",
    "from datetime import datetime, timedelta\n",
    "from scipy.interpolate import RegularGridInterpolator\n",
    "\n",
    "import h5py\n",
    "import netCDF4 as nc"
   ]
  },
  {
   "cell_type": "code",
   "execution_count": 3,
   "id": "136728b7-29db-4c09-a401-18bcda1b957e",
   "metadata": {},
   "outputs": [],
   "source": [
    "sys.path.insert(0, '/glade/u/home/ksha/GAN_proj/')\n",
    "sys.path.insert(0, '/glade/u/home/ksha/GAN_proj/libs/')\n",
    "\n",
    "from namelist import *\n",
    "import data_utils as du"
   ]
  },
  {
   "cell_type": "code",
   "execution_count": 4,
   "id": "3ca88df0-fb27-44c4-a1b9-5f4203070394",
   "metadata": {},
   "outputs": [],
   "source": [
    "import matplotlib.pyplot as plt\n",
    "%matplotlib inline"
   ]
  },
  {
   "cell_type": "code",
   "execution_count": 8,
   "id": "cb575992-a7f9-47eb-8477-354e75ff6cc2",
   "metadata": {},
   "outputs": [],
   "source": [
    "with h5py.File(save_dir+'CNN_domain.hdf', 'r') as h5io:\n",
    "    lon_01 = h5io['lon_01'][...]\n",
    "    lat_01 = h5io['lat_01'][...]\n",
    "    lon_GFS = h5io['lon_GFS'][...]\n",
    "    lat_GFS = h5io['lat_GFS'][...]"
   ]
  },
  {
   "cell_type": "code",
   "execution_count": 9,
   "id": "244c5593-3419-4e0b-b754-8829abc28260",
   "metadata": {},
   "outputs": [],
   "source": [
    "ERA5_dir = '/glade/campaign/cisl/aiml/ksha/ERA5/ERA5_APCP_2018_2023.nc'"
   ]
  },
  {
   "cell_type": "code",
   "execution_count": 110,
   "id": "c901c2c7-973b-41ac-9934-b4e7f42f5350",
   "metadata": {},
   "outputs": [],
   "source": [
    "lat_lim = [158, 263]\n",
    "lon_lim = [218, 459]\n",
    "grid_shape = lon_GFS.shape"
   ]
  },
  {
   "cell_type": "code",
   "execution_count": 111,
   "id": "cb08011c-59f1-4dcf-bf08-f20b1056e6e0",
   "metadata": {},
   "outputs": [],
   "source": [
    "with nc.Dataset(ERA5_dir, 'r') as ncio:\n",
    "    ERA5_x = ncio['longitude'][...]\n",
    "    ERA5_y = ncio['latitude'][...]\n",
    "\n",
    "ERA5_lon, ERA5_lat = np.meshgrid(ERA5_x, ERA5_y)"
   ]
  },
  {
   "cell_type": "code",
   "execution_count": 112,
   "id": "2e16baea-018f-4951-a24e-7d1cad80647d",
   "metadata": {},
   "outputs": [
    {
     "data": {
      "text/plain": [
       "0.0"
      ]
     },
     "execution_count": 112,
     "metadata": {},
     "output_type": "execute_result"
    }
   ],
   "source": [
    "np.sum(ERA5_lat[lat_lim[0]:(lat_lim[1]), lon_lim[0]:(lon_lim[1]+1)] - lat_GFS)"
   ]
  },
  {
   "cell_type": "code",
   "execution_count": 89,
   "id": "6c99ee41-02ae-4b91-8428-2029fb2939f1",
   "metadata": {},
   "outputs": [],
   "source": [
    "q_bins = np.arange(0, 1, 0.01)\n",
    "N_bins = len(q_bins)\n",
    "q_ERA5 = np.load('/glade/campaign/cisl/aiml/ksha/ERA5/ERA5_APCP_quantile_temp.npy')\n",
    "N_hour = 24*(365+365+366+365+365)"
   ]
  },
  {
   "cell_type": "code",
   "execution_count": 98,
   "id": "772fce1f-6c55-49fb-89c6-a85bb23ab84d",
   "metadata": {},
   "outputs": [
    {
     "name": "stdout",
     "output_type": "stream",
     "text": [
      "/glade/campaign/cisl/aiml/ksha/ERA5/ERA5_APCP_quantile.npy\n"
     ]
    },
    {
     "ename": "KeyboardInterrupt",
     "evalue": "",
     "output_type": "error",
     "traceback": [
      "\u001b[0;31m---------------------------------------------------------------------------\u001b[0m",
      "\u001b[0;31mKeyboardInterrupt\u001b[0m                         Traceback (most recent call last)",
      "Cell \u001b[0;32mIn[98], line 5\u001b[0m\n\u001b[1;32m      3\u001b[0m \u001b[38;5;28;01mfor\u001b[39;00m j, iy \u001b[38;5;129;01min\u001b[39;00m \u001b[38;5;28menumerate\u001b[39m(\u001b[38;5;28mrange\u001b[39m(lon_lim[\u001b[38;5;241m0\u001b[39m], lon_lim[\u001b[38;5;241m1\u001b[39m]\u001b[38;5;241m+\u001b[39m\u001b[38;5;241m1\u001b[39m, \u001b[38;5;241m1\u001b[39m)):\n\u001b[1;32m      4\u001b[0m     \u001b[38;5;28;01mif\u001b[39;00m np\u001b[38;5;241m.\u001b[39misnan(q_ERA5[\u001b[38;5;241m-\u001b[39m\u001b[38;5;241m1\u001b[39m, i, j]):\n\u001b[0;32m----> 5\u001b[0m         ERA5_APCP \u001b[38;5;241m=\u001b[39m \u001b[43mncio\u001b[49m\u001b[43m[\u001b[49m\u001b[38;5;124;43m'\u001b[39;49m\u001b[38;5;124;43mtp\u001b[39;49m\u001b[38;5;124;43m'\u001b[39;49m\u001b[43m]\u001b[49m\u001b[43m[\u001b[49m\u001b[43m:\u001b[49m\u001b[43m,\u001b[49m\u001b[43m \u001b[49m\u001b[38;5;241;43m0\u001b[39;49m\u001b[43m,\u001b[49m\u001b[43m \u001b[49m\u001b[43mix\u001b[49m\u001b[43m,\u001b[49m\u001b[43m \u001b[49m\u001b[43miy\u001b[49m\u001b[43m]\u001b[49m\n\u001b[1;32m      6\u001b[0m         ERA5_APCP \u001b[38;5;241m=\u001b[39m np\u001b[38;5;241m.\u001b[39marray(ERA5_APCP)[:N_hour]\u001b[38;5;241m*\u001b[39m\u001b[38;5;241m1000\u001b[39m\n\u001b[1;32m      7\u001b[0m         ERA5_APCP[ERA5_APCP\u001b[38;5;241m<\u001b[39m\u001b[38;5;241m1e-7\u001b[39m] \u001b[38;5;241m=\u001b[39m \u001b[38;5;241m0.0\u001b[39m \u001b[38;5;66;03m# ERA5 zero = 6.93889390e-15\u001b[39;00m\n",
      "File \u001b[0;32msrc/netCDF4/_netCDF4.pyx:5011\u001b[0m, in \u001b[0;36mnetCDF4._netCDF4.Variable.__getitem__\u001b[0;34m()\u001b[0m\n",
      "File \u001b[0;32msrc/netCDF4/_netCDF4.pyx:5081\u001b[0m, in \u001b[0;36mnetCDF4._netCDF4.Variable._toma\u001b[0;34m()\u001b[0m\n",
      "File \u001b[0;32msrc/netCDF4/_netCDF4.pyx:5378\u001b[0m, in \u001b[0;36mnetCDF4._netCDF4.Variable._check_safecast\u001b[0;34m()\u001b[0m\n",
      "File \u001b[0;32m/glade/work/ksha/miniconda3/lib/python3.11/site-packages/netCDF4/utils.py:15\u001b[0m, in \u001b[0;36m_safecast\u001b[0;34m(a, b)\u001b[0m\n\u001b[1;32m     11\u001b[0m \u001b[38;5;28;01mexcept\u001b[39;00m \u001b[38;5;167;01mNameError\u001b[39;00m:\n\u001b[1;32m     12\u001b[0m     \u001b[38;5;66;03m# no bytes type in python < 2.6\u001b[39;00m\n\u001b[1;32m     13\u001b[0m     \u001b[38;5;28mbytes\u001b[39m \u001b[38;5;241m=\u001b[39m \u001b[38;5;28mstr\u001b[39m\n\u001b[0;32m---> 15\u001b[0m \u001b[38;5;28;01mdef\u001b[39;00m \u001b[38;5;21m_safecast\u001b[39m(a,b):\n\u001b[1;32m     16\u001b[0m     \u001b[38;5;66;03m# check to see if array a can be safely cast\u001b[39;00m\n\u001b[1;32m     17\u001b[0m     \u001b[38;5;66;03m# to array b.  A little less picky than numpy.can_cast.\u001b[39;00m\n\u001b[1;32m     18\u001b[0m     \u001b[38;5;28;01mtry\u001b[39;00m:\n\u001b[1;32m     19\u001b[0m         is_safe \u001b[38;5;241m=\u001b[39m ((a \u001b[38;5;241m==\u001b[39m b) \u001b[38;5;241m|\u001b[39m (np\u001b[38;5;241m.\u001b[39misnan(a) \u001b[38;5;241m&\u001b[39m np\u001b[38;5;241m.\u001b[39misnan(b)))\u001b[38;5;241m.\u001b[39mall()\n",
      "\u001b[0;31mKeyboardInterrupt\u001b[0m: "
     ]
    }
   ],
   "source": [
    "with nc.Dataset(ERA5_dir, 'r') as ncio:\n",
    "    for i, ix in enumerate(range(lat_lim[0], lat_lim[1]+1, 1)):\n",
    "        for j, iy in enumerate(range(lon_lim[0], lon_lim[1]+1, 1)):\n",
    "            if np.isnan(q_ERA5[-1, i, j]):\n",
    "                ERA5_APCP = ncio['tp'][:, 0, ix, iy]\n",
    "                ERA5_APCP = np.array(ERA5_APCP)[:N_hour]*1000\n",
    "                ERA5_APCP[ERA5_APCP<1e-7] = 0.0 # ERA5 zero = 6.93889390e-15\n",
    "                q_ERA5[:, i, j] = np.quantile(ERA5_APCP, q_bins)\n",
    "                print('/glade/campaign/cisl/aiml/ksha/ERA5/ERA5_APCP_quantile.npy')\n",
    "                np.save('/glade/campaign/cisl/aiml/ksha/ERA5/ERA5_APCP_quantile.npy', q_ERA5)\n",
    "            else:\n",
    "                continue;"
   ]
  },
  {
   "cell_type": "code",
   "execution_count": 97,
   "id": "85e45a4f-23af-46a8-98c8-309975d6b088",
   "metadata": {},
   "outputs": [
    {
     "data": {
      "text/plain": [
       "array([nan, nan, nan, nan, nan, nan, nan, nan, nan, nan, nan, nan, nan,\n",
       "       nan, nan, nan, nan, nan, nan, nan, nan, nan, nan, nan, nan, nan,\n",
       "       nan, nan, nan, nan, nan, nan, nan, nan, nan, nan, nan, nan, nan,\n",
       "       nan, nan, nan, nan, nan, nan, nan, nan, nan, nan, nan, nan, nan,\n",
       "       nan, nan, nan, nan, nan, nan, nan, nan, nan, nan, nan, nan, nan,\n",
       "       nan, nan, nan, nan, nan, nan, nan, nan, nan, nan, nan, nan, nan,\n",
       "       nan, nan, nan, nan, nan, nan, nan, nan, nan, nan, nan, nan, nan,\n",
       "       nan, nan, nan, nan, nan, nan, nan, nan, nan])"
      ]
     },
     "execution_count": 97,
     "metadata": {},
     "output_type": "execute_result"
    }
   ],
   "source": [
    "q_ERA5[:, -1, 0]"
   ]
  },
  {
   "cell_type": "code",
   "execution_count": 95,
   "id": "ba209d4a-c9fd-49e5-9222-5c6fe0216015",
   "metadata": {},
   "outputs": [
    {
     "data": {
      "text/plain": [
       "[<matplotlib.lines.Line2D at 0x14ce5210a090>]"
      ]
     },
     "execution_count": 95,
     "metadata": {},
     "output_type": "execute_result"
    },
    {
     "data": {
      "image/png": "[encoded data removed]",
      "text/plain": [
       "<Figure size 640x480 with 1 Axes>"
      ]
     },
     "metadata": {},
     "output_type": "display_data"
    }
   ],
   "source": [
    "plt.plot(q_ERA5[:, 21, 100])\n",
    "plt.plot(q_ERA5[:, 1, 100])"
   ]
  },
  {
   "cell_type": "code",
   "execution_count": 86,
   "id": "48d80487-4d5a-43fa-970f-49905a01af0a",
   "metadata": {},
   "outputs": [],
   "source": [
    "np.save('xx.npy', q_ERA5)"
   ]
  },
  {
   "cell_type": "code",
   "execution_count": 87,
   "id": "252695a1-d440-4455-ab2e-b6383422beaf",
   "metadata": {},
   "outputs": [
    {
     "data": {
      "text/plain": [
       "22"
      ]
     },
     "execution_count": 87,
     "metadata": {},
     "output_type": "execute_result"
    }
   ],
   "source": [
    "i"
   ]
  },
  {
   "cell_type": "code",
   "execution_count": 88,
   "id": "0c660793-1ce5-4543-9a14-74f85d20f869",
   "metadata": {},
   "outputs": [
    {
     "data": {
      "text/plain": [
       "124"
      ]
     },
     "execution_count": 88,
     "metadata": {},
     "output_type": "execute_result"
    }
   ],
   "source": [
    "j"
   ]
  },
  {
   "cell_type": "code",
   "execution_count": null,
   "id": "458f3c3b-879b-4d0c-8c75-1752b0abfcb6",
   "metadata": {},
   "outputs": [],
   "source": []
  }
 ],
 "metadata": {
  "kernelspec": {
   "display_name": "Python 3 (ipykernel)",
   "language": "python",
   "name": "python3"
  },
  "language_info": {
   "codemirror_mode": {
    "name": "ipython",
    "version": 3
   },
   "file_extension": ".py",
   "mimetype": "text/x-python",
   "name": "python",
   "nbconvert_exporter": "python",
   "pygments_lexer": "ipython3",
   "version": "3.11.6"
  }
 },
 "nbformat": 4,
 "nbformat_minor": 5
}
