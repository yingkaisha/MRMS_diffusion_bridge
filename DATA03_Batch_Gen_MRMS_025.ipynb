{
 "cells": [
  {
   "cell_type": "markdown",
   "id": "3a414f2d-8b54-4659-ab2b-b9ff5b5a4259",
   "metadata": {},
   "source": [
    "# Generate training batches for VQ-VAE"
   ]
  },
  {
   "cell_type": "code",
   "execution_count": 1,
   "id": "df2ef1ec-9b90-4574-8ed9-806573e0ba76",
   "metadata": {},
   "outputs": [],
   "source": [
    "import os\n",
    "import sys\n",
    "import time\n",
    "import h5py\n",
    "import numpy as np\n",
    "from datetime import datetime, timedelta"
   ]
  },
  {
   "cell_type": "code",
   "execution_count": 2,
   "id": "ae6cd660-668e-4659-9aae-914824eb7a76",
   "metadata": {},
   "outputs": [],
   "source": [
    "import matplotlib.pyplot as plt\n",
    "%matplotlib inline"
   ]
  },
  {
   "cell_type": "code",
   "execution_count": 3,
   "id": "fe41c65b-ae6a-4058-a931-aa84d0859098",
   "metadata": {},
   "outputs": [],
   "source": [
    "sys.path.insert(0, '/glade/u/home/ksha/GAN_proj/')\n",
    "sys.path.insert(0, '/glade/u/home/ksha/GAN_proj/libs/')\n",
    "\n",
    "from namelist import *\n",
    "import data_utils as du"
   ]
  },
  {
   "cell_type": "markdown",
   "id": "9293af4e-95b2-4337-bce6-511c005b072e",
   "metadata": {},
   "source": [
    "## Main script"
   ]
  },
  {
   "cell_type": "code",
   "execution_count": null,
   "id": "5ee39a09-7cb2-435d-9e16-456926fbb815",
   "metadata": {},
   "outputs": [],
   "source": [
    "with h5py.File(save_dir+'CNN_domain.hdf', 'r') as h5io:\n",
    "    lon_GFS = h5io['lon_GFS'][...]\n",
    "    lat_GFS = h5io['lat_GFS'][...]"
   ]
  },
  {
   "cell_type": "code",
   "execution_count": 20,
   "id": "25687394-2703-4524-b194-79b3bac32ecb",
   "metadata": {},
   "outputs": [],
   "source": [
    "year = 2023\n",
    "BATCH_dir = '/glade/campaign/cisl/aiml/ksha/BATCH_MRMS_025/'\n",
    "\n",
    "N_hour = 3\n",
    "size_x = 128 # patch size: 128-by-256\n",
    "size_y = 256\n",
    "\n",
    "x_mrms = 105; y_mrms = 242 # 0.1 deg MRMS size\n",
    "grid_shape = (x_mrms, y_mrms) # the size of 0.1 deg MRMS\n",
    "\n",
    "N_rain_thres = 200 # each patch must have 1600 raining grid cells\n",
    "V_rain_thres = 0.1 # 0.1 mm/3h means rain"
   ]
  },
  {
   "cell_type": "code",
   "execution_count": 7,
   "id": "37bec7d5-c0e9-47e4-9bd9-c8869439533f",
   "metadata": {},
   "outputs": [],
   "source": [
    "with h5py.File('/glade/campaign/cisl/aiml/ksha/GFS/MRMS_01H_y{}_025.hdf'.format(year), 'r') as h5io:\n",
    "    MRMS = h5io['MRMS'][...]\n",
    "\n",
    "L = len(MRMS) - N_hour # number of available time dimensions"
   ]
  },
  {
   "cell_type": "code",
   "execution_count": 23,
   "id": "26cbc385-7a14-4d77-a6cb-be7da4433c51",
   "metadata": {
    "scrolled": true
   },
   "outputs": [],
   "source": [
    "batch_name = 'MRMS_y{}_day{:04d}.npy'\n",
    "mrms_save = np.zeros((size_x, size_y))\n",
    "\n",
    "for i in range(L):\n",
    "    mrms = np.zeros(grid_shape)\n",
    "    for j in range(N_hour):\n",
    "        mrms += MRMS[i+j]\n",
    "        \n",
    "    # if MRMS has no NaNs\n",
    "    if np.sum(np.isnan(mrms)) == 0:\n",
    "        mrms_save[...] = 0.0\n",
    "        mrms_save[0:x_mrms, 0:y_mrms] = mrms\n",
    "        \n",
    "        # if the patch contains enough raining grid cells\n",
    "        if np.sum(mrms_save > V_rain_thres) > N_rain_thres:\n",
    "\n",
    "            # if the patch doesn't have NaNs \n",
    "            if np.sum(np.isnan(mrms_save)) == 0:\n",
    "\n",
    "                save_name = BATCH_dir+batch_name.format(year, i)\n",
    "                #print(save_name)\n",
    "                np.save(save_name, mrms_save)"
   ]
  },
  {
   "cell_type": "markdown",
   "id": "e886453f-c301-4811-8c45-541edd74d8a9",
   "metadata": {},
   "source": [
    "### Check batch quality"
   ]
  },
  {
   "cell_type": "code",
   "execution_count": 21,
   "id": "f2f7c418-700f-4e03-8cf0-fe2a6652402f",
   "metadata": {},
   "outputs": [],
   "source": [
    "temp = np.load('/glade/campaign/cisl/aiml/ksha/BATCH_MRMS_025/MRMS_y2023_day4694.npy')"
   ]
  },
  {
   "cell_type": "code",
   "execution_count": 22,
   "id": "7630e7bb-0f89-442f-9827-3129491e8756",
   "metadata": {},
   "outputs": [
    {
     "data": {
      "text/plain": [
       "<matplotlib.colorbar.Colorbar at 0x14eff012ddd0>"
      ]
     },
     "execution_count": 22,
     "metadata": {},
     "output_type": "execute_result"
    },
    {
     "data": {
      "image/png": "[encoded data removed]",
      "text/plain": [
       "<Figure size 640x480 with 2 Axes>"
      ]
     },
     "metadata": {},
     "output_type": "display_data"
    }
   ],
   "source": [
    "plt.figure()\n",
    "plt.pcolormesh(temp, cmap=plt.cm.nipy_spectral_r)\n",
    "plt.colorbar()"
   ]
  },
  {
   "cell_type": "code",
   "execution_count": null,
   "id": "c845ea81-3b11-4848-8a46-b89db757496f",
   "metadata": {},
   "outputs": [],
   "source": []
  },
  {
   "cell_type": "code",
   "execution_count": null,
   "id": "bf49046f-ad8e-4abd-ab64-fdf25209b2c3",
   "metadata": {},
   "outputs": [],
   "source": []
  }
 ],
 "metadata": {
  "kernelspec": {
   "display_name": "Python 3 (ipykernel)",
   "language": "python",
   "name": "python3"
  },
  "language_info": {
   "codemirror_mode": {
    "name": "ipython",
    "version": 3
   },
   "file_extension": ".py",
   "mimetype": "text/x-python",
   "name": "python",
   "nbconvert_exporter": "python",
   "pygments_lexer": "ipython3",
   "version": "3.11.6"
  }
 },
 "nbformat": 4,
 "nbformat_minor": 5
}
