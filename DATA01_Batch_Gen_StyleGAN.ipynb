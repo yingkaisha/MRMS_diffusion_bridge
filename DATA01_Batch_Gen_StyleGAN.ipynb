{
 "cells": [
  {
   "cell_type": "code",
   "execution_count": 1,
   "id": "a1337b44-b1fa-4525-b783-bafc705ce988",
   "metadata": {},
   "outputs": [],
   "source": [
    "import os\n",
    "import sys\n",
    "import time\n",
    "import h5py\n",
    "import pygrib\n",
    "import numpy as np\n",
    "import netCDF4 as nc\n",
    "from datetime import datetime, timedelta"
   ]
  },
  {
   "cell_type": "code",
   "execution_count": 2,
   "id": "ae6cd660-668e-4659-9aae-914824eb7a76",
   "metadata": {},
   "outputs": [],
   "source": [
    "# graph tools\n",
    "import cmaps\n",
    "import cartopy.crs as ccrs\n",
    "import cartopy.mpl.geoaxes\n",
    "import cartopy.feature as cfeature\n",
    "from cartopy.io.shapereader import Reader\n",
    "from cartopy.feature import ShapelyFeature\n",
    "from cartopy.mpl.gridliner import LONGITUDE_FORMATTER, LATITUDE_FORMATTER\n",
    "\n",
    "import matplotlib.pyplot as plt\n",
    "\n",
    "%matplotlib inline"
   ]
  },
  {
   "cell_type": "code",
   "execution_count": 3,
   "id": "fe41c65b-ae6a-4058-a931-aa84d0859098",
   "metadata": {},
   "outputs": [],
   "source": [
    "sys.path.insert(0, '/glade/u/home/ksha/GAN_proj/')\n",
    "sys.path.insert(0, '/glade/u/home/ksha/GAN_proj/libs/')\n",
    "\n",
    "from namelist import *\n",
    "import data_utils as du"
   ]
  },
  {
   "cell_type": "code",
   "execution_count": 4,
   "id": "1a69edf3-addf-4580-b3f2-4fa6036b0cee",
   "metadata": {},
   "outputs": [],
   "source": [
    "import graph_utils as gu"
   ]
  },
  {
   "cell_type": "code",
   "execution_count": 5,
   "id": "9579ab6e-4cb5-402f-bdd3-9bb6e7f149e4",
   "metadata": {},
   "outputs": [],
   "source": [
    "from scipy.spatial import cKDTree"
   ]
  },
  {
   "cell_type": "markdown",
   "id": "9f83ad1c-35fc-4d92-a1e0-d5c3305c25d6",
   "metadata": {},
   "source": [
    "**Batch gen 2021**"
   ]
  },
  {
   "cell_type": "code",
   "execution_count": 6,
   "id": "3b9c5a19-788d-42a5-9ad4-09620e841959",
   "metadata": {},
   "outputs": [
    {
     "name": "stderr",
     "output_type": "stream",
     "text": [
      "\n",
      "KeyboardInterrupt\n",
      "\n"
     ]
    }
   ],
   "source": [
    "with h5py.File(save_dir+'MRMS_ERA5_domain.hdf', 'r') as h5io:\n",
    "    lon_ERA5 = h5io['lon_ERA5'][...]\n",
    "    lat_ERA5 = h5io['lat_ERA5'][...]\n",
    "    lon_MRMS = h5io['lon_MRMS'][...]\n",
    "    lat_MRMS = h5io['lat_MRMS'][...]\n",
    "    indx = h5io['MRMR_to_ERA5_indx'][...]\n",
    "    indy = h5io['MRMR_to_ERA5_indy'][...]"
   ]
  },
  {
   "cell_type": "code",
   "execution_count": null,
   "id": "d39c7a18-a7b2-4c6a-84ee-b265a501e12c",
   "metadata": {},
   "outputs": [],
   "source": [
    "base = datetime(2021, 1, 1)\n",
    "date_list = [base + timedelta(hours=day) for day in range(365*24)]"
   ]
  },
  {
   "cell_type": "markdown",
   "id": "262a6356-9b22-4096-b4f2-d89e66821a62",
   "metadata": {},
   "source": [
    "**3-d Profiles**"
   ]
  },
  {
   "cell_type": "code",
   "execution_count": null,
   "id": "93c389ac-f6a1-46af-be60-8882933fbac0",
   "metadata": {},
   "outputs": [],
   "source": [
    "def norm_precip(x):\n",
    "    return np.log(x+1)\n",
    "\n",
    "def norm_wind(x):\n",
    "    return x/5\n",
    "\n",
    "def norm_rh(x):\n",
    "    return x/100 - 0.5\n",
    "    \n",
    "def norm_gph(x):\n",
    "    # 600 hPa to 1000 hPa\n",
    "    return x/40000 - 0.5\n",
    "\n",
    "def norm_t(x):\n",
    "    return (x-273.15)/10"
   ]
  },
  {
   "cell_type": "code",
   "execution_count": null,
   "id": "2f379a5a-f5ef-471b-8c44-5101dccdea9c",
   "metadata": {},
   "outputs": [],
   "source": [
    "size_mrms = 400\n",
    "size_half = 200\n",
    "\n",
    "size_era5 = 16\n",
    "\n",
    "x_mrms = 3500\n",
    "y_mrms = 7000\n",
    "\n",
    "gap = size_half\n",
    "\n",
    "x_ERA5 = 361\n",
    "y_ERA5 = 721\n",
    "L = 12\n",
    "\n",
    "rain_thres = 1.0\n",
    "rain_cover_thres = 0.4\n",
    "\n",
    "profile_t = np.zeros(L)\n",
    "profile_u = np.zeros(L)\n",
    "profile_v = np.zeros(L)\n",
    "profile_rh = np.zeros(L)\n",
    "profile_gph = np.zeros(L)\n",
    "\n",
    "nc_name_t = ERA5_dir+'ERA5_t2m_2021_bottom_layers.nc'\n",
    "nc_name_u = ERA5_dir+'ERA5_u_2021_bottom_layers.nc'\n",
    "nc_name_v = ERA5_dir+'ERA5_v_2021_bottom_layers.nc'\n",
    "nc_name_rh = ERA5_dir+'ERA5_rh_2021_bottom_layers.nc'\n",
    "nc_name_gph = ERA5_dir+'ERA5_gph_2021_bottom_layers.nc'\n",
    "\n",
    "batch_file_name = 'BATCH_dt{:04d}_i{:04d}_j{:04d}.npy'\n",
    "\n",
    "with nc.Dataset(nc_name_t) as ncio_t:\n",
    "    with nc.Dataset(nc_name_u) as ncio_u:\n",
    "        with nc.Dataset(nc_name_v) as ncio_v:\n",
    "            with nc.Dataset(nc_name_rh) as ncio_rh:\n",
    "                with nc.Dataset(nc_name_gph) as ncio_gph:\n",
    "                    \n",
    "                    # Main section\n",
    "                    for i_dt, dt in enumerate(date_list[:1]):\n",
    "                        dt_str = datetime.strftime(dt, '%Y%m%d-%H%M%S')\n",
    "                        name_ = 'MRMS_MultiSensor_QPE_01H_Pass2_00.00_{}.grib2'.format(dt_str)\n",
    "                        filename = MRMS_dir + name_\n",
    "                    \n",
    "                        if os.path.isfile(filename):\n",
    "                            with pygrib.open(filename) as grbio:\n",
    "                                MRMS = grbio[1].values\n",
    "                                \n",
    "                            # flip --> lower latitude at the bottom\n",
    "                            MRMS = np.flipud(MRMS)\n",
    "                    \n",
    "                            for i_mrms in range(0, x_mrms-size_mrms+gap, gap):\n",
    "                                for j_mrms in range(0, y_mrms-size_mrms+gap, gap):\n",
    "                                    i0 = i_mrms; i1 = i0 + size_mrms\n",
    "                                    j0 = j_mrms; j1 = j0 + size_mrms\n",
    "                                    patch_ = MRMS[i0:i1, j0:j1]\n",
    "                                    patch_flag = patch_ > rain_thres\n",
    "                                    patch_rain_cover_rate = np.sum(patch_flag)/(size_mrms*size_mrms)\n",
    "                                    \n",
    "                                    # We select this patch\n",
    "                                    if patch_rain_cover_rate > rain_cover_thres:\n",
    "                                        patch = patch_\n",
    "                                        ix_era5 = indx[i0:i1, j0:j1]\n",
    "                                        iy_era5 = indy[i0:i1, j0:j1]\n",
    "                                        \n",
    "                                        ix_min = int(np.min(ix_era5))\n",
    "                                        iy_min = int(np.min(ix_era5))\n",
    "                                        \n",
    "                                        # ERA5 levels: top to bottom (600 --> 1000 hPa)\n",
    "                                        profile_t = ncio_t['t'][i_dt, ...][:, ix_min:ix_min+size_era5, iy_min:iy_min+size_era5]\n",
    "                                        profile_u = ncio_u['u'][i_dt, ...][:, ix_min:ix_min+size_era5, iy_min:iy_min+size_era5]\n",
    "                                        profile_v = ncio_v['v'][i_dt, ...][:, ix_min:ix_min+size_era5, iy_min:iy_min+size_era5]\n",
    "                                        profile_rh = ncio_rh['r'][i_dt, ...][:, ix_min:ix_min+size_era5, iy_min:iy_min+size_era5]\n",
    "                                        profile_gph = ncio_gph['z'][i_dt, ...][:, ix_min:ix_min+size_era5, iy_min:iy_min+size_era5]\n",
    "\n",
    "                                        profile_t = norm_t(profile_t)\n",
    "                                        profile_u = norm_wind(profile_u)\n",
    "                                        profile_v = norm_wind(profile_v)\n",
    "                                        profile_rh = norm_rh(profile_rh)\n",
    "                                        profile_gph = norm_gph(profile_gph)\n",
    "\n",
    "                                        patch = norm_precip(patch)\n",
    "\n",
    "                                        save_dict = {}\n",
    "                                        save_dict['patch'] = patch\n",
    "                                        save_dict['profile_t'] = profile_t\n",
    "                                        save_dict['profile_u'] = profile_u\n",
    "                                        save_dict['profile_v'] = profile_v\n",
    "                                        save_dict['profile_rh'] = profile_rh\n",
    "                                        save_dict['profile_gph'] = profile_gph\n",
    "                                        \n",
    "                                        name_ = BATCH_dir+batch_file_name.format(i_dt, i_mrms, j_mrms)\n",
    "                                        print(name_)\n",
    "                                        np.save(name_, save_dict)"
   ]
  },
  {
   "cell_type": "code",
   "execution_count": 8,
   "id": "346adf48-9f05-45d1-baff-1be0e213b8a4",
   "metadata": {},
   "outputs": [],
   "source": [
    "cmap_pct, A = gu.precip_cmap()"
   ]
  },
  {
   "cell_type": "code",
   "execution_count": 6,
   "id": "960f5ce7-b77c-48f5-8e78-e266c874f386",
   "metadata": {},
   "outputs": [],
   "source": [
    "temp_data = np.load('/glade/campaign/cisl/aiml/ksha/BATCH_MRMS/BATCH_dt0000_i1400_j3200.npy', allow_pickle=True)[()]"
   ]
  },
  {
   "cell_type": "code",
   "execution_count": 9,
   "id": "30377e4b-cead-4ce7-86b3-1453602b4352",
   "metadata": {},
   "outputs": [
    {
     "data": {
      "text/plain": [
       "<matplotlib.collections.QuadMesh at 0x2b0cf0e35550>"
      ]
     },
     "execution_count": 9,
     "metadata": {},
     "output_type": "execute_result"
    },
    {
     "data": {
      "image/png": "[encoded data removed]",
      "text/plain": [
       "<Figure size 640x480 with 1 Axes>"
      ]
     },
     "metadata": {},
     "output_type": "display_data"
    }
   ],
   "source": [
    "plt.pcolormesh(temp_data['patch'], cmap=cmap_pct, vmin=0, vmax=3)"
   ]
  },
  {
   "cell_type": "code",
   "execution_count": 10,
   "id": "d5749db1-a123-43b0-a908-3baa66e73666",
   "metadata": {},
   "outputs": [
    {
     "data": {
      "text/plain": [
       "0.6092276052852933"
      ]
     },
     "execution_count": 10,
     "metadata": {},
     "output_type": "execute_result"
    }
   ],
   "source": [
    "np.mean(np.abs(temp_data['patch']))"
   ]
  },
  {
   "cell_type": "markdown",
   "id": "b292826a-3118-4f84-bfa0-af2482789b6c",
   "metadata": {},
   "source": [
    "**Single Profile batches** (not used)"
   ]
  },
  {
   "cell_type": "code",
   "execution_count": 108,
   "id": "121cf871-681f-4e9b-b4df-3e37de2e6f48",
   "metadata": {},
   "outputs": [],
   "source": [
    "def rain_context(data, bin_width, output_size, thres):\n",
    "    output = np.zeros(output_size)\n",
    "\n",
    "    for i in range(output_size[0]):\n",
    "        for j in range(output_size[1]):\n",
    "\n",
    "            i0 = i*bin_width; i1 = i0 + bin_width\n",
    "            j0 = j*bin_width; j1 = j0 + bin_width\n",
    "            patch_mean = np.mean(data[i0:i1, j0:j1])\n",
    "            output[i, j] = patch_mean # >= thres\n",
    "            \n",
    "    return output\n",
    "\n",
    "\n",
    "def is_unique(x1, x2):\n",
    "    arr = np.vstack([x1, x2])\n",
    "    _, ind = np.unique(arr, axis=1, return_index=True)\n",
    "    out = np.zeros(shape=arr.shape[1], dtype=bool)\n",
    "    out[ind] = True\n",
    "    return out\n",
    "\n",
    "\n",
    "def norm_precip(x):\n",
    "    return np.log(x+1)\n",
    "\n",
    "def norm_wind(x):\n",
    "    return x/5\n",
    "\n",
    "def norm_rh(x):\n",
    "    return x/100 - 0.5\n",
    "    \n",
    "def norm_gph(x):\n",
    "    # 600 hPa to 1000 hPa\n",
    "    return x/40000 - 0.5\n",
    "\n",
    "def norm_t(x):\n",
    "    return (x-273.15)/10"
   ]
  },
  {
   "cell_type": "code",
   "execution_count": 110,
   "id": "f2c61ebe-d1ca-422d-9763-8d9cb812c1f5",
   "metadata": {},
   "outputs": [
    {
     "name": "stdout",
     "output_type": "stream",
     "text": [
      "/glade/campaign/cisl/aiml/ksha/BATCH_MRMS/BATCH_dt0000_i1000_j2800.npy\n",
      "/glade/campaign/cisl/aiml/ksha/BATCH_MRMS/BATCH_dt0000_i1000_j3000.npy\n",
      "/glade/campaign/cisl/aiml/ksha/BATCH_MRMS/BATCH_dt0000_i1000_j3200.npy\n",
      "/glade/campaign/cisl/aiml/ksha/BATCH_MRMS/BATCH_dt0000_i1000_j3400.npy\n",
      "/glade/campaign/cisl/aiml/ksha/BATCH_MRMS/BATCH_dt0000_i1000_j3600.npy\n",
      "/glade/campaign/cisl/aiml/ksha/BATCH_MRMS/BATCH_dt0000_i1000_j3800.npy\n",
      "/glade/campaign/cisl/aiml/ksha/BATCH_MRMS/BATCH_dt0000_i1200_j2800.npy\n",
      "/glade/campaign/cisl/aiml/ksha/BATCH_MRMS/BATCH_dt0000_i1200_j3000.npy\n",
      "/glade/campaign/cisl/aiml/ksha/BATCH_MRMS/BATCH_dt0000_i1200_j3200.npy\n",
      "/glade/campaign/cisl/aiml/ksha/BATCH_MRMS/BATCH_dt0000_i1200_j3400.npy\n",
      "/glade/campaign/cisl/aiml/ksha/BATCH_MRMS/BATCH_dt0000_i1200_j3600.npy\n",
      "/glade/campaign/cisl/aiml/ksha/BATCH_MRMS/BATCH_dt0000_i1400_j3200.npy\n"
     ]
    }
   ],
   "source": [
    "size_mrms = 400\n",
    "size_half = 200\n",
    "\n",
    "x_mrms = 3500\n",
    "y_mrms = 7000\n",
    "\n",
    "gap = size_half\n",
    "\n",
    "x_ERA5 = 361\n",
    "y_ERA5 = 721\n",
    "L = 12\n",
    "\n",
    "rain_thres = 1.0\n",
    "rain_cover_thres = 0.4\n",
    "\n",
    "profile_t = np.zeros(L)\n",
    "profile_u = np.zeros(L)\n",
    "profile_v = np.zeros(L)\n",
    "profile_rh = np.zeros(L)\n",
    "profile_gph = np.zeros(L)\n",
    "\n",
    "nc_name_t = ERA5_dir+'ERA5_t2m_2021_bottom_layers.nc'\n",
    "nc_name_u = ERA5_dir+'ERA5_u_2021_bottom_layers.nc'\n",
    "nc_name_v = ERA5_dir+'ERA5_v_2021_bottom_layers.nc'\n",
    "nc_name_rh = ERA5_dir+'ERA5_rh_2021_bottom_layers.nc'\n",
    "nc_name_gph = ERA5_dir+'ERA5_gph_2021_bottom_layers.nc'\n",
    "\n",
    "batch_file_name = 'BATCH_dt{:04d}_i{:04d}_j{:04d}.npy'\n",
    "\n",
    "with nc.Dataset(nc_name_t) as ncio_t:\n",
    "    with nc.Dataset(nc_name_u) as ncio_u:\n",
    "        with nc.Dataset(nc_name_v) as ncio_v:\n",
    "            with nc.Dataset(nc_name_rh) as ncio_rh:\n",
    "                with nc.Dataset(nc_name_gph) as ncio_gph:\n",
    "                    \n",
    "                    # Main section\n",
    "                    for i_dt, dt in enumerate(date_list[:1]):\n",
    "                        dt_str = datetime.strftime(dt, '%Y%m%d-%H%M%S')\n",
    "                        name_ = 'MRMS_MultiSensor_QPE_01H_Pass2_00.00_{}.grib2'.format(dt_str)\n",
    "                        filename = MRMS_dir + name_\n",
    "                    \n",
    "                        if os.path.isfile(filename):\n",
    "                            with pygrib.open(filename) as grbio:\n",
    "                                MRMS = grbio[1].values\n",
    "                                \n",
    "                            # flip --> lower latitude at the bottom\n",
    "                            MRMS = np.flipud(MRMS)\n",
    "                    \n",
    "                            for i_mrms in range(0, x_mrms-size_mrms+gap, gap):\n",
    "                                for j_mrms in range(0, y_mrms-size_mrms+gap, gap):\n",
    "                                    i0 = i_mrms; i1 = i0 + size_mrms\n",
    "                                    j0 = j_mrms; j1 = j0 + size_mrms\n",
    "                                    patch_ = MRMS[i0:i1, j0:j1]\n",
    "                                    patch_flag = patch_ > rain_thres\n",
    "                                    patch_rain_cover_rate = np.sum(patch_flag)/(size_mrms*size_mrms)\n",
    "                                    \n",
    "                                    # We select this patch\n",
    "                                    if patch_rain_cover_rate > rain_cover_thres:\n",
    "                                        patch = patch_\n",
    "                                        ix_era5 = indx[i0:i1, j0:j1]\n",
    "                                        iy_era5 = indy[i0:i1, j0:j1]\n",
    "                                        context = rain_context(patch, bin_width=16, output_size=(25, 25), thres=rain_thres)\n",
    "                                        \n",
    "                                        ix_era5_rain_ = ix_era5[patch_flag]\n",
    "                                        iy_era5_rain_ = iy_era5[patch_flag]\n",
    "                                        \n",
    "                                        flag_uniqe_ind = is_unique(ix_era5_rain_, iy_era5_rain_)\n",
    "                                        N_points = np.sum(flag_uniqe_ind)\n",
    "                                        ix_era5_rain = ix_era5_rain_[flag_uniqe_ind]\n",
    "                                        iy_era5_rain = iy_era5_rain_[flag_uniqe_ind]\n",
    "                                        \n",
    "                                        # Get the mean ERA5 profiles\n",
    "                                        profile_t[...] = 0.0\n",
    "                                        profile_u[...] = 0.0\n",
    "                                        profile_v[...] = 0.0\n",
    "                                        profile_rh[...] = 0.0\n",
    "                                        profile_gph[...] = 0.0\n",
    "\n",
    "                                        for i_point in range(N_points):\n",
    "                                            ix_era5_rain_temp = ix_era5_rain[i_point]\n",
    "                                            iy_era5_rain_temp = iy_era5_rain[i_point]\n",
    "\n",
    "                                            # ERA5 levels: top to bottom (600 --> 1000 hPa)\n",
    "                                            profile_t += ncio_t['t'][i_dt, :, ix_era5_rain_temp, iy_era5_rain_temp]\n",
    "                                            profile_u += ncio_u['u'][i_dt, :, ix_era5_rain_temp, iy_era5_rain_temp]\n",
    "                                            profile_v += ncio_v['v'][i_dt, :, ix_era5_rain_temp, iy_era5_rain_temp]\n",
    "                                            profile_rh += ncio_rh['r'][i_dt, :, ix_era5_rain_temp, iy_era5_rain_temp]\n",
    "                                            profile_gph += ncio_gph['z'][i_dt, :, ix_era5_rain_temp, iy_era5_rain_temp]\n",
    "\n",
    "                                        profile_t = norm_t(profile_t/N_points)\n",
    "                                        profile_u = norm_wind(profile_u/N_points)\n",
    "                                        profile_v = norm_wind(profile_v/N_points)\n",
    "                                        profile_rh = norm_rh(profile_rh/N_points)\n",
    "                                        profile_gph = norm_gph(profile_gph/N_points)\n",
    "\n",
    "                                        patch = norm_precip(patch)\n",
    "                                        context = norm_precip(context)\n",
    "\n",
    "                                        save_dict = {}\n",
    "                                        save_dict['patch'] = patch\n",
    "                                        save_dict['context'] = context\n",
    "                                        save_dict['profile_t'] = profile_t\n",
    "                                        save_dict['profile_u'] = profile_u\n",
    "                                        save_dict['profile_v'] = profile_v\n",
    "                                        save_dict['profile_rh'] = profile_rh\n",
    "                                        save_dict['profile_gph'] = profile_gph\n",
    "                                        \n",
    "                                        name_ = BATCH_dir+batch_file_name.format(i_dt, i_mrms, j_mrms)\n",
    "                                        print(name_)\n",
    "                                        np.save(name_, save_dict)"
   ]
  },
  {
   "cell_type": "code",
   "execution_count": null,
   "id": "55acbe3d-56f7-4019-916c-218350922867",
   "metadata": {},
   "outputs": [],
   "source": []
  },
  {
   "cell_type": "code",
   "execution_count": 10,
   "id": "97092517-a6da-4bd4-94c5-5f887fa40c5b",
   "metadata": {},
   "outputs": [],
   "source": []
  },
  {
   "cell_type": "code",
   "execution_count": 16,
   "id": "722020f3-6896-40cf-b2f6-4102a80836dd",
   "metadata": {},
   "outputs": [],
   "source": [
    "temp_data = np.load('/glade/campaign/cisl/aiml/ksha/BATCH_MRMS/BATCH_dt4927_i2600_j5200.npy', allow_pickle=True)[()]"
   ]
  },
  {
   "cell_type": "code",
   "execution_count": null,
   "id": "8869a6c8-6583-4cc8-8fb7-98adf437dc17",
   "metadata": {},
   "outputs": [],
   "source": []
  },
  {
   "cell_type": "code",
   "execution_count": 17,
   "id": "ec7467cc-165a-4d9a-b4d5-bbdf5657b4a4",
   "metadata": {},
   "outputs": [
    {
     "data": {
      "text/plain": [
       "<matplotlib.collections.QuadMesh at 0x2b77b9476e50>"
      ]
     },
     "execution_count": 17,
     "metadata": {},
     "output_type": "execute_result"
    },
    {
     "data": {
      "image/png": "[encoded data removed]",
      "text/plain": [
       "<Figure size 640x480 with 1 Axes>"
      ]
     },
     "metadata": {},
     "output_type": "display_data"
    }
   ],
   "source": [
    "plt.pcolormesh(temp_data['patch'], cmap=cmap_pct, vmin=0, vmax=10)"
   ]
  },
  {
   "cell_type": "code",
   "execution_count": 18,
   "id": "14fb3bdf-95c0-4f2b-900a-b9deb09dad01",
   "metadata": {},
   "outputs": [
    {
     "data": {
      "text/plain": [
       "<matplotlib.collections.QuadMesh at 0x2b77b94766d0>"
      ]
     },
     "execution_count": 18,
     "metadata": {},
     "output_type": "execute_result"
    },
    {
     "data": {
      "image/png": "[encoded data removed]",
      "text/plain": [
       "<Figure size 640x480 with 1 Axes>"
      ]
     },
     "metadata": {},
     "output_type": "display_data"
    }
   ],
   "source": [
    "plt.pcolormesh(temp_data['context'], cmap=cmap_pct, vmin=0, vmax=10)"
   ]
  },
  {
   "cell_type": "code",
   "execution_count": 19,
   "id": "a7571a80-6b90-458b-9d38-28e35e30c100",
   "metadata": {},
   "outputs": [
    {
     "data": {
      "text/plain": [
       "[<matplotlib.lines.Line2D at 0x2b77b95a0790>]"
      ]
     },
     "execution_count": 19,
     "metadata": {},
     "output_type": "execute_result"
    },
    {
     "data": {
      "image/png": "[encoded data removed]",
      "text/plain": [
       "<Figure size 640x480 with 1 Axes>"
      ]
     },
     "metadata": {},
     "output_type": "display_data"
    }
   ],
   "source": [
    "plt.plot(temp_data['profile_t'])\n",
    "plt.plot(temp_data['profile_u'])\n",
    "plt.plot(temp_data['profile_v'])\n",
    "plt.plot(temp_data['profile_rh'])\n",
    "plt.plot(temp_data['profile_gph'])"
   ]
  },
  {
   "cell_type": "code",
   "execution_count": 80,
   "id": "6ef6c7ab-25ae-4869-91ac-b497376c7e97",
   "metadata": {},
   "outputs": [
    {
     "data": {
      "text/plain": [
       "array([ 4.91816304,  5.10289934,  3.17988085, -0.2157098 , -1.62072386,\n",
       "       -0.71993227,  0.48334227,  1.3194054 ,  1.53981562,  1.28027021,\n",
       "        0.50965557,  0.41874014])"
      ]
     },
     "execution_count": 80,
     "metadata": {},
     "output_type": "execute_result"
    }
   ],
   "source": [
    "profile_v"
   ]
  },
  {
   "cell_type": "code",
   "execution_count": 81,
   "id": "96d291a6-7a7e-4b62-9f46-ae589cded411",
   "metadata": {},
   "outputs": [
    {
     "data": {
      "text/plain": [
       "array([-1.19389826, -1.78142319, -0.99990405, -1.03627556, -2.91077454,\n",
       "       -3.55603203, -3.65380532, -3.31660872, -3.32381888, -4.78386229,\n",
       "       -3.91969579, -2.3287791 ])"
      ]
     },
     "execution_count": 81,
     "metadata": {},
     "output_type": "execute_result"
    }
   ],
   "source": [
    "profile_u"
   ]
  },
  {
   "cell_type": "code",
   "execution_count": 53,
   "id": "f4501633-d89a-42ef-8bc0-90f89335396c",
   "metadata": {},
   "outputs": [],
   "source": [
    "check_map = np.arange(size_mrms*size_mrms).reshape(size_mrms, size_mrms)"
   ]
  },
  {
   "cell_type": "code",
   "execution_count": 25,
   "id": "2da2d94c-fde6-4b59-8f64-a8e2b1e1b526",
   "metadata": {},
   "outputs": [
    {
     "data": {
      "text/plain": [
       "0.04815"
      ]
     },
     "execution_count": 25,
     "metadata": {},
     "output_type": "execute_result"
    }
   ],
   "source": [
    "check_map[ix_era5_rain, iy_era5_rain]"
   ]
  },
  {
   "cell_type": "code",
   "execution_count": null,
   "id": "e8c15865-0558-4c4b-bff1-705866a274a3",
   "metadata": {},
   "outputs": [],
   "source": []
  },
  {
   "cell_type": "code",
   "execution_count": 23,
   "id": "91c4e539-78fb-4438-9e40-c6eb6d2e6289",
   "metadata": {},
   "outputs": [],
   "source": []
  },
  {
   "cell_type": "code",
   "execution_count": 32,
   "id": "6327af25-23e9-4308-8060-a31003b756b1",
   "metadata": {},
   "outputs": [
    {
     "data": {
      "text/plain": [
       "<matplotlib.collections.QuadMesh at 0x2b0a31c449d0>"
      ]
     },
     "execution_count": 32,
     "metadata": {},
     "output_type": "execute_result"
    },
    {
     "data": {
      "image/png": "[encoded data removed]",
      "text/plain": [
       "<Figure size 640x480 with 1 Axes>"
      ]
     },
     "metadata": {},
     "output_type": "display_data"
    }
   ],
   "source": [
    "plt.pcolormesh(patch, cmap=cmap_pct, vmin=0, vmax=10)"
   ]
  },
  {
   "cell_type": "code",
   "execution_count": 33,
   "id": "a1d59852-4663-48bb-a264-3659a02b231c",
   "metadata": {},
   "outputs": [
    {
     "data": {
      "text/plain": [
       "<matplotlib.collections.QuadMesh at 0x2b0a31cf5250>"
      ]
     },
     "execution_count": 33,
     "metadata": {},
     "output_type": "execute_result"
    },
    {
     "data": {
      "image/png": "[encoded data removed]",
      "text/plain": [
       "<Figure size 640x480 with 1 Axes>"
      ]
     },
     "metadata": {},
     "output_type": "display_data"
    }
   ],
   "source": [
    "plt.pcolormesh(context)"
   ]
  },
  {
   "cell_type": "code",
   "execution_count": 6,
   "id": "39c536ed-3aee-45d1-8e14-f029b6ac8843",
   "metadata": {},
   "outputs": [
    {
     "data": {
      "text/plain": [
       "'/glade/campaign/cisl/aiml/ksha/MRMS/MRMS_MultiSensor_QPE_01H_Pass2_00.00_20210101-000000.grib2'"
      ]
     },
     "execution_count": 6,
     "metadata": {},
     "output_type": "execute_result"
    }
   ],
   "source": [
    "patch_"
   ]
  },
  {
   "cell_type": "code",
   "execution_count": 9,
   "id": "39ba26cc-7443-43cd-87c1-237f83ce436c",
   "metadata": {},
   "outputs": [
    {
     "data": {
      "text/plain": [
       "True"
      ]
     },
     "execution_count": 9,
     "metadata": {},
     "output_type": "execute_result"
    }
   ],
   "source": []
  },
  {
   "cell_type": "code",
   "execution_count": null,
   "id": "e9f3a0ab-d28e-40c9-b9e8-90d46c4b29c5",
   "metadata": {},
   "outputs": [],
   "source": []
  },
  {
   "cell_type": "code",
   "execution_count": null,
   "id": "227a86b9-6d5b-45c0-af5f-6da436fd48a9",
   "metadata": {},
   "outputs": [],
   "source": []
  },
  {
   "cell_type": "code",
   "execution_count": null,
   "id": "95869aea-95c4-419e-98d9-9353bf6e6ee0",
   "metadata": {},
   "outputs": [],
   "source": [
    "with pygrib.open('/glade/scratch/ksha/MRMS/MRMS_MultiSensor_QPE_01H_Pass2_00.00_20210101-210000.grib2') as grbio:\n",
    "    MRMS = grbio[1].values"
   ]
  },
  {
   "cell_type": "code",
   "execution_count": null,
   "id": "f2f7c418-700f-4e03-8cf0-fe2a6652402f",
   "metadata": {},
   "outputs": [],
   "source": []
  },
  {
   "cell_type": "code",
   "execution_count": null,
   "id": "7630e7bb-0f89-442f-9827-3129491e8756",
   "metadata": {},
   "outputs": [],
   "source": []
  },
  {
   "cell_type": "code",
   "execution_count": null,
   "id": "c845ea81-3b11-4848-8a46-b89db757496f",
   "metadata": {},
   "outputs": [],
   "source": []
  },
  {
   "cell_type": "code",
   "execution_count": null,
   "id": "bf49046f-ad8e-4abd-ab64-fdf25209b2c3",
   "metadata": {},
   "outputs": [],
   "source": []
  }
 ],
 "metadata": {
  "kernelspec": {
   "display_name": "Python 3 (ipykernel)",
   "language": "python",
   "name": "python3"
  },
  "language_info": {
   "codemirror_mode": {
    "name": "ipython",
    "version": 3
   },
   "file_extension": ".py",
   "mimetype": "text/x-python",
   "name": "python",
   "nbconvert_exporter": "python",
   "pygments_lexer": "ipython3",
   "version": "3.9.18"
  }
 },
 "nbformat": 4,
 "nbformat_minor": 5
}
