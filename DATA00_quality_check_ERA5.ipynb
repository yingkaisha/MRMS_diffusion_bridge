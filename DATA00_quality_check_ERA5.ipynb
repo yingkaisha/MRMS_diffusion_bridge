{
 "cells": [
  {
   "cell_type": "code",
   "execution_count": 1,
   "id": "c6d72226-bc21-4c48-a9eb-2326849d0055",
   "metadata": {},
   "outputs": [],
   "source": [
    "import os\n",
    "import sys\n",
    "import time\n",
    "import h5py\n",
    "import pygrib\n",
    "import numpy as np\n",
    "import netCDF4 as nc\n",
    "from datetime import datetime, timedelta"
   ]
  },
  {
   "cell_type": "code",
   "execution_count": 2,
   "id": "03fd2ef7-5dcf-4d09-8879-17eb17641cc4",
   "metadata": {},
   "outputs": [],
   "source": [
    "sys.path.insert(0, '/glade/u/home/ksha/GAN_proj/')\n",
    "sys.path.insert(0, '/glade/u/home/ksha/GAN_proj/libs/')\n",
    "\n",
    "from namelist import *\n",
    "import data_utils as du\n",
    "import graph_utils as gu"
   ]
  },
  {
   "cell_type": "code",
   "execution_count": 12,
   "id": "ede18f66-6c3b-49f6-9524-f970148b56fb",
   "metadata": {},
   "outputs": [
    {
     "data": {
      "text/plain": [
       "datetime.datetime(2022, 1, 1, 0, 0)"
      ]
     },
     "execution_count": 12,
     "metadata": {},
     "output_type": "execute_result"
    }
   ],
   "source": [
    "datetime(1900, 1, 1) + timedelta(hours=1069440)"
   ]
  },
  {
   "cell_type": "code",
   "execution_count": null,
   "id": "28647014-045b-4a28-8540-afc88233afa9",
   "metadata": {},
   "outputs": [],
   "source": [
    "ERA5_CAPE_2019.nc       ERA5_PWAT_2022.nc\n",
    "ERA5_CAPE_2020.nc       ERA5_rh_2021_bottom_layers.nc\n",
    "ERA5_CAPE_2021.nc       ERA5_t2m_2021_bottom_layers.nc\n",
    "ERA5_CAPE_2022.nc       ERA5_u_2021_bottom_layers.nc\n",
    "ERA5_PWAT_2019.nc       ERA5_v_2021_bottom_layers.nc\n",
    "ERA5_PWAT_2020.nc\n"
   ]
  },
  {
   "cell_type": "code",
   "execution_count": null,
   "id": "9e4fabb6-c876-4e49-8aa8-94c400f82e92",
   "metadata": {},
   "outputs": [],
   "source": [
    "BATCH_dir = '/glade/campaign/cisl/aiml/ksha/BATCH_ERA5/'\n",
    "\n",
    "year = 2021\n",
    "\n",
    "size_mrms = 128\n",
    "size_half = 64\n",
    "gap = 64 # samples will have at least 5 non-overlap grids on height and width dimensions \n",
    "thres_dry = 1.0 # 1.0 mm = rain on that grid\n",
    "thres_rain_cover = 0.33 # at least 25% of the grids should have rain\n",
    "thres_land_cover = 0.90 # at least 90% of the grids should stay within land\n",
    "thres_extreme = 30 # if a grid has 20 mm/hr or above, the sample will bypass \"thres_rain_cover\"\n",
    "thres_extreme_cover = 0.10 # if a grid has 20 mm/hr or above, the sample will bypass \"thres_rain_cover\""
   ]
  },
  {
   "cell_type": "code",
   "execution_count": null,
   "id": "fcd0e66c-2c90-4ed5-9583-30b1414225ec",
   "metadata": {},
   "outputs": [],
   "source": [
    "base = datetime(year, 1, 1)\n",
    "date_list = [base + timedelta(hours=day) for day in range(365*24)]"
   ]
  },
  {
   "cell_type": "code",
   "execution_count": null,
   "id": "0c93e85c-8b55-43ed-8895-d897944924da",
   "metadata": {},
   "outputs": [],
   "source": [
    "with h5py.File(save_dir+'MRMS_ERA5_domain.hdf', 'r') as h5io:\n",
    "    land_mask_MRMS = h5io['land_mask_MRMS'][...]\n",
    "    elev_MRMS = h5io['elev_MRMS'][...]\n",
    "    indx = h5io['MRMS_to_ERA5_indx'][...]\n",
    "    indy = h5io['MRMS_to_ERA5_indy'][...]"
   ]
  },
  {
   "cell_type": "code",
   "execution_count": null,
   "id": "7d934b90-05e5-43e4-9c16-50999951a50b",
   "metadata": {},
   "outputs": [],
   "source": [
    "elev_MRMS[elev_MRMS<0] = 0\n",
    "elev_MRMS = elev_MRMS/2000"
   ]
  },
  {
   "cell_type": "code",
   "execution_count": null,
   "id": "2f2c1744-4359-4296-8458-3d85fbd1b9f1",
   "metadata": {},
   "outputs": [],
   "source": []
  }
 ],
 "metadata": {
  "kernelspec": {
   "display_name": "Python 3 (ipykernel)",
   "language": "python",
   "name": "python3"
  },
  "language_info": {
   "codemirror_mode": {
    "name": "ipython",
    "version": 3
   },
   "file_extension": ".py",
   "mimetype": "text/x-python",
   "name": "python",
   "nbconvert_exporter": "python",
   "pygments_lexer": "ipython3",
   "version": "3.9.18"
  }
 },
 "nbformat": 4,
 "nbformat_minor": 5
}
