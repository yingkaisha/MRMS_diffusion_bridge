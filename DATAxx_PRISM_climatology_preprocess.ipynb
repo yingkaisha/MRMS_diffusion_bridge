{
 "cells": [
  {
   "cell_type": "markdown",
   "id": "de90044e-ba5c-4da6-98f3-62e2d7139c4c",
   "metadata": {},
   "source": [
    "# PRISM precipitation climatology pre-process"
   ]
  },
  {
   "cell_type": "code",
   "execution_count": 1,
   "id": "d5497996-c438-4704-8a40-2a53a692fb8a",
   "metadata": {},
   "outputs": [],
   "source": [
    "import os\n",
    "import sys\n",
    "import time\n",
    "import h5py\n",
    "import pygrib\n",
    "\n",
    "import numpy as np\n",
    "from glob import glob\n",
    "\n",
    "from datetime import datetime, timedelta"
   ]
  },
  {
   "cell_type": "code",
   "execution_count": 16,
   "id": "60c199fc-c211-4061-99ed-6e9b7486148d",
   "metadata": {},
   "outputs": [],
   "source": [
    "sys.path.insert(0, '/glade/u/home/ksha/GAN_proj/')\n",
    "sys.path.insert(0, '/glade/u/home/ksha/GAN_proj/libs/')\n",
    "\n",
    "from namelist import *\n",
    "import data_utils as du"
   ]
  },
  {
   "cell_type": "code",
   "execution_count": 2,
   "id": "0570741d-573b-4876-a693-9615a4ac3f1e",
   "metadata": {},
   "outputs": [],
   "source": [
    "import matplotlib.pyplot as plt\n",
    "%matplotlib inline"
   ]
  },
  {
   "cell_type": "code",
   "execution_count": 13,
   "id": "e0c65a45-e5bd-4da9-abfc-d3cf9284fb3b",
   "metadata": {},
   "outputs": [],
   "source": [
    "filename = '/glade/campaign/cisl/aiml/ksha/PRISM/PRISM_ppt_30yr_normal_4kmM4_{:02d}_asc/*asc.asc'\n",
    "\n",
    "# prism size info (for PRSIM website)\n",
    "prism_x = 621\n",
    "prism_y = 1405"
   ]
  },
  {
   "cell_type": "code",
   "execution_count": 38,
   "id": "eca3def0-715d-40be-8fb8-9266e5a86a3e",
   "metadata": {},
   "outputs": [],
   "source": [
    "PRISM = np.empty((12, prism_x, prism_y))\n",
    "\n",
    "for mon in range(12):\n",
    "\n",
    "    prism_name = glob(filename.format(mon+1))[0]\n",
    "    \n",
    "    with open(prism_name, 'r') as prism_io:\n",
    "        prism_header = prism_io.readlines()[:6]\n",
    "     \n",
    "    # Read the PRISM ASCII raster header\n",
    "    prism_header = [item.strip().split()[-1] for item in prism_header]\n",
    "    prism_cols = int(prism_header[0])\n",
    "    prism_rows = int(prism_header[1])\n",
    "    prism_xll = float(prism_header[2])\n",
    "    prism_yll = float(prism_header[3])\n",
    "    prism_cs = float(prism_header[4])\n",
    "    prism_nodata = float(prism_header[5])\n",
    "    \n",
    "    # Read in the PRISM array\n",
    "    prism_array = np.loadtxt(prism_name, dtype=float, skiprows=6)\n",
    "    # Set the nodata values to nan\n",
    "    prism_array[prism_array == prism_nodata] = np.nan\n",
    "    # PRISM data is stored as an integer but scaled by 100\n",
    "    prism_array *= 0.01\n",
    "    PRISM[mon, ...] = prism_array\n",
    "    \n",
    "    # prepare lat/lon information once only\n",
    "    if mon == 0:\n",
    "    \n",
    "        prism_extent = [\n",
    "            prism_xll, prism_xll + prism_cols * prism_cs,\n",
    "            prism_yll, prism_yll + prism_rows * prism_cs]\n",
    "        \n",
    "        # Build arrays of the lat/lon points for each cell\n",
    "        lons = np.arange(prism_extent[0], prism_extent[1], prism_cs)\n",
    "        lats = np.arange(prism_extent[3], prism_extent[2], -prism_cs)\n",
    "        lons, lats = np.meshgrid(lons, lats)"
   ]
  },
  {
   "cell_type": "markdown",
   "id": "133d51f2-1d19-40a6-b5c3-95d24574fa54",
   "metadata": {},
   "source": [
    "## Interpolate PRISM to 0.1 deg"
   ]
  },
  {
   "cell_type": "code",
   "execution_count": 21,
   "id": "989e10e0-11b1-4972-ad2b-44c71f6fd8aa",
   "metadata": {},
   "outputs": [],
   "source": [
    "from scipy.interpolate import griddata\n",
    "import scipy.interpolate as spint\n",
    "from scipy.spatial import Delaunay\n",
    "import itertools\n",
    "\n",
    "def interp_weights(xy, uv, d=2):\n",
    "    tri = Delaunay(xy)\n",
    "    simplex = tri.find_simplex(uv)\n",
    "    vertices = np.take(tri.simplices, simplex, axis=0)\n",
    "    temp = np.take(tri.transform, simplex, axis=0)\n",
    "    delta = uv - temp[:, d]\n",
    "    bary = np.einsum('njk,nk->nj', temp[:, :d, :], delta)\n",
    "    return vertices, np.hstack((bary, 1 - bary.sum(axis=1, keepdims=True)))\n",
    "\n",
    "def interpolate(values, vtx, wts):\n",
    "    return np.einsum('nj,nj->n', np.take(values, vtx), wts)"
   ]
  },
  {
   "cell_type": "code",
   "execution_count": 23,
   "id": "e49e7acf-2c5b-4808-9a6a-5f73e3aca375",
   "metadata": {},
   "outputs": [],
   "source": [
    "with h5py.File(save_dir+'CNN_domain.hdf', 'r') as h5io:\n",
    "    lon_01 = h5io['lon_01'][...]\n",
    "    lat_01 = h5io['lat_01'][...]"
   ]
  },
  {
   "cell_type": "code",
   "execution_count": 25,
   "id": "dc0a9668-7c3b-4768-b502-1c99efc0bdc8",
   "metadata": {},
   "outputs": [],
   "source": [
    "# Computed once and for all\n",
    "vtx, wts = interp_weights(np.vstack([lons.ravel(), lats.ravel()]).T, \n",
    "                          np.vstack([lon_01.ravel(), lat_01.ravel()]).T)"
   ]
  },
  {
   "cell_type": "code",
   "execution_count": 31,
   "id": "e7d0615b-d54e-4c5c-b078-0d284771ae7f",
   "metadata": {},
   "outputs": [],
   "source": [
    "PRISM_01 = np.empty((12,)+lon_01.shape)\n",
    "\n",
    "for mon in range(12):\n",
    "    prism_ = PRISM[mon, ...]\n",
    "\n",
    "    prism_temp = interpolate(prism_.ravel(), vtx, wts)\n",
    "    prism_temp = prism_temp.reshape(lon_01.shape)\n",
    "    prism_temp[prism_temp<0] = 0\n",
    "    prism_temp[250:, :] = np.nan\n",
    "    PRISM_01[mon, ...] = prism_temp"
   ]
  },
  {
   "cell_type": "code",
   "execution_count": 43,
   "id": "1809a555-6366-47ab-bea2-136878f7d0bc",
   "metadata": {},
   "outputs": [],
   "source": [
    "# tuple_save = (lons, lats, PRISM, PRISM_01)\n",
    "# label_save = ['lon_4km', 'lat_4km', 'PRISM_4km', 'PRISM_01']\n",
    "# du.save_hdf5(tuple_save, label_save, save_dir, 'PRISM_Climatology.hdf')"
   ]
  },
  {
   "cell_type": "code",
   "execution_count": 44,
   "id": "e34873fe-41df-4a36-a0ed-95074b1d03cf",
   "metadata": {},
   "outputs": [],
   "source": [
    "# plt.pcolormesh(PRISM_01[2, 64:196, 64:196], cmap=plt.cm.nipy_spectral_r)"
   ]
  },
  {
   "cell_type": "code",
   "execution_count": null,
   "id": "5406f2ea-8a64-4534-94dc-1ed02f2581ae",
   "metadata": {},
   "outputs": [],
   "source": []
  },
  {
   "cell_type": "code",
   "execution_count": null,
   "id": "02e6a518-4241-4518-ba31-2020e0533667",
   "metadata": {},
   "outputs": [],
   "source": []
  }
 ],
 "metadata": {
  "kernelspec": {
   "display_name": "Python 3 (ipykernel)",
   "language": "python",
   "name": "python3"
  },
  "language_info": {
   "codemirror_mode": {
    "name": "ipython",
    "version": 3
   },
   "file_extension": ".py",
   "mimetype": "text/x-python",
   "name": "python",
   "nbconvert_exporter": "python",
   "pygments_lexer": "ipython3",
   "version": "3.11.6"
  }
 },
 "nbformat": 4,
 "nbformat_minor": 5
}
