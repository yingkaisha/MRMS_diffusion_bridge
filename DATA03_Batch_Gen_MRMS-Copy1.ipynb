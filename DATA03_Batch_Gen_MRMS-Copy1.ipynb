{
 "cells": [
  {
   "cell_type": "code",
   "execution_count": 1,
   "id": "a1337b44-b1fa-4525-b783-bafc705ce988",
   "metadata": {},
   "outputs": [],
   "source": [
    "import os\n",
    "import sys\n",
    "import time\n",
    "import h5py\n",
    "import numpy as np\n",
    "from datetime import datetime, timedelta"
   ]
  },
  {
   "cell_type": "code",
   "execution_count": 2,
   "id": "ae6cd660-668e-4659-9aae-914824eb7a76",
   "metadata": {},
   "outputs": [],
   "source": [
    "import matplotlib.pyplot as plt\n",
    "%matplotlib inline"
   ]
  },
  {
   "cell_type": "code",
   "execution_count": 3,
   "id": "fe41c65b-ae6a-4058-a931-aa84d0859098",
   "metadata": {},
   "outputs": [],
   "source": [
    "sys.path.insert(0, '/glade/u/home/ksha/GAN_proj/')\n",
    "sys.path.insert(0, '/glade/u/home/ksha/GAN_proj/libs/')\n",
    "\n",
    "from namelist import *\n",
    "import data_utils as du"
   ]
  },
  {
   "cell_type": "code",
   "execution_count": 4,
   "id": "e0aa95c1-c60e-4144-ba4e-15eed1c7d437",
   "metadata": {},
   "outputs": [],
   "source": [
    "with h5py.File(save_dir+'CNN_domain.hdf', 'r') as h5io:\n",
    "    lon_01 = h5io['lon_01'][...]\n",
    "    lat_01 = h5io['lat_01'][...]"
   ]
  },
  {
   "cell_type": "code",
   "execution_count": 5,
   "id": "25687394-2703-4524-b194-79b3bac32ecb",
   "metadata": {},
   "outputs": [],
   "source": [
    "year = 2021\n",
    "BATCH_dir = '/glade/campaign/cisl/aiml/ksha/BATCH_MRMS/'"
   ]
  },
  {
   "cell_type": "code",
   "execution_count": 6,
   "id": "28702d0c-5cf8-4595-8708-426d08ee8ffc",
   "metadata": {},
   "outputs": [],
   "source": [
    "with h5py.File('/glade/campaign/cisl/aiml/ksha/GFS/MRMS_y{}.hdf'.format(year), 'r') as h5io:\n",
    "    MRMS = h5io['MRMS'][...]"
   ]
  },
  {
   "cell_type": "code",
   "execution_count": 7,
   "id": "5fd32e7b-bbab-49cb-9919-c535d14e5d95",
   "metadata": {},
   "outputs": [],
   "source": [
    "size = 128\n",
    "gap = 24\n",
    "grid_shape = (256, 576)"
   ]
  },
  {
   "cell_type": "code",
   "execution_count": 8,
   "id": "4ed1aa70-d15f-4133-9da2-f4cea19a0e8d",
   "metadata": {},
   "outputs": [],
   "source": [
    "N_hour = 3\n",
    "L = len(MRMS) - N_hour\n",
    "grid_shape = MRMS.shape[1:]"
   ]
  },
  {
   "cell_type": "code",
   "execution_count": 9,
   "id": "26cbc385-7a14-4d77-a6cb-be7da4433c51",
   "metadata": {
    "scrolled": true
   },
   "outputs": [],
   "source": [
    "batch_name = 'MRMS_y{}_day{}_ix{}_iy{}.npy'\n",
    "\n",
    "for i in range(L):\n",
    "    mrms = np.zeros(grid_shape)\n",
    "    for j in range(N_hour):\n",
    "        mrms += MRMS[i+j]\n",
    "        \n",
    "    if np.sum(np.isnan(mrms)) == 0:\n",
    "        for ix in range(0, grid_shape[0]+gap, gap):\n",
    "            for iy in range(0, grid_shape[1]+gap, gap):\n",
    "                ix_start = ix\n",
    "                ix_end = ix+size\n",
    "    \n",
    "                iy_start = iy\n",
    "                iy_end = iy+size\n",
    "    \n",
    "                if (ix_end < grid_shape[0]) and (iy_end < grid_shape[1]):\n",
    "                    mrms_save = mrms[ix_start:ix_end, iy_start:iy_end]\n",
    "    \n",
    "                    save_name = BATCH_dir+batch_name.format(year, i, ix, iy)\n",
    "                    #print(save_name)\n",
    "                    np.save(save_name, mrms_save)"
   ]
  },
  {
   "cell_type": "code",
   "execution_count": null,
   "id": "437c2308-a4a1-4849-8ab1-59ee62987d42",
   "metadata": {},
   "outputs": [],
   "source": []
  },
  {
   "cell_type": "code",
   "execution_count": null,
   "id": "f2f7c418-700f-4e03-8cf0-fe2a6652402f",
   "metadata": {},
   "outputs": [],
   "source": []
  },
  {
   "cell_type": "code",
   "execution_count": null,
   "id": "7630e7bb-0f89-442f-9827-3129491e8756",
   "metadata": {},
   "outputs": [],
   "source": []
  },
  {
   "cell_type": "code",
   "execution_count": null,
   "id": "c845ea81-3b11-4848-8a46-b89db757496f",
   "metadata": {},
   "outputs": [],
   "source": []
  },
  {
   "cell_type": "code",
   "execution_count": null,
   "id": "bf49046f-ad8e-4abd-ab64-fdf25209b2c3",
   "metadata": {},
   "outputs": [],
   "source": []
  }
 ],
 "metadata": {
  "kernelspec": {
   "display_name": "Python 3 (ipykernel)",
   "language": "python",
   "name": "python3"
  },
  "language_info": {
   "codemirror_mode": {
    "name": "ipython",
    "version": 3
   },
   "file_extension": ".py",
   "mimetype": "text/x-python",
   "name": "python",
   "nbconvert_exporter": "python",
   "pygments_lexer": "ipython3",
   "version": "3.10.13"
  }
 },
 "nbformat": 4,
 "nbformat_minor": 5
}
