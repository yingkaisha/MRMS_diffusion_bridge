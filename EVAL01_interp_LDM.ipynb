{
 "cells": [
  {
   "cell_type": "markdown",
   "id": "416d659d-f855-4959-a21e-cc9184711045",
   "metadata": {},
   "source": [
    "#  Interpolate LDM results to 0.25 deg"
   ]
  },
  {
   "cell_type": "code",
   "execution_count": 1,
   "id": "0583d348-7d7d-403c-a4f9-ffdb9e2727ea",
   "metadata": {},
   "outputs": [],
   "source": [
    "import os\n",
    "import sys\n",
    "import time\n",
    "import h5py\n",
    "\n",
    "import numpy as np\n",
    "from glob import glob\n",
    "\n",
    "from datetime import datetime, timedelta\n",
    "from scipy.interpolate import RegularGridInterpolator"
   ]
  },
  {
   "cell_type": "code",
   "execution_count": 2,
   "id": "97355ccb-f07d-42cf-a710-4731ac91ad5e",
   "metadata": {},
   "outputs": [],
   "source": [
    "sys.path.insert(0, '/glade/u/home/ksha/GAN_proj/')\n",
    "sys.path.insert(0, '/glade/u/home/ksha/GAN_proj/libs/')\n",
    "\n",
    "from namelist import *\n",
    "import data_utils as du"
   ]
  },
  {
   "cell_type": "code",
   "execution_count": 3,
   "id": "35fa4139-6ad8-4c72-8e8d-4ddde3beaaf5",
   "metadata": {},
   "outputs": [],
   "source": [
    "import matplotlib.pyplot as plt\n",
    "%matplotlib inline"
   ]
  },
  {
   "cell_type": "code",
   "execution_count": 4,
   "id": "91463876-2e87-4eb7-a0f1-0f481c9d8629",
   "metadata": {},
   "outputs": [],
   "source": [
    "with h5py.File(save_dir+'CNN_domain.hdf', 'r') as h5io:\n",
    "    lon_01 = h5io['lon_01'][...]\n",
    "    lat_01 = h5io['lat_01'][...]\n",
    "    lon_GFS = h5io['lon_GFS'][...]\n",
    "    lat_GFS = h5io['lat_GFS'][...]    "
   ]
  },
  {
   "cell_type": "code",
   "execution_count": 7,
   "id": "18f0d882-332b-49b9-9d51-02a9ea10f06f",
   "metadata": {},
   "outputs": [],
   "source": [
    "N_days = 300\n",
    "N_ens = 10\n",
    "grid_shape = lon_GFS.shape\n",
    "LEADs = [3, 6]#np.arange(3, 168+3, 3)"
   ]
  },
  {
   "cell_type": "code",
   "execution_count": 8,
   "id": "a6710789-9435-4f7c-93c7-3d4601aa6a5b",
   "metadata": {},
   "outputs": [],
   "source": [
    "base_name = '/glade/campaign/cisl/aiml/ksha/LDM_results/LDM_2023_ini{:02d}_lead{:02d}.hdf'\n",
    "save_name = 'LDM_025_2023_ini{:02d}_lead{:02d}.hdf'"
   ]
  },
  {
   "cell_type": "code",
   "execution_count": 9,
   "id": "b3c16b0a-7f02-4273-a761-0ffff71b3927",
   "metadata": {},
   "outputs": [
    {
     "name": "stdout",
     "output_type": "stream",
     "text": [
      "complete: LDM_025_2023_ini00_lead03.hdf\n",
      "Save to /glade/campaign/cisl/aiml/ksha/LDM_results/LDM_025_2023_ini00_lead03.hdf\n",
      "complete: LDM_025_2023_ini00_lead06.hdf\n",
      "Save to /glade/campaign/cisl/aiml/ksha/LDM_results/LDM_025_2023_ini00_lead06.hdf\n"
     ]
    }
   ],
   "source": [
    "Y_PRED = np.empty((N_days, N_ens,)+grid_shape); Y_PRED[...] = np.nan\n",
    "\n",
    "ini = 0\n",
    "for lead in LEADs:\n",
    "    with h5py.File(base_name.format(ini, lead), 'r') as h5io:\n",
    "        y_pred = h5io['MRMS_PRED'][...]\n",
    "\n",
    "    for day in range(N_days):\n",
    "        for n in range(N_ens):\n",
    "            y_pred_ = y_pred[day, n, ...]\n",
    "    \n",
    "            if np.sum(np.isnan(y_pred_)) > 0:\n",
    "                print('missing: day {}; ens {}'.format(day, n))\n",
    "        \n",
    "            else:\n",
    "                hr_to_lr = RegularGridInterpolator((lat_01[:, 0], lon_01[0, :]), y_pred_, \n",
    "                                                   bounds_error=False, fill_value=np.nan)\n",
    "                Y_PRED[day, n, ...] = hr_to_lr((lat_GFS, lon_GFS))\n",
    "            \n",
    "    \n",
    "    save_name_ = save_name.format(ini, lead)\n",
    "    print('complete: {}'.format(save_name_))\n",
    "    \n",
    "    tuple_save = (Y_PRED,)\n",
    "    label_save = ['Y_PRED',]\n",
    "    du.save_hdf5(tuple_save, label_save, '/glade/campaign/cisl/aiml/ksha/LDM_results/', save_name_)"
   ]
  },
  {
   "cell_type": "code",
   "execution_count": null,
   "id": "318e51bb-5982-41ec-9026-100d71288451",
   "metadata": {},
   "outputs": [],
   "source": []
  },
  {
   "cell_type": "code",
   "execution_count": 10,
   "id": "bfa9d898-04e9-44c5-871f-ced676edcb12",
   "metadata": {},
   "outputs": [],
   "source": [
    "with h5py.File('/glade/campaign/cisl/aiml/ksha/LDM_results/LDM_025_2023_ini00_lead06.hdf', 'r') as h5io:\n",
    "    Y_PRED_6 = h5io['Y_PRED'][...]"
   ]
  },
  {
   "cell_type": "code",
   "execution_count": 12,
   "id": "90b300fc-221b-41a8-befd-226b90d251b1",
   "metadata": {},
   "outputs": [
    {
     "data": {
      "text/plain": [
       "<matplotlib.collections.QuadMesh at 0x14f1f1deb790>"
      ]
     },
     "execution_count": 12,
     "metadata": {},
     "output_type": "execute_result"
    },
    {
     "data": {
      "image/png": "[encoded data removed]",
      "text/plain": [
       "<Figure size 640x480 with 1 Axes>"
      ]
     },
     "metadata": {},
     "output_type": "display_data"
    }
   ],
   "source": [
    "plt.pcolormesh(Y_PRED_6[100, , ...], vmin=0, vmax=10, cmap=plt.cm.nipy_spectral_r)"
   ]
  },
  {
   "cell_type": "code",
   "execution_count": null,
   "id": "1f625c06-8d51-457b-a6b4-2390312135aa",
   "metadata": {},
   "outputs": [],
   "source": []
  }
 ],
 "metadata": {
  "kernelspec": {
   "display_name": "Python 3 (ipykernel)",
   "language": "python",
   "name": "python3"
  },
  "language_info": {
   "codemirror_mode": {
    "name": "ipython",
    "version": 3
   },
   "file_extension": ".py",
   "mimetype": "text/x-python",
   "name": "python",
   "nbconvert_exporter": "python",
   "pygments_lexer": "ipython3",
   "version": "3.11.6"
  }
 },
 "nbformat": 4,
 "nbformat_minor": 5
}
