{
 "cells": [
  {
   "cell_type": "markdown",
   "id": "93b514f8-2474-4936-a38f-38b39644f2bf",
   "metadata": {},
   "source": [
    "# MRMS VQ-VAE network"
   ]
  },
  {
   "cell_type": "code",
   "execution_count": 1,
   "id": "64b842bb-810f-4bef-9858-b6ac22842cb3",
   "metadata": {},
   "outputs": [],
   "source": [
    "import os\n",
    "import sys\n",
    "import time\n",
    "import numpy as np\n",
    "from glob import glob\n",
    "\n",
    "import logging\n",
    "import warnings\n",
    "\n",
    "warnings.filterwarnings(\"ignore\")\n",
    "os.environ['TF_CPP_MIN_LOG_LEVEL'] = '3' \n",
    "logging.getLogger(\"tensorflow\").setLevel(logging.ERROR)\n",
    "\n",
    "import tensorflow as tf\n",
    "from tensorflow import keras\n",
    "from tensorflow.keras import layers\n",
    "\n",
    "tf.autograph.set_verbosity(0)\n",
    "tf.get_logger().setLevel('ERROR')"
   ]
  },
  {
   "cell_type": "code",
   "execution_count": 2,
   "id": "80277b2b-acd4-407e-b3f9-248580499865",
   "metadata": {},
   "outputs": [],
   "source": [
    "sys.path.insert(0, '/glade/u/home/ksha/GAN_proj/')\n",
    "sys.path.insert(0, '/glade/u/home/ksha/GAN_proj/libs/')\n",
    "\n",
    "from namelist import *\n",
    "import data_utils as du\n",
    "import vae_utils as vu\n",
    "import model_utils as mu"
   ]
  },
  {
   "cell_type": "code",
   "execution_count": 3,
   "id": "5d95d1e3-27fd-4475-8347-9629788a701e",
   "metadata": {},
   "outputs": [],
   "source": [
    "def precip_norm(x):\n",
    "    return np.log(x+1)"
   ]
  },
  {
   "cell_type": "markdown",
   "id": "a0caeb6a-e0b2-4e73-af21-03eb93001128",
   "metadata": {},
   "source": [
    "## Hyperparameters"
   ]
  },
  {
   "cell_type": "code",
   "execution_count": 5,
   "id": "8e13b863-2e65-4182-ae87-3ff6d697f4ba",
   "metadata": {},
   "outputs": [],
   "source": [
    "filter_nums = [64, 128] # number of convolution kernels per down-/upsampling layer \n",
    "latent_dim = 8 # number of latent feature channels\n",
    "activation = 'relu' # activation function\n",
    "num_embeddings = 128 # number of the VQ codes\n",
    "\n",
    "input_size = (128, 128, 1) # size of MRMS input\n",
    "latent_size = (32, 32, latent_dim) # size of compressed latent features\n",
    "\n",
    "load_weights = True\n",
    "\n",
    "# location of the previous weights\n",
    "model_name_load = '/glade/work/ksha/GAN/models/VQ_VAE_P128_{}_{}_L{}_N{}_{}_base'.format(\n",
    "    filter_nums[0], filter_nums[1], latent_dim, num_embeddings, activation)\n",
    "# location for saving new weights\n",
    "model_name_save = '/glade/work/ksha/GAN/models/VQ_VAE_P128_{}_{}_L{}_N{}_{}_base'.format(\n",
    "    filter_nums[0], filter_nums[1], latent_dim, num_embeddings, activation)\n",
    "\n",
    "lr = 1e-4 # learning rate\n",
    "# samples per epoch = N_batch * batch_size\n",
    "epochs = 99999\n",
    "N_batch = 64\n",
    "batch_size = 64"
   ]
  },
  {
   "cell_type": "markdown",
   "id": "f8fee2f5-ee75-42f5-aa97-47053690554c",
   "metadata": {},
   "source": [
    "## Model design"
   ]
  },
  {
   "cell_type": "code",
   "execution_count": 6,
   "id": "715b3b97-3e8c-4f10-a098-81a28705b643",
   "metadata": {},
   "outputs": [],
   "source": [
    "# print('tf.version = {}'.format(tf.__version__))\n",
    "# print('tf on GPU = {}'.format(tf.test.is_gpu_available()))"
   ]
  },
  {
   "cell_type": "code",
   "execution_count": 8,
   "id": "929ac238-2e14-415a-a805-e2114c96d4ac",
   "metadata": {},
   "outputs": [],
   "source": [
    "# ---------------- encoder ----------------- #\n",
    "\n",
    "encoder_in = keras.Input(shape=input_size)\n",
    "X = encoder_in\n",
    "\n",
    "X = layers.Conv2D(filter_nums[0], 3, padding=\"same\")(X)\n",
    "X = layers.BatchNormalization()(X)\n",
    "X = layers.Activation(activation)(X)\n",
    "\n",
    "X = layers.Conv2D(filter_nums[0], 3, strides=2, padding=\"same\")(X)\n",
    "X = layers.BatchNormalization()(X)\n",
    "X = layers.Activation(activation)(X)\n",
    "\n",
    "X = mu.resblock_vqvae(X, 3, filter_nums[0], activation)\n",
    "X = mu.resblock_vqvae(X, 3, filter_nums[0], activation)\n",
    "\n",
    "X = layers.Conv2D(filter_nums[1], 3, strides=2, padding=\"same\")(X)\n",
    "X = layers.BatchNormalization()(X)\n",
    "X = layers.Activation(activation)(X)\n",
    "\n",
    "X = mu.resblock_vqvae(X, 3, filter_nums[1], activation)\n",
    "X = mu.resblock_vqvae(X, 3, filter_nums[1], activation)\n",
    "\n",
    "encoder_out = layers.Conv2D(latent_dim, 1, padding=\"same\")(X)\n",
    "\n",
    "# # --- VQ layer config --- #\n",
    "vq_layer = vu.VectorQuantizer(num_embeddings, latent_dim)\n",
    "X_VQ = vq_layer(encoder_out)\n",
    "# # --- VQ layer config --- #\n",
    "\n",
    "model_encoder = keras.Model(encoder_in, X_VQ)\n",
    "\n",
    "# ---------------- decoder ----------------- #\n",
    "\n",
    "decoder_in = keras.Input(shape=latent_size)\n",
    "\n",
    "X = decoder_in\n",
    "\n",
    "X = layers.Conv2D(filter_nums[1], 1, padding=\"same\")(X)\n",
    "X = layers.BatchNormalization()(X)\n",
    "X = layers.Activation(activation)(X)\n",
    "\n",
    "X = layers.Conv2DTranspose(filter_nums[1], 3, strides=2, padding=\"same\")(X)\n",
    "X = layers.BatchNormalization()(X)\n",
    "X = layers.Activation(activation)(X)\n",
    "\n",
    "X = mu.resblock_vqvae(X, 3, filter_nums[1], activation)\n",
    "X = mu.resblock_vqvae(X, 3, filter_nums[1], activation)\n",
    "\n",
    "X = layers.Conv2DTranspose(filter_nums[0], 3, strides=2, padding=\"same\")(X)\n",
    "X = layers.BatchNormalization()(X)\n",
    "X = layers.Activation(activation)(X)\n",
    "\n",
    "X = mu.resblock_vqvae(X, 3, filter_nums[0], activation)\n",
    "X = mu.resblock_vqvae(X, 3, filter_nums[0], activation)\n",
    "\n",
    "decoder_out = layers.Conv2D(latent_dim, 1, padding=\"same\")(X)\n",
    "\n",
    "model_decoder = keras.Model(decoder_in, decoder_out)\n",
    "\n",
    "# ---------------- VQ-VAE ------------------ #\n",
    "IN = keras.Input(shape=input_size)\n",
    "X = IN\n",
    "X_VQ = model_encoder(X)\n",
    "# # --- VQ layer config --- #\n",
    "# vq_layer = vu.VectorQuantizer(num_embeddings, latent_dim)\n",
    "# X_VQ = vq_layer(X_encode)\n",
    "# # --- VQ layer config --- #\n",
    "OUT = model_decoder(X_VQ)\n",
    "model_vqvae = keras.Model(IN, OUT)\n",
    "\n",
    "# subclass to VAE training\n",
    "vqvae_trainer = vu.VQVAETrainer(model_vqvae, 1.0, latent_dim, num_embeddings)\n",
    "\n",
    "# load weights\n",
    "if load_weights:\n",
    "    W_old = mu.dummy_loader(model_name_load)\n",
    "    vqvae_trainer.vqvae.set_weights(W_old)\n",
    "\n",
    "# compile\n",
    "vqvae_trainer.compile(optimizer=keras.optimizers.Adam(learning_rate=lr))"
   ]
  },
  {
   "cell_type": "markdown",
   "id": "e44c8541-9c0b-437e-94a7-d93781afd44c",
   "metadata": {},
   "source": [
    "## Validation set preparation"
   ]
  },
  {
   "cell_type": "code",
   "execution_count": 9,
   "id": "824d94ff-3ee6-4ebb-b7f9-d835ae8bcffb",
   "metadata": {},
   "outputs": [],
   "source": [
    "# location of training data\n",
    "BATCH_dir = '/glade/campaign/cisl/aiml/ksha/BATCH_MRMS/'\n",
    "# validation set size\n",
    "L_valid = 100\n",
    "\n",
    "# collect validation set sampales\n",
    "filenames = np.array(sorted(glob(BATCH_dir+'*2020*.npy')))\n",
    "L = len(filenames)\n",
    "filename_valid = filenames[::8][:L_valid]\n",
    "filename_train = list(set(filenames) - set(filename_valid))\n",
    "L_train = len(filename_train)\n",
    "\n",
    "Y_valid = np.empty((L_valid, 128, 128, 1))\n",
    "for i, name in enumerate(filename_valid):\n",
    "    Y_valid[i, ..., 0] = precip_norm(np.load(name))"
   ]
  },
  {
   "cell_type": "markdown",
   "id": "713e59ca-6fa5-4824-b929-ae7caf8682d4",
   "metadata": {},
   "source": [
    "## Model training"
   ]
  },
  {
   "cell_type": "code",
   "execution_count": 1,
   "id": "3e6ba961-8075-41f0-b996-9fd32118c537",
   "metadata": {},
   "outputs": [],
   "source": [
    "# collect training samples\n",
    "BATCH_dir = '/glade/campaign/cisl/aiml/ksha/BATCH_GFS_MRMS/'\n",
    "filename_train = sorted(glob(BATCH_dir+'*.npy'))\n",
    "L_train = len(filename_train)\n",
    "\n",
    "min_del = 0.0\n",
    "max_tol = 3 # early stopping with 2-epoch patience\n",
    "tol = 0\n",
    "\n",
    "Y_batch = np.empty((batch_size, 128, 128, 1))\n",
    "Y_batch[...] = np.nan\n",
    "\n",
    "for i in range(epochs):\n",
    "    \n",
    "    # # model training with on-the-fly batch generation\n",
    "    # BATCH_dir = '/glade/campaign/cisl/aiml/ksha/BATCH_GFS_MRMS/'\n",
    "    # filename_train = sorted(glob(BATCH_dir+'*.npy'))\n",
    "    # L_train = len(filename_train)\n",
    "    \n",
    "    print('epoch = {}'.format(i))\n",
    "    if i == 0:\n",
    "        model_ = vqvae_trainer.vqvae\n",
    "        Y_pred = model_.predict(Y_valid)\n",
    "        record = du.mean_absolute_error(Y_valid, Y_pred)\n",
    "        print('Initial validation loss: {}'.format(record))\n",
    "    \n",
    "    start_time = time.time()\n",
    "    for j in range(N_batch):\n",
    "        \n",
    "        inds_rnd = du.shuffle_ind(L_train)\n",
    "        inds_ = inds_rnd[:batch_size]\n",
    "\n",
    "        for k, ind in enumerate(inds_):\n",
    "            # import batch data\n",
    "            name = filename_train[ind]\n",
    "            temp_data = np.load(name)\n",
    "            Y_batch[k, ..., 0] = temp_data[0, ..., 0]\n",
    "            \n",
    "        vqvae_trainer.fit(Y_batch, epochs=2, batch_size=16, verbose=0)\n",
    "        \n",
    "    # on epoch-end\n",
    "    model_ = vqvae_trainer.vqvae\n",
    "    Y_pred = model_.predict(Y_valid)\n",
    "    record_temp = du.mean_absolute_error(Y_valid, Y_pred)\n",
    "\n",
    "    if record - record_temp > min_del:\n",
    "        print('Validation loss improved from {} to {}'.format(record, record_temp))\n",
    "        record = record_temp\n",
    "        model_ = vqvae_trainer.vqvae\n",
    "        model_.save(model_name_save)\n",
    "        \n",
    "    else:\n",
    "        print('Validation loss {} NOT improved'.format(record_temp))\n",
    "\n",
    "    print(\"--- %s seconds ---\" % (time.time() - start_time))\n",
    "    # mannual callbacks"
   ]
  },
  {
   "cell_type": "markdown",
   "id": "eb623f7a-457a-4abc-a535-5697ef51b1ee",
   "metadata": {},
   "source": [
    "## Plot examples"
   ]
  },
  {
   "cell_type": "code",
   "execution_count": null,
   "id": "b5a7a912-5cab-471c-9363-83c0c5cd4549",
   "metadata": {},
   "outputs": [],
   "source": [
    "import matplotlib.pyplot as plt\n",
    "%matplotlib inline"
   ]
  },
  {
   "cell_type": "code",
   "execution_count": 17,
   "id": "4acd6155-b3eb-4f45-b890-97ffcf0fa92c",
   "metadata": {},
   "outputs": [
    {
     "name": "stdout",
     "output_type": "stream",
     "text": [
      "157/157 [==============================] - 7s 34ms/step\n"
     ]
    }
   ],
   "source": [
    "model_ = vqvae_trainer.vqvae\n",
    "Y_pred = model_.predict(Y_valid)"
   ]
  },
  {
   "cell_type": "code",
   "execution_count": 18,
   "id": "394f8069-4669-490a-9dc4-e2f70eedb06e",
   "metadata": {},
   "outputs": [
    {
     "data": {
      "text/plain": [
       "0.01196420194706302"
      ]
     },
     "execution_count": 18,
     "metadata": {},
     "output_type": "execute_result"
    }
   ],
   "source": [
    "du.mean_absolute_error(Y_valid, Y_pred)"
   ]
  },
  {
   "cell_type": "code",
   "execution_count": 19,
   "id": "ed2ef260-dde3-4994-a4ed-7d635a07eb16",
   "metadata": {},
   "outputs": [
    {
     "data": {
      "image/png": "[encoded data removed]",
      "text/plain": [
       "<Figure size 800x300 with 2 Axes>"
      ]
     },
     "metadata": {},
     "output_type": "display_data"
    },
    {
     "data": {
      "image/png": "[encoded data removed]",
      "text/plain": [
       "<Figure size 800x300 with 2 Axes>"
      ]
     },
     "metadata": {},
     "output_type": "display_data"
    },
    {
     "data": {
      "image/png": "[encoded data removed]",
      "text/plain": [
       "<Figure size 800x300 with 2 Axes>"
      ]
     },
     "metadata": {},
     "output_type": "display_data"
    },
    {
     "data": {
      "image/png": "[encoded data removed]",
      "text/plain": [
       "<Figure size 800x300 with 2 Axes>"
      ]
     },
     "metadata": {},
     "output_type": "display_data"
    },
    {
     "data": {
      "image/png": "[encoded data removed]",
      "text/plain": [
       "<Figure size 800x300 with 2 Axes>"
      ]
     },
     "metadata": {},
     "output_type": "display_data"
    },
    {
     "data": {
      "image/png": "[encoded data removed]",
      "text/plain": [
       "<Figure size 800x300 with 2 Axes>"
      ]
     },
     "metadata": {},
     "output_type": "display_data"
    },
    {
     "data": {
      "image/png": "[encoded data removed]",
      "text/plain": [
       "<Figure size 800x300 with 2 Axes>"
      ]
     },
     "metadata": {},
     "output_type": "display_data"
    },
    {
     "data": {
      "image/png": "[encoded data removed]",
      "text/plain": [
       "<Figure size 800x300 with 2 Axes>"
      ]
     },
     "metadata": {},
     "output_type": "display_data"
    },
    {
     "data": {
      "image/png": "[encoded data removed]",
      "text/plain": [
       "<Figure size 800x300 with 2 Axes>"
      ]
     },
     "metadata": {},
     "output_type": "display_data"
    },
    {
     "data": {
      "image/png": "[encoded data removed]",
      "text/plain": [
       "<Figure size 800x300 with 2 Axes>"
      ]
     },
     "metadata": {},
     "output_type": "display_data"
    }
   ],
   "source": [
    "for i in range(10):\n",
    "\n",
    "    fig, AX = plt.subplots(1, 2, figsize=(8, 3))\n",
    "    \n",
    "    for ax in AX:\n",
    "        ax.tick_params(axis=\"both\", which=\"both\", bottom=False, \n",
    "                       top=False, labelbottom=False, left=False,\n",
    "                       right=False, labelleft=False)\n",
    "    plt.tight_layout()\n",
    "    \n",
    "    AX[0].pcolormesh(Y_pred[i, ..., 0], vmin=0, vmax=3, cmap=plt.cm.nipy_spectral_r)\n",
    "    AX[1].pcolormesh(Y_valid[i, ..., 0], vmin=0, vmax=3, cmap=plt.cm.nipy_spectral_r)"
   ]
  },
  {
   "cell_type": "code",
   "execution_count": null,
   "id": "8227fe5f-80ec-40f9-be9c-04618277a5cb",
   "metadata": {},
   "outputs": [],
   "source": []
  },
  {
   "cell_type": "code",
   "execution_count": null,
   "id": "0150c149-5880-478d-8ed9-9d67cb6a98f0",
   "metadata": {},
   "outputs": [],
   "source": []
  },
  {
   "cell_type": "code",
   "execution_count": null,
   "id": "49f32831-defe-4e57-8345-1d473825d852",
   "metadata": {},
   "outputs": [],
   "source": []
  },
  {
   "cell_type": "code",
   "execution_count": null,
   "id": "26dfc467-a4da-40bb-b3ba-4ec2a3a7eb6d",
   "metadata": {},
   "outputs": [],
   "source": []
  }
 ],
 "metadata": {
  "kernelspec": {
   "display_name": "Python 3 (ipykernel)",
   "language": "python",
   "name": "python3"
  },
  "language_info": {
   "codemirror_mode": {
    "name": "ipython",
    "version": 3
   },
   "file_extension": ".py",
   "mimetype": "text/x-python",
   "name": "python",
   "nbconvert_exporter": "python",
   "pygments_lexer": "ipython3",
   "version": "3.10.13"
  }
 },
 "nbformat": 4,
 "nbformat_minor": 5
}
