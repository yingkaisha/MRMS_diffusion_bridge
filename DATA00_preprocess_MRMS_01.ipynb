{
 "cells": [
  {
   "cell_type": "code",
   "execution_count": null,
   "id": "0950723f-e260-4816-ad21-b294d5260488",
   "metadata": {},
   "outputs": [],
   "source": []
  },
  {
   "cell_type": "code",
   "execution_count": null,
   "id": "11b7d956-0810-4ec7-884f-53f02b67c4ac",
   "metadata": {},
   "outputs": [],
   "source": [
    "\n",
    "import os\n",
    "import sys\n",
    "import time\n",
    "import h5py\n",
    "import pygrib\n",
    "import numpy as np\n",
    "from datetime import datetime, timedelta\n",
    "\n",
    "sys.path.insert(0, '/glade/u/home/ksha/GAN_proj/')\n",
    "sys.path.insert(0, '/glade/u/home/ksha/GAN_proj/libs/')\n",
    "\n",
    "from namelist import *\n",
    "import data_utils as du\n"
   ]
  },
  {
   "cell_type": "code",
   "execution_count": null,
   "id": "f6264162-e376-4cf1-9027-cca13f3c40fb",
   "metadata": {},
   "outputs": [],
   "source": [
    "def spatial_agregate(data, size=10):\n",
    "    Nx, Ny = data.shape\n",
    "    Nxa = Nx // 10; Nya = Ny // 10\n",
    "    out = np.empty((Nxa, Nya))\n",
    "    \n",
    "    for i in range(Nxa):\n",
    "        for j in range(Nya):\n",
    "            out[i, j] = np.mean(data[i*size:(i*size+size), j*size:(j*size+size)])\n",
    "    return out"
   ]
  },
  {
   "cell_type": "code",
   "execution_count": null,
   "id": "ef402632-cae6-46a2-9a0e-6b92df72d1cb",
   "metadata": {},
   "outputs": [],
   "source": [
    "with h5py.File(save_dir+'CNN_domain.hdf', 'r') as h5io:\n",
    "    lon_01 = h5io['lon_01'][...]\n",
    "    lat_01 = h5io['lat_01'][...]\n",
    "\n",
    "year = 2020 #2021\n",
    "MRMS_dir = '/glade/campaign/cisl/aiml/ksha/MRMS_{}/'.format(year)\n",
    "\n",
    "base = datetime(year, 1, 1)\n",
    "date_list = [base + timedelta(hours=h) for h in range(366*24)]\n",
    "\n",
    "shape_grid = lon_01.shape\n",
    "MRMS_save = np.empty((len(date_list),)+shape_grid); MRMS_save[...] = np.nan\n",
    "\n",
    "for i_dt, dt in enumerate(date_list):\n",
    "    \n",
    "    dt_str = datetime.strftime(dt, '%Y%m%d-%H%M%S')\n",
    "    filename = MRMS_dir+'MRMS_MultiSensor_QPE_01H_Pass2_00.00_{}.grib2'.format(dt_str)\n",
    "    try:\n",
    "        with pygrib.open(filename) as grbio:\n",
    "            MRMS = grbio[1].values\n",
    "        MRMS = np.flipud(MRMS)\n",
    "        MRMS_save[i_dt, ...] = spatial_agregate(MRMS, size=10)[47:303, 53:629]\n",
    "    except:\n",
    "        print('{} not exist'.format(filename))\n",
    "\n",
    "tuple_save = (MRMS_save,)\n",
    "label_save = ['MRMS',]\n",
    "du.save_hdf5(tuple_save, label_save, '/glade/campaign/cisl/aiml/ksha/GFS/', 'MRMS_01H_y{}.hdf'.format(year))"
   ]
  },
  {
   "cell_type": "code",
   "execution_count": null,
   "id": "9319ba65-5611-414f-9dfb-0ca0fa324a6b",
   "metadata": {},
   "outputs": [],
   "source": []
  },
  {
   "cell_type": "code",
   "execution_count": null,
   "id": "a207fa45-5303-4deb-9afc-ff617b1e548b",
   "metadata": {},
   "outputs": [],
   "source": []
  },
  {
   "cell_type": "code",
   "execution_count": null,
   "id": "ac7ac492-d942-455d-90a2-c7f3ac36fa5e",
   "metadata": {},
   "outputs": [],
   "source": []
  },
  {
   "cell_type": "code",
   "execution_count": null,
   "id": "47901f52-d6e2-47b8-93aa-89985394d617",
   "metadata": {},
   "outputs": [],
   "source": []
  },
  {
   "cell_type": "code",
   "execution_count": null,
   "id": "61145911-d044-4c18-9c9d-9f512f310c27",
   "metadata": {},
   "outputs": [],
   "source": []
  },
  {
   "cell_type": "code",
   "execution_count": null,
   "id": "c8a7b925-4274-48d8-a27d-98152ea37476",
   "metadata": {},
   "outputs": [],
   "source": []
  }
 ],
 "metadata": {
  "kernelspec": {
   "display_name": "Python 3 (ipykernel)",
   "language": "python",
   "name": "python3"
  },
  "language_info": {
   "codemirror_mode": {
    "name": "ipython",
    "version": 3
   },
   "file_extension": ".py",
   "mimetype": "text/x-python",
   "name": "python",
   "nbconvert_exporter": "python",
   "pygments_lexer": "ipython3",
   "version": "3.11.6"
  }
 },
 "nbformat": 4,
 "nbformat_minor": 5
}
