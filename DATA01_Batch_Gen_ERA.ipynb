{
 "cells": [
  {
   "cell_type": "code",
   "execution_count": 1,
   "id": "a1337b44-b1fa-4525-b783-bafc705ce988",
   "metadata": {},
   "outputs": [],
   "source": [
    "import os\n",
    "import sys\n",
    "import time\n",
    "import h5py\n",
    "import pygrib\n",
    "import numpy as np\n",
    "import netCDF4 as nc\n",
    "from scipy.interpolate import interp2d\n",
    "from datetime import datetime, timedelta\n",
    "\n",
    "sys.path.insert(0, '/glade/u/home/ksha/GAN_proj/')\n",
    "sys.path.insert(0, '/glade/u/home/ksha/GAN_proj/libs/')\n",
    "\n",
    "from namelist import *\n",
    "import data_utils as du"
   ]
  },
  {
   "cell_type": "code",
   "execution_count": 2,
   "id": "ae6cd660-668e-4659-9aae-914824eb7a76",
   "metadata": {},
   "outputs": [],
   "source": [
    "import matplotlib.pyplot as plt\n",
    "%matplotlib inline"
   ]
  },
  {
   "cell_type": "code",
   "execution_count": 65,
   "id": "be733b04-e20e-40f3-86c0-fc8d700971c2",
   "metadata": {},
   "outputs": [],
   "source": [
    "def norm_precip(x):\n",
    "    return np.log(x+1)\n",
    "\n",
    "def norm_rh(x):\n",
    "    return 2*(x/100 - 0.5)\n",
    "\n",
    "def norm_t(x):\n",
    "    return (x-282.8)/16.2/2\n",
    "\n",
    "def norm_u(x):\n",
    "    return (x-0.67)/5.8/2\n",
    "\n",
    "def norm_pwat(x):\n",
    "    return (x-20.5)/16.3/2\n",
    "\n",
    "def norm_cape(x):\n",
    "    return x-101.4/328/2"
   ]
  },
  {
   "cell_type": "code",
   "execution_count": 66,
   "id": "acaab978-c922-41c2-bb9f-0f69dfd7bcb6",
   "metadata": {},
   "outputs": [
    {
     "data": {
      "text/plain": [
       "'/glade/campaign/cisl/aiml/ksha/BATCH_ERA5/'"
      ]
     },
     "execution_count": 66,
     "metadata": {},
     "output_type": "execute_result"
    }
   ],
   "source": [
    "BATCH_dir"
   ]
  },
  {
   "cell_type": "markdown",
   "id": "9f83ad1c-35fc-4d92-a1e0-d5c3305c25d6",
   "metadata": {},
   "source": [
    "**Batch gen 2021**"
   ]
  },
  {
   "cell_type": "code",
   "execution_count": 67,
   "id": "214e9ddc-db65-4fc6-9da4-0732601cf220",
   "metadata": {},
   "outputs": [],
   "source": [
    "BATCH_dir = '/glade/campaign/cisl/aiml/ksha/BATCH_ERA5/'\n",
    "\n",
    "year = 2021\n",
    "\n",
    "size_mrms = 128\n",
    "size_half = 64\n",
    "gap = 64 # samples will have at least 5 non-overlap grids on height and width dimensions \n",
    "thres_dry = 1.0 # 1.0 mm = rain on that grid\n",
    "thres_rain_cover = 0.33 # at least 25% of the grids should have rain\n",
    "thres_land_cover = 0.90 # at least 90% of the grids should stay within land\n",
    "thres_extreme = 30 # if a grid has 20 mm/hr or above, the sample will bypass \"thres_rain_cover\"\n",
    "thres_extreme_cover = 0.05 # if a grid has 20 mm/hr or above, the sample will bypass \"thres_rain_cover\""
   ]
  },
  {
   "cell_type": "code",
   "execution_count": 68,
   "id": "6de442b1-9cb2-437e-9bf2-d187217d7802",
   "metadata": {},
   "outputs": [],
   "source": [
    "base = datetime(year, 1, 1)\n",
    "date_list = [base + timedelta(hours=day) for day in range(365*24)]"
   ]
  },
  {
   "cell_type": "code",
   "execution_count": 125,
   "id": "c9997c1a-ba40-4ce5-a383-6a8b0d1e9ebd",
   "metadata": {},
   "outputs": [],
   "source": [
    "with h5py.File(save_dir+'MRMS_ERA5_domain.hdf', 'r') as h5io:\n",
    "    lon_ERA5 = h5io['lon_ERA5'][...]\n",
    "    lat_ERA5 = h5io['lat_ERA5'][...]\n",
    "    lon_MRMS = h5io['lon_MRMS'][...]\n",
    "    lat_MRMS = h5io['lat_MRMS'][...]\n",
    "    land_mask_MRMS = h5io['land_mask_MRMS'][...]\n",
    "    elev_MRMS = h5io['elev_MRMS'][...]\n",
    "    indx = h5io['MRMS_to_ERA5_indx'][...]\n",
    "    indy = h5io['MRMS_to_ERA5_indy'][...]\n",
    "\n",
    "elev_MRMS[elev_MRMS<0] = 0\n",
    "elev_MRMS = elev_MRMS/2000 - 1"
   ]
  },
  {
   "cell_type": "code",
   "execution_count": 126,
   "id": "ebfd6958-f98c-4bd8-9b86-c1db4e01f42b",
   "metadata": {},
   "outputs": [
    {
     "data": {
      "text/plain": [
       "1.0354999181186284"
      ]
     },
     "execution_count": 126,
     "metadata": {},
     "output_type": "execute_result"
    }
   ],
   "source": [
    "np.max(elev_MRMS)"
   ]
  },
  {
   "cell_type": "code",
   "execution_count": 70,
   "id": "418204af-4166-492c-b636-6debe215e46a",
   "metadata": {},
   "outputs": [],
   "source": [
    "with h5py.File(save_dir+'MRMS_RQI_example.hdf', 'r') as h5io:\n",
    "    RQI = h5io['RQI'][...]"
   ]
  },
  {
   "cell_type": "markdown",
   "id": "b292826a-3118-4f84-bfa0-af2482789b6c",
   "metadata": {},
   "source": [
    "**generating batches**"
   ]
  },
  {
   "cell_type": "code",
   "execution_count": 71,
   "id": "121cf871-681f-4e9b-b4df-3e37de2e6f48",
   "metadata": {},
   "outputs": [],
   "source": [
    "x_mrms = 3500\n",
    "y_mrms = 7000\n",
    "N_grids = size_mrms*size_mrms\n",
    "batch_file_name = 'ERA5_y{:04d}_dt{:04d}_i{:04d}_j{:04d}.npy'"
   ]
  },
  {
   "cell_type": "code",
   "execution_count": 97,
   "id": "f2c61ebe-d1ca-422d-9763-8d9cb812c1f5",
   "metadata": {},
   "outputs": [
    {
     "name": "stdout",
     "output_type": "stream",
     "text": [
      "/glade/campaign/cisl/aiml/ksha/BATCH_ERA5/ERA5_year2021_dt0000_i0704_j4096.npy\n",
      "/glade/campaign/cisl/aiml/ksha/BATCH_ERA5/ERA5_year2021_dt0000_i0768_j4096.npy\n",
      "/glade/campaign/cisl/aiml/ksha/BATCH_ERA5/ERA5_year2021_dt0000_i0768_j4160.npy\n",
      "/glade/campaign/cisl/aiml/ksha/BATCH_ERA5/ERA5_year2021_dt0000_i0832_j3520.npy\n",
      "/glade/campaign/cisl/aiml/ksha/BATCH_ERA5/ERA5_year2021_dt0000_i0832_j3584.npy\n",
      "/glade/campaign/cisl/aiml/ksha/BATCH_ERA5/ERA5_year2021_dt0000_i0832_j4096.npy\n",
      "/glade/campaign/cisl/aiml/ksha/BATCH_ERA5/ERA5_year2021_dt0000_i0832_j4160.npy\n",
      "/glade/campaign/cisl/aiml/ksha/BATCH_ERA5/ERA5_year2021_dt0000_i0832_j4224.npy\n",
      "/glade/campaign/cisl/aiml/ksha/BATCH_ERA5/ERA5_year2021_dt0000_i0832_j4288.npy\n",
      "/glade/campaign/cisl/aiml/ksha/BATCH_ERA5/ERA5_year2021_dt0000_i0896_j3520.npy\n",
      "/glade/campaign/cisl/aiml/ksha/BATCH_ERA5/ERA5_year2021_dt0000_i0896_j3584.npy\n",
      "/glade/campaign/cisl/aiml/ksha/BATCH_ERA5/ERA5_year2021_dt0000_i0896_j3904.npy\n",
      "/glade/campaign/cisl/aiml/ksha/BATCH_ERA5/ERA5_year2021_dt0000_i0896_j3968.npy\n",
      "/glade/campaign/cisl/aiml/ksha/BATCH_ERA5/ERA5_year2021_dt0000_i0896_j4160.npy\n",
      "/glade/campaign/cisl/aiml/ksha/BATCH_ERA5/ERA5_year2021_dt0000_i0896_j4224.npy\n",
      "/glade/campaign/cisl/aiml/ksha/BATCH_ERA5/ERA5_year2021_dt0000_i0896_j4288.npy\n",
      "/glade/campaign/cisl/aiml/ksha/BATCH_ERA5/ERA5_year2021_dt0000_i0960_j2816.npy\n",
      "/glade/campaign/cisl/aiml/ksha/BATCH_ERA5/ERA5_year2021_dt0000_i0960_j2880.npy\n",
      "/glade/campaign/cisl/aiml/ksha/BATCH_ERA5/ERA5_year2021_dt0000_i0960_j2944.npy\n",
      "/glade/campaign/cisl/aiml/ksha/BATCH_ERA5/ERA5_year2021_dt0000_i0960_j3008.npy\n",
      "/glade/campaign/cisl/aiml/ksha/BATCH_ERA5/ERA5_year2021_dt0000_i0960_j3520.npy\n",
      "/glade/campaign/cisl/aiml/ksha/BATCH_ERA5/ERA5_year2021_dt0000_i0960_j3584.npy\n",
      "/glade/campaign/cisl/aiml/ksha/BATCH_ERA5/ERA5_year2021_dt0000_i0960_j3840.npy\n",
      "/glade/campaign/cisl/aiml/ksha/BATCH_ERA5/ERA5_year2021_dt0000_i0960_j3904.npy\n",
      "/glade/campaign/cisl/aiml/ksha/BATCH_ERA5/ERA5_year2021_dt0000_i0960_j3968.npy\n",
      "/glade/campaign/cisl/aiml/ksha/BATCH_ERA5/ERA5_year2021_dt0000_i0960_j4160.npy\n",
      "/glade/campaign/cisl/aiml/ksha/BATCH_ERA5/ERA5_year2021_dt0000_i0960_j4224.npy\n",
      "/glade/campaign/cisl/aiml/ksha/BATCH_ERA5/ERA5_year2021_dt0000_i1024_j2752.npy\n",
      "/glade/campaign/cisl/aiml/ksha/BATCH_ERA5/ERA5_year2021_dt0000_i1024_j2816.npy\n",
      "/glade/campaign/cisl/aiml/ksha/BATCH_ERA5/ERA5_year2021_dt0000_i1024_j2880.npy\n",
      "/glade/campaign/cisl/aiml/ksha/BATCH_ERA5/ERA5_year2021_dt0000_i1024_j2944.npy\n",
      "/glade/campaign/cisl/aiml/ksha/BATCH_ERA5/ERA5_year2021_dt0000_i1024_j3008.npy\n",
      "/glade/campaign/cisl/aiml/ksha/BATCH_ERA5/ERA5_year2021_dt0000_i1024_j3072.npy\n",
      "/glade/campaign/cisl/aiml/ksha/BATCH_ERA5/ERA5_year2021_dt0000_i1024_j3136.npy\n",
      "/glade/campaign/cisl/aiml/ksha/BATCH_ERA5/ERA5_year2021_dt0000_i1024_j3200.npy\n",
      "/glade/campaign/cisl/aiml/ksha/BATCH_ERA5/ERA5_year2021_dt0000_i1024_j3456.npy\n",
      "/glade/campaign/cisl/aiml/ksha/BATCH_ERA5/ERA5_year2021_dt0000_i1024_j3520.npy\n",
      "/glade/campaign/cisl/aiml/ksha/BATCH_ERA5/ERA5_year2021_dt0000_i1024_j3584.npy\n",
      "/glade/campaign/cisl/aiml/ksha/BATCH_ERA5/ERA5_year2021_dt0000_i1024_j3776.npy\n",
      "/glade/campaign/cisl/aiml/ksha/BATCH_ERA5/ERA5_year2021_dt0000_i1024_j3840.npy\n",
      "/glade/campaign/cisl/aiml/ksha/BATCH_ERA5/ERA5_year2021_dt0000_i1024_j3904.npy\n",
      "/glade/campaign/cisl/aiml/ksha/BATCH_ERA5/ERA5_year2021_dt0000_i1024_j3968.npy\n",
      "/glade/campaign/cisl/aiml/ksha/BATCH_ERA5/ERA5_year2021_dt0000_i1024_j4032.npy\n",
      "/glade/campaign/cisl/aiml/ksha/BATCH_ERA5/ERA5_year2021_dt0000_i1088_j2752.npy\n",
      "/glade/campaign/cisl/aiml/ksha/BATCH_ERA5/ERA5_year2021_dt0000_i1088_j2816.npy\n",
      "/glade/campaign/cisl/aiml/ksha/BATCH_ERA5/ERA5_year2021_dt0000_i1088_j2880.npy\n",
      "/glade/campaign/cisl/aiml/ksha/BATCH_ERA5/ERA5_year2021_dt0000_i1088_j2944.npy\n",
      "/glade/campaign/cisl/aiml/ksha/BATCH_ERA5/ERA5_year2021_dt0000_i1088_j3008.npy\n",
      "/glade/campaign/cisl/aiml/ksha/BATCH_ERA5/ERA5_year2021_dt0000_i1088_j3072.npy\n",
      "/glade/campaign/cisl/aiml/ksha/BATCH_ERA5/ERA5_year2021_dt0000_i1088_j3136.npy\n",
      "/glade/campaign/cisl/aiml/ksha/BATCH_ERA5/ERA5_year2021_dt0000_i1088_j3200.npy\n",
      "/glade/campaign/cisl/aiml/ksha/BATCH_ERA5/ERA5_year2021_dt0000_i1088_j3456.npy\n",
      "/glade/campaign/cisl/aiml/ksha/BATCH_ERA5/ERA5_year2021_dt0000_i1088_j3520.npy\n",
      "/glade/campaign/cisl/aiml/ksha/BATCH_ERA5/ERA5_year2021_dt0000_i1088_j3584.npy\n",
      "/glade/campaign/cisl/aiml/ksha/BATCH_ERA5/ERA5_year2021_dt0000_i1088_j3712.npy\n",
      "/glade/campaign/cisl/aiml/ksha/BATCH_ERA5/ERA5_year2021_dt0000_i1088_j3776.npy\n",
      "/glade/campaign/cisl/aiml/ksha/BATCH_ERA5/ERA5_year2021_dt0000_i1088_j3840.npy\n",
      "/glade/campaign/cisl/aiml/ksha/BATCH_ERA5/ERA5_year2021_dt0000_i1088_j3904.npy\n",
      "/glade/campaign/cisl/aiml/ksha/BATCH_ERA5/ERA5_year2021_dt0000_i1088_j3968.npy\n",
      "/glade/campaign/cisl/aiml/ksha/BATCH_ERA5/ERA5_year2021_dt0000_i1088_j4032.npy\n",
      "/glade/campaign/cisl/aiml/ksha/BATCH_ERA5/ERA5_year2021_dt0000_i1152_j2752.npy\n",
      "/glade/campaign/cisl/aiml/ksha/BATCH_ERA5/ERA5_year2021_dt0000_i1152_j2816.npy\n",
      "/glade/campaign/cisl/aiml/ksha/BATCH_ERA5/ERA5_year2021_dt0000_i1152_j2880.npy\n",
      "/glade/campaign/cisl/aiml/ksha/BATCH_ERA5/ERA5_year2021_dt0000_i1152_j2944.npy\n",
      "/glade/campaign/cisl/aiml/ksha/BATCH_ERA5/ERA5_year2021_dt0000_i1152_j3008.npy\n",
      "/glade/campaign/cisl/aiml/ksha/BATCH_ERA5/ERA5_year2021_dt0000_i1152_j3072.npy\n",
      "/glade/campaign/cisl/aiml/ksha/BATCH_ERA5/ERA5_year2021_dt0000_i1152_j3136.npy\n",
      "/glade/campaign/cisl/aiml/ksha/BATCH_ERA5/ERA5_year2021_dt0000_i1152_j3392.npy\n",
      "/glade/campaign/cisl/aiml/ksha/BATCH_ERA5/ERA5_year2021_dt0000_i1152_j3456.npy\n",
      "/glade/campaign/cisl/aiml/ksha/BATCH_ERA5/ERA5_year2021_dt0000_i1152_j3520.npy\n",
      "/glade/campaign/cisl/aiml/ksha/BATCH_ERA5/ERA5_year2021_dt0000_i1152_j3584.npy\n",
      "/glade/campaign/cisl/aiml/ksha/BATCH_ERA5/ERA5_year2021_dt0000_i1152_j3712.npy\n",
      "/glade/campaign/cisl/aiml/ksha/BATCH_ERA5/ERA5_year2021_dt0000_i1152_j3776.npy\n",
      "/glade/campaign/cisl/aiml/ksha/BATCH_ERA5/ERA5_year2021_dt0000_i1152_j3840.npy\n",
      "/glade/campaign/cisl/aiml/ksha/BATCH_ERA5/ERA5_year2021_dt0000_i1152_j3904.npy\n",
      "/glade/campaign/cisl/aiml/ksha/BATCH_ERA5/ERA5_year2021_dt0000_i1152_j3968.npy\n",
      "/glade/campaign/cisl/aiml/ksha/BATCH_ERA5/ERA5_year2021_dt0000_i1216_j2752.npy\n",
      "/glade/campaign/cisl/aiml/ksha/BATCH_ERA5/ERA5_year2021_dt0000_i1216_j2816.npy\n",
      "/glade/campaign/cisl/aiml/ksha/BATCH_ERA5/ERA5_year2021_dt0000_i1216_j2880.npy\n",
      "/glade/campaign/cisl/aiml/ksha/BATCH_ERA5/ERA5_year2021_dt0000_i1216_j2944.npy\n",
      "/glade/campaign/cisl/aiml/ksha/BATCH_ERA5/ERA5_year2021_dt0000_i1216_j3008.npy\n",
      "/glade/campaign/cisl/aiml/ksha/BATCH_ERA5/ERA5_year2021_dt0000_i1216_j3072.npy\n",
      "/glade/campaign/cisl/aiml/ksha/BATCH_ERA5/ERA5_year2021_dt0000_i1216_j3200.npy\n",
      "/glade/campaign/cisl/aiml/ksha/BATCH_ERA5/ERA5_year2021_dt0000_i1216_j3264.npy\n",
      "/glade/campaign/cisl/aiml/ksha/BATCH_ERA5/ERA5_year2021_dt0000_i1216_j3328.npy\n",
      "/glade/campaign/cisl/aiml/ksha/BATCH_ERA5/ERA5_year2021_dt0000_i1216_j3392.npy\n",
      "/glade/campaign/cisl/aiml/ksha/BATCH_ERA5/ERA5_year2021_dt0000_i1216_j3456.npy\n",
      "/glade/campaign/cisl/aiml/ksha/BATCH_ERA5/ERA5_year2021_dt0000_i1216_j3520.npy\n",
      "/glade/campaign/cisl/aiml/ksha/BATCH_ERA5/ERA5_year2021_dt0000_i1216_j3584.npy\n",
      "/glade/campaign/cisl/aiml/ksha/BATCH_ERA5/ERA5_year2021_dt0000_i1216_j3648.npy\n",
      "/glade/campaign/cisl/aiml/ksha/BATCH_ERA5/ERA5_year2021_dt0000_i1216_j3712.npy\n",
      "/glade/campaign/cisl/aiml/ksha/BATCH_ERA5/ERA5_year2021_dt0000_i1216_j3776.npy\n",
      "/glade/campaign/cisl/aiml/ksha/BATCH_ERA5/ERA5_year2021_dt0000_i1216_j3840.npy\n",
      "/glade/campaign/cisl/aiml/ksha/BATCH_ERA5/ERA5_year2021_dt0000_i1280_j2816.npy\n",
      "/glade/campaign/cisl/aiml/ksha/BATCH_ERA5/ERA5_year2021_dt0000_i1280_j2880.npy\n",
      "/glade/campaign/cisl/aiml/ksha/BATCH_ERA5/ERA5_year2021_dt0000_i1280_j2944.npy\n",
      "/glade/campaign/cisl/aiml/ksha/BATCH_ERA5/ERA5_year2021_dt0000_i1280_j3008.npy\n",
      "/glade/campaign/cisl/aiml/ksha/BATCH_ERA5/ERA5_year2021_dt0000_i1280_j3072.npy\n",
      "/glade/campaign/cisl/aiml/ksha/BATCH_ERA5/ERA5_year2021_dt0000_i1280_j3136.npy\n",
      "/glade/campaign/cisl/aiml/ksha/BATCH_ERA5/ERA5_year2021_dt0000_i1280_j3200.npy\n",
      "/glade/campaign/cisl/aiml/ksha/BATCH_ERA5/ERA5_year2021_dt0000_i1280_j3264.npy\n",
      "/glade/campaign/cisl/aiml/ksha/BATCH_ERA5/ERA5_year2021_dt0000_i1280_j3328.npy\n",
      "/glade/campaign/cisl/aiml/ksha/BATCH_ERA5/ERA5_year2021_dt0000_i1280_j3392.npy\n",
      "/glade/campaign/cisl/aiml/ksha/BATCH_ERA5/ERA5_year2021_dt0000_i1280_j3456.npy\n",
      "/glade/campaign/cisl/aiml/ksha/BATCH_ERA5/ERA5_year2021_dt0000_i1280_j3520.npy\n",
      "/glade/campaign/cisl/aiml/ksha/BATCH_ERA5/ERA5_year2021_dt0000_i1280_j3584.npy\n",
      "/glade/campaign/cisl/aiml/ksha/BATCH_ERA5/ERA5_year2021_dt0000_i1280_j3648.npy\n",
      "/glade/campaign/cisl/aiml/ksha/BATCH_ERA5/ERA5_year2021_dt0000_i1280_j3712.npy\n",
      "/glade/campaign/cisl/aiml/ksha/BATCH_ERA5/ERA5_year2021_dt0000_i1280_j3776.npy\n",
      "/glade/campaign/cisl/aiml/ksha/BATCH_ERA5/ERA5_year2021_dt0000_i1280_j3840.npy\n",
      "/glade/campaign/cisl/aiml/ksha/BATCH_ERA5/ERA5_year2021_dt0000_i1280_j4864.npy\n",
      "/glade/campaign/cisl/aiml/ksha/BATCH_ERA5/ERA5_year2021_dt0000_i1280_j4928.npy\n",
      "/glade/campaign/cisl/aiml/ksha/BATCH_ERA5/ERA5_year2021_dt0000_i1344_j3008.npy\n",
      "/glade/campaign/cisl/aiml/ksha/BATCH_ERA5/ERA5_year2021_dt0000_i1344_j3072.npy\n",
      "/glade/campaign/cisl/aiml/ksha/BATCH_ERA5/ERA5_year2021_dt0000_i1344_j3136.npy\n",
      "/glade/campaign/cisl/aiml/ksha/BATCH_ERA5/ERA5_year2021_dt0000_i1344_j3200.npy\n",
      "/glade/campaign/cisl/aiml/ksha/BATCH_ERA5/ERA5_year2021_dt0000_i1344_j3264.npy\n",
      "/glade/campaign/cisl/aiml/ksha/BATCH_ERA5/ERA5_year2021_dt0000_i1344_j3328.npy\n",
      "/glade/campaign/cisl/aiml/ksha/BATCH_ERA5/ERA5_year2021_dt0000_i1344_j3392.npy\n",
      "/glade/campaign/cisl/aiml/ksha/BATCH_ERA5/ERA5_year2021_dt0000_i1344_j3456.npy\n",
      "/glade/campaign/cisl/aiml/ksha/BATCH_ERA5/ERA5_year2021_dt0000_i1344_j3520.npy\n",
      "/glade/campaign/cisl/aiml/ksha/BATCH_ERA5/ERA5_year2021_dt0000_i1344_j3584.npy\n",
      "/glade/campaign/cisl/aiml/ksha/BATCH_ERA5/ERA5_year2021_dt0000_i1344_j3648.npy\n",
      "/glade/campaign/cisl/aiml/ksha/BATCH_ERA5/ERA5_year2021_dt0000_i1344_j3712.npy\n",
      "/glade/campaign/cisl/aiml/ksha/BATCH_ERA5/ERA5_year2021_dt0000_i1344_j3776.npy\n",
      "/glade/campaign/cisl/aiml/ksha/BATCH_ERA5/ERA5_year2021_dt0000_i1344_j4928.npy\n",
      "/glade/campaign/cisl/aiml/ksha/BATCH_ERA5/ERA5_year2021_dt0000_i1344_j5056.npy\n",
      "/glade/campaign/cisl/aiml/ksha/BATCH_ERA5/ERA5_year2021_dt0000_i1344_j5120.npy\n",
      "/glade/campaign/cisl/aiml/ksha/BATCH_ERA5/ERA5_year2021_dt0000_i1344_j5184.npy\n",
      "/glade/campaign/cisl/aiml/ksha/BATCH_ERA5/ERA5_year2021_dt0000_i1408_j3008.npy\n",
      "/glade/campaign/cisl/aiml/ksha/BATCH_ERA5/ERA5_year2021_dt0000_i1408_j3072.npy\n",
      "/glade/campaign/cisl/aiml/ksha/BATCH_ERA5/ERA5_year2021_dt0000_i1408_j3136.npy\n",
      "/glade/campaign/cisl/aiml/ksha/BATCH_ERA5/ERA5_year2021_dt0000_i1408_j3200.npy\n",
      "/glade/campaign/cisl/aiml/ksha/BATCH_ERA5/ERA5_year2021_dt0000_i1408_j3264.npy\n",
      "/glade/campaign/cisl/aiml/ksha/BATCH_ERA5/ERA5_year2021_dt0000_i1408_j3328.npy\n",
      "/glade/campaign/cisl/aiml/ksha/BATCH_ERA5/ERA5_year2021_dt0000_i1408_j3392.npy\n",
      "/glade/campaign/cisl/aiml/ksha/BATCH_ERA5/ERA5_year2021_dt0000_i1408_j3456.npy\n",
      "/glade/campaign/cisl/aiml/ksha/BATCH_ERA5/ERA5_year2021_dt0000_i1408_j3520.npy\n",
      "/glade/campaign/cisl/aiml/ksha/BATCH_ERA5/ERA5_year2021_dt0000_i1408_j3584.npy\n",
      "/glade/campaign/cisl/aiml/ksha/BATCH_ERA5/ERA5_year2021_dt0000_i1408_j3648.npy\n",
      "/glade/campaign/cisl/aiml/ksha/BATCH_ERA5/ERA5_year2021_dt0000_i1408_j5056.npy\n",
      "/glade/campaign/cisl/aiml/ksha/BATCH_ERA5/ERA5_year2021_dt0000_i1408_j5120.npy\n",
      "/glade/campaign/cisl/aiml/ksha/BATCH_ERA5/ERA5_year2021_dt0000_i1408_j5184.npy\n",
      "/glade/campaign/cisl/aiml/ksha/BATCH_ERA5/ERA5_year2021_dt0000_i1408_j5248.npy\n",
      "/glade/campaign/cisl/aiml/ksha/BATCH_ERA5/ERA5_year2021_dt0000_i1472_j3136.npy\n",
      "/glade/campaign/cisl/aiml/ksha/BATCH_ERA5/ERA5_year2021_dt0000_i1472_j3200.npy\n",
      "/glade/campaign/cisl/aiml/ksha/BATCH_ERA5/ERA5_year2021_dt0000_i1472_j3264.npy\n",
      "/glade/campaign/cisl/aiml/ksha/BATCH_ERA5/ERA5_year2021_dt0000_i1472_j3328.npy\n",
      "/glade/campaign/cisl/aiml/ksha/BATCH_ERA5/ERA5_year2021_dt0000_i1472_j3392.npy\n",
      "/glade/campaign/cisl/aiml/ksha/BATCH_ERA5/ERA5_year2021_dt0000_i1472_j3456.npy\n",
      "/glade/campaign/cisl/aiml/ksha/BATCH_ERA5/ERA5_year2021_dt0000_i1472_j3520.npy\n",
      "/glade/campaign/cisl/aiml/ksha/BATCH_ERA5/ERA5_year2021_dt0000_i1472_j5120.npy\n",
      "/glade/campaign/cisl/aiml/ksha/BATCH_ERA5/ERA5_year2021_dt0000_i1472_j5184.npy\n",
      "/glade/campaign/cisl/aiml/ksha/BATCH_ERA5/ERA5_year2021_dt0000_i1472_j5248.npy\n",
      "/glade/campaign/cisl/aiml/ksha/BATCH_ERA5/ERA5_year2021_dt0000_i1472_j5312.npy\n",
      "/glade/campaign/cisl/aiml/ksha/BATCH_ERA5/ERA5_year2021_dt0000_i1536_j3136.npy\n",
      "/glade/campaign/cisl/aiml/ksha/BATCH_ERA5/ERA5_year2021_dt0000_i1536_j3328.npy\n",
      "/glade/campaign/cisl/aiml/ksha/BATCH_ERA5/ERA5_year2021_dt0000_i1536_j3392.npy\n",
      "/glade/campaign/cisl/aiml/ksha/BATCH_ERA5/ERA5_year2021_dt0000_i1536_j3456.npy\n",
      "/glade/campaign/cisl/aiml/ksha/BATCH_ERA5/ERA5_year2021_dt0000_i1536_j5184.npy\n"
     ]
    }
   ],
   "source": [
    "x_ERA5 = 361\n",
    "y_ERA5 = 721\n",
    "\n",
    "x_lr6 = np.linspace(0, 1, 6)\n",
    "x_lr7 = np.linspace(0, 1, 7)\n",
    "x_hr = x_hr128 = np.linspace(0, 1, 128)\n",
    "\n",
    "nc_name_t = ERA5_dir+'ERA5_t2m_2021_bottom_layers.nc'\n",
    "nc_name_u = ERA5_dir+'ERA5_u_2021_bottom_layers.nc'\n",
    "nc_name_rh = ERA5_dir+'ERA5_rh_2021_bottom_layers.nc'\n",
    "nc_name_apcp = ERA5_dir+'ERA5_APCP_2021.nc' #tp m (not mm)\n",
    "nc_name_pwat = ERA5_dir+'ERA5_PWAT_2021.nc' # tcw kg m**-2 (= mm)\n",
    "nc_name_cape = ERA5_dir+'ERA5_CAPE_2021.nc' # cape\n",
    "\n",
    "batch_file_name = 'ERA5_year{:04d}_dt{:04d}_i{:04d}_j{:04d}.npy'\n",
    "\n",
    "data = np.empty((1, size_mrms, size_mrms, 9))\n",
    "# 0MRMS HR precip\n",
    "# 1MRMS LR precip\n",
    "# 2ERA5 Precip\n",
    "# 3CAPE\n",
    "# 4PWAT\n",
    "# 5RH\n",
    "# 6U\n",
    "# 7T\n",
    "# 8elev\n",
    "\n",
    "with nc.Dataset(nc_name_apcp) as ncio_apcp:\n",
    "    with nc.Dataset(nc_name_pwat) as ncio_pwat:\n",
    "        with nc.Dataset(nc_name_cape) as ncio_cape:\n",
    "            with nc.Dataset(nc_name_t) as ncio_t:\n",
    "                with nc.Dataset(nc_name_u) as ncio_u:\n",
    "                    with nc.Dataset(nc_name_rh) as ncio_rh:\n",
    "                        # Main section\n",
    "                        for i_dt, dt in enumerate(date_list[:1]):\n",
    "                            dt_str = datetime.strftime(dt, '%Y%m%d-%H%M%S')\n",
    "                            name_ = 'MRMS_MultiSensor_QPE_01H_Pass2_00.00_{}.grib2'.format(dt_str)\n",
    "                            filename = MRMS_dir + name_\n",
    "                            \n",
    "                            if os.path.isfile(filename):\n",
    "                                with pygrib.open(filename) as grbio:\n",
    "                                    MRMS = grbio[1].values\n",
    "                                # flip --> lower latitude at the bottom\n",
    "                                MRMS = np.flipud(MRMS)\n",
    "                        \n",
    "                                for i_mrms in range(0, x_mrms-size_mrms+gap, gap):\n",
    "                                    for j_mrms in range(0, y_mrms-size_mrms+gap, gap):\n",
    "                                        i0 = i_mrms; i1 = i0 + size_mrms\n",
    "                                        j0 = j_mrms; j1 = j0 + size_mrms\n",
    "\n",
    "                                        if (np.sum(RQI[i0:i1, j0:j1]) < 0.75) == 0:\n",
    "                                        \n",
    "                                            patch_ = MRMS[i0:i1, j0:j1]\n",
    "                                            land_mask_ = land_mask_MRMS[i0:i1, j0:j1]\n",
    "                \n",
    "                                            r_rain = np.sum(patch_ > thres_dry)/N_grids\n",
    "                                            \n",
    "                                            flag_size = patch_.shape == (size_mrms, size_mrms)\n",
    "                                            flag_rain_cover = r_rain >= thres_rain_cover\n",
    "                                            flag_land_cover = (np.sum(land_mask_)/N_grids) >= thres_land_cover\n",
    "                                            flag_extreme = np.logical_and(np.max(patch_) >= thres_extreme, r_rain >= thres_extreme_cover)\n",
    "                            \n",
    "                                            flag_pass1 = np.logical_and(flag_rain_cover, flag_land_cover)\n",
    "                                            flag_pass2 = np.logical_and(flag_extreme, flag_land_cover)\n",
    "                                            flag_pass_final = np.logical_or(flag_pass1, flag_pass2)\n",
    "                            \n",
    "                                            if flag_size and flag_pass_final:\n",
    "                \n",
    "                                                elev_ = elev_MRMS[i0:i1, j0:j1]\n",
    "                                                data[0, ..., 8] = elev_\n",
    "                                                \n",
    "                                                data[0, ..., 0] = patch_\n",
    "                                                \n",
    "                                                i_era = indx[i0:i1, j0:j1]\n",
    "                                                j_era = indy[i0:i1, j0:j1]\n",
    "                \n",
    "                                                i_min = np.int(np.min(i_era))\n",
    "                                                i_max = np.int(np.max(i_era))\n",
    "                                                j_min = np.int(np.min(j_era))\n",
    "                                                j_max = np.int(np.max(j_era))\n",
    "                                                \n",
    "                                                data_t = np.flipud(ncio_t['t'][i_dt, -8, i_min:i_max+1, j_min:j_max+1])\n",
    "                                                \n",
    "                                                shape_lr = data_t.shape\n",
    "                                                if shape_lr[0] == 6:\n",
    "                                                    x_ = x_lr6\n",
    "                                                else:\n",
    "                                                    x_ = x_lr7\n",
    "                                                \n",
    "                                                if shape_lr[1] == 6:\n",
    "                                                    y_ = x_lr6\n",
    "                                                else:\n",
    "                                                    y_ = x_lr7\n",
    "                                                \n",
    "                                                interp_obj_t = interp2d(y_, x_, data_t, kind='linear')\n",
    "                                                data[0, ..., 7] = interp_obj_t(x_hr128, x_hr128)\n",
    "                \n",
    "                                                data_u = np.flipud(ncio_u['u'][i_dt, -8, i_min:i_max+1, j_min:j_max+1])\n",
    "                                                interp_obj_u = interp2d(y_, x_, data_u, kind='linear')\n",
    "                                                data[0, ..., 6] = interp_obj_u(x_hr128, x_hr128)\n",
    "                \n",
    "                                                data_r = np.flipud(ncio_rh['r'][i_dt, -8, i_min:i_max+1, j_min:j_max+1])\n",
    "                                                interp_obj_r = interp2d(y_, x_, data_r, kind='linear')\n",
    "                                                data[0, ..., 5] = interp_obj_r(x_hr128, x_hr128)\n",
    "\n",
    "                                                data_pwat = np.flipud(ncio_pwat['tcw'][i_dt, i_min:i_max+1, j_min:j_max+1])\n",
    "                                                interp_obj_pwat = interp2d(y_, x_, data_pwat, kind='linear')\n",
    "                                                data[0, ..., 4] = interp_obj_pwat(x_hr128, x_hr128)\n",
    "\n",
    "                                                data_cape = np.flipud(ncio_cape['cape'][i_dt, i_min:i_max+1, j_min:j_max+1])\n",
    "                                                interp_obj_cape = interp2d(y_, x_, data_cape, kind='linear')\n",
    "                                                data[0, ..., 3] = interp_obj_cape(x_hr128, x_hr128)\n",
    "                \n",
    "                                                data_apcp = np.flipud(ncio_apcp['tp'][i_dt, i_min:i_max+1, j_min:j_max+1])\n",
    "                                                data_apcp = data_apcp*1000\n",
    "                                                interp_obj_apcp = interp2d(y_, x_, data_apcp, kind='linear')\n",
    "                                                data[0, ..., 2] = interp_obj_apcp(x_hr128, x_hr128)\n",
    "\n",
    "                                                hr_to_lr = interp2d(x_hr, x_hr, data[0, ..., 0], kind='linear')\n",
    "                                                data_lr = hr_to_lr(y_, x_)\n",
    "                                                lr_to_hr = interp2d(y_, x_, data_lr, kind='linear')\n",
    "                                                data_hr = lr_to_hr(x_hr, x_hr)\n",
    "\n",
    "                                                data[0, ..., 1] = data_hr\n",
    "                                                \n",
    "                                                data[0, ..., 0] = norm_precip(data[0, ..., 0])\n",
    "                                                data[0, ..., 1] = norm_precip(data[0, ..., 1])\n",
    "                                                data[0, ..., 2] = norm_precip(data[0, ..., 2])\n",
    "                                                data[0, ..., 3] = norm_cape(data[0, ..., 3])\n",
    "                                                data[0, ..., 4] = norm_pwat(data[0, ..., 4])\n",
    "                                                data[0, ..., 5] = norm_rh(data[0, ..., 5])\n",
    "                                                data[0, ..., 6] = norm_u(data[0, ..., 6])\n",
    "                                                data[0, ..., 7] = norm_t(data[0, ..., 7])\n",
    "\n",
    "                                                flag_save = True\n",
    "                                                for i_test in range(5):\n",
    "                                                    temp = np.abs(data[0, ..., 3+i_test])\n",
    "                                                    if np.sum(temp > 1e-6) == 0:\n",
    "                                                        flag_save = False\n",
    "                                                        \n",
    "                                                if flag_save:\n",
    "                                                    name_ = BATCH_dir+batch_file_name.format(year, i_dt, i_mrms, j_mrms)\n",
    "                                                    print(name_)\n",
    "                                                    np.save(name_, data)"
   ]
  },
  {
   "cell_type": "code",
   "execution_count": 78,
   "id": "c3836cb1-e813-4625-b41a-000eca8ee6c2",
   "metadata": {},
   "outputs": [],
   "source": [
    "with nc.Dataset(nc_name_cape) as ncio_cape:\n",
    "    data_cape = np.flipud(ncio_cape['cape'][::24, ...])"
   ]
  },
  {
   "cell_type": "code",
   "execution_count": 79,
   "id": "83edc473-e529-469d-bd40-78e24d78faaa",
   "metadata": {},
   "outputs": [
    {
     "data": {
      "text/plain": [
       "101.41392627132522"
      ]
     },
     "execution_count": 79,
     "metadata": {},
     "output_type": "execute_result"
    }
   ],
   "source": [
    "np.mean(data_cape)"
   ]
  },
  {
   "cell_type": "code",
   "execution_count": 80,
   "id": "d81c8739-3f90-4c33-9bc3-67e07fe102d1",
   "metadata": {},
   "outputs": [
    {
     "data": {
      "text/plain": [
       "328.10754630379495"
      ]
     },
     "execution_count": 80,
     "metadata": {},
     "output_type": "execute_result"
    }
   ],
   "source": [
    "np.std(data_cape)"
   ]
  },
  {
   "cell_type": "code",
   "execution_count": 77,
   "id": "b005c796-41fd-4a6d-bbd7-35cf5cb1c30e",
   "metadata": {},
   "outputs": [
    {
     "data": {
      "text/plain": [
       "(7, 6)"
      ]
     },
     "execution_count": 77,
     "metadata": {},
     "output_type": "execute_result"
    }
   ],
   "source": [
    "data_cape.shape"
   ]
  },
  {
   "cell_type": "code",
   "execution_count": null,
   "id": "8d448391-85d7-4c2c-8637-c36e8a10407a",
   "metadata": {},
   "outputs": [],
   "source": []
  },
  {
   "cell_type": "code",
   "execution_count": 30,
   "id": "f080e2f4-0e7e-4eb5-ace2-ae53278abe21",
   "metadata": {},
   "outputs": [],
   "source": [
    "# plt.pcolormesh(data_t, cmap=plt.cm.jet)\n",
    "# plt.colorbar()"
   ]
  },
  {
   "cell_type": "code",
   "execution_count": 109,
   "id": "a21e6ba9-89d2-44ca-b127-26480af055ce",
   "metadata": {},
   "outputs": [],
   "source": [
    "data = np.load('/glade/campaign/cisl/aiml/ksha/BATCH_ERA5/ERA5_year2021_dt0000_i1344_j3328.npy')"
   ]
  },
  {
   "cell_type": "code",
   "execution_count": 122,
   "id": "3f131852-17db-4221-91ce-7a24051224da",
   "metadata": {},
   "outputs": [
    {
     "data": {
      "text/plain": [
       "<matplotlib.colorbar.Colorbar at 0x2b1b55035e50>"
      ]
     },
     "execution_count": 122,
     "metadata": {},
     "output_type": "execute_result"
    },
    {
     "data": {
      "image/png": "[encoded data removed]",
      "text/plain": [
       "<Figure size 640x480 with 2 Axes>"
      ]
     },
     "metadata": {},
     "output_type": "display_data"
    }
   ],
   "source": [
    "plt.pcolormesh(data[0, ..., 4], cmap=plt.cm.jet)\n",
    "plt.colorbar()"
   ]
  },
  {
   "cell_type": "code",
   "execution_count": 121,
   "id": "16ab2717-7f22-428e-a736-fc456a36d91e",
   "metadata": {},
   "outputs": [
    {
     "data": {
      "text/plain": [
       "array([[-0.15457317, -0.15457317, -0.15457317, ..., -0.15457317,\n",
       "        -0.15457317, -0.15457317],\n",
       "       [-0.15457317, -0.15457317, -0.15457317, ..., -0.15457317,\n",
       "        -0.15457317, -0.15457317],\n",
       "       [-0.15457317, -0.15457317, -0.15457317, ..., -0.15457317,\n",
       "        -0.15457317, -0.15457317],\n",
       "       ...,\n",
       "       [-0.15457317, -0.15457317, -0.15457317, ..., -0.15457317,\n",
       "        -0.15457317, -0.15457317],\n",
       "       [-0.15457317, -0.15457317, -0.15457317, ..., -0.15457317,\n",
       "        -0.15457317, -0.15457317],\n",
       "       [-0.15457317, -0.15457317, -0.15457317, ..., -0.15457317,\n",
       "        -0.15457317, -0.15457317]])"
      ]
     },
     "execution_count": 121,
     "metadata": {},
     "output_type": "execute_result"
    }
   ],
   "source": [
    "data[0, ..., 3]"
   ]
  },
  {
   "cell_type": "code",
   "execution_count": 42,
   "id": "ec17eb9c-547f-4624-a936-bf9aacb1fcd9",
   "metadata": {},
   "outputs": [
    {
     "data": {
      "text/plain": [
       "array([[6.06329801e-13, 6.06329801e-13, 6.06329801e-13, ...,\n",
       "        6.06329801e-13, 6.06329801e-13, 6.06329801e-13],\n",
       "       [6.06329801e-13, 6.06329801e-13, 6.06329801e-13, ...,\n",
       "        6.06329801e-13, 6.06329801e-13, 6.06329801e-13],\n",
       "       [6.06329801e-13, 6.06329801e-13, 6.06329801e-13, ...,\n",
       "        6.06329801e-13, 6.06329801e-13, 6.06329801e-13],\n",
       "       ...,\n",
       "       [6.06329801e-13, 6.06329801e-13, 6.06329801e-13, ...,\n",
       "        6.06329801e-13, 6.06329801e-13, 6.06329801e-13],\n",
       "       [6.06329801e-13, 6.06329801e-13, 6.06329801e-13, ...,\n",
       "        6.06329801e-13, 6.06329801e-13, 6.06329801e-13],\n",
       "       [6.06329801e-13, 6.06329801e-13, 6.06329801e-13, ...,\n",
       "        6.06329801e-13, 6.06329801e-13, 6.06329801e-13]])"
      ]
     },
     "execution_count": 42,
     "metadata": {},
     "output_type": "execute_result"
    }
   ],
   "source": [
    "data[0, ..., 3]"
   ]
  },
  {
   "cell_type": "code",
   "execution_count": 72,
   "id": "55acbe3d-56f7-4019-916c-218350922867",
   "metadata": {},
   "outputs": [
    {
     "data": {
      "text/plain": [
       "<matplotlib.colorbar.Colorbar at 0x2ab312795880>"
      ]
     },
     "execution_count": 72,
     "metadata": {},
     "output_type": "execute_result"
    },
    {
     "data": {
      "image/png": "[encoded data removed]",
      "text/plain": [
       "<Figure size 640x480 with 2 Axes>"
      ]
     },
     "metadata": {},
     "output_type": "display_data"
    }
   ],
   "source": [
    "plt.pcolormesh(data[0, ..., 3], cmap=plt.cm.jet)\n",
    "plt.colorbar()"
   ]
  },
  {
   "cell_type": "code",
   "execution_count": 18,
   "id": "c845ea81-3b11-4848-8a46-b89db757496f",
   "metadata": {},
   "outputs": [
    {
     "data": {
      "text/plain": [
       "array([[-60.87500198, -60.86500198, -60.85500198, ..., -60.025002  ,\n",
       "        -60.015002  , -60.005002  ],\n",
       "       [-60.87500198, -60.86500198, -60.85500198, ..., -60.025002  ,\n",
       "        -60.015002  , -60.005002  ],\n",
       "       [-60.87500198, -60.86500198, -60.85500198, ..., -60.025002  ,\n",
       "        -60.015002  , -60.005002  ],\n",
       "       ...,\n",
       "       [-60.87500198, -60.86500198, -60.85500198, ..., -60.025002  ,\n",
       "        -60.015002  , -60.005002  ],\n",
       "       [-60.87500198, -60.86500198, -60.85500198, ..., -60.025002  ,\n",
       "        -60.015002  , -60.005002  ],\n",
       "       [-60.87500198, -60.86500198, -60.85500198, ..., -60.025002  ,\n",
       "        -60.015002  , -60.005002  ]])"
      ]
     },
     "execution_count": 18,
     "metadata": {},
     "output_type": "execute_result"
    }
   ],
   "source": [
    "lon_MRMS[i0:i1, j0:j1]"
   ]
  },
  {
   "cell_type": "code",
   "execution_count": 23,
   "id": "bf49046f-ad8e-4abd-ab64-fdf25209b2c3",
   "metadata": {},
   "outputs": [
    {
     "name": "stdout",
     "output_type": "stream",
     "text": [
      "-125.49500012859244 vs. -125.5\n"
     ]
    }
   ],
   "source": [
    "i = 300\n",
    "j = 450\n",
    "\n",
    "print('{} vs. {}'.format(lon_MRMS[i, j], lon_ERA5[int(indx[i, j]), int(indy[i, j])]))"
   ]
  },
  {
   "cell_type": "code",
   "execution_count": 27,
   "id": "7ba50d52-0b76-454e-98a9-0aaf2b71a155",
   "metadata": {},
   "outputs": [
    {
     "data": {
      "text/plain": [
       "-61.0"
      ]
     },
     "execution_count": 27,
     "metadata": {},
     "output_type": "execute_result"
    }
   ],
   "source": [
    "lon_ERA5[276, 476]"
   ]
  },
  {
   "cell_type": "code",
   "execution_count": 25,
   "id": "4ae67c5e-e499-48eb-939d-9dc55d13e33f",
   "metadata": {},
   "outputs": [
    {
     "data": {
      "text/plain": [
       "array([[276., 276., 276., ..., 276., 276., 276.],\n",
       "       [276., 276., 276., ..., 276., 276., 276.],\n",
       "       [276., 276., 276., ..., 276., 276., 276.],\n",
       "       ...,\n",
       "       [280., 280., 280., ..., 280., 280., 280.],\n",
       "       [280., 280., 280., ..., 280., 280., 280.],\n",
       "       [280., 280., 280., ..., 280., 280., 280.]])"
      ]
     },
     "execution_count": 25,
     "metadata": {},
     "output_type": "execute_result"
    }
   ],
   "source": [
    "indx[i0:i1, j0:j1]"
   ]
  },
  {
   "cell_type": "code",
   "execution_count": 29,
   "id": "d1c454de-bb11-411f-97bf-f3cfa8371f96",
   "metadata": {},
   "outputs": [
    {
     "data": {
      "text/plain": [
       "array([[276., 276., 276., ..., 276., 276., 276.],\n",
       "       [276., 276., 276., ..., 276., 276., 276.],\n",
       "       [276., 276., 276., ..., 276., 276., 276.],\n",
       "       ...,\n",
       "       [280., 280., 280., ..., 280., 280., 280.],\n",
       "       [280., 280., 280., ..., 280., 280., 280.],\n",
       "       [280., 280., 280., ..., 280., 280., 280.]])"
      ]
     },
     "execution_count": 29,
     "metadata": {},
     "output_type": "execute_result"
    }
   ],
   "source": [
    "indx[i0:i1, j0:j1]"
   ]
  },
  {
   "cell_type": "code",
   "execution_count": 26,
   "id": "29557418-0cdf-46b9-a681-e96a68460f52",
   "metadata": {},
   "outputs": [
    {
     "data": {
      "text/plain": [
       "array([[476., 477., 477., ..., 480., 480., 480.],\n",
       "       [476., 477., 477., ..., 480., 480., 480.],\n",
       "       [476., 477., 477., ..., 480., 480., 480.],\n",
       "       ...,\n",
       "       [476., 477., 477., ..., 480., 480., 480.],\n",
       "       [476., 477., 477., ..., 480., 480., 480.],\n",
       "       [476., 477., 477., ..., 480., 480., 480.]])"
      ]
     },
     "execution_count": 26,
     "metadata": {},
     "output_type": "execute_result"
    }
   ],
   "source": [
    "indy[i0:i1, j0:j1]"
   ]
  },
  {
   "cell_type": "code",
   "execution_count": 28,
   "id": "af3a986b-bcba-4fcd-9bf3-616006b5459c",
   "metadata": {},
   "outputs": [
    {
     "data": {
      "text/plain": [
       "array([[201., 201., 201., ..., 201., 201., 201.],\n",
       "       [201., 201., 201., ..., 201., 201., 201.],\n",
       "       [202., 202., 202., ..., 202., 202., 202.],\n",
       "       ...,\n",
       "       [206., 206., 206., ..., 206., 206., 206.],\n",
       "       [206., 206., 206., ..., 206., 206., 206.],\n",
       "       [207., 207., 207., ..., 207., 207., 207.]])"
      ]
     },
     "execution_count": 28,
     "metadata": {},
     "output_type": "execute_result"
    }
   ],
   "source": [
    "i_era"
   ]
  },
  {
   "cell_type": "code",
   "execution_count": 30,
   "id": "1bdec7bd-1561-4dd9-8a04-20e5479a4deb",
   "metadata": {},
   "outputs": [
    {
     "data": {
      "text/plain": [
       "201"
      ]
     },
     "execution_count": 30,
     "metadata": {},
     "output_type": "execute_result"
    }
   ],
   "source": [
    "i_min"
   ]
  },
  {
   "cell_type": "code",
   "execution_count": null,
   "id": "1d1b4508-4e61-487a-9a23-be8b4d59bdb5",
   "metadata": {},
   "outputs": [],
   "source": []
  }
 ],
 "metadata": {
  "kernelspec": {
   "display_name": "Python 3 (ipykernel)",
   "language": "python",
   "name": "python3"
  },
  "language_info": {
   "codemirror_mode": {
    "name": "ipython",
    "version": 3
   },
   "file_extension": ".py",
   "mimetype": "text/x-python",
   "name": "python",
   "nbconvert_exporter": "python",
   "pygments_lexer": "ipython3",
   "version": "3.9.18"
  }
 },
 "nbformat": 4,
 "nbformat_minor": 5
}
