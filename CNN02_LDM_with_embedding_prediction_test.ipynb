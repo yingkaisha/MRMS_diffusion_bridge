{
 "cells": [
  {
   "cell_type": "markdown",
   "id": "71d035c1-4623-4f48-82a1-270acdfe549c",
   "metadata": {},
   "source": [
    "# LDM prediction script"
   ]
  },
  {
   "cell_type": "code",
   "execution_count": 1,
   "id": "719ba7ff-33b9-4675-8d0d-43bfa9c26012",
   "metadata": {},
   "outputs": [],
   "source": [
    "import os\n",
    "import sys\n",
    "import time\n",
    "import math\n",
    "import h5py\n",
    "import logging\n",
    "import warnings\n",
    "import numpy as np\n",
    "from glob import glob\n",
    "from datetime import datetime, timedelta\n",
    "from scipy.interpolate import RegularGridInterpolator\n",
    "\n",
    "# supress regular warnings\n",
    "warnings.filterwarnings(\"ignore\")\n",
    "os.environ['TF_CPP_MIN_LOG_LEVEL'] = '3' \n",
    "logging.getLogger(\"tensorflow\").setLevel(logging.ERROR) \n",
    "\n",
    "import tensorflow as tf\n",
    "from tensorflow import keras\n",
    "from tensorflow.keras import layers\n",
    "\n",
    "# supress tensorflow warnings\n",
    "tf.autograph.set_verbosity(0)\n",
    "tf.get_logger().setLevel('ERROR')\n",
    "\n",
    "# adjust for time step embedding layer\n",
    "tf.config.run_functions_eagerly(True)"
   ]
  },
  {
   "cell_type": "code",
   "execution_count": 4,
   "id": "a465e583-350c-4bab-840c-bc061d202c61",
   "metadata": {},
   "outputs": [],
   "source": [
    "import matplotlib.pyplot as plt\n",
    "%matplotlib inline"
   ]
  },
  {
   "cell_type": "code",
   "execution_count": 3,
   "id": "f3d5a9af-124a-4096-8e0a-5db9daa25efd",
   "metadata": {},
   "outputs": [],
   "source": [
    "sys.path.insert(0, '/glade/u/home/ksha/GAN_proj/')\n",
    "sys.path.insert(0, '/glade/u/home/ksha/GAN_proj/libs/')\n",
    "\n",
    "from namelist import *\n",
    "import data_utils as du\n",
    "import model_utils as mu\n",
    "import vae_utils as vu"
   ]
  },
  {
   "cell_type": "code",
   "execution_count": 4,
   "id": "353d30cf-f150-414c-80c7-fa8d55b31dd7",
   "metadata": {},
   "outputs": [],
   "source": [
    "def norm_precip(x):\n",
    "    return np.log(x+1)\n",
    "\n",
    "def norm_rh(x):\n",
    "    return (x-50)/28/2\n",
    "\n",
    "def norm_t(x):\n",
    "    return (x-281)/10/2\n",
    "\n",
    "def norm_u(x):\n",
    "    return (x-3.5)/6.5/2\n",
    "\n",
    "def norm_v(x):\n",
    "    return (x)/6.5/2\n",
    "\n",
    "def norm_pwat(x):\n",
    "    return (x-20.5)/15/2\n",
    "\n",
    "def norm_cape(x):\n",
    "    return (x-200)/450/2"
   ]
  },
  {
   "cell_type": "code",
   "execution_count": 5,
   "id": "da3a8881-569c-4916-8d14-b86e18910e36",
   "metadata": {},
   "outputs": [],
   "source": [
    "def reverse_diffuse(model, x_in1, x_in2, total_timesteps, gdf_util):\n",
    "    L_valid = len(x_in1)\n",
    "    x_out = np.empty(x_in1.shape)\n",
    "\n",
    "    for i in range(L_valid):\n",
    "        x1 = x_in1[i, ...][None, ...]\n",
    "        x2 = x_in2[i, ...][None, ...]\n",
    "        \n",
    "        for t in reversed(range(0, total_timesteps)):\n",
    "            tt = tf.cast(tf.fill(1, t), dtype=tf.int64)\n",
    "            pred_noise = model.predict([x1, tt, x2], verbose=0)\n",
    "            model_mean, _, model_log_variance =  gdf_util.p_mean_variance(pred_noise, x=x1, t=tt, clip_denoised=True)\n",
    "            nonzero_mask = (1 - (np.array(tt)==0)).reshape((1, 1, 1, 1))\n",
    "            x1 = np.array(model_mean) + nonzero_mask * np.exp(0.5 * np.array(model_log_variance)) * np.random.normal(size=x1.shape)\n",
    "        x_out[i, ...] = x1\n",
    "\n",
    "    return x_out"
   ]
  },
  {
   "cell_type": "markdown",
   "id": "aae4df1a-62f0-4c78-ba02-33ff423f61d5",
   "metadata": {},
   "source": [
    "## Import LDM"
   ]
  },
  {
   "cell_type": "code",
   "execution_count": 6,
   "id": "71f49204-324c-43fb-bf38-3d4ad4be7de4",
   "metadata": {},
   "outputs": [],
   "source": [
    "total_timesteps = 50 # diffusion time steps\n",
    "norm_groups = 8 # number of attention heads, number of layer normalization groups \n",
    "\n",
    "# min-max values of the diffusion target (learning target) \n",
    "clip_min = -1.0\n",
    "clip_max = 1.0\n",
    "\n",
    "widths = [64, 96, 128, 256] # number of convolution kernels per up-/downsampling level\n",
    "left_attention = [False, True, True, True] # True: use multi-head attnetion on each up-/downsampling level\n",
    "right_attention = [False, True, True, True]\n",
    "num_res_blocks = 2  # Number of residual blocks\n",
    "\n",
    "input_shape = (32, 32, 8) # the tensor shape of reverse diffusion input\n",
    "gfs_shape = (16, 16, 256) # the tensor shape of GFS embeddings\n",
    "\n",
    "F_x = 0.1 # the scale of GFS embeddings\n",
    "F_y = 1/6.3 # the scale of VQ-VAE codes\n",
    "\n",
    "N_atten1 = np.sum(left_attention)\n",
    "N_atten2 = np.sum(right_attention)\n",
    "\n",
    "# location of the previous weights\n",
    "model_name = '/glade/work/ksha/GAN/models/LDM_atten{}-{}_res{}_tune2/'.format(\n",
    "    N_atten1, N_atten2, num_res_blocks)\n",
    "\n",
    "lr = 0 # learning rate"
   ]
  },
  {
   "cell_type": "code",
   "execution_count": 7,
   "id": "9cb9ae07-6bfa-4448-9ae4-307295cd8b3a",
   "metadata": {},
   "outputs": [],
   "source": [
    "def build_model(input_shape, gfs_shape, widths, left_attention, right_attention, num_res_blocks=2, norm_groups=8,\n",
    "                interpolation=\"nearest\", activation_fn=keras.activations.swish,):\n",
    "\n",
    "    first_conv_channels = widths[0]\n",
    "    \n",
    "    image_input = layers.Input(shape=input_shape, name=\"image_input\")\n",
    "    time_input = keras.Input(shape=(), dtype=tf.int64, name=\"time_input\")\n",
    "    gfs_input = layers.Input(shape=gfs_shape, name=\"gfs_input\")\n",
    "    \n",
    "    x = layers.Conv2D(first_conv_channels, kernel_size=(3, 3), padding=\"same\",\n",
    "                      kernel_initializer=mu.kernel_init(1.0),)(image_input)\n",
    "\n",
    "    temb = mu.TimeEmbedding(dim=first_conv_channels * 4)(time_input)\n",
    "    temb = mu.TimeMLP(units=first_conv_channels * 4, activation_fn=activation_fn)(temb)\n",
    "\n",
    "    skips = [x]\n",
    "\n",
    "    # DownBlock\n",
    "    has_attention = left_attention\n",
    "    for i in range(len(widths)):\n",
    "        for _ in range(num_res_blocks):\n",
    "            x = mu.ResidualBlock(widths[i], groups=norm_groups, activation_fn=activation_fn)([x, temb])\n",
    "            \n",
    "            if has_attention[i]:\n",
    "                x_gfs = gfs_input\n",
    "                x_gfs = layers.Conv2D(widths[i], kernel_size=(3, 3), padding=\"same\",)(x_gfs)\n",
    "                x_gfs = layers.GroupNormalization(groups=norm_groups)(x_gfs)\n",
    "                x_gfs = activation_fn(x_gfs)\n",
    "                \n",
    "                x = layers.MultiHeadAttention(num_heads=norm_groups, key_dim=widths[i])(x, x_gfs)\n",
    "                \n",
    "            skips.append(x)\n",
    "\n",
    "        if widths[i] != widths[-1]:\n",
    "            x = mu.DownSample(widths[i])(x)\n",
    "            skips.append(x)\n",
    "\n",
    "    # MiddleBlock\n",
    "    x = mu.ResidualBlock(widths[-1], groups=norm_groups, activation_fn=activation_fn)([x, temb])\n",
    "    \n",
    "    x_gfs = gfs_input\n",
    "    x_gfs = layers.Conv2D(widths[i], kernel_size=(3, 3), padding=\"same\",)(x_gfs)\n",
    "    x_gfs = layers.GroupNormalization(groups=norm_groups)(x_gfs)\n",
    "    x_gfs = activation_fn(x_gfs)\n",
    "    \n",
    "    x = layers.MultiHeadAttention(num_heads=norm_groups, key_dim=widths[-1])(x, x_gfs)\n",
    "    \n",
    "    x = mu.ResidualBlock(widths[-1], groups=norm_groups, activation_fn=activation_fn)([x, temb])\n",
    "\n",
    "    # UpBlock\n",
    "    has_attention = right_attention\n",
    "    for i in reversed(range(len(widths))):\n",
    "        for _ in range(num_res_blocks + 1):\n",
    "            x = layers.Concatenate(axis=-1)([x, skips.pop()])\n",
    "            x = mu.ResidualBlock(widths[i], groups=norm_groups, activation_fn=activation_fn)([x, temb])\n",
    "            \n",
    "            if has_attention[i]:\n",
    "                x_gfs = gfs_input\n",
    "                x_gfs = layers.Conv2D(widths[i], kernel_size=(3, 3), padding=\"same\",)(x_gfs)\n",
    "                x_gfs = layers.GroupNormalization(groups=norm_groups)(x_gfs)\n",
    "                x_gfs = activation_fn(x_gfs)\n",
    "                \n",
    "                x = layers.MultiHeadAttention(num_heads=norm_groups, key_dim=widths[i])(x, x_gfs)\n",
    "\n",
    "        if i != 0:\n",
    "            x = mu.UpSample(widths[i], interpolation=interpolation)(x)\n",
    "\n",
    "    # End block\n",
    "    x = layers.GroupNormalization(groups=norm_groups)(x)\n",
    "    x = activation_fn(x)\n",
    "    x = layers.Conv2D(input_shape[-1], (3, 3), padding=\"same\", kernel_initializer=mu.kernel_init(0.0))(x)\n",
    "    return keras.Model([image_input, time_input, gfs_input], x, name=\"unet\")"
   ]
  },
  {
   "cell_type": "code",
   "execution_count": 8,
   "id": "6ea41307-373e-4aad-9ed8-89eb6b4d30f3",
   "metadata": {},
   "outputs": [],
   "source": [
    "# Reverse diffusino model\n",
    "model = build_model(input_shape=input_shape, gfs_shape=gfs_shape, widths=widths,\n",
    "                    left_attention=left_attention, right_attention=right_attention, \n",
    "                    num_res_blocks=num_res_blocks, norm_groups=norm_groups, activation_fn=keras.activations.swish)\n",
    "\n",
    "# Compile the mdoel\n",
    "model.compile(loss=keras.losses.MeanAbsoluteError(), optimizer=keras.optimizers.Adam(learning_rate=lr),)\n",
    "\n",
    "# load previous weights\n",
    "W_old = mu.dummy_loader(model_name)\n",
    "model.set_weights(W_old)"
   ]
  },
  {
   "cell_type": "markdown",
   "id": "b3663e78-74e3-454d-81b3-8cc89bc53bd3",
   "metadata": {},
   "source": [
    "## Import VQ-VAE"
   ]
  },
  {
   "cell_type": "code",
   "execution_count": 10,
   "id": "6802028f-50a4-48e2-a58a-fba8ce3a0ef1",
   "metadata": {},
   "outputs": [
    {
     "name": "stdout",
     "output_type": "stream",
     "text": [
      "Loading /glade/work/ksha/GAN/models/VQ_VAE_P128_64_128_L8_N128_relu_tune2\n"
     ]
    }
   ],
   "source": [
    "filter_nums = [64, 128] # number of convolution kernels per down-/upsampling layer \n",
    "latent_dim = 8 # number of latent feature channels\n",
    "activation = 'relu' # activation function\n",
    "num_embeddings = 128 # number of the VQ codes\n",
    "\n",
    "input_size = (128, 128, 1) # size of MRMS input\n",
    "latent_size = (32, 32, latent_dim) # size of compressed latent features\n",
    "\n",
    "# location of the previous weights\n",
    "model_name_load = '/glade/work/ksha/GAN/models/VQ_VAE_P128_{}_{}_L{}_N{}_{}_tune2'.format(\n",
    "    filter_nums[0], filter_nums[1], latent_dim, num_embeddings, activation)\n",
    "print('Loading {}'.format(model_name_load))\n",
    "\n",
    "lr = 0 # learning rate\n",
    "\n",
    "# ---------------- encoder ----------------- #\n",
    "encoder_in = keras.Input(shape=input_size)\n",
    "X = encoder_in\n",
    "\n",
    "X = layers.Conv2D(filter_nums[0], 3, padding=\"same\")(X)\n",
    "X = layers.BatchNormalization()(X)\n",
    "X = layers.Activation(activation)(X)\n",
    "\n",
    "X = layers.Conv2D(filter_nums[0], 3, strides=2, padding=\"same\")(X)\n",
    "X = layers.BatchNormalization()(X)\n",
    "X = layers.Activation(activation)(X)\n",
    "\n",
    "X = mu.resblock_vqvae(X, 3, filter_nums[0], activation)\n",
    "X = mu.resblock_vqvae(X, 3, filter_nums[0], activation)\n",
    "\n",
    "X = layers.Conv2D(filter_nums[1], 3, strides=2, padding=\"same\")(X)\n",
    "X = layers.BatchNormalization()(X)\n",
    "X = layers.Activation(activation)(X)\n",
    "\n",
    "X = mu.resblock_vqvae(X, 3, filter_nums[1], activation)\n",
    "X = mu.resblock_vqvae(X, 3, filter_nums[1], activation)\n",
    "\n",
    "encoder_out = layers.Conv2D(latent_dim, 1, padding=\"same\")(X)\n",
    "\n",
    "# # --- VQ layer config --- #\n",
    "vq_layer = vu.VectorQuantizer(num_embeddings, latent_dim)\n",
    "X_VQ = vq_layer(encoder_out)\n",
    "# # --- VQ layer config --- #\n",
    "\n",
    "model_encoder_mrms = keras.Model(encoder_in, X_VQ)\n",
    "\n",
    "# ---------------- decoder ----------------- #\n",
    "\n",
    "decoder_in = keras.Input(shape=latent_size)\n",
    "\n",
    "X = decoder_in\n",
    "\n",
    "X = layers.Conv2D(filter_nums[1], 1, padding=\"same\")(X)\n",
    "X = layers.BatchNormalization()(X)\n",
    "X = layers.Activation(activation)(X)\n",
    "\n",
    "X = layers.Conv2DTranspose(filter_nums[1], 3, strides=2, padding=\"same\")(X)\n",
    "X = layers.BatchNormalization()(X)\n",
    "X = layers.Activation(activation)(X)\n",
    "\n",
    "X = mu.resblock_vqvae(X, 3, filter_nums[1], activation)\n",
    "X = mu.resblock_vqvae(X, 3, filter_nums[1], activation)\n",
    "\n",
    "X = layers.Conv2DTranspose(filter_nums[0], 3, strides=2, padding=\"same\")(X)\n",
    "X = layers.BatchNormalization()(X)\n",
    "X = layers.Activation(activation)(X)\n",
    "\n",
    "X = mu.resblock_vqvae(X, 3, filter_nums[0], activation)\n",
    "X = mu.resblock_vqvae(X, 3, filter_nums[0], activation)\n",
    "\n",
    "decoder_out = layers.Conv2D(latent_dim, 1, padding=\"same\")(X)\n",
    "\n",
    "model_decoder_mrms = keras.Model(decoder_in, decoder_out)\n",
    "\n",
    "# ---------------- VQ-VAE ------------------ #\n",
    "IN = keras.Input(shape=input_size)\n",
    "X = IN\n",
    "X_VQ = model_encoder_mrms(X)\n",
    "OUT = model_decoder_mrms(X_VQ)\n",
    "model_vqvae = keras.Model(IN, OUT)\n",
    "\n",
    "# subclass to VAE training\n",
    "vqvae_trainer = vu.VQVAETrainer(model_vqvae, 1.0, latent_dim, num_embeddings)\n",
    "\n",
    "# load weights\n",
    "W_old = mu.dummy_loader(model_name_load)\n",
    "vqvae_trainer.vqvae.set_weights(W_old)\n",
    "\n",
    "# compile\n",
    "vqvae_trainer.compile(optimizer=keras.optimizers.Adam(learning_rate=lr))"
   ]
  },
  {
   "cell_type": "markdown",
   "id": "59f4f808-f07f-4f3b-8800-5ee365b817fd",
   "metadata": {},
   "source": [
    "## Import GFS embedding network"
   ]
  },
  {
   "cell_type": "code",
   "execution_count": 11,
   "id": "4541fea6-3aa3-47f3-ace5-9fdc0473e2fb",
   "metadata": {},
   "outputs": [
    {
     "name": "stdout",
     "output_type": "stream",
     "text": [
      "Loading /glade/work/ksha/GAN/models/BC_64_128_relu_tune4\n"
     ]
    }
   ],
   "source": [
    "filter_nums = [64, 128, 256] # number of convolution kernels per down-/upsampling layer \n",
    "\n",
    "# activation function\n",
    "activation = 'relu'\n",
    "activation_fn = keras.activations.relu\n",
    "\n",
    "# GFS input sizes\n",
    "input_size = (128, 128, 8)\n",
    "\n",
    "# Embedded GFS sizes\n",
    "latent_size = (16, 16, filter_nums[-1])\n",
    "\n",
    "# location of the previous weights\n",
    "model_name_load = '/glade/work/ksha/GAN/models/BC_{}_{}_{}_tune4'.format(filter_nums[0], filter_nums[1], activation)\n",
    "print('Loading {}'.format(model_name_load))\n",
    "\n",
    "lr = 0 # learning rate\n",
    "\n",
    "# ---------------- encoder ----------------- #\n",
    "# forecast lead time embeddings\n",
    "time_input = keras.Input(shape=(), dtype=tf.int64)\n",
    "temb = mu.TimeEmbedding(dim=filter_nums[0]*4)(time_input)\n",
    "temb = mu.TimeMLP(units=filter_nums[0]*4, activation_fn=activation_fn)(temb)\n",
    "\n",
    "encoder_in = keras.Input(shape=input_size)\n",
    "X = encoder_in\n",
    "\n",
    "X = layers.Conv2D(filter_nums[0], 3, padding=\"same\")(X)\n",
    "X = layers.BatchNormalization()(X)\n",
    "X = layers.Activation(activation)(X)\n",
    "\n",
    "X = layers.Conv2D(filter_nums[0], 3, strides=2, padding=\"same\")(X)\n",
    "X = layers.BatchNormalization()(X)\n",
    "X = layers.Activation(activation)(X)\n",
    "\n",
    "X = mu.ResidualBlock_base(filter_nums[0], activation_fn=activation_fn)([X, temb])\n",
    "X = mu.ResidualBlock_base(filter_nums[0], activation_fn=activation_fn)([X, temb])\n",
    "\n",
    "X = layers.Conv2D(filter_nums[1], 3, strides=2, padding=\"same\")(X)\n",
    "X = layers.BatchNormalization()(X)\n",
    "X = layers.Activation(activation)(X)\n",
    "\n",
    "X = mu.ResidualBlock_base(filter_nums[1], activation_fn=activation_fn)([X, temb])\n",
    "X = mu.ResidualBlock_base(filter_nums[1], activation_fn=activation_fn)([X, temb])\n",
    "\n",
    "X = layers.Conv2D(filter_nums[2], 3, strides=2, padding=\"same\")(X)\n",
    "X = layers.BatchNormalization()(X)\n",
    "X = layers.Activation(activation)(X)\n",
    "\n",
    "X = mu.ResidualBlock_base(filter_nums[2], activation_fn=activation_fn)([X, temb])\n",
    "X = mu.ResidualBlock_base(filter_nums[2], activation_fn=activation_fn)([X, temb])\n",
    "\n",
    "encoder_out = X\n",
    "\n",
    "model_encoder_gfs = keras.Model([encoder_in, time_input], encoder_out)\n",
    "\n",
    "# ---------------- decoder ----------------- #\n",
    "decoder_in = keras.Input(shape=latent_size)\n",
    "\n",
    "# forecast lead time embeddings\n",
    "time_input = keras.Input(shape=(), dtype=tf.int64)\n",
    "temb = mu.TimeEmbedding(dim=filter_nums[0]*4)(time_input)\n",
    "temb = mu.TimeMLP(units=filter_nums[0]*4, activation_fn=activation_fn)(temb)\n",
    "\n",
    "X = decoder_in\n",
    "\n",
    "X = layers.Conv2DTranspose(filter_nums[2], 3, strides=2, padding=\"same\")(X)\n",
    "X = layers.BatchNormalization()(X)\n",
    "X = layers.Activation(activation)(X)\n",
    "\n",
    "X = mu.ResidualBlock_base(filter_nums[2], activation_fn=activation_fn)([X, temb])\n",
    "X = mu.ResidualBlock_base(filter_nums[2], activation_fn=activation_fn)([X, temb])\n",
    "\n",
    "X = layers.Conv2DTranspose(filter_nums[1], 3, strides=2, padding=\"same\")(X)\n",
    "X = layers.BatchNormalization()(X)\n",
    "X = layers.Activation(activation)(X)\n",
    "\n",
    "X = mu.ResidualBlock_base(filter_nums[1], activation_fn=activation_fn)([X, temb])\n",
    "X = mu.ResidualBlock_base(filter_nums[1], activation_fn=activation_fn)([X, temb])\n",
    "\n",
    "X = layers.Conv2DTranspose(filter_nums[0], 3, strides=2, padding=\"same\")(X)\n",
    "X = layers.BatchNormalization()(X)\n",
    "X = layers.Activation(activation)(X)\n",
    "\n",
    "X = mu.ResidualBlock_base(filter_nums[0], activation_fn=activation_fn)([X, temb])\n",
    "X = mu.ResidualBlock_base(filter_nums[0], activation_fn=activation_fn)([X, temb])\n",
    "\n",
    "decoder_out = layers.Conv2D(1, 1, padding=\"same\")(X)\n",
    "\n",
    "model_decoder_gfs = keras.Model([decoder_in, time_input], decoder_out)\n",
    "\n",
    "# ---------------- combined ----------------- #\n",
    "# forecast lead time input\n",
    "time_input = keras.Input(shape=(), dtype=tf.int64)\n",
    "# GFS inputs\n",
    "IN = keras.Input(shape=input_size)\n",
    "# the mdoel\n",
    "X_encode = model_encoder_gfs([IN, time_input])\n",
    "OUT = model_decoder_gfs([X_encode, time_input])\n",
    "model_gfs = keras.Model([IN, time_input], OUT)\n",
    "# compile\n",
    "model_gfs.compile(loss=keras.losses.mean_absolute_error, optimizer=keras.optimizers.Adam(learning_rate=lr))\n",
    "\n",
    "# load weights\n",
    "W_old = mu.dummy_loader(model_name_load)\n",
    "model_gfs.set_weights(W_old)"
   ]
  },
  {
   "cell_type": "markdown",
   "id": "3b111305-06a4-46c6-86e7-bcc747fb3129",
   "metadata": {},
   "source": [
    "## Data preparation"
   ]
  },
  {
   "cell_type": "code",
   "execution_count": 12,
   "id": "08c9c4b2-2755-49f6-85e3-87049b355b65",
   "metadata": {},
   "outputs": [],
   "source": [
    "# configure the forward diffusion steps\n",
    "gdf_util = mu.GaussianDiffusion(timesteps=total_timesteps)"
   ]
  },
  {
   "cell_type": "code",
   "execution_count": 13,
   "id": "4765760f-7c0e-4294-ae25-db6df80dd5bc",
   "metadata": {},
   "outputs": [],
   "source": [
    "with h5py.File(save_dir+'CNN_domain.hdf', 'r') as h5io:\n",
    "    lon_01 = h5io['lon_01'][...]\n",
    "    lat_01 = h5io['lat_01'][...]\n",
    "    elev_01 = h5io['elev_01'][...]\n",
    "    lon_GFS = h5io['lon_GFS'][...]\n",
    "    lat_GFS = h5io['lat_GFS'][...]"
   ]
  },
  {
   "cell_type": "code",
   "execution_count": 14,
   "id": "3c0f79c2-9726-4685-91b1-69202a96f761",
   "metadata": {},
   "outputs": [],
   "source": [
    "year = 2023\n",
    "N_days = 365\n",
    "\n",
    "ini = 6\n",
    "lead = 3\n",
    "\n",
    "day_start = 0\n",
    "day_end = 1\n",
    "\n",
    "T = 20\n",
    "N_ens = 10\n",
    "thres_zero_mask = 0\n",
    "thres_high_precip = norm_precip(10)"
   ]
  },
  {
   "cell_type": "code",
   "execution_count": 24,
   "id": "900d8545-aeab-41ed-b523-670e17ef408f",
   "metadata": {},
   "outputs": [],
   "source": [
    "# data size info\n",
    "x_mrms = 256; y_mrms = 576 # 0.1 deg MRMS size\n",
    "x_gfs = 105; y_gfs = 242 # 0.25 deg GFS size\n",
    "input_shape = (32, 32, 8)\n",
    "\n",
    "Nx_pred = 2\n",
    "Ny_pred = 5\n",
    "Ny_gap = 12\n",
    "size_pred = 128\n",
    "\n",
    "base = datetime(year, 1, 1)\n",
    "date_list = [base + timedelta(days=d) for d in range(N_days)]\n",
    "\n",
    "# ------- file locations and names ------ #\n",
    "name_gfs = '/glade/campaign/cisl/aiml/ksha/GFS/GFS_{}_ini{:02d}_f{:02d}.hdf'\n",
    "name_apcp = '/glade/campaign/cisl/aiml/ksha/GFS/GFS_APCP_{}_ini{:02d}_f{:02d}.hdf'\n",
    "name_MRMS = '/glade/campaign/cisl/aiml/ksha/GFS/MRMS_y{}.hdf'\n",
    "name_save = '/glade/campaign/cisl/aiml/ksha/LDM_results_train/LDM_FULL_day{:03d}_ini{:02d}_lead{:02d}.npy'"
   ]
  },
  {
   "cell_type": "markdown",
   "id": "dd3c1c13-d9c5-4d04-a372-0a11e0d8c9ed",
   "metadata": {},
   "source": [
    "## Main prediction loop"
   ]
  },
  {
   "cell_type": "code",
   "execution_count": 26,
   "id": "defe56df-2b03-4042-9ef8-0823cd9a51f8",
   "metadata": {},
   "outputs": [
    {
     "name": "stdout",
     "output_type": "stream",
     "text": [
      "LDM prediction starts ...\n",
      "/glade/campaign/cisl/aiml/ksha/LDM_results_train/LDM_FULL_day000_ini06_lead03.npy\n",
      "--- 1483.136729001999 seconds ---\n"
     ]
    }
   ],
   "source": [
    "# ------- Import data ------- #\n",
    "with h5py.File(name_MRMS.format(year), 'r') as h5io:\n",
    "    MRMS = h5io['MRMS'][...]\n",
    "L_base = len(MRMS)\n",
    "N_total = L_base\n",
    "\n",
    "with h5py.File(name_gfs.format(year, ini, lead), 'r') as h5io:\n",
    "    CAPE = h5io['CAPE'][...]\n",
    "    PWAT = h5io['PWAT'][...]\n",
    "    T800 = h5io['T800'][...]\n",
    "    U800 = h5io['U800'][...]\n",
    "    V800 = h5io['V800'][...]\n",
    "    RH800 = h5io['RH800'][...]\n",
    "\n",
    "with h5py.File(name_apcp.format(year, ini, lead), 'r') as h5io:\n",
    "    APCP = h5io['APCP'][...]\n",
    "    \n",
    "for day in range(day_start, day_end, 1):\n",
    "    \n",
    "    name_ = name_save .format(day, ini, lead)\n",
    "    if os.path.isfile(name_) is False:\n",
    "        \n",
    "        start_time = time.time()\n",
    "        print('LDM prediction starts ...')\n",
    "        N_hours = day*24 + ini + lead\n",
    "        \n",
    "        if N_hours < N_total:\n",
    "            \n",
    "            # ------- data allocations ------- #\n",
    "            data = np.empty((1, x_mrms, y_mrms, 9))\n",
    "            data[...] = np.nan\n",
    "            \n",
    "            gfs = np.empty((1, x_gfs, y_gfs, 7))\n",
    "            gfs[...] = np.nan\n",
    "            \n",
    "            MRMS_pred = np.empty((N_ens, Nx_pred*Ny_pred, size_pred, size_pred,)); MRMS_pred[...] = np.nan\n",
    "            MRMS_true = np.empty((Nx_pred*Ny_pred, size_pred, size_pred,)); MRMS_true[...] = np.nan\n",
    "            APCP_true = np.empty((Nx_pred*Ny_pred, size_pred, size_pred,)); APCP_true[...] = np.nan\n",
    "\n",
    "            LDM_latent = np.empty((N_ens, Nx_pred*Ny_pred,)+input_shape); LDM_latent[...] = np.nan\n",
    "            MRMS_latent = np.empty((Nx_pred*Ny_pred,)+input_shape); MRMS_latent[...] = np.nan\n",
    "            APCP_latent = np.empty((Nx_pred*Ny_pred,)+input_shape); APCP_latent[...] = np.nan\n",
    "        \n",
    "            # ----- data pre-processing ----- #\n",
    "            \n",
    "            MRMS_temp = MRMS[N_hours, ...] + MRMS[N_hours-1, ...] + MRMS[N_hours-2, ...]\n",
    "            # if MRMS has no NaNs\n",
    "            if np.sum(np.isnan(MRMS_temp)) == 0:\n",
    "                \n",
    "                gfs[..., 0] = APCP[day, ...]\n",
    "                gfs[..., 1] = CAPE[day, ...]\n",
    "                gfs[..., 2] = PWAT[day, ...]\n",
    "                gfs[..., 3] = T800[day, ...]\n",
    "                gfs[..., 4] = U800[day, ...]\n",
    "                gfs[..., 5] = V800[day, ...]\n",
    "                gfs[..., 6] = RH800[day, ...]\n",
    "        \n",
    "                data[..., 0] = MRMS_temp\n",
    "        \n",
    "                # index 1-7: GFS interpolated to 0.1 deg\n",
    "                for i in range(7):\n",
    "                    lr_to_hr = RegularGridInterpolator((lat_GFS[:, 0], lon_GFS[0, :]), gfs[0, ..., i], \n",
    "                                                       bounds_error=False, fill_value=None)\n",
    "                    data[..., i+1] = lr_to_hr((lat_01, lon_01))\n",
    "        \n",
    "                # convert negative MRMS and APCP to zero\n",
    "                # \n",
    "                temp = data[..., 0]\n",
    "                temp[temp < 0] = 0\n",
    "                data[..., 0] = temp\n",
    "        \n",
    "                temp = data[..., 1]\n",
    "                temp[temp < 0] = 0\n",
    "                data[..., 1] = temp\n",
    "        \n",
    "                # data normalization\n",
    "                data[..., 0] = norm_precip(data[..., 0]) # MRMS\n",
    "                data[..., 1] = norm_precip(data[..., 1]) # GFS APCCP\n",
    "                data[..., 2] = norm_cape(data[..., 2]) # GFS CAPE\n",
    "                data[..., 3] = norm_pwat(data[..., 3]) # PWAT\n",
    "                data[..., 4] = norm_t(data[..., 4]) # T800\n",
    "                data[..., 5] = norm_u(data[..., 5]) # U800\n",
    "                data[..., 6] = norm_v(data[..., 6]) # V800\n",
    "                data[..., 7] = norm_rh(data[..., 7]) # RH800\n",
    "        \n",
    "                # index 8: elevation\n",
    "                data[..., 8] = elev_01 # normalized elevatino\n",
    "                count = 0\n",
    "    \n",
    "                for px in range(Nx_pred):\n",
    "                    for py in range(Ny_pred):\n",
    "                        ix0 = size_pred*px\n",
    "                        ix1 = ix0+size_pred\n",
    "                        \n",
    "                        if py < (Ny_pred-1):\n",
    "                            iy0 = (size_pred-Ny_gap)*py\n",
    "                            iy1 = iy0 + size_pred\n",
    "                        else:\n",
    "                            iy1 = y_mrms\n",
    "                            iy0 = y_mrms - size_pred\n",
    "    \n",
    "                        # if MRMS is all-zeros, return all-zeros directly\n",
    "                        #gfs_ = data[:, ix0:ix1, iy0:iy1, 1]\n",
    "                        mrms_ = data[:, ix0:ix1, iy0:iy1, 1]\n",
    "                        flag_rain = np.sum(mrms_ > 1e-3) > thres_zero_mask\n",
    "                        flag_heavy = np.max(mrms_) >= thres_high_precip\n",
    "                        \n",
    "                        if np.logical_or(flag_rain, flag_heavy):\n",
    "    \n",
    "                            # ---------- GFS embedding -------- #\n",
    "                            #print('[{}:{}, {}:{}]'.format(ix0, ix1, iy0, iy1))\n",
    "                            data_gfs_in = data[:, ix0:ix1, iy0:iy1, 1:]\n",
    "                            lead_t = lead*np.ones(1,)\n",
    "                            GFS_latent = model_encoder_gfs.predict([data_gfs_in, lead_t], verbose=0)\n",
    "                            \n",
    "                            # re-scale for LDM (Fx = 0.1) \n",
    "                            GFS_latent = F_x*GFS_latent\n",
    "                            \n",
    "                            # ---------- LDM prediction ------- #\n",
    "                            # forward diffuse GFS APCP\n",
    "                            Y_latent_APCP = model_encoder_mrms.predict(data[:, ix0:ix1, iy0:iy1, 1][..., None], verbose=0)\n",
    "                            Y_latent_MRMS = model_encoder_mrms.predict(data[:, ix0:ix1, iy0:iy1, 0][..., None], verbose=0)\n",
    "                            # backup\n",
    "                            MRMS_latent[count, ...] = Y_latent_MRMS[0, ...]\n",
    "                            APCP_latent[count, ...] = Y_latent_APCP[0, ...]\n",
    "                            \n",
    "                            # re-scale for LDM (Fy = 1/6.3)\n",
    "                            Y_latent_APCP = F_y*Y_latent_APCP\n",
    "                            Y_latent_MRMS = F_y*Y_latent_MRMS\n",
    "                            \n",
    "                            # diffusion steps\n",
    "                            \n",
    "                            t_diffuse_ = (T)*np.ones(1)\n",
    "                            t_diffuse = t_diffuse_.astype(int)\n",
    "                            \n",
    "                            # --- ensemble ----- #\n",
    "                            for n in range(N_ens):\n",
    "                                # sample random noise\n",
    "                                noise_ = np.random.normal(size=((1,)+input_shape))\n",
    "                                forward_diffuse = np.array(gdf_util.q_sample(Y_latent_APCP, t_diffuse, noise_))\n",
    "                \n",
    "                                # reverse diffusion (~15sec per 128-by-128 sample)\n",
    "                                Y_pred = reverse_diffuse(model, forward_diffuse, GFS_latent, T, gdf_util)\n",
    "                                # backup\n",
    "                                LDM_latent[n, count, ...] = Y_pred[0, ...]/F_y\n",
    "                                # scale back\n",
    "                                Y_pred = 0.8*Y_pred/F_y + 0.2*Y_latent_MRMS/F_y\n",
    "                                \n",
    "                                # -------- VQ-VAE decode -------- #\n",
    "                                MRMS_pred_ = model_decoder_mrms.predict(Y_pred, verbose=0)\n",
    "                                MRMS_pred[n, count, ...] = np.mean(MRMS_pred_[...], axis=-1)\n",
    "                                \n",
    "                            MRMS_true[count, ...] = data[:, ix0:ix1, iy0:iy1, 0]\n",
    "                            APCP_true[count, ...] = data[:, ix0:ix1, iy0:iy1, 1]\n",
    "                            count += 1\n",
    "    \n",
    "                            # if count > 0:\n",
    "                            #     aergaeh\n",
    "                            \n",
    "                        else:\n",
    "                            print(\"all-zero precip detected\")\n",
    "                            MRMS_pred[n, count, ...] = 0\n",
    "                            MRMS_true[count, ...] = data[:, ix0:ix1, iy0:iy1, 0]\n",
    "                            APCP_true[count, ...] = data[:, ix0:ix1, iy0:iy1, 1]\n",
    "                            count += 1\n",
    "                        \n",
    "            else:\n",
    "                # MRMS is NaN\n",
    "                print(\"MRMS missing\")\n",
    "                \n",
    "        dict_save = {}\n",
    "        dict_save['LDM_latent'] = LDM_latent\n",
    "        dict_save['MRMS_latent'] = MRMS_latent\n",
    "        dict_save['APCP_latent'] = APCP_latent\n",
    "        dict_save['MRMS_pred'] = MRMS_pred\n",
    "        dict_save['MRMS_true'] = MRMS_true\n",
    "        dict_save['APCP_true'] = APCP_true\n",
    "        \n",
    "        print(name_)\n",
    "        np.save(name_, dict_save)\n",
    "        print(\"--- %s seconds ---\" % (time.time() - start_time))"
   ]
  },
  {
   "cell_type": "code",
   "execution_count": 32,
   "id": "6195c098-7a94-4229-909a-0d905a689c49",
   "metadata": {},
   "outputs": [],
   "source": [
    "MRMS_pred[MRMS_pred<0] = 0\n",
    "MRMS_pred = np.exp(MRMS_pred)-1\n",
    "MRMS_true = np.exp(MRMS_true)-1\n",
    "APCP_true = np.exp(APCP_true)-1"
   ]
  },
  {
   "cell_type": "code",
   "execution_count": 80,
   "id": "0310c787-cfbe-442e-913a-04d0ef12464d",
   "metadata": {},
   "outputs": [
    {
     "data": {
      "text/plain": [
       "0.38763964075492635"
      ]
     },
     "execution_count": 80,
     "metadata": {},
     "output_type": "execute_result"
    }
   ],
   "source": [
    "np.mean(np.abs(np.mean(MRMS_pred[:, 0, ...], axis=0)-MRMS_true[0, ...]))"
   ]
  },
  {
   "cell_type": "code",
   "execution_count": 45,
   "id": "5877445c-3266-42e1-90e7-3a70ef7d7d4c",
   "metadata": {},
   "outputs": [
    {
     "data": {
      "text/plain": [
       "0.4964771258081877"
      ]
     },
     "execution_count": 45,
     "metadata": {},
     "output_type": "execute_result"
    }
   ],
   "source": [
    "np.mean(np.abs(MRMS_pred[9, 0, ...]-MRMS_true[0, ...]))"
   ]
  },
  {
   "cell_type": "code",
   "execution_count": null,
   "id": "29cd62bd-e11b-44c6-ac14-7278f27228a1",
   "metadata": {},
   "outputs": [],
   "source": []
  },
  {
   "cell_type": "code",
   "execution_count": 81,
   "id": "c916c43d-f84a-40bd-ac9d-03747ba6ac20",
   "metadata": {},
   "outputs": [
    {
     "data": {
      "text/plain": [
       "0.43651822720637296"
      ]
     },
     "execution_count": 81,
     "metadata": {},
     "output_type": "execute_result"
    }
   ],
   "source": [
    "np.mean(np.abs(APCP_true[0, ...]-MRMS_true[0, ...]))"
   ]
  },
  {
   "cell_type": "markdown",
   "id": "4abf3b42-d07e-433b-8f93-25ba8f478bf7",
   "metadata": {},
   "source": [
    "## Verification test"
   ]
  },
  {
   "cell_type": "markdown",
   "id": "9111ddf7-b388-4700-8f3b-7386df84978b",
   "metadata": {},
   "source": [
    "**CRPS**"
   ]
  },
  {
   "cell_type": "code",
   "execution_count": 61,
   "id": "1ccbfbbc-f292-42de-952f-7edd95f743ad",
   "metadata": {},
   "outputs": [],
   "source": [
    "def CRPS_1d(y_true, y_ens):\n",
    "    '''\n",
    "    Given one-dimensional ensemble forecast, compute its CRPS and corresponded two-term decomposition.\n",
    "    \n",
    "    CRPS, MAE, pairwise_abs_diff = CRPS_1d(y_true, y_ens)\n",
    "    \n",
    "    Grimit, E.P., Gneiting, T., Berrocal, V.J. and Johnson, N.A., 2006. The continuous ranked probability score \n",
    "    for circular variables and its application to mesoscale forecast ensemble verification. Quarterly Journal of \n",
    "    the Royal Meteorological Society, 132(621C), pp.2925-2942.\n",
    "    \n",
    "    Input\n",
    "    ----------\n",
    "        y_true: a numpy array with shape=(time, grids) and represents the (observed) truth \n",
    "        y_pred: a numpy array with shape=(time, ensemble_members, grids), represents the ensemble forecast\n",
    "    \n",
    "    Output\n",
    "    ----------\n",
    "        CRPS: the continuous ranked probability score, shape=(time, grids)\n",
    "        MAE: mean absolute error\n",
    "        SPREAD: pairwise absolute difference among ensemble members (not the spread)\n",
    "        \n",
    "    '''\n",
    "    N_day, EN, N_grids = y_ens.shape\n",
    "    M = 2*EN*EN\n",
    "    \n",
    "    # allocate outputs\n",
    "    MAE = np.empty((N_day, N_grids),); MAE[...] = np.nan\n",
    "    SPREAD = np.empty((N_day, N_grids),); SPREAD[...] = np.nan\n",
    "    \n",
    "    # loop over grid points\n",
    "    for n in range(N_grids):\n",
    "        # loop over days\n",
    "        for day in range(N_day):\n",
    "            # calc MAE\n",
    "            MAE[day, n] = np.mean(np.abs(y_true[day, n]-y_ens[day, :, n]))\n",
    "            # calc SPREAD\n",
    "            spread_temp = 0\n",
    "            for en1 in range(EN):\n",
    "                for en2 in range(EN):\n",
    "                    spread_temp += np.abs(y_ens[day, en1, n]-y_ens[day, en2, n])\n",
    "            SPREAD[day, n] = spread_temp/M\n",
    "            \n",
    "    CRPS = MAE-SPREAD\n",
    "    \n",
    "    return CRPS, MAE, SPREAD"
   ]
  },
  {
   "cell_type": "code",
   "execution_count": 62,
   "id": "4ee4dfc7-f686-4653-82e6-8524625ab3da",
   "metadata": {},
   "outputs": [],
   "source": [
    "y_pred = MRMS_pred[:, 0, ...].reshape(10, 128*128)[None, ...]\n",
    "y_true = MRMS_true[0, ...].reshape(128*128)[None, ...]"
   ]
  },
  {
   "cell_type": "code",
   "execution_count": 63,
   "id": "962a9122-eabd-4bd3-8bbf-fd5e34e227cc",
   "metadata": {},
   "outputs": [],
   "source": [
    "CRPS, MAE, SPREAD = CRPS_1d(y_true, y_pred)"
   ]
  },
  {
   "cell_type": "code",
   "execution_count": 64,
   "id": "ca5f4b85-5de0-4453-bdb9-9f8632417564",
   "metadata": {},
   "outputs": [
    {
     "data": {
      "text/plain": [
       "0.2970341359240644"
      ]
     },
     "execution_count": 64,
     "metadata": {},
     "output_type": "execute_result"
    }
   ],
   "source": [
    "np.mean(CRPS)"
   ]
  },
  {
   "cell_type": "code",
   "execution_count": 65,
   "id": "4d8c51a0-cfb7-4a37-b6ac-67a610346e25",
   "metadata": {},
   "outputs": [],
   "source": [
    "# y_pred = MRMS_pred[:, 0, ...].reshape(10, 128*128)[None, ...]\n",
    "# y_true = MRMS_true[0, ...].reshape(128*128)[None, ...]\n",
    "# CRPS, MAE, SPREAD = CRPS_1d(y_true, y_pred)"
   ]
  },
  {
   "cell_type": "code",
   "execution_count": 46,
   "id": "0fa3f9a6-ca68-4076-82b5-04f80ad412d7",
   "metadata": {},
   "outputs": [
    {
     "data": {
      "text/plain": [
       "0.06361923609943772"
      ]
     },
     "execution_count": 46,
     "metadata": {},
     "output_type": "execute_result"
    }
   ],
   "source": [
    "np.mean(CRPS)"
   ]
  },
  {
   "cell_type": "code",
   "execution_count": 47,
   "id": "830d6918-a031-46de-8eda-9d2f11017670",
   "metadata": {},
   "outputs": [
    {
     "data": {
      "text/plain": [
       "0.10250301681522812"
      ]
     },
     "execution_count": 47,
     "metadata": {},
     "output_type": "execute_result"
    }
   ],
   "source": [
    "np.mean(MAE)"
   ]
  },
  {
   "cell_type": "markdown",
   "id": "8a80f323-187d-453d-aca5-93ca31ee3534",
   "metadata": {},
   "source": [
    "**Full domain verification**"
   ]
  },
  {
   "cell_type": "code",
   "execution_count": 34,
   "id": "7f4f1790-ac46-414b-9f14-e2b03bff9ca8",
   "metadata": {},
   "outputs": [],
   "source": [
    "# data size info\n",
    "x_mrms = 256; y_mrms = 576 # 0.1 deg MRMS size\n",
    "x_gfs = 105; y_gfs = 242 # 0.25 deg GFS size\n",
    "\n",
    "Nx_pred = 2\n",
    "Ny_pred = 5\n",
    "Ny_gap = 12\n",
    "size_pred = 128\n",
    "\n",
    "MRMS_pred = np.exp(MRMS_pred) - 1\n",
    "MRMS_true = np.exp(MRMS_true) - 1\n",
    "APCP_true = np.exp(APCP_true) - 1\n",
    "\n",
    "MRMS_pred_domain = np.empty((10, x_mrms, y_mrms)); MRMS_pred_domain[...] = np.nan\n",
    "MRMS_true_domain = np.empty((x_mrms, y_mrms)); MRMS_true_domain[...] = np.nan\n",
    "APCP_true_domain = np.empty((x_mrms, y_mrms)); APCP_true_domain[...] = np.nan\n",
    "\n",
    "count = 0\n",
    "for px in range(Nx_pred):\n",
    "    for py in range(Ny_pred):\n",
    "        ix0 = size_pred*px\n",
    "        ix1 = ix0+size_pred\n",
    "        \n",
    "        if py < (Ny_pred-1):\n",
    "            iy0 = (size_pred-Ny_gap)*py\n",
    "            iy1 = iy0 + size_pred\n",
    "        else:\n",
    "            iy1 = y_mrms\n",
    "            iy0 = y_mrms - size_pred\n",
    "\n",
    "        MRMS_pred_domain[:, ix0:ix1, iy0:iy1] = MRMS_pred[:, count, :, :]\n",
    "        MRMS_true_domain[ix0:ix1, iy0:iy1] = MRMS_true[count, :, :]\n",
    "        APCP_true_domain[ix0:ix1, iy0:iy1] = APCP_true[count, :, :]\n",
    "        count += 1\n",
    "\n",
    "MRMS_pred_domain[np.isnan(MRMS_pred_domain)] = 0\n",
    "MRMS_pred_domain[MRMS_pred_domain<0] = 0"
   ]
  },
  {
   "cell_type": "markdown",
   "id": "14b27d5f-4b72-4597-864f-4bca0046d0ca",
   "metadata": {},
   "source": [
    "**Reliability diagram test**"
   ]
  },
  {
   "cell_type": "code",
   "execution_count": 35,
   "id": "3914be03-def6-4c23-8df3-a914a67fc193",
   "metadata": {},
   "outputs": [],
   "source": [
    "from sklearn.calibration import calibration_curve"
   ]
  },
  {
   "cell_type": "code",
   "execution_count": 36,
   "id": "0e89025d-7f66-4e18-ae94-499fcdeeabfb",
   "metadata": {},
   "outputs": [],
   "source": [
    "Y_prob = MRMS_pred_domain > 10\n",
    "Y_prob = np.mean(Y_prob, axis=0)\n",
    "Y_true = MRMS_true_domain > 10\n",
    "\n",
    "prob_true, prob_pred = calibration_curve(Y_true.ravel(), Y_prob.ravel(), n_bins=20)"
   ]
  },
  {
   "cell_type": "code",
   "execution_count": 37,
   "id": "f8dd04fa-c205-4e5a-85ad-eeb780ec22c4",
   "metadata": {},
   "outputs": [
    {
     "data": {
      "text/plain": [
       "[<matplotlib.lines.Line2D at 0x1548fa14dba0>]"
      ]
     },
     "execution_count": 37,
     "metadata": {},
     "output_type": "execute_result"
    },
    {
     "data": {
      "image/png": "[encoded data removed]",
      "text/plain": [
       "<Figure size 640x480 with 1 Axes>"
      ]
     },
     "metadata": {},
     "output_type": "display_data"
    }
   ],
   "source": [
    "plt.plot(prob_pred, prob_true)"
   ]
  },
  {
   "cell_type": "markdown",
   "id": "96a53224-6c00-4ac8-b962-1dc4a92c919e",
   "metadata": {},
   "source": [
    "**Examples**"
   ]
  },
  {
   "cell_type": "code",
   "execution_count": 57,
   "id": "bd2f6609-d52b-4a36-a808-5d6698fb33f0",
   "metadata": {},
   "outputs": [
    {
     "data": {
      "text/plain": [
       "<matplotlib.colorbar.Colorbar at 0x14510ed7a320>"
      ]
     },
     "execution_count": 57,
     "metadata": {},
     "output_type": "execute_result"
    },
    {
     "data": {
      "image/png": "[encoded data removed]",
      "text/plain": [
       "<Figure size 640x480 with 2 Axes>"
      ]
     },
     "metadata": {},
     "output_type": "display_data"
    }
   ],
   "source": [
    "plt.pcolormesh(np.mean(MRMS_pred[:, 0, ...], axis=0), vmin=0, vmax=10, cmap=plt.cm.nipy_spectral_r)\n",
    "plt.colorbar()"
   ]
  },
  {
   "cell_type": "code",
   "execution_count": 60,
   "id": "2da30e5b-9b4d-49f4-95ce-e2884c06c8f9",
   "metadata": {},
   "outputs": [
    {
     "data": {
      "text/plain": [
       "<matplotlib.colorbar.Colorbar at 0x14510eefc790>"
      ]
     },
     "execution_count": 60,
     "metadata": {},
     "output_type": "execute_result"
    },
    {
     "data": {
      "image/png": "[encoded data removed]",
      "text/plain": [
       "<Figure size 640x480 with 2 Axes>"
      ]
     },
     "metadata": {},
     "output_type": "display_data"
    }
   ],
   "source": [
    "plt.pcolormesh(MRMS_pred[2, 0, ...], vmin=0, vmax=10, cmap=plt.cm.nipy_spectral_r)\n",
    "plt.colorbar()"
   ]
  },
  {
   "cell_type": "code",
   "execution_count": 55,
   "id": "3c9ffe69-4831-4d08-9de9-8d615bcb8e94",
   "metadata": {},
   "outputs": [
    {
     "data": {
      "text/plain": [
       "<matplotlib.colorbar.Colorbar at 0x14510dabc730>"
      ]
     },
     "execution_count": 55,
     "metadata": {},
     "output_type": "execute_result"
    },
    {
     "data": {
      "image/png": "[encoded data removed]",
      "text/plain": [
       "<Figure size 640x480 with 2 Axes>"
      ]
     },
     "metadata": {},
     "output_type": "display_data"
    }
   ],
   "source": [
    "plt.pcolormesh(APCP_true[0, ...], vmin=0, vmax=10, cmap=plt.cm.nipy_spectral_r)\n",
    "plt.colorbar()"
   ]
  },
  {
   "cell_type": "code",
   "execution_count": 54,
   "id": "e95e11d1-fffc-4efe-b528-92f9e506fd66",
   "metadata": {},
   "outputs": [
    {
     "data": {
      "text/plain": [
       "<matplotlib.colorbar.Colorbar at 0x14510de330d0>"
      ]
     },
     "execution_count": 54,
     "metadata": {},
     "output_type": "execute_result"
    },
    {
     "data": {
      "image/png": "[encoded data removed]",
      "text/plain": [
       "<Figure size 640x480 with 2 Axes>"
      ]
     },
     "metadata": {},
     "output_type": "display_data"
    }
   ],
   "source": [
    "plt.pcolormesh(MRMS_true[0, ...], vmin=0, vmax=10, cmap=plt.cm.nipy_spectral_r)\n",
    "plt.colorbar()"
   ]
  },
  {
   "cell_type": "code",
   "execution_count": 97,
   "id": "5e5fb82a-5f3f-4e90-bd74-1eafd125da3d",
   "metadata": {},
   "outputs": [
    {
     "data": {
      "text/plain": [
       "(array([3., 2., 4., 0., 0., 0., 0., 0., 0., 1.]),\n",
       " array([0.01810341, 0.67524442, 1.33238543, 1.98952644, 2.64666745,\n",
       "        3.30380846, 3.96094947, 4.61809048, 5.27523148, 5.93237249,\n",
       "        6.5895135 ]),\n",
       " <BarContainer object of 10 artists>)"
      ]
     },
     "execution_count": 97,
     "metadata": {},
     "output_type": "execute_result"
    },
    {
     "data": {
      "image/png": "[encoded data removed]",
      "text/plain": [
       "<Figure size 640x480 with 1 Axes>"
      ]
     },
     "metadata": {},
     "output_type": "display_data"
    }
   ],
   "source": [
    "plt.hist(MRMS_pred[:, 6, 60, 120])"
   ]
  },
  {
   "cell_type": "code",
   "execution_count": null,
   "id": "6f01c3a6-3b73-4424-8f20-0236d8daf614",
   "metadata": {},
   "outputs": [],
   "source": []
  }
 ],
 "metadata": {
  "kernelspec": {
   "display_name": "Python 3 (ipykernel)",
   "language": "python",
   "name": "python3"
  },
  "language_info": {
   "codemirror_mode": {
    "name": "ipython",
    "version": 3
   },
   "file_extension": ".py",
   "mimetype": "text/x-python",
   "name": "python",
   "nbconvert_exporter": "python",
   "pygments_lexer": "ipython3",
   "version": "3.10.13"
  }
 },
 "nbformat": 4,
 "nbformat_minor": 5
}
