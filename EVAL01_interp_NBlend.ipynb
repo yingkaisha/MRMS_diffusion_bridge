{
 "cells": [
  {
   "cell_type": "markdown",
   "id": "416d659d-f855-4959-a21e-cc9184711045",
   "metadata": {},
   "source": [
    "# Interpolate National Blend results to 0.25 deg"
   ]
  },
  {
   "cell_type": "code",
   "execution_count": 1,
   "id": "0583d348-7d7d-403c-a4f9-ffdb9e2727ea",
   "metadata": {},
   "outputs": [],
   "source": [
    "import os\n",
    "import sys\n",
    "import time\n",
    "import h5py\n",
    "\n",
    "import numpy as np\n",
    "from glob import glob\n",
    "\n",
    "from datetime import datetime, timedelta\n",
    "from scipy.interpolate import RegularGridInterpolator"
   ]
  },
  {
   "cell_type": "code",
   "execution_count": 2,
   "id": "97355ccb-f07d-42cf-a710-4731ac91ad5e",
   "metadata": {},
   "outputs": [],
   "source": [
    "sys.path.insert(0, '/glade/u/home/ksha/GAN_proj/')\n",
    "sys.path.insert(0, '/glade/u/home/ksha/GAN_proj/libs/')\n",
    "\n",
    "from namelist import *\n",
    "import data_utils as du"
   ]
  },
  {
   "cell_type": "code",
   "execution_count": 3,
   "id": "35fa4139-6ad8-4c72-8e8d-4ddde3beaaf5",
   "metadata": {},
   "outputs": [],
   "source": [
    "import matplotlib.pyplot as plt\n",
    "%matplotlib inline"
   ]
  },
  {
   "cell_type": "code",
   "execution_count": 4,
   "id": "91463876-2e87-4eb7-a0f1-0f481c9d8629",
   "metadata": {},
   "outputs": [],
   "source": [
    "with h5py.File(save_dir+'CNN_domain.hdf', 'r') as h5io:\n",
    "    lon_01 = h5io['lon_01'][...]\n",
    "    lat_01 = h5io['lat_01'][...]\n",
    "    lon_GFS = h5io['lon_GFS'][...]\n",
    "    lat_GFS = h5io['lat_GFS'][...]    "
   ]
  },
  {
   "cell_type": "code",
   "execution_count": 15,
   "id": "18f0d882-332b-49b9-9d51-02a9ea10f06f",
   "metadata": {},
   "outputs": [],
   "source": [
    "N_days = 300\n",
    "N_bins = 99\n",
    "grid_shape = lon_GFS.shape\n",
    "LEADs = np.arange(6, 168+6, 6)"
   ]
  },
  {
   "cell_type": "code",
   "execution_count": 12,
   "id": "a6710789-9435-4f7c-93c7-3d4601aa6a5b",
   "metadata": {},
   "outputs": [],
   "source": [
    "base_name = '/glade/campaign/cisl/aiml/ksha/NBlend_save/NB_2023_ini00_f{:02d}.hdf'\n",
    "save_name = 'NB_025_2023_ini00_f{:02d}.hdf'"
   ]
  },
  {
   "cell_type": "code",
   "execution_count": 13,
   "id": "0514d129-299a-4a3b-838e-72079a1d9e83",
   "metadata": {},
   "outputs": [],
   "source": [
    "with h5py.File(base_name.format(6), 'r') as h5io:\n",
    "    APCP_q = h5io['APCP_q'][...]"
   ]
  },
  {
   "cell_type": "code",
   "execution_count": 14,
   "id": "f2c78b55-3233-45d9-8d16-8970baa73997",
   "metadata": {},
   "outputs": [
    {
     "data": {
      "text/plain": [
       "(300, 99, 256, 576)"
      ]
     },
     "execution_count": 14,
     "metadata": {},
     "output_type": "execute_result"
    }
   ],
   "source": [
    "APCP_q.shape"
   ]
  },
  {
   "cell_type": "code",
   "execution_count": 23,
   "id": "b3c16b0a-7f02-4273-a761-0ffff71b3927",
   "metadata": {},
   "outputs": [
    {
     "name": "stdout",
     "output_type": "stream",
     "text": [
      "complete: NB_025_2023_ini00_f06.hdf\n",
      "Save to /glade/campaign/cisl/aiml/ksha/NBlend_save/NB_025_2023_ini00_f06.hdf\n",
      "complete: NB_025_2023_ini00_f12.hdf\n",
      "Save to /glade/campaign/cisl/aiml/ksha/NBlend_save/NB_025_2023_ini00_f12.hdf\n",
      "complete: NB_025_2023_ini00_f18.hdf\n",
      "Save to /glade/campaign/cisl/aiml/ksha/NBlend_save/NB_025_2023_ini00_f18.hdf\n",
      "complete: NB_025_2023_ini00_f24.hdf\n",
      "Save to /glade/campaign/cisl/aiml/ksha/NBlend_save/NB_025_2023_ini00_f24.hdf\n",
      "complete: NB_025_2023_ini00_f30.hdf\n",
      "Save to /glade/campaign/cisl/aiml/ksha/NBlend_save/NB_025_2023_ini00_f30.hdf\n",
      "complete: NB_025_2023_ini00_f36.hdf\n",
      "Save to /glade/campaign/cisl/aiml/ksha/NBlend_save/NB_025_2023_ini00_f36.hdf\n",
      "complete: NB_025_2023_ini00_f42.hdf\n",
      "Save to /glade/campaign/cisl/aiml/ksha/NBlend_save/NB_025_2023_ini00_f42.hdf\n",
      "complete: NB_025_2023_ini00_f48.hdf\n",
      "Save to /glade/campaign/cisl/aiml/ksha/NBlend_save/NB_025_2023_ini00_f48.hdf\n",
      "complete: NB_025_2023_ini00_f54.hdf\n",
      "Save to /glade/campaign/cisl/aiml/ksha/NBlend_save/NB_025_2023_ini00_f54.hdf\n",
      "complete: NB_025_2023_ini00_f60.hdf\n",
      "Save to /glade/campaign/cisl/aiml/ksha/NBlend_save/NB_025_2023_ini00_f60.hdf\n",
      "complete: NB_025_2023_ini00_f66.hdf\n",
      "Save to /glade/campaign/cisl/aiml/ksha/NBlend_save/NB_025_2023_ini00_f66.hdf\n",
      "complete: NB_025_2023_ini00_f72.hdf\n",
      "Save to /glade/campaign/cisl/aiml/ksha/NBlend_save/NB_025_2023_ini00_f72.hdf\n",
      "complete: NB_025_2023_ini00_f78.hdf\n",
      "Save to /glade/campaign/cisl/aiml/ksha/NBlend_save/NB_025_2023_ini00_f78.hdf\n",
      "complete: NB_025_2023_ini00_f84.hdf\n",
      "Save to /glade/campaign/cisl/aiml/ksha/NBlend_save/NB_025_2023_ini00_f84.hdf\n",
      "complete: NB_025_2023_ini00_f90.hdf\n",
      "Save to /glade/campaign/cisl/aiml/ksha/NBlend_save/NB_025_2023_ini00_f90.hdf\n",
      "complete: NB_025_2023_ini00_f96.hdf\n",
      "Save to /glade/campaign/cisl/aiml/ksha/NBlend_save/NB_025_2023_ini00_f96.hdf\n",
      "complete: NB_025_2023_ini00_f102.hdf\n",
      "Save to /glade/campaign/cisl/aiml/ksha/NBlend_save/NB_025_2023_ini00_f102.hdf\n",
      "complete: NB_025_2023_ini00_f108.hdf\n",
      "Save to /glade/campaign/cisl/aiml/ksha/NBlend_save/NB_025_2023_ini00_f108.hdf\n",
      "complete: NB_025_2023_ini00_f114.hdf\n",
      "Save to /glade/campaign/cisl/aiml/ksha/NBlend_save/NB_025_2023_ini00_f114.hdf\n",
      "complete: NB_025_2023_ini00_f120.hdf\n",
      "Save to /glade/campaign/cisl/aiml/ksha/NBlend_save/NB_025_2023_ini00_f120.hdf\n",
      "complete: NB_025_2023_ini00_f126.hdf\n",
      "Save to /glade/campaign/cisl/aiml/ksha/NBlend_save/NB_025_2023_ini00_f126.hdf\n",
      "complete: NB_025_2023_ini00_f132.hdf\n",
      "Save to /glade/campaign/cisl/aiml/ksha/NBlend_save/NB_025_2023_ini00_f132.hdf\n",
      "complete: NB_025_2023_ini00_f138.hdf\n",
      "Save to /glade/campaign/cisl/aiml/ksha/NBlend_save/NB_025_2023_ini00_f138.hdf\n",
      "complete: NB_025_2023_ini00_f144.hdf\n",
      "Save to /glade/campaign/cisl/aiml/ksha/NBlend_save/NB_025_2023_ini00_f144.hdf\n",
      "complete: NB_025_2023_ini00_f150.hdf\n",
      "Save to /glade/campaign/cisl/aiml/ksha/NBlend_save/NB_025_2023_ini00_f150.hdf\n",
      "complete: NB_025_2023_ini00_f156.hdf\n",
      "Save to /glade/campaign/cisl/aiml/ksha/NBlend_save/NB_025_2023_ini00_f156.hdf\n",
      "missing: day 176; ens 0\n",
      "missing: day 176; ens 1\n",
      "missing: day 176; ens 2\n",
      "missing: day 176; ens 3\n",
      "missing: day 176; ens 4\n",
      "missing: day 176; ens 5\n",
      "missing: day 176; ens 6\n",
      "missing: day 176; ens 7\n",
      "missing: day 176; ens 8\n",
      "missing: day 176; ens 9\n",
      "missing: day 176; ens 10\n",
      "missing: day 176; ens 11\n",
      "missing: day 176; ens 12\n",
      "missing: day 176; ens 13\n",
      "missing: day 176; ens 14\n",
      "missing: day 176; ens 15\n",
      "missing: day 176; ens 16\n",
      "missing: day 176; ens 17\n",
      "missing: day 176; ens 18\n",
      "missing: day 176; ens 19\n",
      "missing: day 176; ens 20\n",
      "missing: day 176; ens 21\n",
      "missing: day 176; ens 22\n",
      "missing: day 176; ens 23\n",
      "missing: day 176; ens 24\n",
      "missing: day 176; ens 25\n",
      "missing: day 176; ens 26\n",
      "missing: day 176; ens 27\n",
      "missing: day 176; ens 28\n",
      "missing: day 176; ens 29\n",
      "missing: day 176; ens 30\n",
      "missing: day 176; ens 31\n",
      "missing: day 176; ens 32\n",
      "missing: day 176; ens 33\n",
      "missing: day 176; ens 34\n",
      "missing: day 176; ens 35\n",
      "missing: day 176; ens 36\n",
      "missing: day 176; ens 37\n",
      "missing: day 176; ens 38\n",
      "missing: day 176; ens 39\n",
      "missing: day 176; ens 40\n",
      "missing: day 176; ens 41\n",
      "missing: day 176; ens 42\n",
      "missing: day 176; ens 43\n",
      "missing: day 176; ens 44\n",
      "missing: day 176; ens 45\n",
      "missing: day 176; ens 46\n",
      "missing: day 176; ens 47\n",
      "missing: day 176; ens 48\n",
      "missing: day 176; ens 49\n",
      "missing: day 176; ens 50\n",
      "missing: day 176; ens 51\n",
      "missing: day 176; ens 52\n",
      "missing: day 176; ens 53\n",
      "missing: day 176; ens 54\n",
      "missing: day 176; ens 55\n",
      "missing: day 176; ens 56\n",
      "missing: day 176; ens 57\n",
      "missing: day 176; ens 58\n",
      "missing: day 176; ens 59\n",
      "missing: day 176; ens 60\n",
      "missing: day 176; ens 61\n",
      "missing: day 176; ens 62\n",
      "missing: day 176; ens 63\n",
      "missing: day 176; ens 64\n",
      "missing: day 176; ens 65\n",
      "missing: day 176; ens 66\n",
      "missing: day 176; ens 67\n",
      "missing: day 176; ens 68\n",
      "missing: day 176; ens 69\n",
      "missing: day 176; ens 70\n",
      "missing: day 176; ens 71\n",
      "missing: day 176; ens 72\n",
      "missing: day 176; ens 73\n",
      "missing: day 176; ens 74\n",
      "missing: day 176; ens 75\n",
      "missing: day 176; ens 76\n",
      "missing: day 176; ens 77\n",
      "missing: day 176; ens 78\n",
      "missing: day 176; ens 79\n",
      "missing: day 176; ens 80\n",
      "missing: day 176; ens 81\n",
      "missing: day 176; ens 82\n",
      "missing: day 176; ens 83\n",
      "missing: day 176; ens 84\n",
      "missing: day 176; ens 85\n",
      "missing: day 176; ens 86\n",
      "missing: day 176; ens 87\n",
      "missing: day 176; ens 88\n",
      "missing: day 176; ens 89\n",
      "missing: day 176; ens 90\n",
      "missing: day 176; ens 91\n",
      "missing: day 176; ens 92\n",
      "missing: day 176; ens 93\n",
      "missing: day 176; ens 94\n",
      "missing: day 176; ens 95\n",
      "missing: day 176; ens 96\n",
      "missing: day 176; ens 97\n",
      "missing: day 176; ens 98\n",
      "complete: NB_025_2023_ini00_f162.hdf\n",
      "Save to /glade/campaign/cisl/aiml/ksha/NBlend_save/NB_025_2023_ini00_f162.hdf\n",
      "complete: NB_025_2023_ini00_f168.hdf\n",
      "Save to /glade/campaign/cisl/aiml/ksha/NBlend_save/NB_025_2023_ini00_f168.hdf\n"
     ]
    }
   ],
   "source": [
    "Y_PRED = np.empty((N_days, N_bins,)+grid_shape); Y_PRED[...] = np.nan\n",
    "\n",
    "ini = 0\n",
    "for lead in LEADs:\n",
    "    with h5py.File(base_name.format(lead), 'r') as h5io:\n",
    "        APCP_q = h5io['APCP_q'][...]\n",
    "\n",
    "    for day in range(N_days):\n",
    "        for n in range(N_bins):\n",
    "            y_pred_ = APCP_q[day, n, ...]\n",
    "    \n",
    "            if np.sum(np.isnan(y_pred_)) > 0:\n",
    "                print('missing: day {}; bin {}'.format(day, n))\n",
    "        \n",
    "            else:\n",
    "                hr_to_lr = RegularGridInterpolator((lat_01[:, 0], lon_01[0, :]), y_pred_, \n",
    "                                                   bounds_error=False, fill_value=np.nan)\n",
    "                Y_PRED[day, n, ...] = hr_to_lr((lat_GFS, lon_GFS))\n",
    "            \n",
    "    \n",
    "    save_name_ = save_name.format(lead)\n",
    "    print('complete: {}'.format(save_name_))\n",
    "    \n",
    "    tuple_save = (Y_PRED,)\n",
    "    label_save = ['Y_PRED',]\n",
    "    du.save_hdf5(tuple_save, label_save, '/glade/campaign/cisl/aiml/ksha/NBlend_save/', save_name_)"
   ]
  },
  {
   "cell_type": "code",
   "execution_count": null,
   "id": "318e51bb-5982-41ec-9026-100d71288451",
   "metadata": {},
   "outputs": [],
   "source": []
  },
  {
   "cell_type": "code",
   "execution_count": 17,
   "id": "bfa9d898-04e9-44c5-871f-ced676edcb12",
   "metadata": {},
   "outputs": [],
   "source": [
    "with h5py.File('/glade/campaign/cisl/aiml/ksha/NBlend_save/NB_025_2023_ini00_f06.hdf', 'r') as h5io:\n",
    "    Y_PRED_6 = h5io['Y_PRED'][...]"
   ]
  },
  {
   "cell_type": "code",
   "execution_count": 19,
   "id": "90b300fc-221b-41a8-befd-226b90d251b1",
   "metadata": {},
   "outputs": [
    {
     "data": {
      "text/plain": [
       "<matplotlib.collections.QuadMesh at 0x14e871d9f550>"
      ]
     },
     "execution_count": 19,
     "metadata": {},
     "output_type": "execute_result"
    },
    {
     "data": {
      "image/png": "[encoded data removed]",
      "text/plain": [
       "<Figure size 640x480 with 1 Axes>"
      ]
     },
     "metadata": {},
     "output_type": "display_data"
    }
   ],
   "source": [
    "plt.pcolormesh(Y_PRED_6[100, 0, ...], vmin=0, vmax=10, cmap=plt.cm.nipy_spectral_r)"
   ]
  },
  {
   "cell_type": "code",
   "execution_count": 26,
   "id": "1f625c06-8d51-457b-a6b4-2390312135aa",
   "metadata": {},
   "outputs": [
    {
     "data": {
      "text/plain": [
       "<matplotlib.collections.QuadMesh at 0x14dd71b75d90>"
      ]
     },
     "execution_count": 26,
     "metadata": {},
     "output_type": "execute_result"
    },
    {
     "data": {
      "image/png": "[encoded data removed]",
      "text/plain": [
       "<Figure size 640x480 with 1 Axes>"
      ]
     },
     "metadata": {},
     "output_type": "display_data"
    }
   ],
   "source": [
    "plt.pcolormesh(Y_PRED_6[100, -1, ...], vmin=0, vmax=30, cmap=plt.cm.nipy_spectral_r)"
   ]
  },
  {
   "cell_type": "code",
   "execution_count": 22,
   "id": "00b656ca-9022-42fb-ad1e-4f967597f5c3",
   "metadata": {},
   "outputs": [
    {
     "data": {
      "text/plain": [
       "[<matplotlib.lines.Line2D at 0x14e871dd5f10>]"
      ]
     },
     "execution_count": 22,
     "metadata": {},
     "output_type": "execute_result"
    },
    {
     "data": {
      "image/png": "[encoded data removed]",
      "text/plain": [
       "<Figure size 640x480 with 1 Axes>"
      ]
     },
     "metadata": {},
     "output_type": "display_data"
    }
   ],
   "source": [
    "plt.plot(Y_PRED_6[100, :, 90, 10])"
   ]
  },
  {
   "cell_type": "code",
   "execution_count": null,
   "id": "9cc20bc0-537a-487c-abd8-3d1cab13e137",
   "metadata": {},
   "outputs": [],
   "source": []
  }
 ],
 "metadata": {
  "kernelspec": {
   "display_name": "Python 3 (ipykernel)",
   "language": "python",
   "name": "python3"
  },
  "language_info": {
   "codemirror_mode": {
    "name": "ipython",
    "version": 3
   },
   "file_extension": ".py",
   "mimetype": "text/x-python",
   "name": "python",
   "nbconvert_exporter": "python",
   "pygments_lexer": "ipython3",
   "version": "3.11.6"
  }
 },
 "nbformat": 4,
 "nbformat_minor": 5
}
