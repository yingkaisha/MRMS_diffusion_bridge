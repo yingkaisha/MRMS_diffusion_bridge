{
 "cells": [
  {
   "cell_type": "code",
   "execution_count": 1,
   "id": "a1337b44-b1fa-4525-b783-bafc705ce988",
   "metadata": {},
   "outputs": [],
   "source": [
    "import os\n",
    "import sys\n",
    "import time\n",
    "import h5py\n",
    "import pygrib\n",
    "import numpy as np\n",
    "from datetime import datetime, timedelta\n",
    "\n",
    "sys.path.insert(0, '/glade/u/home/ksha/GAN_proj/')\n",
    "sys.path.insert(0, '/glade/u/home/ksha/GAN_proj/libs/')\n",
    "\n",
    "from namelist import *\n",
    "import data_utils as du"
   ]
  },
  {
   "cell_type": "markdown",
   "id": "9f83ad1c-35fc-4d92-a1e0-d5c3305c25d6",
   "metadata": {},
   "source": [
    "**Batch gen 2021**"
   ]
  },
  {
   "cell_type": "code",
   "execution_count": 2,
   "id": "3b9c5a19-788d-42a5-9ad4-09620e841959",
   "metadata": {},
   "outputs": [],
   "source": [
    "year = 2021\n",
    "\n",
    "size_mrms = 128\n",
    "size_half = 64\n",
    "gap = 64 # samples will have at least 5 non-overlap grids on height and width dimensions \n",
    "thres_dry = 1.0 # 1.0 mm = rain on that grid\n",
    "thres_rain_cover = 0.25 # at least 25% of the grids should have rain\n",
    "thres_land_cover = 0.90 # at least 90% of the grids should stay within land\n",
    "thres_extreme = 20 # if a grid has 20 mm/hr or above, the sample will bypass \"thres_rain_cover\""
   ]
  },
  {
   "cell_type": "code",
   "execution_count": 3,
   "id": "d39c7a18-a7b2-4c6a-84ee-b265a501e12c",
   "metadata": {},
   "outputs": [],
   "source": [
    "base = datetime(year, 1, 1)\n",
    "date_list = [base + timedelta(hours=day) for day in range(365*24)]"
   ]
  },
  {
   "cell_type": "markdown",
   "id": "b292826a-3118-4f84-bfa0-af2482789b6c",
   "metadata": {},
   "source": [
    "**Single Profile batches**"
   ]
  },
  {
   "cell_type": "code",
   "execution_count": 4,
   "id": "121cf871-681f-4e9b-b4df-3e37de2e6f48",
   "metadata": {},
   "outputs": [],
   "source": [
    "def norm_precip(x):\n",
    "    return np.log(x+1)"
   ]
  },
  {
   "cell_type": "code",
   "execution_count": 5,
   "id": "2d94cccc-629b-44d7-b4ed-e2c896eda5db",
   "metadata": {},
   "outputs": [],
   "source": [
    "with h5py.File(save_dir+'MRMS_ERA5_domain.hdf', 'r') as h5io:\n",
    "    land_mask_MRMS = h5io['land_mask_MRMS'][...]"
   ]
  },
  {
   "cell_type": "code",
   "execution_count": 6,
   "id": "f2c61ebe-d1ca-422d-9763-8d9cb812c1f5",
   "metadata": {},
   "outputs": [],
   "source": [
    "# x_mrms = 3500\n",
    "# y_mrms = 7000\n",
    "# N_grids = size_mrms*size_mrms\n",
    "# batch_file_name = 'DB_y{:04d}_dt{:04d}_i{:04d}_j{:04d}.npy'\n",
    "\n",
    "# # Main section\n",
    "# for i_dt, dt in enumerate(date_list[:1]):\n",
    "#     dt_str = datetime.strftime(dt, '%Y%m%d-%H%M%S')\n",
    "#     name_ = 'MRMS_MultiSensor_QPE_01H_Pass2_00.00_{}.grib2'.format(dt_str)\n",
    "#     filename = MRMS_dir + name_\n",
    "\n",
    "#     if os.path.isfile(filename):\n",
    "#         with pygrib.open(filename) as grbio:\n",
    "#             MRMS = grbio[1].values\n",
    "            \n",
    "#         # flip --> lower latitude at the bottom\n",
    "#         MRMS = np.flipud(MRMS)\n",
    "\n",
    "#         for i_mrms in range(0, x_mrms-size_mrms+gap, gap):\n",
    "#             for j_mrms in range(0, y_mrms-size_mrms+gap, gap):\n",
    "#                 i0 = i_mrms; i1 = i0 + size_mrms\n",
    "#                 j0 = j_mrms; j1 = j0 + size_mrms\n",
    "#                 patch_ = MRMS[i0:i1, j0:j1]\n",
    "#                 land_mask_ = land_mask_MRMS[i0:i1, j0:j1]\n",
    "\n",
    "#                 flag_size = patch_.shape == (size_mrms, size_mrms)\n",
    "#                 flag_rain_cover = (np.sum(patch_ > thres_dry)/N_grids) >= thres_rain_cover\n",
    "#                 flag_land_cover = (np.sum(land_mask_)/N_grids) >= thres_land_cover\n",
    "#                 flag_extreme = np.max(patch_) >= thres_extreme\n",
    "\n",
    "#                 flag_pass1 = np.logical_and(flag_rain_cover, flag_land_cover)\n",
    "#                 flag_pass2 = np.logical_and(flag_extreme, flag_land_cover)\n",
    "#                 flag_pass_final = np.logical_or(flag_pass1, flag_pass2)\n",
    "\n",
    "#                 if flag_size and flag_pass_final:\n",
    "#                     patch = patch_\n",
    "#                     patch = norm_precip(patch)\n",
    "                    \n",
    "#                     name_ = BATCH_dir+batch_file_name.format(year, i_dt, i_mrms, j_mrms)\n",
    "#                     print(name_)\n",
    "#                     np.save(name_, patch)"
   ]
  },
  {
   "cell_type": "code",
   "execution_count": 7,
   "id": "dbc1c14c-ed88-40bc-a7aa-1ba0fe626821",
   "metadata": {},
   "outputs": [],
   "source": []
  },
  {
   "cell_type": "code",
   "execution_count": 8,
   "id": "a47ab292-c4ff-4345-8b14-db2e4ce6e83c",
   "metadata": {},
   "outputs": [
    {
     "name": "stderr",
     "output_type": "stream",
     "text": [
      "2023-10-10 15:44:49.208396: I tensorflow/stream_executor/platform/default/dso_loader.cc:49] Successfully opened dynamic library libcudart.so.10.1\n"
     ]
    }
   ],
   "source": [
    "import matplotlib.pyplot as plt\n",
    "%matplotlib inline\n",
    "\n",
    "from glob import glob\n",
    "\n",
    "sys.path.insert(0, '/glade/u/home/ksha/GAN_proj/')\n",
    "sys.path.insert(0, '/glade/u/home/ksha/GAN_proj/libs/')\n",
    "\n",
    "from namelist import *\n",
    "import data_utils as du\n",
    "import model_utils as mu\n",
    "import graph_utils as gu"
   ]
  },
  {
   "cell_type": "code",
   "execution_count": 10,
   "id": "3dd8227f-e3bb-42d8-acc7-310f9e4613d7",
   "metadata": {},
   "outputs": [],
   "source": [
    "cmap_pct, A = gu.precip_cmap()"
   ]
  },
  {
   "cell_type": "code",
   "execution_count": 11,
   "id": "feff469c-788c-40c9-89b0-466f4112f1df",
   "metadata": {},
   "outputs": [],
   "source": [
    "filename = glob('/glade/campaign/cisl/aiml/ksha/BATCH_DB/*.npy')"
   ]
  },
  {
   "cell_type": "code",
   "execution_count": 23,
   "id": "722020f3-6896-40cf-b2f6-4102a80836dd",
   "metadata": {},
   "outputs": [],
   "source": [
    "# for i in range(100, 201, 1):\n",
    "#     temp_data = np.load(filename[i])\n",
    "#     plt.figure()\n",
    "#     plt.pcolormesh(2*(temp_data/4-0.5), cmap=cmap_pct, vmin=-1, vmax=1)\n",
    "#     #plt.pcolormesh(temp_data, cmap=cmap_pct)\n",
    "#     plt.colorbar()\n",
    "#     plt.title('max = {}'.format(np.max(temp_data)))"
   ]
  },
  {
   "cell_type": "code",
   "execution_count": 16,
   "id": "ec7467cc-165a-4d9a-b4d5-bbdf5657b4a4",
   "metadata": {},
   "outputs": [
    {
     "data": {
      "text/plain": [
       "3.9318256327243257"
      ]
     },
     "execution_count": 16,
     "metadata": {},
     "output_type": "execute_result"
    }
   ],
   "source": [
    "np.log(50+1)"
   ]
  },
  {
   "cell_type": "code",
   "execution_count": null,
   "id": "bf49046f-ad8e-4abd-ab64-fdf25209b2c3",
   "metadata": {},
   "outputs": [],
   "source": []
  }
 ],
 "metadata": {
  "kernelspec": {
   "display_name": "Python 3 (ipykernel)",
   "language": "python",
   "name": "python3"
  },
  "language_info": {
   "codemirror_mode": {
    "name": "ipython",
    "version": 3
   },
   "file_extension": ".py",
   "mimetype": "text/x-python",
   "name": "python",
   "nbconvert_exporter": "python",
   "pygments_lexer": "ipython3",
   "version": "3.9.18"
  }
 },
 "nbformat": 4,
 "nbformat_minor": 5
}
