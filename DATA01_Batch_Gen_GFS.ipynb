{
 "cells": [
  {
   "cell_type": "code",
   "execution_count": 1,
   "id": "a1337b44-b1fa-4525-b783-bafc705ce988",
   "metadata": {},
   "outputs": [],
   "source": [
    "import os\n",
    "import sys\n",
    "import time\n",
    "import h5py\n",
    "import pygrib\n",
    "import numpy as np\n",
    "import netCDF4 as nc\n",
    "from scipy.interpolate import interp2d\n",
    "from datetime import datetime, timedelta\n",
    "\n",
    "sys.path.insert(0, '/glade/u/home/ksha/GAN_proj/')\n",
    "sys.path.insert(0, '/glade/u/home/ksha/GAN_proj/libs/')\n",
    "\n",
    "from namelist import *\n",
    "import data_utils as du"
   ]
  },
  {
   "cell_type": "code",
   "execution_count": 2,
   "id": "ae6cd660-668e-4659-9aae-914824eb7a76",
   "metadata": {},
   "outputs": [],
   "source": [
    "import matplotlib.pyplot as plt\n",
    "%matplotlib inline"
   ]
  },
  {
   "cell_type": "code",
   "execution_count": 3,
   "id": "be733b04-e20e-40f3-86c0-fc8d700971c2",
   "metadata": {},
   "outputs": [],
   "source": [
    "def norm_precip(x):\n",
    "    return np.log(x+1)\n",
    "\n",
    "def norm_rh(x):\n",
    "    return 2*(x/100 - 0.5)\n",
    "\n",
    "def norm_t(x):\n",
    "    return (x-282.8)/16.2/2\n",
    "\n",
    "def norm_u(x):\n",
    "    return (x-0.74)/7.8/2\n",
    "\n",
    "def norm_pwat(x):\n",
    "    return (x-20.5)/16.3/2\n",
    "\n",
    "def norm_cape(x):\n",
    "    return (x-101.4)/328/2"
   ]
  },
  {
   "cell_type": "code",
   "execution_count": 4,
   "id": "acaab978-c922-41c2-bb9f-0f69dfd7bcb6",
   "metadata": {},
   "outputs": [],
   "source": [
    "BATCH_dir = '/glade/campaign/cisl/aiml/ksha/BATCH_GFS/'"
   ]
  },
  {
   "cell_type": "markdown",
   "id": "9f83ad1c-35fc-4d92-a1e0-d5c3305c25d6",
   "metadata": {},
   "source": [
    "**Batch gen 2021**"
   ]
  },
  {
   "cell_type": "code",
   "execution_count": 5,
   "id": "214e9ddc-db65-4fc6-9da4-0732601cf220",
   "metadata": {},
   "outputs": [],
   "source": [
    "size_mrms = 128\n",
    "size_half = 64\n",
    "gap = 64 # samples will have at least 5 non-overlap grids on height and width dimensions \n",
    "thres_dry = 1.0 # 1.0 mm = rain on that grid\n",
    "thres_rain_cover = 0.33 # at least 25% of the grids should have rain\n",
    "thres_land_cover = 0.90 # at least 90% of the grids should stay within land\n",
    "thres_extreme = 30 # if a grid has 20 mm/hr or above, the sample will bypass \"thres_rain_cover\"\n",
    "thres_extreme_cover = 0.05 # if a grid has 20 mm/hr or above, the sample will bypass \"thres_rain_cover\""
   ]
  },
  {
   "cell_type": "code",
   "execution_count": 6,
   "id": "c9997c1a-ba40-4ce5-a383-6a8b0d1e9ebd",
   "metadata": {},
   "outputs": [],
   "source": [
    "with h5py.File(save_dir+'MRMS_ERA5_domain.hdf', 'r') as h5io:\n",
    "    lon_ERA5 = h5io['lon_ERA5'][...]\n",
    "    lat_ERA5 = h5io['lat_ERA5'][...]\n",
    "    lon_MRMS = h5io['lon_MRMS'][...]\n",
    "    lat_MRMS = h5io['lat_MRMS'][...]\n",
    "    land_mask_MRMS = h5io['land_mask_MRMS'][...]\n",
    "    elev_MRMS = h5io['elev_MRMS'][...]\n",
    "    indx = h5io['MRMS_to_ERA5_indx'][...]\n",
    "    indy = h5io['MRMS_to_ERA5_indy'][...]\n",
    "\n",
    "elev_MRMS[elev_MRMS<0] = 0\n",
    "elev_MRMS = elev_MRMS/2000 - 1"
   ]
  },
  {
   "cell_type": "code",
   "execution_count": 7,
   "id": "418204af-4166-492c-b636-6debe215e46a",
   "metadata": {},
   "outputs": [],
   "source": [
    "with h5py.File(save_dir+'MRMS_RQI_example.hdf', 'r') as h5io:\n",
    "    RQI = h5io['RQI'][...]"
   ]
  },
  {
   "cell_type": "markdown",
   "id": "b292826a-3118-4f84-bfa0-af2482789b6c",
   "metadata": {},
   "source": [
    "**generating batches**"
   ]
  },
  {
   "cell_type": "code",
   "execution_count": 8,
   "id": "121cf871-681f-4e9b-b4df-3e37de2e6f48",
   "metadata": {},
   "outputs": [],
   "source": [
    "x_mrms = 3500\n",
    "y_mrms = 7000\n",
    "N_grids = size_mrms*size_mrms\n",
    "batch_file_name = 'GFS_y{:04d}_lead{:02d}_dt{:04d}_i{:04d}_j{:04d}.npy'"
   ]
  },
  {
   "cell_type": "code",
   "execution_count": 9,
   "id": "a70fce0a-8c31-4dde-864b-fc48a6f25aa9",
   "metadata": {},
   "outputs": [],
   "source": [
    "x_GFS = 361\n",
    "y_GFS = 721\n",
    "\n",
    "x_lr6 = np.linspace(0, 1, 6)\n",
    "x_lr7 = np.linspace(0, 1, 7)\n",
    "x_hr = x_hr128 = np.linspace(0, 1, 128)\n",
    "\n",
    "data = np.empty((1, size_mrms, size_mrms, 9))\n",
    "# 0MRMS HR precip\n",
    "# 1MRMS LR precip\n",
    "# 2ERA5 Precip\n",
    "# 3CAPE\n",
    "# 4PWAT\n",
    "# 5RH\n",
    "# 6U\n",
    "# 7T\n",
    "# 8elev"
   ]
  },
  {
   "cell_type": "code",
   "execution_count": 10,
   "id": "98c27307-f3dc-4662-a15b-3108dcc15add",
   "metadata": {},
   "outputs": [],
   "source": [
    "year = 2021\n",
    "base = datetime(year, 1, 1)\n",
    "date_list = [base + timedelta(days=h) for h in range(365)]\n",
    "LEADs = [3, 6, 9, 12, 15, 18, 21, 24]"
   ]
  },
  {
   "cell_type": "code",
   "execution_count": 11,
   "id": "597d6d83-838e-420b-8638-2f9d6b3a63a6",
   "metadata": {},
   "outputs": [],
   "source": [
    "lead = LEADs[0]\n",
    "i_dt = 0\n",
    "dt = date_list[0]\n",
    "    \n",
    "filename_gfs = datetime.strftime(dt, \n",
    "'/glade/campaign/collections/rda/data/ds084.1/%Y/%Y%m%d/gfs.0p25.%Y%m%d%H.f{:03d}.grib2'.format(lead))\n",
    "\n",
    "dt0 = dt + timedelta(hours=lead-2)\n",
    "dt1 = dt + timedelta(hours=lead-1)\n",
    "dt2 = dt + timedelta(hours=lead)\n",
    "\n",
    "dt_str0 = datetime.strftime(dt0, '%Y%m%d-%H%M%S')\n",
    "dt_str1 = datetime.strftime(dt1, '%Y%m%d-%H%M%S')\n",
    "dt_str2 = datetime.strftime(dt2, '%Y%m%d-%H%M%S')\n",
    "\n",
    "name0 = 'MRMS_MultiSensor_QPE_01H_Pass2_00.00_{}.grib2'.format(dt_str0)\n",
    "name1 = 'MRMS_MultiSensor_QPE_01H_Pass2_00.00_{}.grib2'.format(dt_str1)\n",
    "name2 = 'MRMS_MultiSensor_QPE_01H_Pass2_00.00_{}.grib2'.format(dt_str2)\n",
    "\n",
    "filename0 = MRMS_dir + name0\n",
    "filename1 = MRMS_dir + name1\n",
    "filename2 = MRMS_dir + name2\n",
    "\n",
    "flag_mrms0 = os.path.isfile(filename0)\n",
    "flag_mrms1 = os.path.isfile(filename1)\n",
    "flag_mrms2 = os.path.isfile(filename2)\n",
    "flag_gfs = os.path.isfile(filename_gfs)\n"
   ]
  },
  {
   "cell_type": "code",
   "execution_count": 12,
   "id": "9c168bc5-8d12-47e3-b7e4-5ef658cdf972",
   "metadata": {},
   "outputs": [],
   "source": [
    "with pygrib.open(filename0) as grbio:\n",
    "    MRMS = grbio[1].values\n",
    "    \n",
    "with pygrib.open(filename0) as grbio:\n",
    "    MRMS += grbio[1].values\n",
    "    \n",
    "with pygrib.open(filename0) as grbio:\n",
    "    MRMS += grbio[1].values\n",
    "    \n",
    "# flip --> lower latitude at the bottom\n",
    "MRMS = np.flipud(MRMS)"
   ]
  },
  {
   "cell_type": "code",
   "execution_count": 13,
   "id": "e80bd0f3-6062-44b4-996d-49e9a6e2a0d4",
   "metadata": {},
   "outputs": [],
   "source": [
    "with pygrib.open(filename_gfs) as grbio:\n",
    "    T = grbio[314+1].values #\n",
    "    U = grbio[319+1].values\n",
    "    RH = grbio[315+1].values\n",
    "    APCP = grbio[450+1].values\n",
    "    CAPE = grbio[473+1].values\n",
    "    PWAT = grbio[475+1].values\n",
    "\n",
    "T_NA = T[:-360, 720:]\n",
    "T_NA = np.flipud(np.concatenate((T_NA, T[:-360, 0][:, None]), axis=1))\n",
    "\n",
    "U_NA = U[:-360, 720:]\n",
    "U_NA = np.flipud(np.concatenate((U_NA, U[:-360, 0][:, None]), axis=1))\n",
    "\n",
    "RH_NA = RH[:-360, 720:]\n",
    "RH_NA = np.flipud(np.concatenate((RH_NA, RH[:-360, 0][:, None]), axis=1))\n",
    "\n",
    "APCP_NA = APCP[:-360, 720:]\n",
    "APCP_NA = np.flipud(np.concatenate((APCP_NA, APCP[:-360, 0][:, None]), axis=1))\n",
    "\n",
    "CAPE_NA = CAPE[:-360, 720:]\n",
    "CAPE_NA = np.flipud(np.concatenate((CAPE_NA, CAPE[:-360, 0][:, None]), axis=1))\n",
    "\n",
    "PWAT_NA = PWAT[:-360, 720:]\n",
    "PWAT_NA = np.flipud(np.concatenate((PWAT_NA, PWAT[:-360, 0][:, None]), axis=1))"
   ]
  },
  {
   "cell_type": "code",
   "execution_count": null,
   "id": "e9cc677e-f70e-4417-9fe3-329a6e4a6570",
   "metadata": {},
   "outputs": [
    {
     "name": "stdout",
     "output_type": "stream",
     "text": [
      "/glade/campaign/cisl/aiml/ksha/BATCH_GFS/GFS_y2021_lead03_dt0000_i0704_j3712.npy\n"
     ]
    }
   ],
   "source": [
    "for i_mrms in range(0, x_mrms-size_mrms+gap, gap):\n",
    "    for j_mrms in range(0, y_mrms-size_mrms+gap, gap):\n",
    "        \n",
    "        i0 = i_mrms; i1 = i0 + size_mrms\n",
    "        j0 = j_mrms; j1 = j0 + size_mrms\n",
    "\n",
    "        if (np.sum(RQI[i0:i1, j0:j1]) < 0.75) == 0:\n",
    "        \n",
    "            patch_ = MRMS[i0:i1, j0:j1]\n",
    "            land_mask_ = land_mask_MRMS[i0:i1, j0:j1]\n",
    "\n",
    "            r_rain = np.sum(patch_ > thres_dry)/N_grids\n",
    "            \n",
    "            flag_size = patch_.shape == (size_mrms, size_mrms)\n",
    "            flag_rain_cover = r_rain >= thres_rain_cover\n",
    "            flag_land_cover = (np.sum(land_mask_)/N_grids) >= thres_land_cover\n",
    "            flag_extreme = np.logical_and(np.max(patch_) >= thres_extreme, r_rain >= thres_extreme_cover)\n",
    "\n",
    "            flag_pass1 = np.logical_and(flag_rain_cover, flag_land_cover)\n",
    "            flag_pass2 = np.logical_and(flag_extreme, flag_land_cover)\n",
    "            flag_pass_final = np.logical_or(flag_pass1, flag_pass2)\n",
    "\n",
    "            if flag_size and flag_pass_final:\n",
    "                \n",
    "                i_era = indx[i0:i1, j0:j1]\n",
    "                j_era = indy[i0:i1, j0:j1]\n",
    "\n",
    "                i_min = np.int(np.min(i_era))\n",
    "                i_max = np.int(np.max(i_era))\n",
    "                j_min = np.int(np.min(j_era))\n",
    "                j_max = np.int(np.max(j_era))\n",
    "                \n",
    "                data_t = T_NA[i_min:i_max+1, j_min:j_max+1]\n",
    "                data_u = U_NA[i_min:i_max+1, j_min:j_max+1]\n",
    "                data_r = RH_NA[i_min:i_max+1, j_min:j_max+1]\n",
    "                data_pwat = PWAT_NA[i_min:i_max+1, j_min:j_max+1]\n",
    "                data_cape = CAPE_NA[i_min:i_max+1, j_min:j_max+1]\n",
    "                data_apcp = APCP_NA[i_min:i_max+1, j_min:j_max+1]\n",
    "                \n",
    "                shape_lr = data_t.shape\n",
    "                if shape_lr[0] == 6:\n",
    "                    x_ = x_lr6\n",
    "                else:\n",
    "                    x_ = x_lr7\n",
    "                \n",
    "                if shape_lr[1] == 6:\n",
    "                    y_ = x_lr6\n",
    "                else:\n",
    "                    y_ = x_lr7\n",
    "\n",
    "\n",
    "                elev_ = elev_MRMS[i0:i1, j0:j1]\n",
    "                data[0, ..., 8] = elev_\n",
    "                \n",
    "                interp_obj_t = interp2d(y_, x_, data_t, kind='linear')\n",
    "                data[0, ..., 7] = interp_obj_t(x_hr128, x_hr128)\n",
    "\n",
    "                interp_obj_u = interp2d(y_, x_, data_u, kind='linear')\n",
    "                data[0, ..., 6] = interp_obj_u(x_hr128, x_hr128)\n",
    "\n",
    "                interp_obj_r = interp2d(y_, x_, data_r, kind='linear')\n",
    "                data[0, ..., 5] = interp_obj_r(x_hr128, x_hr128)\n",
    "\n",
    "                interp_obj_pwat = interp2d(y_, x_, data_pwat, kind='linear')\n",
    "                data[0, ..., 4] = interp_obj_pwat(x_hr128, x_hr128)\n",
    "\n",
    "                interp_obj_cape = interp2d(y_, x_, data_cape, kind='linear')\n",
    "                data[0, ..., 3] = interp_obj_cape(x_hr128, x_hr128)\n",
    "\n",
    "                interp_obj_apcp = interp2d(y_, x_, data_apcp, kind='linear')\n",
    "                data[0, ..., 2] = interp_obj_apcp(x_hr128, x_hr128)\n",
    "\n",
    "                data[0, ..., 0] = patch_\n",
    "                \n",
    "                hr_to_lr = interp2d(x_hr, x_hr, data[0, ..., 0], kind='linear')\n",
    "                data_lr = hr_to_lr(y_, x_)\n",
    "                lr_to_hr = interp2d(y_, x_, data_lr, kind='linear')\n",
    "                data_hr = lr_to_hr(x_hr, x_hr)\n",
    "\n",
    "                data[0, ..., 1] = data_hr\n",
    "                \n",
    "                data[0, ..., 0] = norm_precip(data[0, ..., 0])\n",
    "                data[0, ..., 1] = norm_precip(data[0, ..., 1])\n",
    "                data[0, ..., 2] = norm_precip(data[0, ..., 2])\n",
    "                data[0, ..., 3] = norm_cape(data[0, ..., 3])\n",
    "                data[0, ..., 4] = norm_pwat(data[0, ..., 4])\n",
    "                data[0, ..., 5] = norm_rh(data[0, ..., 5])\n",
    "                data[0, ..., 6] = norm_u(data[0, ..., 6])\n",
    "                data[0, ..., 7] = norm_t(data[0, ..., 7])\n",
    " \n",
    "                # flag_save = True\n",
    "                # for i_test in range(5):\n",
    "                #     temp = np.abs(data[0, ..., 3+i_test])\n",
    "                #     if np.sum(temp > 1e-6) == 0:\n",
    "                #         flag_save = False\n",
    "                        \n",
    "                # if flag_save:\n",
    "                name_ = BATCH_dir+batch_file_name.format(year, lead, i_dt, i_mrms, j_mrms)\n",
    "                print(name_)\n",
    "                np.save(name_, data)\n",
    "                eawrareeeg"
   ]
  },
  {
   "cell_type": "code",
   "execution_count": 35,
   "id": "b6cf0754-6a48-4bf8-bcbd-acfd94c99385",
   "metadata": {},
   "outputs": [],
   "source": [
    "data = np.load('/glade/campaign/cisl/aiml/ksha/BATCH_GFS/GFS_y2021_lead03_dt0000_i1024_j3584.npy')"
   ]
  },
  {
   "cell_type": "code",
   "execution_count": 42,
   "id": "8ea34518-272d-44da-90f0-9427607509d3",
   "metadata": {},
   "outputs": [
    {
     "data": {
      "text/plain": [
       "<matplotlib.colorbar.Colorbar at 0x2acd4f4f5a30>"
      ]
     },
     "execution_count": 42,
     "metadata": {},
     "output_type": "execute_result"
    },
    {
     "data": {
      "image/png": "[encoded data removed]",
      "text/plain": [
       "<Figure size 640x480 with 2 Axes>"
      ]
     },
     "metadata": {},
     "output_type": "display_data"
    }
   ],
   "source": [
    "plt.pcolormesh(data[0, ..., 0], cmap=plt.cm.jet)\n",
    "plt.colorbar()"
   ]
  },
  {
   "cell_type": "code",
   "execution_count": null,
   "id": "00a8376e-3653-4c89-a0c8-46ed040b6e9a",
   "metadata": {},
   "outputs": [],
   "source": []
  },
  {
   "cell_type": "code",
   "execution_count": null,
   "id": "459097a4-b8f9-40a0-94da-2fe39f657435",
   "metadata": {},
   "outputs": [],
   "source": []
  },
  {
   "cell_type": "code",
   "execution_count": null,
   "id": "73f4502b-b9a8-4a0d-b99b-51bb3b62fb87",
   "metadata": {},
   "outputs": [],
   "source": []
  },
  {
   "cell_type": "code",
   "execution_count": null,
   "id": "5383d09c-3354-4ae5-be92-72eca576e243",
   "metadata": {},
   "outputs": [],
   "source": []
  },
  {
   "cell_type": "code",
   "execution_count": null,
   "id": "486f7bba-e2a9-4752-b388-da1b56079522",
   "metadata": {},
   "outputs": [],
   "source": []
  },
  {
   "cell_type": "code",
   "execution_count": null,
   "id": "f2c61ebe-d1ca-422d-9763-8d9cb812c1f5",
   "metadata": {},
   "outputs": [
    {
     "name": "stdout",
     "output_type": "stream",
     "text": [
      "/glade/campaign/collections/rda/data/ds084.1/2021/20210101/gfs.0p25.2021010100.f003.grib2\n",
      "/glade/campaign/cisl/aiml/ksha/BATCH_GFS/GFS_y2021_lead03_dt0000_i0704_j3712.npy\n",
      "/glade/campaign/cisl/aiml/ksha/BATCH_GFS/GFS_y2021_lead03_dt0000_i0704_j3776.npy\n"
     ]
    }
   ],
   "source": [
    "for lead in LEADs:\n",
    "    # Main section\n",
    "    for i_dt, dt in enumerate(date_list[:1]):\n",
    "    \n",
    "        filename_gfs = datetime.strftime(dt, \n",
    "        '/glade/campaign/collections/rda/data/ds084.1/%Y/%Y%m%d/gfs.0p25.%Y%m%d%H.f{:03d}.grib2'.format(lead))\n",
    "        \n",
    "        dt0 = dt + timedelta(hours=lead-2)\n",
    "        dt1 = dt + timedelta(hours=lead-1)\n",
    "        dt2 = dt + timedelta(hours=lead)\n",
    "    \n",
    "        dt_str0 = datetime.strftime(dt0, '%Y%m%d-%H%M%S')\n",
    "        dt_str1 = datetime.strftime(dt1, '%Y%m%d-%H%M%S')\n",
    "        dt_str2 = datetime.strftime(dt2, '%Y%m%d-%H%M%S')\n",
    "        \n",
    "        name0 = 'MRMS_MultiSensor_QPE_01H_Pass2_00.00_{}.grib2'.format(dt_str0)\n",
    "        name1 = 'MRMS_MultiSensor_QPE_01H_Pass2_00.00_{}.grib2'.format(dt_str1)\n",
    "        name2 = 'MRMS_MultiSensor_QPE_01H_Pass2_00.00_{}.grib2'.format(dt_str2)\n",
    "        \n",
    "        filename0 = MRMS_dir + name0\n",
    "        filename1 = MRMS_dir + name1\n",
    "        filename2 = MRMS_dir + name2\n",
    "    \n",
    "        flag_mrms0 = os.path.isfile(filename0)\n",
    "        flag_mrms1 = os.path.isfile(filename1)\n",
    "        flag_mrms2 = os.path.isfile(filename2)\n",
    "        flag_gfs = os.path.isfile(filename_gfs)\n",
    "        \n",
    "        if np.logical_and(np.logical_and(np.logical_and(flag_mrms0, flag_mrms1), flag_mrms2), flag_gfs):\n",
    "            with pygrib.open(filename0) as grbio:\n",
    "                MRMS = grbio[1].values\n",
    "                \n",
    "            with pygrib.open(filename0) as grbio:\n",
    "                MRMS += grbio[1].values\n",
    "                \n",
    "            with pygrib.open(filename0) as grbio:\n",
    "                MRMS += grbio[1].values\n",
    "                \n",
    "            # flip --> lower latitude at the bottom\n",
    "            MRMS = np.flipud(MRMS)\n",
    "            \n",
    "            print(filename_gfs)\n",
    "            \n",
    "            with pygrib.open(filename_gfs) as grbio:\n",
    "                T = grbio[314+1].values #\n",
    "                U = grbio[319+1].values\n",
    "                RH = grbio[315+1].values\n",
    "                APCP = grbio[450+1].values\n",
    "                CAPE = grbio[473+1].values\n",
    "                PWAT = grbio[475+1].values\n",
    "            \n",
    "            T_NA = T[:-360, 720:]\n",
    "            T_NA = np.flipud(np.concatenate((T_NA, T[:-360, 0][:, None]), axis=1))\n",
    "            \n",
    "            U_NA = U[:-360, 720:]\n",
    "            U_NA = np.flipud(np.concatenate((U_NA, U[:-360, 0][:, None]), axis=1))\n",
    "            \n",
    "            RH_NA = RH[:-360, 720:]\n",
    "            RH_NA = np.flipud(np.concatenate((RH_NA, RH[:-360, 0][:, None]), axis=1))\n",
    "            \n",
    "            APCP_NA = APCP[:-360, 720:]\n",
    "            APCP_NA = np.flipud(np.concatenate((APCP_NA, APCP[:-360, 0][:, None]), axis=1))\n",
    "            \n",
    "            CAPE_NA = CAPE[:-360, 720:]\n",
    "            CAPE_NA = np.flipud(np.concatenate((CAPE_NA, CAPE[:-360, 0][:, None]), axis=1))\n",
    "            \n",
    "            PWAT_NA = PWAT[:-360, 720:]\n",
    "            PWAT_NA = np.flipud(np.concatenate((PWAT_NA, PWAT[:-360, 0][:, None]), axis=1))\n",
    "            \n",
    "            for i_mrms in range(0, x_mrms-size_mrms+gap, gap):\n",
    "                for j_mrms in range(0, y_mrms-size_mrms+gap, gap):\n",
    "                    \n",
    "                    i0 = i_mrms; i1 = i0 + size_mrms\n",
    "                    j0 = j_mrms; j1 = j0 + size_mrms\n",
    "    \n",
    "                    if (np.sum(RQI[i0:i1, j0:j1]) < 0.75) == 0:\n",
    "                    \n",
    "                        patch_ = MRMS[i0:i1, j0:j1]\n",
    "                        land_mask_ = land_mask_MRMS[i0:i1, j0:j1]\n",
    "    \n",
    "                        r_rain = np.sum(patch_ > thres_dry)/N_grids\n",
    "                        \n",
    "                        flag_size = patch_.shape == (size_mrms, size_mrms)\n",
    "                        flag_rain_cover = r_rain >= thres_rain_cover\n",
    "                        flag_land_cover = (np.sum(land_mask_)/N_grids) >= thres_land_cover\n",
    "                        flag_extreme = np.logical_and(np.max(patch_) >= thres_extreme, r_rain >= thres_extreme_cover)\n",
    "        \n",
    "                        flag_pass1 = np.logical_and(flag_rain_cover, flag_land_cover)\n",
    "                        flag_pass2 = np.logical_and(flag_extreme, flag_land_cover)\n",
    "                        flag_pass_final = np.logical_or(flag_pass1, flag_pass2)\n",
    "        \n",
    "                        if flag_size and flag_pass_final:\n",
    "                            \n",
    "                            i_era = indx[i0:i1, j0:j1]\n",
    "                            j_era = indy[i0:i1, j0:j1]\n",
    "    \n",
    "                            i_min = np.int(np.min(i_era))\n",
    "                            i_max = np.int(np.max(i_era))\n",
    "                            j_min = np.int(np.min(j_era))\n",
    "                            j_max = np.int(np.max(j_era))\n",
    "                            \n",
    "                            data_t = T_NA[i_min:i_max+1, j_min:j_max+1]\n",
    "                            data_u = U_NA[i_min:i_max+1, j_min:j_max+1]\n",
    "                            data_r = RH_NA[i_min:i_max+1, j_min:j_max+1]\n",
    "                            data_pwat = PWAT_NA[i_min:i_max+1, j_min:j_max+1]\n",
    "                            data_cape = CAPE_NA[i_min:i_max+1, j_min:j_max+1]\n",
    "                            data_apcp = APCP_NA[i_min:i_max+1, j_min:j_max+1]\n",
    "                            \n",
    "                            shape_lr = data_t.shape\n",
    "                            if shape_lr[0] == 6:\n",
    "                                x_ = x_lr6\n",
    "                            else:\n",
    "                                x_ = x_lr7\n",
    "                            \n",
    "                            if shape_lr[1] == 6:\n",
    "                                y_ = x_lr6\n",
    "                            else:\n",
    "                                y_ = x_lr7\n",
    "    \n",
    "    \n",
    "                            elev_ = elev_MRMS[i0:i1, j0:j1]\n",
    "                            data[0, ..., 8] = elev_\n",
    "                            \n",
    "                            interp_obj_t = interp2d(y_, x_, data_t, kind='linear')\n",
    "                            data[0, ..., 7] = interp_obj_t(x_hr128, x_hr128)\n",
    "    \n",
    "                            interp_obj_u = interp2d(y_, x_, data_u, kind='linear')\n",
    "                            data[0, ..., 6] = interp_obj_u(x_hr128, x_hr128)\n",
    "    \n",
    "                            interp_obj_r = interp2d(y_, x_, data_r, kind='linear')\n",
    "                            data[0, ..., 5] = interp_obj_r(x_hr128, x_hr128)\n",
    "    \n",
    "                            interp_obj_pwat = interp2d(y_, x_, data_pwat, kind='linear')\n",
    "                            data[0, ..., 4] = interp_obj_pwat(x_hr128, x_hr128)\n",
    "    \n",
    "                            interp_obj_cape = interp2d(y_, x_, data_cape, kind='linear')\n",
    "                            data[0, ..., 3] = interp_obj_cape(x_hr128, x_hr128)\n",
    "    \n",
    "                            interp_obj_apcp = interp2d(y_, x_, data_apcp, kind='linear')\n",
    "                            data[0, ..., 2] = interp_obj_apcp(x_hr128, x_hr128)\n",
    "    \n",
    "                            data[0, ..., 0] = patch_\n",
    "                            \n",
    "                            hr_to_lr = interp2d(x_hr, x_hr, data[0, ..., 0], kind='linear')\n",
    "                            data_lr = hr_to_lr(y_, x_)\n",
    "                            lr_to_hr = interp2d(y_, x_, data_lr, kind='linear')\n",
    "                            data_hr = lr_to_hr(x_hr, x_hr)\n",
    "    \n",
    "                            data[0, ..., 1] = data_hr\n",
    "                            \n",
    "                            data[0, ..., 0] = norm_precip(data[0, ..., 0])\n",
    "                            data[0, ..., 1] = norm_precip(data[0, ..., 1])\n",
    "                            data[0, ..., 2] = norm_precip(data[0, ..., 2])\n",
    "                            data[0, ..., 3] = norm_cape(data[0, ..., 3])\n",
    "                            data[0, ..., 4] = norm_pwat(data[0, ..., 4])\n",
    "                            data[0, ..., 5] = norm_rh(data[0, ..., 5])\n",
    "                            data[0, ..., 6] = norm_u(data[0, ..., 6])\n",
    "                            data[0, ..., 7] = norm_t(data[0, ..., 7])\n",
    "    \n",
    "                            flag_save = True\n",
    "                            for i_test in range(5):\n",
    "                                temp = np.abs(data[0, ..., 3+i_test])\n",
    "                                if np.sum(temp > 1e-6) == 0:\n",
    "                                    flag_save = False\n",
    "                                    \n",
    "                            if flag_save:\n",
    "                                name_ = BATCH_dir+batch_file_name.format(year, lead, i_dt, i_mrms, j_mrms)\n",
    "                                print(name_)\n",
    "                                np.save(name_, data)"
   ]
  },
  {
   "cell_type": "code",
   "execution_count": 45,
   "id": "a21e6ba9-89d2-44ca-b127-26480af055ce",
   "metadata": {},
   "outputs": [],
   "source": [
    "data = np.load('/glade/campaign/cisl/aiml/ksha/BATCH_GFS/GFS_y2021_lead03_dt0000_i0664_j3704.npy')"
   ]
  },
  {
   "cell_type": "code",
   "execution_count": 52,
   "id": "3f131852-17db-4221-91ce-7a24051224da",
   "metadata": {},
   "outputs": [
    {
     "data": {
      "text/plain": [
       "<matplotlib.colorbar.Colorbar at 0x2b0eb2c6db50>"
      ]
     },
     "execution_count": 52,
     "metadata": {},
     "output_type": "execute_result"
    },
    {
     "data": {
      "image/png": "[encoded data removed]",
      "text/plain": [
       "<Figure size 640x480 with 2 Axes>"
      ]
     },
     "metadata": {},
     "output_type": "display_data"
    }
   ],
   "source": [
    "plt.pcolormesh(data[0, ..., 6], cmap=plt.cm.jet)\n",
    "plt.colorbar()"
   ]
  },
  {
   "cell_type": "code",
   "execution_count": null,
   "id": "1d1b4508-4e61-487a-9a23-be8b4d59bdb5",
   "metadata": {},
   "outputs": [],
   "source": []
  }
 ],
 "metadata": {
  "kernelspec": {
   "display_name": "Python 3 (ipykernel)",
   "language": "python",
   "name": "python3"
  },
  "language_info": {
   "codemirror_mode": {
    "name": "ipython",
    "version": 3
   },
   "file_extension": ".py",
   "mimetype": "text/x-python",
   "name": "python",
   "nbconvert_exporter": "python",
   "pygments_lexer": "ipython3",
   "version": "3.9.18"
  }
 },
 "nbformat": 4,
 "nbformat_minor": 5
}
