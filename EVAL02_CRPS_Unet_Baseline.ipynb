{
 "cells": [
  {
   "cell_type": "markdown",
   "id": "f3b3123e-8870-4f67-9e9a-d5bcdcd63ca7",
   "metadata": {},
   "source": [
    "# Verification: CRPS and CRPSS for Unet baseline "
   ]
  },
  {
   "cell_type": "code",
   "execution_count": 1,
   "id": "3d85c7d9-f3be-4c87-90ce-1eefd0798ac5",
   "metadata": {},
   "outputs": [],
   "source": [
    "import os\n",
    "import sys\n",
    "import time\n",
    "import numpy as np\n",
    "from glob import glob\n",
    "from datetime import datetime, timedelta\n",
    "from scipy.interpolate import RegularGridInterpolator\n",
    "\n",
    "import h5py"
   ]
  },
  {
   "cell_type": "code",
   "execution_count": 2,
   "id": "2f7a4243-2b13-4aef-910b-1c62f1040396",
   "metadata": {},
   "outputs": [],
   "source": [
    "import numba as nb"
   ]
  },
  {
   "cell_type": "code",
   "execution_count": 3,
   "id": "136728b7-29db-4c09-a401-18bcda1b957e",
   "metadata": {},
   "outputs": [],
   "source": [
    "sys.path.insert(0, '/glade/u/home/ksha/GAN_proj/')\n",
    "sys.path.insert(0, '/glade/u/home/ksha/GAN_proj/libs/')\n",
    "\n",
    "from namelist import *\n",
    "import data_utils as du\n",
    "import verif_utils as vu"
   ]
  },
  {
   "cell_type": "code",
   "execution_count": 4,
   "id": "3ca88df0-fb27-44c4-a1b9-5f4203070394",
   "metadata": {},
   "outputs": [],
   "source": [
    "import matplotlib.pyplot as plt\n",
    "%matplotlib inline"
   ]
  },
  {
   "cell_type": "code",
   "execution_count": 5,
   "id": "cb575992-a7f9-47eb-8477-354e75ff6cc2",
   "metadata": {},
   "outputs": [],
   "source": [
    "with h5py.File(save_dir+'CNN_domain.hdf', 'r') as h5io:\n",
    "    lon_01 = h5io['lon_01'][...]\n",
    "    lat_01 = h5io['lat_01'][...]\n",
    "    lon_GFS = h5io['lon_GFS'][...]\n",
    "    lat_GFS = h5io['lat_GFS'][...]"
   ]
  },
  {
   "cell_type": "code",
   "execution_count": 7,
   "id": "bafbb42c-a3ef-43fb-808b-cb9fa2eecbe4",
   "metadata": {},
   "outputs": [],
   "source": [
    "name_output = '/glade/campaign/cisl/aiml/ksha/LDM_baseline/Baseline_2023_ini00_lead{:02d}.hdf'"
   ]
  },
  {
   "cell_type": "markdown",
   "id": "f79e6a5f-2998-4b38-9809-25b67750d116",
   "metadata": {},
   "source": [
    "**CRPS climatology reference**"
   ]
  },
  {
   "cell_type": "code",
   "execution_count": 8,
   "id": "0dc4d528-21c7-4839-92e4-7a775f757c86",
   "metadata": {},
   "outputs": [],
   "source": [
    "with h5py.File(save_dir+'ERA5_CDFs.hdf', 'r') as h5io:\n",
    "    ERA5_CDFs = h5io['ERA5_CDFs'][...]\n",
    "    indx_in_GFS = h5io['indx_in_GFS'][...]\n",
    "    indy_in_GFS = h5io['indy_in_GFS'][...]\n",
    "    \n",
    "ERA5_CDFs = 3*ERA5_CDFs # mm/hour to mm/6-hour"
   ]
  },
  {
   "cell_type": "code",
   "execution_count": null,
   "id": "e70f85eb-111a-45e2-bb3b-4194a9bb8f85",
   "metadata": {},
   "outputs": [],
   "source": []
  },
  {
   "cell_type": "code",
   "execution_count": 9,
   "id": "40bf652f-1cf9-4385-b4c8-bc2f680e69bd",
   "metadata": {},
   "outputs": [
    {
     "ename": "FileNotFoundError",
     "evalue": "[Errno 2] Unable to synchronously open file (unable to open file: name = '/glade/campaign/cisl/aiml/ksha/LDM_baseline/Baseline_2023_ini00_lead03.hdf', errno = 2, error message = 'No such file or directory', flags = 0, o_flags = 0)",
     "output_type": "error",
     "traceback": [
      "\u001b[0;31m---------------------------------------------------------------------------\u001b[0m",
      "\u001b[0;31mFileNotFoundError\u001b[0m                         Traceback (most recent call last)",
      "Cell \u001b[0;32mIn[9], line 1\u001b[0m\n\u001b[0;32m----> 1\u001b[0m \u001b[38;5;28;01mwith\u001b[39;00m \u001b[43mh5py\u001b[49m\u001b[38;5;241;43m.\u001b[39;49m\u001b[43mFile\u001b[49m\u001b[43m(\u001b[49m\u001b[43mname_output\u001b[49m\u001b[38;5;241;43m.\u001b[39;49m\u001b[43mformat\u001b[49m\u001b[43m(\u001b[49m\u001b[38;5;241;43m3\u001b[39;49m\u001b[43m)\u001b[49m\u001b[43m)\u001b[49m \u001b[38;5;28;01mas\u001b[39;00m h5io:\n\u001b[1;32m      2\u001b[0m     MRMS_TRUE \u001b[38;5;241m=\u001b[39m h5io[\u001b[38;5;124m'\u001b[39m\u001b[38;5;124mMRMS_TRUE\u001b[39m\u001b[38;5;124m'\u001b[39m][\u001b[38;5;241m.\u001b[39m\u001b[38;5;241m.\u001b[39m\u001b[38;5;241m.\u001b[39m]\n\u001b[1;32m      3\u001b[0m     MRMS_PRED \u001b[38;5;241m=\u001b[39m h5io[\u001b[38;5;124m'\u001b[39m\u001b[38;5;124mMRMS_PRED\u001b[39m\u001b[38;5;124m'\u001b[39m][\u001b[38;5;241m.\u001b[39m\u001b[38;5;241m.\u001b[39m\u001b[38;5;241m.\u001b[39m]\n",
      "File \u001b[0;32m/glade/work/ksha/miniconda3/lib/python3.11/site-packages/h5py/_hl/files.py:562\u001b[0m, in \u001b[0;36mFile.__init__\u001b[0;34m(self, name, mode, driver, libver, userblock_size, swmr, rdcc_nslots, rdcc_nbytes, rdcc_w0, track_order, fs_strategy, fs_persist, fs_threshold, fs_page_size, page_buf_size, min_meta_keep, min_raw_keep, locking, alignment_threshold, alignment_interval, meta_block_size, **kwds)\u001b[0m\n\u001b[1;32m    553\u001b[0m     fapl \u001b[38;5;241m=\u001b[39m make_fapl(driver, libver, rdcc_nslots, rdcc_nbytes, rdcc_w0,\n\u001b[1;32m    554\u001b[0m                      locking, page_buf_size, min_meta_keep, min_raw_keep,\n\u001b[1;32m    555\u001b[0m                      alignment_threshold\u001b[38;5;241m=\u001b[39malignment_threshold,\n\u001b[1;32m    556\u001b[0m                      alignment_interval\u001b[38;5;241m=\u001b[39malignment_interval,\n\u001b[1;32m    557\u001b[0m                      meta_block_size\u001b[38;5;241m=\u001b[39mmeta_block_size,\n\u001b[1;32m    558\u001b[0m                      \u001b[38;5;241m*\u001b[39m\u001b[38;5;241m*\u001b[39mkwds)\n\u001b[1;32m    559\u001b[0m     fcpl \u001b[38;5;241m=\u001b[39m make_fcpl(track_order\u001b[38;5;241m=\u001b[39mtrack_order, fs_strategy\u001b[38;5;241m=\u001b[39mfs_strategy,\n\u001b[1;32m    560\u001b[0m                      fs_persist\u001b[38;5;241m=\u001b[39mfs_persist, fs_threshold\u001b[38;5;241m=\u001b[39mfs_threshold,\n\u001b[1;32m    561\u001b[0m                      fs_page_size\u001b[38;5;241m=\u001b[39mfs_page_size)\n\u001b[0;32m--> 562\u001b[0m     fid \u001b[38;5;241m=\u001b[39m \u001b[43mmake_fid\u001b[49m\u001b[43m(\u001b[49m\u001b[43mname\u001b[49m\u001b[43m,\u001b[49m\u001b[43m \u001b[49m\u001b[43mmode\u001b[49m\u001b[43m,\u001b[49m\u001b[43m \u001b[49m\u001b[43muserblock_size\u001b[49m\u001b[43m,\u001b[49m\u001b[43m \u001b[49m\u001b[43mfapl\u001b[49m\u001b[43m,\u001b[49m\u001b[43m \u001b[49m\u001b[43mfcpl\u001b[49m\u001b[43m,\u001b[49m\u001b[43m \u001b[49m\u001b[43mswmr\u001b[49m\u001b[38;5;241;43m=\u001b[39;49m\u001b[43mswmr\u001b[49m\u001b[43m)\u001b[49m\n\u001b[1;32m    564\u001b[0m \u001b[38;5;28;01mif\u001b[39;00m \u001b[38;5;28misinstance\u001b[39m(libver, \u001b[38;5;28mtuple\u001b[39m):\n\u001b[1;32m    565\u001b[0m     \u001b[38;5;28mself\u001b[39m\u001b[38;5;241m.\u001b[39m_libver \u001b[38;5;241m=\u001b[39m libver\n",
      "File \u001b[0;32m/glade/work/ksha/miniconda3/lib/python3.11/site-packages/h5py/_hl/files.py:235\u001b[0m, in \u001b[0;36mmake_fid\u001b[0;34m(name, mode, userblock_size, fapl, fcpl, swmr)\u001b[0m\n\u001b[1;32m    233\u001b[0m     \u001b[38;5;28;01mif\u001b[39;00m swmr \u001b[38;5;129;01mand\u001b[39;00m swmr_support:\n\u001b[1;32m    234\u001b[0m         flags \u001b[38;5;241m|\u001b[39m\u001b[38;5;241m=\u001b[39m h5f\u001b[38;5;241m.\u001b[39mACC_SWMR_READ\n\u001b[0;32m--> 235\u001b[0m     fid \u001b[38;5;241m=\u001b[39m \u001b[43mh5f\u001b[49m\u001b[38;5;241;43m.\u001b[39;49m\u001b[43mopen\u001b[49m\u001b[43m(\u001b[49m\u001b[43mname\u001b[49m\u001b[43m,\u001b[49m\u001b[43m \u001b[49m\u001b[43mflags\u001b[49m\u001b[43m,\u001b[49m\u001b[43m \u001b[49m\u001b[43mfapl\u001b[49m\u001b[38;5;241;43m=\u001b[39;49m\u001b[43mfapl\u001b[49m\u001b[43m)\u001b[49m\n\u001b[1;32m    236\u001b[0m \u001b[38;5;28;01melif\u001b[39;00m mode \u001b[38;5;241m==\u001b[39m \u001b[38;5;124m'\u001b[39m\u001b[38;5;124mr+\u001b[39m\u001b[38;5;124m'\u001b[39m:\n\u001b[1;32m    237\u001b[0m     fid \u001b[38;5;241m=\u001b[39m h5f\u001b[38;5;241m.\u001b[39mopen(name, h5f\u001b[38;5;241m.\u001b[39mACC_RDWR, fapl\u001b[38;5;241m=\u001b[39mfapl)\n",
      "File \u001b[0;32mh5py/_objects.pyx:54\u001b[0m, in \u001b[0;36mh5py._objects.with_phil.wrapper\u001b[0;34m()\u001b[0m\n",
      "File \u001b[0;32mh5py/_objects.pyx:55\u001b[0m, in \u001b[0;36mh5py._objects.with_phil.wrapper\u001b[0;34m()\u001b[0m\n",
      "File \u001b[0;32mh5py/h5f.pyx:102\u001b[0m, in \u001b[0;36mh5py.h5f.open\u001b[0;34m()\u001b[0m\n",
      "\u001b[0;31mFileNotFoundError\u001b[0m: [Errno 2] Unable to synchronously open file (unable to open file: name = '/glade/campaign/cisl/aiml/ksha/LDM_baseline/Baseline_2023_ini00_lead03.hdf', errno = 2, error message = 'No such file or directory', flags = 0, o_flags = 0)"
     ]
    }
   ],
   "source": [
    "with h5py.File(name_output.format(3)) as h5io:\n",
    "    MRMS_TRUE = h5io['MRMS_TRUE'][...]\n",
    "    MRMS_PRED = h5io['MRMS_PRED'][...]"
   ]
  },
  {
   "cell_type": "code",
   "execution_count": null,
   "id": "e5b637b7-10ef-4034-9b26-7ee07a9d3c76",
   "metadata": {},
   "outputs": [],
   "source": []
  },
  {
   "cell_type": "markdown",
   "id": "1ed7d956-8a2f-4be1-b844-4b89efdf2089",
   "metadata": {},
   "source": [
    "**CRPS from Unet outputs**"
   ]
  },
  {
   "cell_type": "code",
   "execution_count": null,
   "id": "824e40c5-14c0-43b6-915a-f2994c899fc2",
   "metadata": {},
   "outputs": [],
   "source": [
    "N_days = 300\n",
    "grid_shape = lon_01.shape # MRMS grid shape\n",
    "LEADs = [6, 12, 18, 24]\n",
    "\n",
    "CRPS_PRED_lead = np.empty((N_days,)+grid_shape); CRPS_PRED[...] = np.nan\n",
    "\n",
    "MRMS_TRUE_6h_flat = np.empty((300, 256*576))\n",
    "MRMS_PRED_6h_flat = np.empty((300, 10, 256*576))\n",
    "\n",
    "for l, lead in enumerate(LEADs):\n",
    "\n",
    "    MRMS_TRUE_6h_flat[...] = np.nan\n",
    "    MRMS_PRED_6h_flat[...] = np.nan\n",
    "    \n",
    "    for lead_half in [lead-3, lead]:\n",
    "        \n",
    "        with h5py.File(name_output.format(lead)) as h5io:\n",
    "            MRMS_TRUE = h5io['MRMS_TRUE'][...]\n",
    "            MRMS_PRED = h5io['MRMS_PRED'][...]\n",
    "\n",
    "        MRMS_TRUE_6h_flat += MRMS_TRUE.reshape(300, 256*576)\n",
    "        MRMS_PRED_6h_flat += MRMS_PRED.reshape(300, 10, 256*576)\n",
    "\n",
    "    # handle NaNs\n",
    "    for i in range(300):\n",
    "        for k in range(256*576):\n",
    "            if (np.sum(np.isnan(MRMS_PRED_flat[i, :, k])) > 0) and (np.isnan(MRMS_TRUE_flat[i, k]) is False):\n",
    "                MRMS_PRED_flat[i, :, k] = 0\n",
    "\n",
    "    CRPS_pred, _, _ = vu.CRPS_1d_nan(MRMS_TRUE_flat, MRMS_PRED_flat)\n",
    "    CRPS_PRED[:, l, ...] = CRPS_pred.reshape((300, 256, 576))\n",
    "    \n",
    "    # # backup every lead time  \n",
    "    # tuple_save = (CRPS_PRED,)\n",
    "    # label_save = ['CRPS_PRED',]\n",
    "    # du.save_hdf5(tuple_save, label_save, result_dir, 'CRPS_MRMS_Baseline_2023.hdf')"
   ]
  },
  {
   "cell_type": "code",
   "execution_count": null,
   "id": "2a942bc2-a29a-4a31-be68-11bcb3694530",
   "metadata": {},
   "outputs": [],
   "source": []
  }
 ],
 "metadata": {
  "kernelspec": {
   "display_name": "Python 3 (ipykernel)",
   "language": "python",
   "name": "python3"
  },
  "language_info": {
   "codemirror_mode": {
    "name": "ipython",
    "version": 3
   },
   "file_extension": ".py",
   "mimetype": "text/x-python",
   "name": "python",
   "nbconvert_exporter": "python",
   "pygments_lexer": "ipython3",
   "version": "3.11.6"
  }
 },
 "nbformat": 4,
 "nbformat_minor": 5
}
