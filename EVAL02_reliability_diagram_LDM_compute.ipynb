{
 "cells": [
  {
   "cell_type": "markdown",
   "id": "940ce905-601f-4160-8176-eacfcf1828bd",
   "metadata": {},
   "source": [
    "# Verification: reliability diagram "
   ]
  },
  {
   "cell_type": "code",
   "execution_count": 1,
   "id": "fab6b0f2-2a97-4f25-89f6-8a4639c0c98e",
   "metadata": {},
   "outputs": [],
   "source": [
    "import os\n",
    "import sys\n",
    "import time\n",
    "import numpy as np\n",
    "from glob import glob\n",
    "from datetime import datetime, timedelta\n",
    "from scipy.interpolate import RegularGridInterpolator\n",
    "\n",
    "import h5py"
   ]
  },
  {
   "cell_type": "code",
   "execution_count": 2,
   "id": "3109ea8e-f9a1-4f2d-bfe2-7d410af2fbab",
   "metadata": {},
   "outputs": [],
   "source": [
    "sys.path.insert(0, '/glade/u/home/ksha/GAN_proj/')\n",
    "sys.path.insert(0, '/glade/u/home/ksha/GAN_proj/libs/')\n",
    "\n",
    "from namelist import *\n",
    "import data_utils as du\n",
    "import verif_utils as vu"
   ]
  },
  {
   "cell_type": "code",
   "execution_count": 3,
   "id": "2bf2a1bd-167e-44a5-a6e9-0ae192d720c7",
   "metadata": {},
   "outputs": [],
   "source": [
    "import matplotlib.pyplot as plt\n",
    "%matplotlib inline"
   ]
  },
  {
   "cell_type": "code",
   "execution_count": 4,
   "id": "64252ed9-e033-40d2-9439-a2f568b3daac",
   "metadata": {},
   "outputs": [],
   "source": [
    "with h5py.File(save_dir+'CNN_domain.hdf', 'r') as h5io:\n",
    "    lon_01 = h5io['lon_01'][...]\n",
    "    lat_01 = h5io['lat_01'][...]\n",
    "    lon_GFS = h5io['lon_GFS'][...]\n",
    "    lat_GFS = h5io['lat_GFS'][...]"
   ]
  },
  {
   "cell_type": "code",
   "execution_count": 5,
   "id": "aa2ae90f-1283-4e91-a9d3-aef672241d32",
   "metadata": {},
   "outputs": [],
   "source": [
    "name_output = '/glade/campaign/cisl/aiml/ksha/LDM_results/LDM_2023_ini00_lead{:02d}.hdf'"
   ]
  },
  {
   "cell_type": "code",
   "execution_count": 6,
   "id": "23e7161b-f311-48a0-9a17-2e438301fc75",
   "metadata": {},
   "outputs": [],
   "source": [
    "with h5py.File(save_dir+'ERA5_CDFs.hdf', 'r') as h5io:\n",
    "    ERA5_CDFs = h5io['ERA5_CDFs'][...]\n",
    "    indx_in_GFS = h5io['indx_in_GFS'][...]\n",
    "    indy_in_GFS = h5io['indy_in_GFS'][...]\n",
    "    \n",
    "ERA5_CDFs = 3*ERA5_CDFs # mm/hour to mm/3-hour"
   ]
  },
  {
   "cell_type": "code",
   "execution_count": 7,
   "id": "25c7f5dc-584c-414b-b8eb-a419b1e2d89e",
   "metadata": {},
   "outputs": [],
   "source": [
    "q_bins = np.arange(0, 1, 0.01)"
   ]
  },
  {
   "cell_type": "code",
   "execution_count": 10,
   "id": "7aa259ae-9f3a-4d6a-bcbb-4cfd4f75553e",
   "metadata": {},
   "outputs": [],
   "source": [
    "APCP_90th = ERA5_CDFs[90, ...]"
   ]
  },
  {
   "cell_type": "code",
   "execution_count": 14,
   "id": "15dcda7f-fc96-4fb5-a73d-5ade754563e6",
   "metadata": {},
   "outputs": [],
   "source": [
    "# plt.pcolormesh(APCP_90th, cmap=plt.cm.nipy_spectral_r)\n",
    "# plt.colorbar()"
   ]
  },
  {
   "cell_type": "markdown",
   "id": "8c6d45af-4760-47e7-80d3-69a5ab11e407",
   "metadata": {},
   "source": [
    "## Reliability diagram"
   ]
  },
  {
   "cell_type": "code",
   "execution_count": 28,
   "id": "2039150b-010e-40c1-b2f3-3184cf18e249",
   "metadata": {},
   "outputs": [],
   "source": [
    "from sklearn.calibration import calibration_curve"
   ]
  },
  {
   "cell_type": "code",
   "execution_count": 19,
   "id": "c82aef2d-8bba-4c8a-92fe-4e0b746ecb9c",
   "metadata": {},
   "outputs": [],
   "source": [
    "with h5py.File(name_output.format(3)) as h5io:\n",
    "    MRMS_TRUE = h5io['MRMS_TRUE'][...]\n",
    "\n",
    "N_time = len(MRMS_TRUE)\n",
    "N_ens = 10\n",
    "grid_shape = lon_01.shape # MRMS grid shape\n",
    "\n",
    "LEADs = [3, 6, 9, 12, 15, 18, 21, 24, 27, 30, 33, 36]"
   ]
  },
  {
   "cell_type": "code",
   "execution_count": 39,
   "id": "c6a59830-e23c-4d3b-af4f-77b69b13450a",
   "metadata": {},
   "outputs": [],
   "source": [
    "PROB_TRUE = np.empty((len(LEADs), N_ens))\n",
    "PROB_PRED = np.empty((len(LEADs), N_ens))\n",
    "\n",
    "for l, lead in enumerate(LEADs):\n",
    "    \n",
    "    MRMS_TRUE_flag = np.empty((N_time,)+grid_shape)\n",
    "    MRMS_PRED_prob = np.zeros((N_time,)+grid_shape)\n",
    "    \n",
    "    with h5py.File(name_output.format(lead)) as h5io:\n",
    "        MRMS_TRUE = h5io['MRMS_TRUE'][...]\n",
    "        MRMS_PRED = h5io['MRMS_PRED'][...]\n",
    "    \n",
    "    for ix in range(grid_shape[0]):\n",
    "        for iy in range(grid_shape[1]):\n",
    "            \n",
    "            ix_ERA5 = indx_in_GFS[ix, iy]\n",
    "            iy_ERA5 = indy_in_GFS[ix, iy]\n",
    "            \n",
    "            MRMS_TRUE_flag[:, ix, iy] = MRMS_TRUE[:, ix, iy] >= APCP_90th[ix_ERA5, iy_ERA5]\n",
    "            for ens in range(N_ens):\n",
    "                MRMS_PRED_prob[:, ix, iy] += MRMS_PRED[:, ens, ix, iy] >= APCP_90th[ix_ERA5, iy_ERA5]\n",
    "                \n",
    "    MRMS_PRED_prob = MRMS_PRED_prob/N_ens\n",
    "    \n",
    "    prob_true, prob_pred = calibration_curve(MRMS_TRUE_flag.ravel(), MRMS_PRED_prob.ravel(), n_bins=10)\n",
    "\n",
    "    PROB_TRUE[l, :] = prob_true\n",
    "    PROB_PRED[l, :] = prob_pred"
   ]
  },
  {
   "cell_type": "code",
   "execution_count": 57,
   "id": "a654a5da-dcbd-4ef6-a333-3351990ebe2a",
   "metadata": {},
   "outputs": [],
   "source": [
    "prob_true_ = np.array([0.00407913, 0.19077286, 0.25507477, 0.29647477, 0.39351215,\n",
    "                       0.47627974, 0.58880059, 0.64127242, 0.72004844, 0.95237289])"
   ]
  },
  {
   "cell_type": "code",
   "execution_count": 58,
   "id": "eafff676-2f00-49ea-a8ad-193040ab3d24",
   "metadata": {},
   "outputs": [
    {
     "data": {
      "text/plain": [
       "array([0.00153006, 0.2       , 0.3       , 0.4       , 0.5       ,\n",
       "       0.6       , 0.7       , 0.8       , 0.9       , 1.        ])"
      ]
     },
     "execution_count": 58,
     "metadata": {},
     "output_type": "execute_result"
    }
   ],
   "source": [
    "prob_pred"
   ]
  },
  {
   "cell_type": "code",
   "execution_count": 71,
   "id": "1f255a11-2fc1-4c3f-b811-30d74db630e0",
   "metadata": {},
   "outputs": [
    {
     "data": {
      "text/plain": [
       "(0.0, 0.99)"
      ]
     },
     "execution_count": 71,
     "metadata": {},
     "output_type": "execute_result"
    },
    {
     "data": {
      "image/png": "[encoded data removed]",
      "text/plain": [
       "<Figure size 640x480 with 1 Axes>"
      ]
     },
     "metadata": {},
     "output_type": "display_data"
    }
   ],
   "source": [
    "plt.plot(prob_pred, prob_true_, label='LDM')\n",
    "plt.plot(prob_pred, prob_true, label='Unet baseline')\n",
    "x_ref = np.linspace(0, 1, 100)\n",
    "plt.plot(x_ref, x_ref, '--')\n",
    "plt.legend()\n",
    "plt.title('Reliability diagram for precip > 90th climatology\\n 00 initialization 24-h forecasts, 2023-2024', fontsize=14)\n",
    "plt.xlabel('Predicted probabilities', fontsize=14)\n",
    "plt.xlabel('Frequency of occurence', fontsize=14)\n",
    "plt.axis('scaled')\n",
    "plt.xlim([0, 0.99])\n",
    "plt.ylim([0, 0.99])\n",
    "#plt.plot(PROB_PRED[-1, :], PROB_TRUE[-1, :])"
   ]
  },
  {
   "cell_type": "code",
   "execution_count": null,
   "id": "0d03b632-33c6-4f3e-918f-d390a3f08734",
   "metadata": {},
   "outputs": [],
   "source": []
  },
  {
   "cell_type": "code",
   "execution_count": null,
   "id": "8298a50f-2c3d-420a-84ad-7153e61160f9",
   "metadata": {},
   "outputs": [],
   "source": [
    "fig = plt.figure(figsize=(13, 8))\n",
    "gs = gridspec.GridSpec(1, 3, height_ratios=[1,], width_ratios=[2, 0.1, 2])\n",
    "\n",
    "ax11 = plt.subplot(gs[0, 0])\n",
    "ax21 = plt.subplot(gs[0, 2])\n",
    "ax_gap1 = plt.subplot(gs[0, 1])\n",
    "\n",
    "plt.subplots_adjust(0, 0, 1, 1, hspace=0, wspace=0)\n",
    "\n",
    "ax_gap1.axis(\"off\")\n",
    "\n",
    "\n",
    "ax11.plot(prob_pred[0, :], prob_true[0, :])\n",
    "\n",
    "ax11.plot(prob_pred[0, :], prob_true[0, :])"
   ]
  },
  {
   "cell_type": "code",
   "execution_count": null,
   "id": "b43f6be6-2b81-446b-bf1b-1857d01c7e03",
   "metadata": {},
   "outputs": [],
   "source": []
  }
 ],
 "metadata": {
  "kernelspec": {
   "display_name": "Python 3 (ipykernel)",
   "language": "python",
   "name": "python3"
  },
  "language_info": {
   "codemirror_mode": {
    "name": "ipython",
    "version": 3
   },
   "file_extension": ".py",
   "mimetype": "text/x-python",
   "name": "python",
   "nbconvert_exporter": "python",
   "pygments_lexer": "ipython3",
   "version": "3.11.6"
  }
 },
 "nbformat": 4,
 "nbformat_minor": 5
}
