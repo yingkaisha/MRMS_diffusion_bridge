{
 "cells": [
  {
   "cell_type": "markdown",
   "id": "416d659d-f855-4959-a21e-cc9184711045",
   "metadata": {},
   "source": [
    "* Produce full-sized files\n",
    "* MRMS has np.nan: MRMS is missing\n",
    "* LDM_pred has np.nan: all-zero or MRMS is missing"
   ]
  },
  {
   "cell_type": "code",
   "execution_count": 1,
   "id": "0583d348-7d7d-403c-a4f9-ffdb9e2727ea",
   "metadata": {},
   "outputs": [],
   "source": [
    "import os\n",
    "import sys\n",
    "import time\n",
    "import h5py\n",
    "\n",
    "import numpy as np\n",
    "from glob import glob\n",
    "\n",
    "from datetime import datetime, timedelta"
   ]
  },
  {
   "cell_type": "code",
   "execution_count": 2,
   "id": "97355ccb-f07d-42cf-a710-4731ac91ad5e",
   "metadata": {},
   "outputs": [],
   "source": [
    "sys.path.insert(0, '/glade/u/home/ksha/GAN_proj/')\n",
    "sys.path.insert(0, '/glade/u/home/ksha/GAN_proj/libs/')\n",
    "\n",
    "from namelist import *\n",
    "import data_utils as du"
   ]
  },
  {
   "cell_type": "code",
   "execution_count": 3,
   "id": "35fa4139-6ad8-4c72-8e8d-4ddde3beaaf5",
   "metadata": {},
   "outputs": [],
   "source": [
    "import matplotlib.pyplot as plt\n",
    "%matplotlib inline"
   ]
  },
  {
   "cell_type": "code",
   "execution_count": 4,
   "id": "91463876-2e87-4eb7-a0f1-0f481c9d8629",
   "metadata": {},
   "outputs": [],
   "source": [
    "with h5py.File(save_dir+'CNN_domain.hdf', 'r') as h5io:\n",
    "    lon_01 = h5io['lon_01'][...]\n",
    "    lat_01 = h5io['lat_01'][...]\n",
    "    lon_GFS = h5io['lon_GFS'][...]\n",
    "    lat_GFS = h5io['lat_GFS'][...]    "
   ]
  },
  {
   "cell_type": "code",
   "execution_count": 5,
   "id": "18f0d882-332b-49b9-9d51-02a9ea10f06f",
   "metadata": {},
   "outputs": [],
   "source": [
    "# data size info\n",
    "x_mrms = 256; y_mrms = 576 # 0.1 deg MRMS size\n",
    "x_gfs = 105; y_gfs = 242 # 0.25 deg GFS size\n",
    "\n",
    "N_days = 300\n",
    "N_ens = 10\n",
    "\n",
    "Nx_pred = 2\n",
    "Ny_pred = 5\n",
    "Ny_gap = 12\n",
    "size_pred = 128\n",
    "\n",
    "LEADs = [3, 6, 9, 15, 18, 21, 24, 27, 30, 33, 36]"
   ]
  },
  {
   "cell_type": "code",
   "execution_count": 22,
   "id": "a6710789-9435-4f7c-93c7-3d4601aa6a5b",
   "metadata": {},
   "outputs": [],
   "source": [
    "name = '/glade/campaign/cisl/aiml/ksha/LDM_results/LDM_day{:03d}_ini{:02d}_lead{:02d}.npy'\n",
    "save_name = 'LDM_2023_ini{:02d}_lead{:02d}.hdf'"
   ]
  },
  {
   "cell_type": "code",
   "execution_count": 23,
   "id": "b3c16b0a-7f02-4273-a761-0ffff71b3927",
   "metadata": {},
   "outputs": [
    {
     "name": "stdout",
     "output_type": "stream",
     "text": [
      "missing: /glade/campaign/cisl/aiml/ksha/LDM_results/LDM_day016_ini00_lead03.npy\n",
      "missing: /glade/campaign/cisl/aiml/ksha/LDM_results/LDM_day020_ini00_lead03.npy\n",
      "missing: /glade/campaign/cisl/aiml/ksha/LDM_results/LDM_day122_ini00_lead03.npy\n",
      "missing: /glade/campaign/cisl/aiml/ksha/LDM_results/LDM_day143_ini00_lead03.npy\n",
      "missing: /glade/campaign/cisl/aiml/ksha/LDM_results/LDM_day189_ini00_lead03.npy\n",
      "missing: /glade/campaign/cisl/aiml/ksha/LDM_results/LDM_day270_ini00_lead03.npy\n",
      "LDM_2023_ini00_lead03.hdf\n",
      "Save to /glade/campaign/cisl/aiml/ksha/LDM_results/LDM_2023_ini00_lead03.hdf\n"
     ]
    },
    {
     "ename": "KeyboardInterrupt",
     "evalue": "",
     "output_type": "error",
     "traceback": [
      "\u001b[0;31m---------------------------------------------------------------------------\u001b[0m",
      "\u001b[0;31mKeyboardInterrupt\u001b[0m                         Traceback (most recent call last)",
      "Cell \u001b[0;32mIn[23], line 5\u001b[0m\n\u001b[1;32m      2\u001b[0m \u001b[38;5;28;01mfor\u001b[39;00m lead \u001b[38;5;129;01min\u001b[39;00m LEADs:\n\u001b[1;32m      4\u001b[0m     MRMS_PRED \u001b[38;5;241m=\u001b[39m np\u001b[38;5;241m.\u001b[39mempty((N_days, N_ens, x_mrms, y_mrms)); MRMS_PRED[\u001b[38;5;241m.\u001b[39m\u001b[38;5;241m.\u001b[39m\u001b[38;5;241m.\u001b[39m] \u001b[38;5;241m=\u001b[39m np\u001b[38;5;241m.\u001b[39mnan\n\u001b[0;32m----> 5\u001b[0m     MRMS_TRUE \u001b[38;5;241m=\u001b[39m np\u001b[38;5;241m.\u001b[39mempty((N_days, x_mrms, y_mrms)); MRMS_TRUE[\u001b[38;5;241m.\u001b[39m\u001b[38;5;241m.\u001b[39m\u001b[38;5;241m.\u001b[39m] \u001b[38;5;241m=\u001b[39m np\u001b[38;5;241m.\u001b[39mnan\n\u001b[1;32m      6\u001b[0m     APCP_TRUE \u001b[38;5;241m=\u001b[39m np\u001b[38;5;241m.\u001b[39mempty((N_days, x_mrms, y_mrms)); APCP_TRUE[\u001b[38;5;241m.\u001b[39m\u001b[38;5;241m.\u001b[39m\u001b[38;5;241m.\u001b[39m] \u001b[38;5;241m=\u001b[39m np\u001b[38;5;241m.\u001b[39mnan\n\u001b[1;32m      8\u001b[0m     MRMS_pred_domain \u001b[38;5;241m=\u001b[39m np\u001b[38;5;241m.\u001b[39mempty((N_ens, x_mrms, y_mrms)); MRMS_pred_domain[\u001b[38;5;241m.\u001b[39m\u001b[38;5;241m.\u001b[39m\u001b[38;5;241m.\u001b[39m] \u001b[38;5;241m=\u001b[39m np\u001b[38;5;241m.\u001b[39mnan\n",
      "\u001b[0;31mKeyboardInterrupt\u001b[0m: "
     ]
    }
   ],
   "source": [
    "ini = 0\n",
    "for lead in LEADs:\n",
    "\n",
    "    MRMS_PRED = np.empty((N_days, N_ens, x_mrms, y_mrms)); MRMS_PRED[...] = np.nan\n",
    "    MRMS_TRUE = np.empty((N_days, x_mrms, y_mrms)); MRMS_TRUE[...] = np.nan\n",
    "    APCP_TRUE = np.empty((N_days, x_mrms, y_mrms)); APCP_TRUE[...] = np.nan\n",
    "    \n",
    "    MRMS_pred_domain = np.empty((N_ens, x_mrms, y_mrms)); MRMS_pred_domain[...] = np.nan\n",
    "    MRMS_true_domain = np.empty((x_mrms, y_mrms)); MRMS_true_domain[...] = np.nan\n",
    "    APCP_true_domain = np.empty((x_mrms, y_mrms)); APCP_true_domain[...] = np.nan\n",
    "    \n",
    "    for day in range(N_days):\n",
    "        name_ = name.format(day, ini, lead)\n",
    "        \n",
    "        if os.path.isfile(name_):\n",
    "            temp_data = np.load(name_, allow_pickle=True)[()]\n",
    "            MRMS_pred = np.exp(temp_data['MRMS_pred']) - 1\n",
    "            MRMS_true = np.exp(temp_data['MRMS_true']) - 1\n",
    "            APCP_true = np.exp(temp_data['APCP_true']) - 1\n",
    "        \n",
    "            count = 0\n",
    "            for px in range(Nx_pred):\n",
    "                for py in range(Ny_pred):\n",
    "                    ix0 = size_pred*px\n",
    "                    ix1 = ix0+size_pred\n",
    "                    \n",
    "                    if py < (Ny_pred-1):\n",
    "                        iy0 = (size_pred-Ny_gap)*py\n",
    "                        iy1 = iy0 + size_pred\n",
    "                    else:\n",
    "                        iy1 = y_mrms\n",
    "                        iy0 = y_mrms - size_pred\n",
    "            \n",
    "                    MRMS_pred_domain[:, ix0:ix1, iy0:iy1] = MRMS_pred[:, count, :, :]\n",
    "                    MRMS_true_domain[ix0:ix1, iy0:iy1] = MRMS_true[count, :, :]\n",
    "                    APCP_true_domain[ix0:ix1, iy0:iy1] = APCP_true[count, :, :]\n",
    "                    count += 1\n",
    "                    \n",
    "            MRMS_pred_domain[np.isnan(MRMS_pred_domain)] = 0\n",
    "            MRMS_pred_domain[MRMS_pred_domain<0] = 0\n",
    "        \n",
    "            MRMS_PRED[day, ...] = MRMS_pred_domain\n",
    "            MRMS_TRUE[day, ...] = MRMS_true_domain\n",
    "            APCP_TRUE[day, ...] = APCP_true_domain\n",
    "        \n",
    "        else:\n",
    "            print('missing: {}'.format(name_))\n",
    "    \n",
    "    \n",
    "    save_name_ = save_name.format(ini, lead)\n",
    "    print(save_name_)\n",
    "    tuple_save = (MRMS_PRED, MRMS_TRUE, APCP_TRUE)\n",
    "    label_save = ['MRMS_PRED', 'MRMS_TRUE', 'APCP_TRUE']\n",
    "    du.save_hdf5(tuple_save, label_save, '/glade/campaign/cisl/aiml/ksha/LDM_results/', save_name_)"
   ]
  },
  {
   "cell_type": "code",
   "execution_count": 24,
   "id": "bfa9d898-04e9-44c5-871f-ced676edcb12",
   "metadata": {},
   "outputs": [],
   "source": [
    "with h5py.File('/glade/campaign/cisl/aiml/ksha/LDM_results/LDM_2023_ini00_lead12.hdf', 'r') as h5io:\n",
    "    MRMS_TRUE = h5io['MRMS_TRUE'][...]"
   ]
  },
  {
   "cell_type": "code",
   "execution_count": 25,
   "id": "90b300fc-221b-41a8-befd-226b90d251b1",
   "metadata": {},
   "outputs": [
    {
     "data": {
      "text/plain": [
       "589824"
      ]
     },
     "execution_count": 25,
     "metadata": {},
     "output_type": "execute_result"
    }
   ],
   "source": [
    "np.sum(np.isnan(MRMS_TRUE))"
   ]
  },
  {
   "cell_type": "code",
   "execution_count": 26,
   "id": "8d18cc6f-0553-4eb7-8e19-491f1bf411e6",
   "metadata": {},
   "outputs": [
    {
     "data": {
      "text/plain": [
       "442368000"
      ]
     },
     "execution_count": 26,
     "metadata": {},
     "output_type": "execute_result"
    }
   ],
   "source": [
    "np.sum(np.isnan(MRMS_PRED))"
   ]
  },
  {
   "cell_type": "code",
   "execution_count": null,
   "id": "e4ebb376-c84c-4029-a33a-907137c810ef",
   "metadata": {},
   "outputs": [],
   "source": []
  },
  {
   "cell_type": "code",
   "execution_count": null,
   "id": "1f625c06-8d51-457b-a6b4-2390312135aa",
   "metadata": {},
   "outputs": [],
   "source": []
  }
 ],
 "metadata": {
  "kernelspec": {
   "display_name": "Python 3 (ipykernel)",
   "language": "python",
   "name": "python3"
  },
  "language_info": {
   "codemirror_mode": {
    "name": "ipython",
    "version": 3
   },
   "file_extension": ".py",
   "mimetype": "text/x-python",
   "name": "python",
   "nbconvert_exporter": "python",
   "pygments_lexer": "ipython3",
   "version": "3.11.6"
  }
 },
 "nbformat": 4,
 "nbformat_minor": 5
}
