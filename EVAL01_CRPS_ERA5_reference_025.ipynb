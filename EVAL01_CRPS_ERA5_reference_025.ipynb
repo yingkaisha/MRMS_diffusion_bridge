{
 "cells": [
  {
   "cell_type": "markdown",
   "id": "f3b3123e-8870-4f67-9e9a-d5bcdcd63ca7",
   "metadata": {},
   "source": [
    "# Verification: CRPSS "
   ]
  },
  {
   "cell_type": "code",
   "execution_count": 2,
   "id": "3d85c7d9-f3be-4c87-90ce-1eefd0798ac5",
   "metadata": {},
   "outputs": [],
   "source": [
    "import os\n",
    "import sys\n",
    "import time\n",
    "import numpy as np\n",
    "from glob import glob\n",
    "from datetime import datetime, timedelta\n",
    "from scipy.interpolate import RegularGridInterpolator\n",
    "\n",
    "import h5py"
   ]
  },
  {
   "cell_type": "code",
   "execution_count": 3,
   "id": "2f7a4243-2b13-4aef-910b-1c62f1040396",
   "metadata": {},
   "outputs": [],
   "source": [
    "#import numba as nb"
   ]
  },
  {
   "cell_type": "code",
   "execution_count": 4,
   "id": "136728b7-29db-4c09-a401-18bcda1b957e",
   "metadata": {},
   "outputs": [],
   "source": [
    "sys.path.insert(0, '/glade/u/home/ksha/GAN_proj/')\n",
    "sys.path.insert(0, '/glade/u/home/ksha/GAN_proj/libs/')\n",
    "\n",
    "from namelist import *\n",
    "import data_utils as du\n",
    "import verif_utils as vu"
   ]
  },
  {
   "cell_type": "code",
   "execution_count": 5,
   "id": "3ca88df0-fb27-44c4-a1b9-5f4203070394",
   "metadata": {},
   "outputs": [],
   "source": [
    "import matplotlib.pyplot as plt\n",
    "%matplotlib inline"
   ]
  },
  {
   "cell_type": "code",
   "execution_count": 6,
   "id": "cb575992-a7f9-47eb-8477-354e75ff6cc2",
   "metadata": {},
   "outputs": [],
   "source": [
    "with h5py.File(save_dir+'CNN_domain.hdf', 'r') as h5io:\n",
    "    lon_GFS = h5io['lon_GFS'][...]\n",
    "    lat_GFS = h5io['lat_GFS'][...]"
   ]
  },
  {
   "cell_type": "code",
   "execution_count": 7,
   "id": "bafbb42c-a3ef-43fb-808b-cb9fa2eecbe4",
   "metadata": {},
   "outputs": [],
   "source": [
    "#name_output = '/glade/campaign/cisl/aiml/ksha/LDM_results/LDM_2023_ini00_lead{:02d}.hdf'"
   ]
  },
  {
   "cell_type": "markdown",
   "id": "f79e6a5f-2998-4b38-9809-25b67750d116",
   "metadata": {},
   "source": [
    "**CRPS climatology reference in 2023**"
   ]
  },
  {
   "cell_type": "code",
   "execution_count": 8,
   "id": "75a27be2-c5bb-4b02-bfd9-98d55660b2fc",
   "metadata": {},
   "outputs": [],
   "source": [
    "year = 2023\n",
    "N_days = 300\n",
    "name_MRMS = '/glade/campaign/cisl/aiml/ksha/GFS/MRMS_01H_y{}_025.hdf'.format(year)"
   ]
  },
  {
   "cell_type": "code",
   "execution_count": 9,
   "id": "4001f9e3-a650-4985-9263-40dfcc443d30",
   "metadata": {},
   "outputs": [],
   "source": [
    "with h5py.File(name_MRMS, 'r') as h5io:\n",
    "    MRMS = h5io['MRMS'][...]\n",
    "N_total = len(MRMS)"
   ]
  },
  {
   "cell_type": "markdown",
   "id": "1b43280f-654b-4258-b186-d404f08b73ee",
   "metadata": {},
   "source": [
    "## 0.25 deg 3H results"
   ]
  },
  {
   "cell_type": "code",
   "execution_count": 14,
   "id": "2384be8a-03b2-4087-804e-14358fbe2188",
   "metadata": {},
   "outputs": [],
   "source": [
    "with h5py.File(save_dir+'ERA5_CDFs.hdf', 'r') as h5io:\n",
    "    ERA5_CDFs = h5io['ERA5_CDFs'][...]\n",
    "    indx_in_GFS = h5io['indx_in_GFS'][...]\n",
    "    indy_in_GFS = h5io['indy_in_GFS'][...]\n",
    "    \n",
    "ERA5_CDFs = ERA5_CDFs # mm/hour to mm/3-hour\n",
    "\n",
    "q_bins = np.arange(0, 1, 0.01)\n",
    "N_bins = len(q_bins)\n",
    "grid_shape = lon_GFS.shape # MRMS grid shape\n",
    "\n",
    "MRMS_lead = np.empty((N_days, grid_shape[0], grid_shape[1]))\n",
    "\n",
    "LEADs = [3,] #np.arange(3, 168+3, 3)\n",
    "CRPS_climo_lead = np.empty((N_days,)+grid_shape); \n",
    "\n",
    "for l, lead in enumerate(LEADs):\n",
    "\n",
    "    name_check = '/glade/work/ksha/GAN_result/CRPS_MRMS_3H_lead{:02d}_Climo_2023.hdf'.format(lead)\n",
    "    \n",
    "    if os.path.isfile(name_check) is True:\n",
    "        # re-fill NaN for a new lead time\n",
    "        CRPS_climo_lead[...] = np.nan\n",
    "        \n",
    "        # collect MRMS on the forecasted time\n",
    "        MRMS_lead[...] = np.nan\n",
    "\n",
    "        # hourly to 3-hourly\n",
    "        for d in range(N_days):\n",
    "            h1 = d*24 + lead\n",
    "            h0 = h1-3\n",
    "            MRMS_lead[d, ...] = np.sum(MRMS[h0:h1, ...], axis=0)/3\n",
    "\n",
    "        # compute CRPS on each grid cell\n",
    "        for ix in range(grid_shape[0]):\n",
    "            for iy in range(grid_shape[1]):\n",
    "                MRMS_TRUE_ = MRMS_lead[:, ix, iy][..., None]\n",
    "                CDFs = ERA5_CDFs[:, ix, iy][..., None]\n",
    "                CRPS_climo_lead[:, ix, iy] = vu.CRPS_1d_from_quantiles(q_bins, CDFs, MRMS_TRUE_)[:, 0]\n",
    "                \n",
    "        CRPS_climo_lead[np.isnan(MRMS_lead)] = np.nan\n",
    "        \n",
    "        # # backup every lead time  \n",
    "        # tuple_save = (CRPS_climo_lead,)\n",
    "        # label_save = ['CRPS_climo_lead',]\n",
    "        # du.save_hdf5(tuple_save, label_save, result_dir, 'CRPS_MRMS_3H_lead{:02d}_Climo_2023.hdf'.format(lead))"
   ]
  },
  {
   "cell_type": "code",
   "execution_count": 10,
   "id": "94b7d47f-0bd0-4341-80ce-3d9d2c46566e",
   "metadata": {},
   "outputs": [],
   "source": [
    "crps_climo_name = '/glade/work/ksha/GAN_result/CRPS_MRMS_3H_lead{:02d}_Climo_2023.hdf'\n",
    "\n",
    "with h5py.File(crps_climo_name.format(3), 'r') as h5io:\n",
    "    crps_ = h5io['CRPS_climo_lead'][...]"
   ]
  },
  {
   "cell_type": "code",
   "execution_count": 11,
   "id": "8569b95e-7490-46ae-a605-830226d2ca77",
   "metadata": {},
   "outputs": [
    {
     "data": {
      "text/plain": [
       "0.17808720673904035"
      ]
     },
     "execution_count": 11,
     "metadata": {},
     "output_type": "execute_result"
    }
   ],
   "source": [
    "np.nanmean(crps_)"
   ]
  },
  {
   "cell_type": "code",
   "execution_count": 15,
   "id": "577e9b09-1474-4e28-a4e0-9f61f023f100",
   "metadata": {},
   "outputs": [
    {
     "data": {
      "text/plain": [
       "0.0593624022463468"
      ]
     },
     "execution_count": 15,
     "metadata": {},
     "output_type": "execute_result"
    }
   ],
   "source": [
    "np.nanmean(CRPS_climo_lead)"
   ]
  },
  {
   "cell_type": "markdown",
   "id": "39c34d9c-094f-4782-b926-b9fdb1374b7f",
   "metadata": {},
   "source": [
    "## 0.25 deg 6H results"
   ]
  },
  {
   "cell_type": "code",
   "execution_count": 13,
   "id": "a1e8beb1-be80-449d-b8d9-fa752b9116bf",
   "metadata": {},
   "outputs": [],
   "source": [
    "with h5py.File(save_dir+'ERA5_CDFs.hdf', 'r') as h5io:\n",
    "    ERA5_CDFs = h5io['ERA5_CDFs'][...]\n",
    "    indx_in_GFS = h5io['indx_in_GFS'][...]\n",
    "    indy_in_GFS = h5io['indy_in_GFS'][...]\n",
    "    \n",
    "ERA5_CDFs = 6*ERA5_CDFs # mm/hour to mm/3-hour\n",
    "\n",
    "q_bins = np.arange(0, 1, 0.01)\n",
    "N_bins = len(q_bins)\n",
    "grid_shape = lon_GFS.shape # MRMS grid shape\n",
    "\n",
    "MRMS_lead = np.empty((N_days, grid_shape[0], grid_shape[1]))\n",
    "\n",
    "LEADs = [6,] #np.arange(6, 168+6, 6)\n",
    "CRPS_climo_lead = np.empty((N_days,)+grid_shape); \n",
    "\n",
    "for l, lead in enumerate(LEADs):\n",
    "\n",
    "    name_check = '/glade/work/ksha/GAN_result/CRPS_MRMS_6H_025_lead{:02d}_Climo_2023.hdf'.format(lead)\n",
    "    \n",
    "    if os.path.isfile(name_check) is False:\n",
    "        # re-fill NaN for a new lead time\n",
    "        CRPS_climo_lead[...] = np.nan\n",
    "        \n",
    "        # collect MRMS on the forecasted time\n",
    "        MRMS_lead[...] = np.nan\n",
    "\n",
    "        # hourly to 6-hourly\n",
    "        for d in range(N_days):\n",
    "            h1 = d*24 + lead\n",
    "            h0 = h1-6\n",
    "            MRMS_lead[d, ...] = np.sum(MRMS[h0:h1, ...], axis=0)\n",
    "\n",
    "        # compute CRPS on each grid cell\n",
    "        for ix in range(grid_shape[0]):\n",
    "            for iy in range(grid_shape[1]):\n",
    "                MRMS_TRUE_ = MRMS_lead[:, ix, iy][..., None]\n",
    "                CDFs = ERA5_CDFs[:, ix, iy][..., None]\n",
    "                CRPS_climo_lead[:, ix, iy] = vu.CRPS_1d_from_quantiles(q_bins, CDFs, MRMS_TRUE_)[:, 0]\n",
    "                \n",
    "        CRPS_climo_lead[np.isnan(MRMS_lead)] = np.nan\n",
    "        \n",
    "        # backup every lead time  \n",
    "        # tuple_save = (CRPS_climo_lead,)\n",
    "        # label_save = ['CRPS_climo_lead',]\n",
    "        # du.save_hdf5(tuple_save, label_save, result_dir, 'CRPS_MRMS_6H_lead{:02d}_Climo_2023.hdf'.format(lead))"
   ]
  },
  {
   "cell_type": "code",
   "execution_count": 14,
   "id": "f92f93aa-e991-40f0-a52e-038d1f8e53b7",
   "metadata": {},
   "outputs": [
    {
     "data": {
      "text/plain": [
       "nan"
      ]
     },
     "execution_count": 14,
     "metadata": {},
     "output_type": "execute_result"
    }
   ],
   "source": [
    "np.mean(CRPS_climo_lead)"
   ]
  },
  {
   "cell_type": "code",
   "execution_count": 15,
   "id": "726e2b02-4d34-4af3-b8d5-f8ee7c260f79",
   "metadata": {},
   "outputs": [
    {
     "data": {
      "text/plain": [
       "0.374969892359708"
      ]
     },
     "execution_count": 15,
     "metadata": {},
     "output_type": "execute_result"
    }
   ],
   "source": [
    "np.nanmean(CRPS_climo_lead)"
   ]
  },
  {
   "cell_type": "markdown",
   "id": "0c38018e-ad62-4192-84c5-f933123098fe",
   "metadata": {},
   "source": [
    "## 0.1 deg 6H results"
   ]
  },
  {
   "cell_type": "code",
   "execution_count": null,
   "id": "f122bcf1-cd17-4349-84d7-12b104fe0190",
   "metadata": {},
   "outputs": [],
   "source": [
    "# with h5py.File(save_dir+'ERA5_CDFs.hdf', 'r') as h5io:\n",
    "#     ERA5_CDFs = h5io['ERA5_CDFs'][...]\n",
    "#     indx_in_GFS = h5io['indx_in_GFS'][...]\n",
    "#     indy_in_GFS = h5io['indy_in_GFS'][...]\n",
    "# ERA5_CDFs = 6*ERA5_CDFs # mm/hour to mm/6-hour\n",
    "\n",
    "# q_bins = np.arange(0, 1, 0.01)\n",
    "# N_bins = len(q_bins)\n",
    "# grid_shape = lon_01.shape # MRMS grid shape\n",
    "\n",
    "# MRMS_lead = np.empty((N_days, grid_shape[0], grid_shape[1]))\n",
    "\n",
    "# LEADs = np.arange(6, 168+6, 6)\n",
    "# CRPS_climo_lead = np.empty((N_days,)+grid_shape); CRPS_climo_lead[...] = np.nan\n",
    "\n",
    "# for l, lead in enumerate(LEADs):\n",
    "    \n",
    "#     name_check = '/glade/work/ksha/GAN_result/CRPS_MRMS_6H_lead{:02d}_Climo_2023.hdf'.format(lead)\n",
    "    \n",
    "#     if os.path.isfile(name_check) is False:\n",
    "#         # collect MRMS on the forecasted time\n",
    "#         MRMS_lead[...] = np.nan\n",
    "#         for d in range(N_days):\n",
    "#             h1 = d*24 + lead\n",
    "#             h0 = h1-6\n",
    "#             MRMS_lead[d, ...] = np.sum(MRMS[h0:h1, ...], axis=0)\n",
    "            \n",
    "#         for ix in range(grid_shape[0]):\n",
    "#             for iy in range(grid_shape[1]):\n",
    "#                 MRMS_TRUE_ = MRMS_lead[:, ix, iy][..., None]\n",
    "#                 CDFs = ERA5_CDFs[:, indx_in_GFS[ix, iy], indy_in_GFS[ix, iy]][..., None]\n",
    "#                 CRPS_climo_lead[:, ix, iy] = vu.CRPS_1d_from_quantiles(q_bins, CDFs, MRMS_TRUE_)[:, 0]\n",
    "    \n",
    "#         # backup every lead time  \n",
    "#         tuple_save = (CRPS_climo_lead,)\n",
    "#         label_save = ['CRPS_climo_lead',]\n",
    "#         du.save_hdf5(tuple_save, label_save, result_dir, 'CRPS_MRMS_6H_lead{:02d}_Climo_2023.hdf'.format(lead))"
   ]
  },
  {
   "cell_type": "code",
   "execution_count": 21,
   "id": "e752676d-1a1d-4473-914d-29f8f6f3a7e0",
   "metadata": {},
   "outputs": [
    {
     "data": {
      "text/plain": [
       "0.5644630928538301"
      ]
     },
     "execution_count": 21,
     "metadata": {},
     "output_type": "execute_result"
    }
   ],
   "source": [
    "# np.mean(CRPS_climo_lead)"
   ]
  },
  {
   "cell_type": "markdown",
   "id": "af785011-0b25-4d99-b0ce-8726ba53e70a",
   "metadata": {},
   "source": [
    "**Compare to 3-h CRPS reference**"
   ]
  },
  {
   "cell_type": "code",
   "execution_count": null,
   "id": "f8d382f6-67d1-43dd-ac54-f4da5b59dd98",
   "metadata": {},
   "outputs": [],
   "source": [
    "# q_bins = np.arange(0, 1, 0.01)\n",
    "# grid_shape = lon_01.shape # MRMS grid shape\n",
    "\n",
    "# LEADs = np.arange(3, 168+3, 3)\n",
    "# CRPS_climo = np.empty((N_days, len(LEADs))+grid_shape); CRPS_climo[...] = np.nan\n",
    "\n",
    "# for l, lead in enumerate(LEADs):\n",
    "\n",
    "#     for day in range(N_days):\n",
    "#     with h5py.File(name_output.format(lead)) as h5io:\n",
    "#         MRMS_TRUE = h5io['MRMS_TRUE'][...]\n",
    "#         MRMS_PRED = h5io['MRMS_PRED'][...]\n",
    "    \n",
    "#     for ix in range(grid_shape[0]):\n",
    "#         for iy in range(grid_shape[1]):\n",
    "#             MRMS_TRUE_ = MRMS_TRUE[:, ix, iy][..., None]\n",
    "#             CDFs = ERA5_CDFs[:, indx_in_GFS[ix, iy], indy_in_GFS[ix, iy]][..., None]\n",
    "#             CRPS_climo[:, l, ix, iy] = vu.CRPS_1d_from_quantiles(q_bins, CDFs, MRMS_TRUE_)[:, 0] # size=(100, 1)\n",
    "            \n",
    "#     # backup every lead time  \n",
    "#     tuple_save = (CRPS_climo,)\n",
    "#     label_save = ['CRPS_climo',]\n",
    "#     du.save_hdf5(tuple_save, label_save, result_dir, 'CRPS_MRMS_climo_2023.hdf')"
   ]
  },
  {
   "cell_type": "code",
   "execution_count": 19,
   "id": "d9b8c4a8-4826-4973-aa63-6bcb5246d868",
   "metadata": {},
   "outputs": [],
   "source": [
    "lead = 6\n",
    "with h5py.File(result_dir+'CRPS_MRMS_6H_lead{:02d}_Climo_2023.hdf'.format(lead), 'r') as h5io:\n",
    "    CRPS_climo_6h = h5io['CRPS_climo_lead'][...]"
   ]
  },
  {
   "cell_type": "code",
   "execution_count": null,
   "id": "a70bbca7-efa9-49b5-ba36-2a4add2f517b",
   "metadata": {},
   "outputs": [],
   "source": []
  },
  {
   "cell_type": "markdown",
   "id": "1ed7d956-8a2f-4be1-b844-4b89efdf2089",
   "metadata": {},
   "source": [
    "**CRPS from LDF outputs**"
   ]
  },
  {
   "cell_type": "code",
   "execution_count": null,
   "id": "824e40c5-14c0-43b6-915a-f2994c899fc2",
   "metadata": {},
   "outputs": [],
   "source": [
    "# N_time = 300\n",
    "# grid_shape = lon_01.shape # MRMS grid shape\n",
    "# LEADs = [3, 6, 9, 12, 15, 18, 21, 24, 27, 30, 33, 36]\n",
    "# CRPS_PRED = np.empty((N_time, len(LEADs))+grid_shape); CRPS_PRED[...] = np.nan\n",
    "\n",
    "# for l, lead in enumerate(LEADs):\n",
    "\n",
    "#     with h5py.File(name_output.format(lead)) as h5io:\n",
    "#         MRMS_TRUE = h5io['MRMS_TRUE'][...]\n",
    "#         MRMS_PRED = h5io['MRMS_PRED'][...]\n",
    "\n",
    "#     MRMS_TRUE_flat = MRMS_TRUE.reshape(300, 256*576)\n",
    "#     MRMS_PRED_flat = MRMS_PRED.reshape(300, 10, 256*576)\n",
    "\n",
    "#     # handle NaNs\n",
    "#     for i in range(300):\n",
    "#         for k in range(256*576):\n",
    "#             if (np.sum(np.isnan(MRMS_PRED_flat[i, :, k])) > 0) and (np.isnan(MRMS_TRUE_flat[i, k]) is False):\n",
    "#                 MRMS_PRED_flat[i, :, k] = 0\n",
    "\n",
    "#     CRPS_pred, _, _ = vu.CRPS_1d_nan(MRMS_TRUE_flat, MRMS_PRED_flat)\n",
    "#     CRPS_PRED[:, l, ...] = CRPS_pred.reshape((300, 256, 576))\n",
    "    \n",
    "#     # backup every lead time  \n",
    "#     tuple_save = (CRPS_PRED,)\n",
    "#     label_save = ['CRPS_PRED',]\n",
    "#     du.save_hdf5(tuple_save, label_save, result_dir, 'CRPS_MRMS_LDM_2023.hdf')"
   ]
  },
  {
   "cell_type": "code",
   "execution_count": null,
   "id": "2a942bc2-a29a-4a31-be68-11bcb3694530",
   "metadata": {},
   "outputs": [],
   "source": []
  }
 ],
 "metadata": {
  "kernelspec": {
   "display_name": "Python 3 (ipykernel)",
   "language": "python",
   "name": "python3"
  },
  "language_info": {
   "codemirror_mode": {
    "name": "ipython",
    "version": 3
   },
   "file_extension": ".py",
   "mimetype": "text/x-python",
   "name": "python",
   "nbconvert_exporter": "python",
   "pygments_lexer": "ipython3",
   "version": "3.11.6"
  }
 },
 "nbformat": 4,
 "nbformat_minor": 5
}
