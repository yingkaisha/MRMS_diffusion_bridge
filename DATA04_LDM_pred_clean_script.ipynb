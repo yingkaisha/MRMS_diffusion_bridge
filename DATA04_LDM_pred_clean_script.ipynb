{
 "cells": [
  {
   "cell_type": "markdown",
   "id": "f16bb5c4-f133-479e-a031-da94ed394e21",
   "metadata": {},
   "source": [
    "# Remove LDM preditions that have NaNs"
   ]
  },
  {
   "cell_type": "code",
   "execution_count": null,
   "id": "db5f75e0-2013-4ce8-a9aa-138522df4fcb",
   "metadata": {},
   "outputs": [],
   "source": [
    "import os\n",
    "from glob import glob\n",
    "from datetime import datetime, timedelta"
   ]
  },
  {
   "cell_type": "code",
   "execution_count": 5,
   "id": "ed736ac0-6633-4474-955b-2535236ca905",
   "metadata": {},
   "outputs": [],
   "source": [
    "import numpy as np"
   ]
  },
  {
   "cell_type": "code",
   "execution_count": 4,
   "id": "e93c04f3-034f-4a2b-a614-f5a4d6c99d45",
   "metadata": {},
   "outputs": [],
   "source": [
    "names = sorted(glob('/glade/campaign/cisl/aiml/ksha/LDM_results/*.npy'))"
   ]
  },
  {
   "cell_type": "code",
   "execution_count": 8,
   "id": "1b1d5a92-6e50-4b5f-9712-56f5b593156f",
   "metadata": {},
   "outputs": [],
   "source": [
    "for name in names:\n",
    "    temp_data = np.load(name, allow_pickle=True)[()]\n",
    "    if np.sum(np.isnan(temp_data['MRMS_true'])) > 0:\n",
    "        print('rm {}'.format(name))"
   ]
  },
  {
   "cell_type": "code",
   "execution_count": null,
   "id": "87ab0d7a-7e4f-4e88-a0aa-9b5ac413cfef",
   "metadata": {},
   "outputs": [],
   "source": []
  }
 ],
 "metadata": {
  "kernelspec": {
   "display_name": "Python 3 (ipykernel)",
   "language": "python",
   "name": "python3"
  },
  "language_info": {
   "codemirror_mode": {
    "name": "ipython",
    "version": 3
   },
   "file_extension": ".py",
   "mimetype": "text/x-python",
   "name": "python",
   "nbconvert_exporter": "python",
   "pygments_lexer": "ipython3",
   "version": "3.10.13"
  }
 },
 "nbformat": 4,
 "nbformat_minor": 5
}
