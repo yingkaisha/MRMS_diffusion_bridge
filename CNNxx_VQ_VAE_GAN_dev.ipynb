{
 "cells": [
  {
   "cell_type": "code",
   "execution_count": 1,
   "id": "8ba555d5-489c-472c-b1b4-0ba3be39fd5d",
   "metadata": {},
   "outputs": [],
   "source": [
    "import os\n",
    "import sys\n",
    "import time\n",
    "import numpy as np\n",
    "from glob import glob\n",
    "\n",
    "import logging\n",
    "import warnings\n",
    "\n",
    "warnings.filterwarnings(\"ignore\")\n",
    "\n",
    "os.environ['TF_CPP_MIN_LOG_LEVEL'] = '3' \n",
    "\n",
    "logging.getLogger(\"tensorflow\").setLevel(logging.ERROR) "
   ]
  },
  {
   "cell_type": "code",
   "execution_count": 2,
   "id": "80277b2b-acd4-407e-b3f9-248580499865",
   "metadata": {},
   "outputs": [],
   "source": [
    "import tensorflow as tf\n",
    "from tensorflow import keras\n",
    "from tensorflow.keras import layers\n",
    "\n",
    "tf.autograph.set_verbosity(0)\n",
    "tf.get_logger().setLevel('ERROR')"
   ]
  },
  {
   "cell_type": "code",
   "execution_count": 3,
   "id": "4f10658d-e001-43c2-8ffb-c6bef9909cc2",
   "metadata": {},
   "outputs": [],
   "source": [
    "import matplotlib.pyplot as plt\n",
    "%matplotlib inline"
   ]
  },
  {
   "cell_type": "code",
   "execution_count": 4,
   "id": "2914c147-a957-4488-9ab4-da206547e92f",
   "metadata": {},
   "outputs": [],
   "source": [
    "sys.path.insert(0, '/glade/u/home/ksha/GAN_proj/')\n",
    "sys.path.insert(0, '/glade/u/home/ksha/GAN_proj/libs/')\n",
    "\n",
    "from namelist import *\n",
    "import data_utils as du\n",
    "import vae_utils as vu\n",
    "import model_utils as mu"
   ]
  },
  {
   "cell_type": "code",
   "execution_count": 5,
   "id": "448313b2-10e0-4699-bed5-e382c0a3bdb8",
   "metadata": {},
   "outputs": [],
   "source": [
    "#from skimage.transform import resize"
   ]
  },
  {
   "cell_type": "code",
   "execution_count": 6,
   "id": "373b0b6f-e4cc-4669-b9ed-463d45c6cba5",
   "metadata": {},
   "outputs": [
    {
     "name": "stdout",
     "output_type": "stream",
     "text": [
      "tf.version = 2.12.1\n",
      "tf on GPU = True\n"
     ]
    }
   ],
   "source": [
    "print('tf.version = {}'.format(tf.__version__))\n",
    "print('tf on GPU = {}'.format(tf.test.is_gpu_available()))"
   ]
  },
  {
   "cell_type": "code",
   "execution_count": 7,
   "id": "5d95d1e3-27fd-4475-8347-9629788a701e",
   "metadata": {},
   "outputs": [],
   "source": [
    "def resblock(X, kernel_size, filter_num, activation):\n",
    "    Fx = layers.Conv2D(filter_num, kernel_size, padding='same')(X)\n",
    "    Fx = layers.BatchNormalization()(Fx)\n",
    "    Fx = layers.Activation(activation)(Fx)\n",
    "    Fx = layers.Conv2D(filter_num, kernel_size, padding='same')(Fx)\n",
    "    out = layers.Add()([X, Fx])\n",
    "    out = layers.BatchNormalization(axis=-1)(out)\n",
    "    out = layers.Activation(activation)(out)\n",
    "    return out"
   ]
  },
  {
   "cell_type": "code",
   "execution_count": null,
   "id": "8e13b863-2e65-4182-ae87-3ff6d697f4ba",
   "metadata": {},
   "outputs": [],
   "source": []
  },
  {
   "cell_type": "code",
   "execution_count": 8,
   "id": "59631c93-a46e-4092-893c-b13d20128593",
   "metadata": {},
   "outputs": [],
   "source": [
    "class VectorQuantizer(keras.layers.Layer):  \n",
    "    def __init__(self, k, **kwargs):\n",
    "        super(VectorQuantizer, self).__init__(**kwargs)\n",
    "        self.k = k\n",
    "    \n",
    "    def build(self, input_shape):\n",
    "        self.d = int(input_shape[-1])\n",
    "        rand_init = keras.initializers.VarianceScaling(distribution=\"uniform\")\n",
    "        self.codebook = self.add_weight(shape=(self.k, self.d), initializer=rand_init, trainable=True)\n",
    "        \n",
    "    def call(self, inputs):\n",
    "        # Map z_e of shape (b, w,, h, d) to indices in the codebook\n",
    "        lookup_ = tf.reshape(self.codebook, shape=(1, 1, 1, self.k, self.d))\n",
    "        z_e = tf.expand_dims(inputs, -2)\n",
    "        dist = tf.norm(z_e - lookup_, axis=-1)\n",
    "        k_index = tf.argmin(dist, axis=-1)\n",
    "        return k_index\n",
    "    \n",
    "    def sample(self, k_index):\n",
    "        # Map indices array of shape (b, w, h) to actual codebook z_q\n",
    "        lookup_ = tf.reshape(self.codebook, shape=(1, 1, 1, self.k, self.d))\n",
    "        k_index_one_hot = tf.one_hot(k_index, self.k)\n",
    "        z_q = lookup_ * k_index_one_hot[..., None]\n",
    "        z_q = tf.reduce_sum(z_q, axis=-2)\n",
    "        return z_q"
   ]
  },
  {
   "cell_type": "code",
   "execution_count": 9,
   "id": "929ac238-2e14-415a-a805-e2114c96d4ac",
   "metadata": {},
   "outputs": [],
   "source": [
    "filter_nums = [64, 128]\n",
    "latent_dim = 16\n",
    "num_embeddings = 128\n",
    "activation = 'relu'\n",
    "\n",
    "model_name_save = '/glade/work/ksha/GAN/models/VQ_VAE_GAN_{}_{}_L{}_N{}_{}_base.hdf5'.format(filter_nums[0], \n",
    "                                                                                        filter_nums[1], \n",
    "                                                                                        latent_dim, \n",
    "                                                                                        num_embeddings, \n",
    "                                                                                        activation)\n",
    "\n",
    "model_de_save = '/glade/work/ksha/GAN/models/VQ_VAE_DE_{}_{}_L{}_N{}_{}_base.hdf5'.format(filter_nums[0], \n",
    "                                                                                     filter_nums[1], \n",
    "                                                                                     latent_dim, \n",
    "                                                                                     num_embeddings, \n",
    "                                                                                     activation)\n",
    "\n",
    "model_ge_save = '/glade/work/ksha/GAN/models/VQ_VAE_GE_{}_{}_L{}_N{}_{}_base.hdf5'.format(filter_nums[0], \n",
    "                                                                                     filter_nums[1], \n",
    "                                                                                     latent_dim, \n",
    "                                                                                     num_embeddings, \n",
    "                                                                                     activation)\n",
    "\n",
    "input_size = (128, 128, 1) #(28, 28, 1) #\n",
    "latent_size = (32, 32, latent_dim) #(7, 7, latent_dim) #\n",
    "# 64 144\n",
    "\n",
    "# ================================= encoder ================================= #\n",
    "\n",
    "encoder_in = keras.Input(shape=input_size)\n",
    "X = encoder_in\n",
    "\n",
    "X = layers.Conv2D(filter_nums[0], 3, padding=\"same\")(X)\n",
    "X = layers.BatchNormalization()(X)\n",
    "X = layers.Activation(activation)(X)\n",
    "\n",
    "X = layers.Conv2D(filter_nums[0], 3, strides=2, padding=\"same\")(X)\n",
    "X = layers.BatchNormalization()(X)\n",
    "X = layers.Activation(activation)(X)\n",
    "\n",
    "X = resblock(X, 3, filter_nums[0], activation)\n",
    "X = resblock(X, 3, filter_nums[0], activation)\n",
    "\n",
    "X = layers.Conv2D(filter_nums[1], 3, strides=2, padding=\"same\")(X)\n",
    "X = layers.BatchNormalization()(X)\n",
    "X = layers.Activation(activation)(X)\n",
    "\n",
    "X = resblock(X, 3, filter_nums[1], activation)\n",
    "X = resblock(X, 3, filter_nums[1], activation)\n",
    "\n",
    "z_e = layers.Conv2D(latent_dim, 1, padding=\"same\")(X)\n",
    "\n",
    "vector_quantizer = VectorQuantizer(num_embeddings, name=\"vector_quantizer\")\n",
    "\n",
    "codebook_indices = vector_quantizer(z_e)\n",
    "\n",
    "model_encoder = keras.Model(inputs=encoder_in, outputs=codebook_indices, name='encoder')\n",
    "# =========================================================================== #\n",
    "\n",
    "# ================================= decoder ================================= #\n",
    "\n",
    "decoder_in = keras.Input(shape=latent_size)\n",
    "\n",
    "X = decoder_in\n",
    "\n",
    "X = layers.Conv2D(filter_nums[1], 1, padding=\"same\")(X)\n",
    "X = layers.BatchNormalization()(X)\n",
    "X = layers.Activation(activation)(X)\n",
    "\n",
    "X = layers.Conv2DTranspose(filter_nums[1], 3, strides=2, padding=\"same\")(X)\n",
    "X = layers.BatchNormalization()(X)\n",
    "X = layers.Activation(activation)(X)\n",
    "\n",
    "X = resblock(X, 3, filter_nums[1], activation)\n",
    "X = resblock(X, 3, filter_nums[1], activation)\n",
    "\n",
    "X = layers.Conv2DTranspose(filter_nums[0], 3, strides=2, padding=\"same\")(X)\n",
    "X = layers.BatchNormalization()(X)\n",
    "X = layers.Activation(activation)(X)\n",
    "\n",
    "X = resblock(X, 3, filter_nums[0], activation)\n",
    "X = resblock(X, 3, filter_nums[0], activation)\n",
    "\n",
    "decoder_out = layers.Conv2D(1, 1, padding=\"same\")(X)\n",
    "\n",
    "model_decoder = keras.Model(decoder_in, decoder_out, name='decoder')\n",
    "\n",
    "# ================================= VQ-VAE ================================= #\n",
    "\n",
    "sampling_layer = keras.layers.Lambda(lambda x: vector_quantizer.sample(x), name=\"sample_from_codebook\")\n",
    "z_q = sampling_layer(codebook_indices)\n",
    "\n",
    "codes = tf.stack([z_e, z_q], axis=-1)\n",
    "\n",
    "codes = keras.layers.Lambda(lambda x: x, name='code_mapping')(codes)\n",
    "\n",
    "straight_through = keras.layers.Lambda(lambda x : x[1] + tf.stop_gradient(x[0] - x[1]), name='stop_gradient')\n",
    "straight_through_zq = straight_through([z_q, z_e])\n",
    "\n",
    "reconstructed = model_decoder(straight_through_zq)\n",
    "\n",
    "vq_vae = keras.Model(inputs=encoder_in, outputs=[reconstructed, codes], name='vq-vae')"
   ]
  },
  {
   "cell_type": "code",
   "execution_count": 10,
   "id": "eec814c7-b0ea-4f19-a276-6ab3f869e1db",
   "metadata": {},
   "outputs": [],
   "source": [
    "IN = keras.Input(shape=input_size)\n",
    "\n",
    "X = IN\n",
    "\n",
    "X = layers.Conv2D(filter_nums[0], 3, padding=\"same\")(X)\n",
    "X = layers.BatchNormalization()(X)\n",
    "X = layers.Activation(activation)(X)\n",
    "\n",
    "X = layers.Conv2D(filter_nums[0], 3, padding=\"same\")(X)\n",
    "X = layers.BatchNormalization()(X)\n",
    "X = layers.Activation(activation)(X)\n",
    "\n",
    "X = layers.Conv2D(filter_nums[0], 3, strides=2, padding=\"same\")(X)\n",
    "X = layers.BatchNormalization()(X)\n",
    "X = layers.Activation(activation)(X)\n",
    "\n",
    "X = layers.Conv2D(filter_nums[1], 3, padding=\"same\")(X)\n",
    "X = layers.BatchNormalization()(X)\n",
    "X = layers.Activation(activation)(X)\n",
    "\n",
    "X = layers.Conv2D(filter_nums[1], 3, padding=\"same\")(X)\n",
    "X = layers.BatchNormalization()(X)\n",
    "X = layers.Activation(activation)(X)\n",
    "\n",
    "X = layers.Conv2D(filter_nums[1], 3, strides=2, padding=\"same\")(X)\n",
    "X = layers.BatchNormalization()(X)\n",
    "X = layers.Activation(activation)(X)\n",
    "\n",
    "X = layers.Conv2D(filter_nums[1], 3, padding=\"same\")(X)\n",
    "X = layers.BatchNormalization()(X)\n",
    "X = layers.Activation(activation)(X)\n",
    "\n",
    "V = X\n",
    "V = keras.layers.GlobalMaxPooling2D()(V)\n",
    "OUT = keras.layers.Dense(1, activation='sigmoid')(V)\n",
    "\n",
    "model_de = keras.Model(IN, OUT)"
   ]
  },
  {
   "cell_type": "code",
   "execution_count": null,
   "id": "824d94ff-3ee6-4ebb-b7f9-d835ae8bcffb",
   "metadata": {},
   "outputs": [],
   "source": []
  },
  {
   "cell_type": "code",
   "execution_count": 11,
   "id": "6bee3693-8e62-4c03-b18d-f342050cc167",
   "metadata": {},
   "outputs": [],
   "source": [
    "IN_ge = keras.Input(shape=input_size)\n",
    "\n",
    "G_OUT, vq_codes = vq_vae(IN_ge)\n",
    "D_OUT = model_de(G_OUT)\n",
    "\n",
    "GAN = keras.models.Model(IN_ge, [G_OUT, vq_codes, D_OUT])"
   ]
  },
  {
   "cell_type": "code",
   "execution_count": 12,
   "id": "a333e19d-e378-4c28-87b0-8d65091b71fd",
   "metadata": {},
   "outputs": [],
   "source": [
    "def mse_loss(ground_truth, predictions):\n",
    "    mse_loss = tf.reduce_mean((ground_truth - predictions)**2, name=\"mse_loss\")\n",
    "    return mse_loss\n",
    "\n",
    "def latent_loss(dummy_ground_truth, outputs):\n",
    "    del dummy_ground_truth\n",
    "    z_e, z_q = tf.split(outputs, 2, axis=-1)\n",
    "    vq_loss = tf.reduce_mean((tf.stop_gradient(z_e) - z_q)**2)\n",
    "    commit_loss = tf.reduce_mean((z_e - tf.stop_gradient(z_q))**2)\n",
    "    latent_loss = tf.identity(vq_loss + 0.25 * commit_loss, name=\"latent_loss\")\n",
    "    return latent_loss"
   ]
  },
  {
   "cell_type": "code",
   "execution_count": 13,
   "id": "cde86d1f-ea54-4ebc-93a6-633a97c17425",
   "metadata": {},
   "outputs": [],
   "source": [
    "vq_vae.compile(loss=[mse_loss, latent_loss], optimizer= keras.optimizers.Adam(1e-5))\n",
    "model_de.compile(loss=keras.losses.BinaryCrossentropy(from_logits=False), optimizer=keras.optimizers.Adam(1e-5))\n",
    "GAN.compile(loss=[mse_loss, latent_loss, keras.losses.BinaryCrossentropy(from_logits=False)], \n",
    "            loss_weights=[1.0, 1.0, 0.1], optimizer=keras.optimizers.Adam(1e-5))"
   ]
  },
  {
   "cell_type": "code",
   "execution_count": 14,
   "id": "dba059db-2f05-486f-8711-ebe95cea1d66",
   "metadata": {},
   "outputs": [],
   "source": [
    "###GAN.load_weights(model_name_save)\n",
    "model_de.load_weights(model_de_save)\n",
    "vq_vae.load_weights(model_ge_save)"
   ]
  },
  {
   "cell_type": "code",
   "execution_count": 15,
   "id": "f95a5781-6850-4dbc-8d61-ef2bb50e5144",
   "metadata": {},
   "outputs": [],
   "source": [
    "def precip_norm(x):\n",
    "    return np.log(x+1)\n",
    "\n",
    "def mean_absolute_error(y_true, y_pred):\n",
    "    return np.mean(np.abs(y_true - y_pred))\n",
    "\n",
    "BATCH_dir = '/glade/campaign/cisl/aiml/ksha/BATCH_MRMS/'\n",
    "\n",
    "L_valid = 5000\n",
    "\n",
    "filenames = np.array(sorted(glob(BATCH_dir+'*2020*.npy')))\n",
    "L = len(filenames)\n",
    "\n",
    "filename_valid = filenames[::8][:L_valid]\n",
    "filename_train = list(set(filenames) - set(filename_valid))\n",
    "L_train = len(filename_train)\n",
    "\n",
    "Y_valid = np.empty((L_valid, 128, 128, 1))\n",
    "for i, name in enumerate(filename_valid):\n",
    "    Y_valid[i, ..., 0] = precip_norm(np.load(name))"
   ]
  },
  {
   "cell_type": "code",
   "execution_count": null,
   "id": "12dd1869-9e82-474f-9aa9-75459c17892a",
   "metadata": {},
   "outputs": [],
   "source": []
  },
  {
   "cell_type": "code",
   "execution_count": 16,
   "id": "c94280ae-b15b-464d-99a4-ee7cfbc0ad1f",
   "metadata": {},
   "outputs": [],
   "source": [
    "# BATCH_dir = '/glade/campaign/cisl/aiml/ksha/BATCH_GFS_MRMS/'\n",
    "# filename_train = sorted(glob(BATCH_dir+'*.npy'))\n",
    "# L_train = len(filename_train)\n",
    "\n",
    "# epochs = 99999\n",
    "# N_batch = 64\n",
    "# batch_size = 64\n",
    "\n",
    "# min_del = 0.0\n",
    "# max_tol = 3 # early stopping with 2-epoch patience\n",
    "# tol = 0\n",
    "\n",
    "# Y_batch = np.empty((batch_size, 128, 128, 1))\n",
    "# Y_batch[...] = np.nan\n",
    "\n",
    "# y_bad = np.zeros(batch_size)\n",
    "# y_good = np.ones(batch_size)\n",
    "# dummy_good = y_good\n",
    "# dummy_mix = np.concatenate((y_bad, y_good), axis=0)\n",
    "\n",
    "# for i in range(epochs):\n",
    "#     print('epoch = {}'.format(i))\n",
    "#     if i == 0:\n",
    "#         Y_pred, _ = vq_vae.predict(Y_valid)\n",
    "#         record = mean_absolute_error(Y_valid, Y_pred)\n",
    "#         print('Initial validation loss: {}'.format(record))\n",
    "    \n",
    "#     start_time = time.time()\n",
    "#     for j in range(N_batch):\n",
    "        \n",
    "#         inds_rnd = du.shuffle_ind(L_train)\n",
    "#         inds_ = inds_rnd[:batch_size]\n",
    "\n",
    "#         for k, ind in enumerate(inds_):\n",
    "#             # import batch data\n",
    "#             name = filename_train[ind]\n",
    "#             temp_data = np.load(name)\n",
    "#             Y_batch[k, ..., 0] = temp_data[0, ..., 0]\n",
    "\n",
    "#         # get G_output\n",
    "#         model_de.trainable = True\n",
    "#         g_out, _ = vq_vae.predict(Y_batch, verbose=0) # <-- np.array\n",
    "\n",
    "#         d_in_Y = np.concatenate((g_out, Y_batch), axis=0) # batch size doubled\n",
    "#         d_target = dummy_mix\n",
    "        \n",
    "#         batch_ind = du.shuffle_ind(2*batch_size)\n",
    "#         d_loss = model_de.train_on_batch(d_in_Y[batch_ind, ...], d_target[batch_ind, ...])\n",
    "\n",
    "#         model_de.trainable = False\n",
    "#         gan_in = Y_batch\n",
    "#         gan_target = [Y_batch, Y_batch, dummy_good]\n",
    "#         gan_loss = GAN.train_on_batch(gan_in, gan_target)\n",
    "        \n",
    "#     # on epoch-end\n",
    "#     Y_pred, _ = vq_vae.predict(Y_valid)\n",
    "#     record_temp = mean_absolute_error(Y_valid, Y_pred)\n",
    "    \n",
    "#     if record - record_temp > min_del:\n",
    "#         print('Validation loss improved from {} to {}'.format(record, record_temp))\n",
    "#         record = record_temp\n",
    "#         GAN.save_weights(model_name_save, overwrite=True)\n",
    "#         model_de.save_weights(model_de_save, overwrite=True)\n",
    "#         vq_vae.save_weights(model_ge_save, overwrite=True)\n",
    "        \n",
    "#     else:\n",
    "#         print('Validation loss {} NOT improved'.format(record_temp))\n",
    "\n",
    "#     print(\"--- %s seconds ---\" % (time.time() - start_time))\n",
    "#     # mannual callbacks"
   ]
  },
  {
   "cell_type": "code",
   "execution_count": null,
   "id": "4638d1e2-9ae8-4cc4-9c01-1e0697b45b93",
   "metadata": {},
   "outputs": [],
   "source": []
  },
  {
   "cell_type": "code",
   "execution_count": null,
   "id": "7b8ef27b-948c-4366-a024-bbc55b212eef",
   "metadata": {},
   "outputs": [],
   "source": []
  },
  {
   "cell_type": "code",
   "execution_count": null,
   "id": "36c07b23-3b71-457a-b484-9527f75a947d",
   "metadata": {},
   "outputs": [],
   "source": []
  },
  {
   "cell_type": "code",
   "execution_count": null,
   "id": "94940a53-50bd-4308-a7c2-353a955f543f",
   "metadata": {},
   "outputs": [],
   "source": []
  },
  {
   "cell_type": "code",
   "execution_count": null,
   "id": "f5a14ef9-a156-4fed-86ab-03e2986b06b3",
   "metadata": {},
   "outputs": [],
   "source": [
    "# https://www.kaggle.com/code/ameroyer/keras-vq-vae-for-image-generation"
   ]
  },
  {
   "cell_type": "code",
   "execution_count": null,
   "id": "4f27bed8-0a72-4b9d-bb16-9012bfe61318",
   "metadata": {},
   "outputs": [],
   "source": []
  },
  {
   "cell_type": "code",
   "execution_count": null,
   "id": "26c286e5-fe72-45e4-8803-bb671f317395",
   "metadata": {},
   "outputs": [],
   "source": []
  },
  {
   "cell_type": "code",
   "execution_count": 17,
   "id": "75e805bf-56eb-4883-8f5b-aba4070106e6",
   "metadata": {},
   "outputs": [
    {
     "name": "stdout",
     "output_type": "stream",
     "text": [
      "157/157 [==============================] - 7s 37ms/step\n"
     ]
    }
   ],
   "source": [
    "Y_pred, _ = vq_vae.predict(Y_valid)"
   ]
  },
  {
   "cell_type": "code",
   "execution_count": 19,
   "id": "fa2dfed8-7c55-49f3-846d-cf670c27ce30",
   "metadata": {},
   "outputs": [],
   "source": [
    "# codebook_indices = model_encoder.predict(Y_valid)\n",
    "# z_q = sampling_layer(codebook_indices)\n",
    "# reconstructed = model_decoder.predict(z_q)"
   ]
  },
  {
   "cell_type": "code",
   "execution_count": 20,
   "id": "d6e52a6a-0ec8-486b-942c-b62b73d718a7",
   "metadata": {},
   "outputs": [
    {
     "data": {
      "text/plain": [
       "0.01743470756098142"
      ]
     },
     "execution_count": 20,
     "metadata": {},
     "output_type": "execute_result"
    }
   ],
   "source": [
    "mean_absolute_error(Y_valid, Y_pred)"
   ]
  },
  {
   "cell_type": "code",
   "execution_count": 60,
   "id": "7c2da4e1-d710-4a66-a5e9-8f6696de23de",
   "metadata": {},
   "outputs": [],
   "source": [
    "# 0.014254429761548011"
   ]
  },
  {
   "cell_type": "code",
   "execution_count": 21,
   "id": "ed2ef260-dde3-4994-a4ed-7d635a07eb16",
   "metadata": {},
   "outputs": [
    {
     "data": {
      "image/png": "[encoded data removed]",
      "text/plain": [
       "<Figure size 800x300 with 2 Axes>"
      ]
     },
     "metadata": {},
     "output_type": "display_data"
    },
    {
     "data": {
      "image/png": "[encoded data removed]",
      "text/plain": [
       "<Figure size 800x300 with 2 Axes>"
      ]
     },
     "metadata": {},
     "output_type": "display_data"
    },
    {
     "data": {
      "image/png": "[encoded data removed]",
      "text/plain": [
       "<Figure size 800x300 with 2 Axes>"
      ]
     },
     "metadata": {},
     "output_type": "display_data"
    },
    {
     "data": {
      "image/png": "[encoded data removed]",
      "text/plain": [
       "<Figure size 800x300 with 2 Axes>"
      ]
     },
     "metadata": {},
     "output_type": "display_data"
    },
    {
     "data": {
      "image/png": "[encoded data removed]",
      "text/plain": [
       "<Figure size 800x300 with 2 Axes>"
      ]
     },
     "metadata": {},
     "output_type": "display_data"
    },
    {
     "data": {
      "image/png": "[encoded data removed]",
      "text/plain": [
       "<Figure size 800x300 with 2 Axes>"
      ]
     },
     "metadata": {},
     "output_type": "display_data"
    },
    {
     "data": {
      "image/png": "[encoded data removed]",
      "text/plain": [
       "<Figure size 800x300 with 2 Axes>"
      ]
     },
     "metadata": {},
     "output_type": "display_data"
    },
    {
     "data": {
      "image/png": "[encoded data removed]",
      "text/plain": [
       "<Figure size 800x300 with 2 Axes>"
      ]
     },
     "metadata": {},
     "output_type": "display_data"
    },
    {
     "data": {
      "image/png": "[encoded data removed]",
      "text/plain": [
       "<Figure size 800x300 with 2 Axes>"
      ]
     },
     "metadata": {},
     "output_type": "display_data"
    },
    {
     "data": {
      "image/png": "[encoded data removed]",
      "text/plain": [
       "<Figure size 800x300 with 2 Axes>"
      ]
     },
     "metadata": {},
     "output_type": "display_data"
    },
    {
     "data": {
      "image/png": "[encoded data removed]",
      "text/plain": [
       "<Figure size 800x300 with 2 Axes>"
      ]
     },
     "metadata": {},
     "output_type": "display_data"
    }
   ],
   "source": [
    "for i in range(30, 41, 1):\n",
    "\n",
    "    fig, AX = plt.subplots(1, 2, figsize=(8, 3))\n",
    "    \n",
    "    for ax in AX:\n",
    "        ax.tick_params(axis=\"both\", which=\"both\", bottom=False, \n",
    "                       top=False, labelbottom=False, left=False,\n",
    "                       right=False, labelleft=False)\n",
    "    plt.tight_layout()\n",
    "    \n",
    "    AX[0].pcolormesh(Y_pred[i, ..., 0], vmin=0, vmax=3, cmap=plt.cm.nipy_spectral_r)\n",
    "    AX[1].pcolormesh(Y_valid[i, ..., 0], vmin=0, vmax=3, cmap=plt.cm.nipy_spectral_r)"
   ]
  },
  {
   "cell_type": "code",
   "execution_count": null,
   "id": "8227fe5f-80ec-40f9-be9c-04618277a5cb",
   "metadata": {},
   "outputs": [],
   "source": []
  },
  {
   "cell_type": "code",
   "execution_count": null,
   "id": "0150c149-5880-478d-8ed9-9d67cb6a98f0",
   "metadata": {},
   "outputs": [],
   "source": []
  },
  {
   "cell_type": "code",
   "execution_count": null,
   "id": "49f32831-defe-4e57-8345-1d473825d852",
   "metadata": {},
   "outputs": [],
   "source": []
  },
  {
   "cell_type": "code",
   "execution_count": null,
   "id": "26dfc467-a4da-40bb-b3ba-4ec2a3a7eb6d",
   "metadata": {},
   "outputs": [],
   "source": []
  }
 ],
 "metadata": {
  "kernelspec": {
   "display_name": "Python 3 (ipykernel)",
   "language": "python",
   "name": "python3"
  },
  "language_info": {
   "codemirror_mode": {
    "name": "ipython",
    "version": 3
   },
   "file_extension": ".py",
   "mimetype": "text/x-python",
   "name": "python",
   "nbconvert_exporter": "python",
   "pygments_lexer": "ipython3",
   "version": "3.10.13"
  }
 },
 "nbformat": 4,
 "nbformat_minor": 5
}
